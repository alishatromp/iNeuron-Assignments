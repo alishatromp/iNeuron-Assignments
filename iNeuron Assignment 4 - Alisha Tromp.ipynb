{
 "cells": [
  {
   "cell_type": "markdown",
   "id": "a6832f56",
   "metadata": {},
   "source": [
    "## 1. What exactly is []?"
   ]
  },
  {
   "cell_type": "markdown",
   "id": "55550836",
   "metadata": {},
   "source": [
    "## Ans - [] Square brackets are used to denote lists."
   ]
  },
  {
   "cell_type": "markdown",
   "id": "f5997913",
   "metadata": {},
   "source": [
    "-----------"
   ]
  },
  {
   "cell_type": "markdown",
   "id": "bb7d0d8c",
   "metadata": {},
   "source": [
    "## 2. In a list of values stored in a variable called spam, how would you assign the value 'hello' as the third value? (Assume [2, 4, 6, 8, 10] are in spam.) Let's pretend the spam includes the list ['a', 'b', 'c', 'd'] for the next three queries.\n"
   ]
  },
  {
   "cell_type": "markdown",
   "id": "51e45000",
   "metadata": {},
   "source": [
    "## Ans - I would use indexing and assign it. For e.g."
   ]
  },
  {
   "cell_type": "code",
   "execution_count": 2,
   "id": "570221fa",
   "metadata": {},
   "outputs": [
    {
     "name": "stdout",
     "output_type": "stream",
     "text": [
      "[2, 4, 'hello', 8, 10]\n"
     ]
    }
   ],
   "source": [
    "spam = [2,4,6,8,10]\n",
    "spam [2] = \"hello\"\n",
    "print (spam)"
   ]
  },
  {
   "cell_type": "markdown",
   "id": "4977e7dc",
   "metadata": {},
   "source": [
    "----------"
   ]
  },
  {
   "cell_type": "markdown",
   "id": "2f42dc01",
   "metadata": {},
   "source": [
    "## 3. What is the value of spam[int(int('3' * 2) / 11)]?\n"
   ]
  },
  {
   "cell_type": "code",
   "execution_count": 41,
   "id": "70342791",
   "metadata": {},
   "outputs": [
    {
     "data": {
      "text/plain": [
       "'d'"
      ]
     },
     "execution_count": 41,
     "metadata": {},
     "output_type": "execute_result"
    }
   ],
   "source": [
    "spam = ['a', 'b', 'c', 'd']\n",
    "\n",
    "spam[int(int('3' * 2)/11)]\n",
    "\n",
    "# 33/11 = 3 \n",
    "#index of 3 is \"d\"\n",
    "# so ans is d"
   ]
  },
  {
   "cell_type": "markdown",
   "id": "21b7ebe4",
   "metadata": {},
   "source": [
    "-------------------"
   ]
  },
  {
   "cell_type": "markdown",
   "id": "b1d2dd7b",
   "metadata": {},
   "source": [
    "## 4. What is the value of spam[-1]?\n"
   ]
  },
  {
   "cell_type": "code",
   "execution_count": 46,
   "id": "9514af64",
   "metadata": {},
   "outputs": [
    {
     "data": {
      "text/plain": [
       "'d'"
      ]
     },
     "execution_count": 46,
     "metadata": {},
     "output_type": "execute_result"
    }
   ],
   "source": [
    "spam[-1]\n",
    "#-1 index position will start from the end of list."
   ]
  },
  {
   "cell_type": "markdown",
   "id": "a4648670",
   "metadata": {},
   "source": [
    "---------"
   ]
  },
  {
   "cell_type": "markdown",
   "id": "db6057af",
   "metadata": {},
   "source": [
    "## 5. What is the value of spam[:2]? Let's pretend bacon has the list [3.14, 'cat,' 11, 'cat,' True] for the next three questions.\n"
   ]
  },
  {
   "cell_type": "code",
   "execution_count": 50,
   "id": "005fc6d6",
   "metadata": {},
   "outputs": [
    {
     "data": {
      "text/plain": [
       "[3.14, 'cat']"
      ]
     },
     "execution_count": 50,
     "metadata": {},
     "output_type": "execute_result"
    }
   ],
   "source": [
    "bacon = [3.14, 'cat', 11, 'cat', True]\n",
    "\n",
    "bacon[:2]\n",
    "#bacon[:2] will take index position 0,1 (not 2) and give first two elements of the list."
   ]
  },
  {
   "cell_type": "markdown",
   "id": "74032539",
   "metadata": {},
   "source": [
    "------------"
   ]
  },
  {
   "cell_type": "markdown",
   "id": "da7ef714",
   "metadata": {},
   "source": [
    "## 6. What is the value of bacon.index('cat')?"
   ]
  },
  {
   "cell_type": "code",
   "execution_count": 51,
   "id": "f13c1be0",
   "metadata": {},
   "outputs": [
    {
     "data": {
      "text/plain": [
       "1"
      ]
     },
     "execution_count": 51,
     "metadata": {},
     "output_type": "execute_result"
    }
   ],
   "source": [
    "bacon.index('cat')\n",
    "#it will give the index position of the first time it finds 'cat' in the list"
   ]
  },
  {
   "cell_type": "markdown",
   "id": "0e6a201d",
   "metadata": {},
   "source": [
    "-----------"
   ]
  },
  {
   "cell_type": "markdown",
   "id": "a3c13d97",
   "metadata": {},
   "source": [
    "## 7. How does bacon.append(99) change the look of the list value in bacon?"
   ]
  },
  {
   "cell_type": "code",
   "execution_count": 55,
   "id": "c9569157",
   "metadata": {},
   "outputs": [
    {
     "data": {
      "text/plain": [
       "[3.14, 'cat', 11, 'cat', True, 99, 99, 99]"
      ]
     },
     "execution_count": 55,
     "metadata": {},
     "output_type": "execute_result"
    }
   ],
   "source": [
    "bacon.append(99)\n",
    "bacon\n",
    "#bacon.append(99) will add the element 99 at the end of the list."
   ]
  },
  {
   "cell_type": "markdown",
   "id": "e6c3a30b",
   "metadata": {},
   "source": [
    "--------"
   ]
  },
  {
   "cell_type": "markdown",
   "id": "288d4c1b",
   "metadata": {},
   "source": [
    "## 8. How does bacon.remove('cat') change the look of the list in bacon?\n"
   ]
  },
  {
   "cell_type": "code",
   "execution_count": 57,
   "id": "1184c1d0",
   "metadata": {},
   "outputs": [
    {
     "data": {
      "text/plain": [
       "[3.14, 11, 'cat', True, 99, 99, 99]"
      ]
     },
     "execution_count": 57,
     "metadata": {},
     "output_type": "execute_result"
    }
   ],
   "source": [
    "bacon.remove('cat')\n",
    "bacon\n",
    "#this command will remove 'cat' while searching from the start of the list."
   ]
  },
  {
   "cell_type": "markdown",
   "id": "eec9674e",
   "metadata": {},
   "source": [
    "------------"
   ]
  },
  {
   "cell_type": "markdown",
   "id": "8f284e23",
   "metadata": {},
   "source": [
    "## 9. What are the list concatenation and list replication operators?\n"
   ]
  },
  {
   "cell_type": "code",
   "execution_count": 59,
   "id": "0c346d4c",
   "metadata": {},
   "outputs": [
    {
     "name": "stdout",
     "output_type": "stream",
     "text": [
      "['Alisha', 'likes', 'iNeuron', 'coding', 'iNeuron', 'is', '#', 1]\n"
     ]
    }
   ],
   "source": [
    "#List concatenation is using \"+\" to join/merge two lists. For e.g.\n",
    "\n",
    "l1 = ['Alisha', 'likes', 'iNeuron', 'coding']\n",
    "l2 = ['iNeuron', 'is', '#', 1]\n",
    "print (l1+l2)"
   ]
  },
  {
   "cell_type": "code",
   "execution_count": 60,
   "id": "a16aebb8",
   "metadata": {},
   "outputs": [
    {
     "name": "stdout",
     "output_type": "stream",
     "text": [
      "['Alisha', 'likes', 'iNeuron', 'coding', 'Alisha', 'likes', 'iNeuron', 'coding', 'Alisha', 'likes', 'iNeuron', 'coding']\n"
     ]
    }
   ],
   "source": [
    "#list replicating is using \"*\" to replicate lists. For e.g.\n",
    "\n",
    "print (l1*3)"
   ]
  },
  {
   "cell_type": "markdown",
   "id": "0303f777",
   "metadata": {},
   "source": [
    "---------------"
   ]
  },
  {
   "cell_type": "markdown",
   "id": "eb1c70ee",
   "metadata": {},
   "source": [
    "## 10. What is difference between the list methods append() and insert()?\n",
    "## Ans - append() adds elements always at the end of the list.\n",
    "## insert() adds elements at the specified index position."
   ]
  },
  {
   "cell_type": "code",
   "execution_count": 77,
   "id": "162bf4c9",
   "metadata": {},
   "outputs": [
    {
     "name": "stdout",
     "output_type": "stream",
     "text": [
      "['Alisha', 'loves', 'FSDS course']\n",
      "['Meet', 'Data Scientist', 'Alisha']\n"
     ]
    }
   ],
   "source": [
    "l1 = ['Alisha', 'loves']\n",
    "l1.append('FSDS course')\n",
    "print (l1)\n",
    "l2 = ['Meet','Data Scientist']\n",
    "l2.insert(2,'Alisha')\n",
    "print(l2)"
   ]
  },
  {
   "cell_type": "markdown",
   "id": "653601ea",
   "metadata": {},
   "source": [
    "------------------"
   ]
  },
  {
   "cell_type": "markdown",
   "id": "f38a1f84",
   "metadata": {},
   "source": [
    "## 11. What are the two methods for removing items from a list?\n"
   ]
  },
  {
   "cell_type": "markdown",
   "id": "803aeeb9",
   "metadata": {},
   "source": [
    "## Ans - Pop and remove"
   ]
  },
  {
   "cell_type": "code",
   "execution_count": 78,
   "id": "1d0df566",
   "metadata": {},
   "outputs": [
    {
     "data": {
      "text/plain": [
       "['loves', 'FSDS course']"
      ]
     },
     "execution_count": 78,
     "metadata": {},
     "output_type": "execute_result"
    }
   ],
   "source": [
    "l1.pop(0)\n",
    "l1"
   ]
  },
  {
   "cell_type": "code",
   "execution_count": 79,
   "id": "a1d08aa3",
   "metadata": {},
   "outputs": [
    {
     "data": {
      "text/plain": [
       "['Data Scientist', 'Alisha']"
      ]
     },
     "execution_count": 79,
     "metadata": {},
     "output_type": "execute_result"
    }
   ],
   "source": [
    "l2.remove('Meet')\n",
    "l2"
   ]
  },
  {
   "cell_type": "markdown",
   "id": "10bf6c1d",
   "metadata": {},
   "source": [
    "-------------------"
   ]
  },
  {
   "cell_type": "markdown",
   "id": "41c628d1",
   "metadata": {},
   "source": [
    "## 12. Describe how list values and string values are identical.\n"
   ]
  },
  {
   "cell_type": "markdown",
   "id": "9f00ee02",
   "metadata": {},
   "source": [
    "## Ans - Both have lengths...iterable values."
   ]
  },
  {
   "cell_type": "markdown",
   "id": "b99021ef",
   "metadata": {},
   "source": [
    "---------------"
   ]
  },
  {
   "cell_type": "markdown",
   "id": "b47f78e0",
   "metadata": {},
   "source": [
    "## 13. What's the difference between tuples and lists?\n"
   ]
  },
  {
   "cell_type": "markdown",
   "id": "32ec3d4d",
   "metadata": {},
   "source": [
    "## Ans - Tuples are immutable. Lists are mutable."
   ]
  },
  {
   "cell_type": "markdown",
   "id": "bb09f6ec",
   "metadata": {},
   "source": [
    "-----------------"
   ]
  },
  {
   "cell_type": "markdown",
   "id": "388b3e91",
   "metadata": {},
   "source": [
    "## 14. How do you type a tuple value that only contains the integer 42?"
   ]
  },
  {
   "cell_type": "code",
   "execution_count": 86,
   "id": "0a1a9431",
   "metadata": {},
   "outputs": [
    {
     "data": {
      "text/plain": [
       "42"
      ]
     },
     "execution_count": 86,
     "metadata": {},
     "output_type": "execute_result"
    }
   ],
   "source": [
    "t = (42)\n",
    "t"
   ]
  },
  {
   "cell_type": "markdown",
   "id": "631e32da",
   "metadata": {},
   "source": [
    "--------------"
   ]
  },
  {
   "cell_type": "markdown",
   "id": "fe819f74",
   "metadata": {},
   "source": [
    "## 15. How do you get a list value's tuple form? How do you get a tuple value's list form?\n"
   ]
  },
  {
   "cell_type": "code",
   "execution_count": 88,
   "id": "22b71910",
   "metadata": {},
   "outputs": [
    {
     "data": {
      "text/plain": [
       "[21, 'Alisha', 23, True, 3.1414141]"
      ]
     },
     "execution_count": 88,
     "metadata": {},
     "output_type": "execute_result"
    }
   ],
   "source": [
    "t = (21, 'Alisha', 23, True, 3.1414141)\n",
    "list(t)"
   ]
  },
  {
   "cell_type": "code",
   "execution_count": 89,
   "id": "8f22babd",
   "metadata": {},
   "outputs": [
    {
     "data": {
      "text/plain": [
       "(222, True, 'Alisha', 'FSDS', 3.15151)"
      ]
     },
     "execution_count": 89,
     "metadata": {},
     "output_type": "execute_result"
    }
   ],
   "source": [
    "lst = [222,True, 'Alisha', 'FSDS', 3.15151]\n",
    "tuple(lst)"
   ]
  },
  {
   "cell_type": "markdown",
   "id": "8e2d1643",
   "metadata": {},
   "source": [
    "---------"
   ]
  },
  {
   "cell_type": "markdown",
   "id": "21ae4593",
   "metadata": {},
   "source": [
    "## 16. Variables that \"contain\" list values are not necessarily lists themselves. Instead, what do they contain?\n"
   ]
  },
  {
   "cell_type": "markdown",
   "id": "5913f2a9",
   "metadata": {},
   "source": [
    "## Ans - they contain references to the list elements."
   ]
  },
  {
   "cell_type": "code",
   "execution_count": 96,
   "id": "9ff2c63f",
   "metadata": {},
   "outputs": [
    {
     "data": {
      "text/plain": [
       "'Alisha'"
      ]
     },
     "execution_count": 96,
     "metadata": {},
     "output_type": "execute_result"
    }
   ],
   "source": [
    "a = ['Alisha', 'Tromp', 123, 56464, 8181, True]\n",
    "a[0]"
   ]
  },
  {
   "cell_type": "markdown",
   "id": "c91afbdb",
   "metadata": {},
   "source": [
    "----------------"
   ]
  },
  {
   "cell_type": "markdown",
   "id": "54400d42",
   "metadata": {},
   "source": [
    "## 17. How do you distinguish between copy.copy() and copy.deepcopy()?"
   ]
  },
  {
   "cell_type": "markdown",
   "id": "f0858c1d",
   "metadata": {},
   "source": [
    "## Ans - copy.copy() is shallow copy where it makes one clone/copy.\n",
    "\n",
    "## deep.copy() makes changes to all the clones found in original."
   ]
  },
  {
   "cell_type": "code",
   "execution_count": null,
   "id": "654a2d7b",
   "metadata": {},
   "outputs": [],
   "source": []
  }
 ],
 "metadata": {
  "kernelspec": {
   "display_name": "Python 3 (ipykernel)",
   "language": "python",
   "name": "python3"
  },
  "language_info": {
   "codemirror_mode": {
    "name": "ipython",
    "version": 3
   },
   "file_extension": ".py",
   "mimetype": "text/x-python",
   "name": "python",
   "nbconvert_exporter": "python",
   "pygments_lexer": "ipython3",
   "version": "3.9.12"
  }
 },
 "nbformat": 4,
 "nbformat_minor": 5
}
