{
 "cells": [
  {
   "cell_type": "markdown",
   "id": "2d4640d1",
   "metadata": {},
   "source": [
    "## Q1. What is the distinction between a numpy array and a pandas data frame? Is there a way to convert between the two if there is?"
   ]
  },
  {
   "cell_type": "markdown",
   "id": "b3daeeb5",
   "metadata": {},
   "source": [
    "- Numpy Ndarray provides a lot of convenient and optimized methods for performing several mathematical operations on vectors.\n",
    "\n",
    "- Pandas Dataframe is an in-memory 2-dimensional tabular representation of data. In simpler words, it can be seen as a spreadsheet having rows and columns.\n",
    "\n",
    "- To convert it use df=pandas.DataFrame(array)"
   ]
  },
  {
   "cell_type": "markdown",
   "id": "2a994b2b",
   "metadata": {},
   "source": [
    "------------"
   ]
  },
  {
   "cell_type": "markdown",
   "id": "3d4b43b8",
   "metadata": {},
   "source": [
    "## Q2. What can go wrong when an user enters in a stock-ticker symbol, and how do you handle it?"
   ]
  },
  {
   "cell_type": "markdown",
   "id": "7fed3cf4",
   "metadata": {},
   "source": [
    "## Use the library explicitly for pulling the stock ticker symbols from indices and markets around the world.\n",
    "\n",
    "from stocksymbol import StockSymbol"
   ]
  },
  {
   "cell_type": "markdown",
   "id": "6adf8833",
   "metadata": {},
   "source": [
    "-----------"
   ]
  },
  {
   "cell_type": "markdown",
   "id": "c5f341e7",
   "metadata": {},
   "source": [
    "## Q3. Identify some of the plotting techniques that are used to produce a stock-market chart."
   ]
  },
  {
   "cell_type": "markdown",
   "id": "71fc366d",
   "metadata": {},
   "source": [
    "## We can use bar chart, pie plots, line charts, dot plots."
   ]
  },
  {
   "cell_type": "markdown",
   "id": "46a23ea4",
   "metadata": {},
   "source": [
    "---------------------"
   ]
  },
  {
   "cell_type": "markdown",
   "id": "569e5baf",
   "metadata": {},
   "source": [
    "## Q4. Why is it essential to print a legend on a stock market chart?"
   ]
  },
  {
   "cell_type": "markdown",
   "id": "6bd15496",
   "metadata": {},
   "source": [
    "## A legend or key helps the user build the necessary associations to make sense of the chart. A legend for the stock market chart helps to identify the different stocks and its price action."
   ]
  },
  {
   "cell_type": "markdown",
   "id": "3d78b51e",
   "metadata": {},
   "source": [
    "----------------"
   ]
  },
  {
   "cell_type": "markdown",
   "id": "860a38ab",
   "metadata": {},
   "source": [
    "## Q5. What is the best way to limit the length of a pandas data frame to less than a year?"
   ]
  },
  {
   "cell_type": "markdown",
   "id": "526691d4",
   "metadata": {},
   "source": [
    "## Use the start and end functionalities to define duration."
   ]
  },
  {
   "cell_type": "markdown",
   "id": "9a9a776c",
   "metadata": {},
   "source": [
    "----------------"
   ]
  },
  {
   "cell_type": "markdown",
   "id": "05d1f021",
   "metadata": {},
   "source": [
    "## Q6. What is the definition of a 180-day moving average?"
   ]
  },
  {
   "cell_type": "markdown",
   "id": "08f827f9",
   "metadata": {},
   "source": [
    "## Represents the average price over 180 days. This is used to define trends in time series datasets."
   ]
  }
 ],
 "metadata": {
  "kernelspec": {
   "display_name": "Python 3 (ipykernel)",
   "language": "python",
   "name": "python3"
  },
  "language_info": {
   "codemirror_mode": {
    "name": "ipython",
    "version": 3
   },
   "file_extension": ".py",
   "mimetype": "text/x-python",
   "name": "python",
   "nbconvert_exporter": "python",
   "pygments_lexer": "ipython3",
   "version": "3.9.12"
  }
 },
 "nbformat": 4,
 "nbformat_minor": 5
}
