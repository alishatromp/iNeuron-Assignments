{
 "cells": [
  {
   "cell_type": "markdown",
   "id": "5be8b84f",
   "metadata": {},
   "source": [
    "## Q1. What is the benefit of regular expressions?"
   ]
  },
  {
   "cell_type": "markdown",
   "id": "98da1d24",
   "metadata": {},
   "source": [
    "## A RegEx, or Regular Expression, is a sequence of characters that forms a search pattern. RegEx can be used to check if a string contains the specified search pattern quickly and efficiently."
   ]
  },
  {
   "cell_type": "markdown",
   "id": "9ca98c84",
   "metadata": {},
   "source": [
    "---------"
   ]
  },
  {
   "cell_type": "markdown",
   "id": "e7a15bf0",
   "metadata": {},
   "source": [
    "## Q2. Describe the difference between the effects of &quot;(ab)c+&quot; and &quot;a(bc)+.&quot; Which of these, if any, is the unqualified pattern &quot;abc+&quot;?"
   ]
  },
  {
   "cell_type": "markdown",
   "id": "30ba8f54",
   "metadata": {},
   "source": [
    "- The difference between the two is that in (ab)c+ \"ab\" is grouped together.\n",
    "- In a(bc)+ \"bc\" is grouped together."
   ]
  },
  {
   "cell_type": "markdown",
   "id": "79ac9e04",
   "metadata": {},
   "source": [
    "---------"
   ]
  },
  {
   "cell_type": "markdown",
   "id": "7e06d325",
   "metadata": {},
   "source": [
    "## Q3. How much do you need to use the following sentence while using regular expressions?\n",
    "\n",
    "import re\n",
    "\n"
   ]
  },
  {
   "cell_type": "markdown",
   "id": "f17b0342",
   "metadata": {},
   "source": [
    "## Ans - You use import re to import regular expressions once before using it."
   ]
  },
  {
   "cell_type": "markdown",
   "id": "46a999bd",
   "metadata": {},
   "source": [
    "--------"
   ]
  },
  {
   "cell_type": "markdown",
   "id": "35041886",
   "metadata": {},
   "source": [
    "## Q4. Which characters have special significance in square brackets when expressing a range, and under what circumstances?"
   ]
  },
  {
   "cell_type": "markdown",
   "id": "5826c33e",
   "metadata": {},
   "source": [
    "## The special characters are: a. ., *, [, and \\ (period, asterisk, left square bracket, and backslash, respectively), which are always special, except when they appear within square brackets "
   ]
  },
  {
   "cell_type": "markdown",
   "id": "2375607d",
   "metadata": {},
   "source": [
    "----------"
   ]
  },
  {
   "cell_type": "markdown",
   "id": "df0c643c",
   "metadata": {},
   "source": [
    "## Q5. How does compiling a regular-expression object benefit you?"
   ]
  },
  {
   "cell_type": "markdown",
   "id": "28320b7f",
   "metadata": {},
   "source": [
    "## We can use a regular expression pattern into pattern objects that can be used for pattern matching. \n",
    "## It also helps to search a pattern again without rewritting it."
   ]
  },
  {
   "cell_type": "markdown",
   "id": "5d6ac75c",
   "metadata": {},
   "source": [
    "--------"
   ]
  },
  {
   "cell_type": "markdown",
   "id": "4c7377b3",
   "metadata": {},
   "source": [
    "## Q6. What are some examples of how to use the match object returned by re.match and re.search?"
   ]
  },
  {
   "cell_type": "markdown",
   "id": "8f0398ed",
   "metadata": {},
   "source": [
    "## re.match() searches at the beginning whereas re.search() searches all."
   ]
  },
  {
   "cell_type": "markdown",
   "id": "80a7f47a",
   "metadata": {},
   "source": [
    "------"
   ]
  },
  {
   "cell_type": "markdown",
   "id": "d5de03c8",
   "metadata": {},
   "source": [
    "## Q7. What is the difference between using a vertical bar (|) as an alteration and using square brackets as a character set?"
   ]
  },
  {
   "cell_type": "markdown",
   "id": "693869fa",
   "metadata": {},
   "source": [
    "##  |  used, searches for or option. i.e <pattern_1>|<pattern_2> \n",
    "## It searches as <pattern_1>or<<pattern_2> in the searched string. The first occurance of matched string will be returned as the match object. \n",
    "## Using character set in square brackets searches for all the character set in the square bracket and if match is found, it returns it."
   ]
  },
  {
   "cell_type": "markdown",
   "id": "dc1b81af",
   "metadata": {},
   "source": [
    "----------"
   ]
  },
  {
   "cell_type": "markdown",
   "id": "2c3eb7db",
   "metadata": {},
   "source": [
    "## Q8. In regular-expression search patterns, why is it necessary to use the raw-string indicator (r)? In replacement strings?"
   ]
  },
  {
   "cell_type": "markdown",
   "id": "0662830c",
   "metadata": {},
   "source": [
    "## Raw strings help you get the \"source code\" of a RegEx safely to the RegEx parser, which will then assign meaning to character sequences like \\d , \\w , \\n , etc...\n",
    "## In other words backslashes won't get escaped."
   ]
  }
 ],
 "metadata": {
  "kernelspec": {
   "display_name": "Python 3 (ipykernel)",
   "language": "python",
   "name": "python3"
  },
  "language_info": {
   "codemirror_mode": {
    "name": "ipython",
    "version": 3
   },
   "file_extension": ".py",
   "mimetype": "text/x-python",
   "name": "python",
   "nbconvert_exporter": "python",
   "pygments_lexer": "ipython3",
   "version": "3.9.12"
  }
 },
 "nbformat": 4,
 "nbformat_minor": 5
}
