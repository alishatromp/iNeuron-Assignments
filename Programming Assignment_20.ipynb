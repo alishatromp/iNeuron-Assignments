{
 "cells": [
  {
   "cell_type": "markdown",
   "id": "44736e3c",
   "metadata": {},
   "source": [
    "## Question1\n",
    "### Create a function that takes a list of strings and integers, and filters out the list so that it returns a list of integers only.\n",
    "- Examples\n",
    "- filter_list([1, 2, 3, &quot;a&quot;, &quot;b&quot;, 4]) ➞ [1, 2, 3, 4]\n",
    "- filter_list([&quot;A&quot;, 0, &quot;Edabit&quot;, 1729, &quot;Python&quot;, &quot;1729&quot;]) ➞ [0, 1729]\n",
    "- filter_list([&quot;Nothing&quot;, &quot;here&quot;]) ➞ []"
   ]
  },
  {
   "cell_type": "code",
   "execution_count": 27,
   "id": "edb3a250",
   "metadata": {},
   "outputs": [
    {
     "name": "stdout",
     "output_type": "stream",
     "text": [
      "[1, 2, 3, 4]\n",
      "[0, 1729]\n",
      "[]\n"
     ]
    }
   ],
   "source": [
    "def filter_list(l):\n",
    "    return [ele for ele in l if type(ele)==int]\n",
    "\n",
    "print(filter_list([1, 2, 3, \"a\", \"b\", 4]))\n",
    "print(filter_list([\"A\", 0, \"Edabit\", 1729, \"Python\", \"1729\"]))\n",
    "print(filter_list([\"Nothing\", \"here\"]))"
   ]
  },
  {
   "cell_type": "markdown",
   "id": "c499ded0",
   "metadata": {},
   "source": [
    "---------"
   ]
  },
  {
   "cell_type": "markdown",
   "id": "115f5761",
   "metadata": {},
   "source": [
    "## Question2\n",
    "### Given a list of numbers, create a function which returns the list but with each element&#39;s index in the list added to itself. This means you add 0 to the number at index 0, add 1 to the number at index 1, etc...\n",
    "- Examples\n",
    "- add_indexes([0, 0, 0, 0, 0]) ➞ [0, 1, 2, 3, 4]\n",
    "- add_indexes([1, 2, 3, 4, 5]) ➞ [1, 3, 5, 7, 9]\n",
    "- add_indexes([5, 4, 3, 2, 1]) ➞ [5, 5, 5, 5, 5]\n",
    "\n"
   ]
  },
  {
   "cell_type": "code",
   "execution_count": 105,
   "id": "00e4edd3",
   "metadata": {},
   "outputs": [
    {
     "name": "stdout",
     "output_type": "stream",
     "text": [
      "[1, 3, 5, 7, 9]\n",
      "[5, 5, 5, 5, 5]\n"
     ]
    }
   ],
   "source": [
    "def add_indexes(l):\n",
    "    x = []\n",
    "    for position,char in enumerate(l):\n",
    "        if char==char:\n",
    "            x.append(position+char)\n",
    "    return x\n",
    "            \n",
    "print(add_indexes([1, 2, 3, 4, 5]))\n",
    "print(add_indexes([5, 4, 3, 2, 1]))"
   ]
  },
  {
   "cell_type": "markdown",
   "id": "9a909242",
   "metadata": {},
   "source": [
    "---------"
   ]
  },
  {
   "cell_type": "markdown",
   "id": "19d5fa5a",
   "metadata": {},
   "source": [
    "## Question3\n",
    "### Create a function that takes the height and radius of a cone as arguments and returns the volume of the cone rounded to the nearest hundredth. See the resources tab for the formula.\n",
    "\n",
    "- Examples\n",
    "- cone_volume(3, 2) ➞ 12.57\n",
    "- cone_volume(15, 6) ➞ 565.49\n",
    "- cone_volume(18, 0) ➞ 0\n"
   ]
  },
  {
   "cell_type": "code",
   "execution_count": 54,
   "id": "f8ec7d25",
   "metadata": {},
   "outputs": [
    {
     "name": "stdout",
     "output_type": "stream",
     "text": [
      "12.57\n",
      "565.49\n",
      "0.0\n"
     ]
    }
   ],
   "source": [
    "def cone_volume(height,radius):\n",
    "    volume = (3.141592653589793238*(radius**2))*(height/3)\n",
    "    return (round(volume,2))\n",
    "\n",
    "print(cone_volume(3,2))\n",
    "print(cone_volume(15,6))\n",
    "print(cone_volume(18,0))"
   ]
  },
  {
   "cell_type": "markdown",
   "id": "790cc867",
   "metadata": {},
   "source": [
    "--------"
   ]
  },
  {
   "cell_type": "markdown",
   "id": "d6b4b8cd",
   "metadata": {},
   "source": [
    "## Question4\n",
    "### This Triangular Number Sequence is generated from a pattern of dots that form a triangle.\n",
    "### The first 5 numbers of the sequence, or dots, are:\n",
    "- 1, 3, 6, 10, 15\n",
    "- This means that the first triangle has just one dot, the second one has three dots, the third one has 6 dots and so on.\n",
    "- Write a function that gives the number of dots with its corresponding triangle number of the sequence.\n",
    "- Examples\n",
    "- triangle(1) ➞ 1\n",
    "- triangle(6) ➞ 21\n",
    "- triangle(215) ➞ 23220"
   ]
  },
  {
   "cell_type": "code",
   "execution_count": 20,
   "id": "6f8d0a80",
   "metadata": {},
   "outputs": [
    {
     "name": "stdout",
     "output_type": "stream",
     "text": [
      ".\n",
      "..\n",
      "...\n",
      "....\n",
      ".....\n",
      "......\n",
      "21\n"
     ]
    }
   ],
   "source": [
    "def triangle(d):\n",
    "    count = 0\n",
    "    for i in range (1,d+1):\n",
    "        print (i* \".\")\n",
    "        count+=i\n",
    "    return count\n",
    "\n",
    "print (triangle(6))\n",
    "#print(triangle(215))"
   ]
  },
  {
   "cell_type": "markdown",
   "id": "df4b7f35",
   "metadata": {},
   "source": [
    "---------"
   ]
  },
  {
   "cell_type": "markdown",
   "id": "684c7ec1",
   "metadata": {},
   "source": [
    "## Question5\n",
    "### Create a function that takes a list of numbers between 1 and 10 (excluding one number) and returns the missing number.\n",
    "- Examples\n",
    "- missing_num([1, 2, 3, 4, 6, 7, 8, 9, 10]) ➞ 5\n",
    "- missing_num([7, 2, 3, 6, 5, 9, 1, 4, 8]) ➞ 10\n",
    "- missing_num([10, 5, 1, 2, 4, 6, 8, 3, 9]) ➞ 7"
   ]
  },
  {
   "cell_type": "code",
   "execution_count": 7,
   "id": "c2d3560d",
   "metadata": {},
   "outputs": [
    {
     "name": "stdout",
     "output_type": "stream",
     "text": [
      "[5]\n",
      "[10]\n",
      "[7]\n"
     ]
    }
   ],
   "source": [
    "def missing_num(l):\n",
    "    return [i for i in range (1,11) if i not in l]\n",
    "\n",
    "print(missing_num([1, 2, 3, 4, 6, 7, 8, 9, 10]))          \n",
    "print(missing_num([7, 2, 3, 6, 5, 9, 1, 4, 8]))\n",
    "print(missing_num([10, 5, 1, 2, 4, 6, 8, 3, 9]))"
   ]
  }
 ],
 "metadata": {
  "kernelspec": {
   "display_name": "Python 3 (ipykernel)",
   "language": "python",
   "name": "python3"
  },
  "language_info": {
   "codemirror_mode": {
    "name": "ipython",
    "version": 3
   },
   "file_extension": ".py",
   "mimetype": "text/x-python",
   "name": "python",
   "nbconvert_exporter": "python",
   "pygments_lexer": "ipython3",
   "version": "3.9.12"
  }
 },
 "nbformat": 4,
 "nbformat_minor": 5
}
