{
 "cells": [
  {
   "cell_type": "markdown",
   "id": "e1e55e45",
   "metadata": {},
   "source": [
    "## 1. What are escape characters, and how do you use them?\n",
    "\n",
    "## Ans - Escape characters are used to create whitespace in coding language. \n",
    "## For e.g. If you want to add a new line between printing results, you use print \"\\n\""
   ]
  },
  {
   "cell_type": "code",
   "execution_count": 15,
   "id": "8b875f3c",
   "metadata": {},
   "outputs": [
    {
     "name": "stdout",
     "output_type": "stream",
     "text": [
      "I code at\n",
      "iNeuron\n"
     ]
    }
   ],
   "source": [
    "txt = \"I code at\" \"\\n\" \"iNeuron\"\n",
    "print (txt)"
   ]
  },
  {
   "cell_type": "markdown",
   "id": "0b45dd8d",
   "metadata": {},
   "source": [
    "---------------"
   ]
  },
  {
   "cell_type": "markdown",
   "id": "ebe20c5a",
   "metadata": {},
   "source": [
    "## 2. What do the escape characters n and t stand for?"
   ]
  },
  {
   "cell_type": "markdown",
   "id": "a2d8ed9e",
   "metadata": {},
   "source": [
    "## \"\\t\" is a like tab key\n",
    "## \"\\n\" is a newline"
   ]
  },
  {
   "cell_type": "code",
   "execution_count": 16,
   "id": "a4846009",
   "metadata": {},
   "outputs": [
    {
     "name": "stdout",
     "output_type": "stream",
     "text": [
      "I code at\n",
      "iNeuron\n",
      "I code at\tiNeuron\n"
     ]
    }
   ],
   "source": [
    "txt = \"I code at\" \"\\n\" \"iNeuron\"\n",
    "print (txt)\n",
    "txt1 = \"I code at\" \"\\t\" \"iNeuron\"\n",
    "print (txt1)"
   ]
  },
  {
   "cell_type": "markdown",
   "id": "74ed44c2",
   "metadata": {},
   "source": [
    "---------------"
   ]
  },
  {
   "cell_type": "markdown",
   "id": "8cb5631d",
   "metadata": {},
   "source": [
    "## 3. What is the way to include backslash characters in a string?"
   ]
  },
  {
   "cell_type": "markdown",
   "id": "4622c18c",
   "metadata": {},
   "source": [
    "## Ans - Backslash is two \"\\\\\"\n",
    "## E.g. below"
   ]
  },
  {
   "cell_type": "code",
   "execution_count": 18,
   "id": "7b025a56",
   "metadata": {},
   "outputs": [
    {
     "name": "stdout",
     "output_type": "stream",
     "text": [
      "I code at \\ iNeuron\n"
     ]
    }
   ],
   "source": [
    "txt3 = \"I code at \\\\ iNeuron\"\n",
    "print (txt3)"
   ]
  },
  {
   "cell_type": "markdown",
   "id": "a1b4a447",
   "metadata": {},
   "source": [
    "----------"
   ]
  },
  {
   "cell_type": "markdown",
   "id": "fc0ab073",
   "metadata": {},
   "source": [
    "## 4. The string \"Howl's Moving Castle\" is a correct value. Why isn't the single quote character in the word Howl's not escaped a problem?"
   ]
  },
  {
   "cell_type": "markdown",
   "id": "1517c3fc",
   "metadata": {},
   "source": [
    "## Ans - Because its in close inverted commas. Any string in inverted commas stays as it is."
   ]
  },
  {
   "cell_type": "code",
   "execution_count": 19,
   "id": "3e31ed93",
   "metadata": {},
   "outputs": [
    {
     "name": "stdout",
     "output_type": "stream",
     "text": [
      "Howl's Moving Castle\n"
     ]
    }
   ],
   "source": [
    "x =  \"Howl's Moving Castle\"\n",
    "print (x)"
   ]
  },
  {
   "cell_type": "markdown",
   "id": "b4ae4188",
   "metadata": {},
   "source": [
    "-------------"
   ]
  },
  {
   "cell_type": "markdown",
   "id": "d9073843",
   "metadata": {},
   "source": [
    "## 5. How do you write a string of newlines if you don't want to use the n character?"
   ]
  },
  {
   "cell_type": "markdown",
   "id": "3f58184b",
   "metadata": {},
   "source": [
    "## Ans - Add a \\"
   ]
  },
  {
   "cell_type": "markdown",
   "id": "99eefdfb",
   "metadata": {},
   "source": [
    "------------"
   ]
  },
  {
   "cell_type": "markdown",
   "id": "5b0c5934",
   "metadata": {},
   "source": [
    "## 6. What are the values of the given expressions?\n"
   ]
  },
  {
   "cell_type": "raw",
   "id": "8df99547",
   "metadata": {},
   "source": [
    "\"Hello, world\"[1]\n",
    "\"Hello, world\"[0:5]\n",
    "\"Hello, world!\"[:5]\n",
    "\"Hello, world!\"[3:]"
   ]
  },
  {
   "cell_type": "markdown",
   "id": "1a048347",
   "metadata": {},
   "source": [
    "## Ans - "
   ]
  },
  {
   "cell_type": "code",
   "execution_count": null,
   "id": "bcde97a3",
   "metadata": {},
   "outputs": [],
   "source": [
    "1. 'e'\n",
    "2. 'Hello'\n",
    "3. 'Hello'\n",
    "4. 'lo, world!'"
   ]
  },
  {
   "cell_type": "markdown",
   "id": "98e15c9a",
   "metadata": {},
   "source": [
    "------------------"
   ]
  },
  {
   "cell_type": "markdown",
   "id": "674ce428",
   "metadata": {},
   "source": [
    "## 7. What are the values of the following expressions?\n"
   ]
  },
  {
   "cell_type": "code",
   "execution_count": 2,
   "id": "43446de7",
   "metadata": {},
   "outputs": [
    {
     "data": {
      "text/plain": [
       "'HELLO'"
      ]
     },
     "execution_count": 2,
     "metadata": {},
     "output_type": "execute_result"
    }
   ],
   "source": [
    "'Hello'.upper()"
   ]
  },
  {
   "cell_type": "code",
   "execution_count": 3,
   "id": "e2213547",
   "metadata": {},
   "outputs": [
    {
     "data": {
      "text/plain": [
       "True"
      ]
     },
     "execution_count": 3,
     "metadata": {},
     "output_type": "execute_result"
    }
   ],
   "source": [
    "'Hello'.upper().isupper()"
   ]
  },
  {
   "cell_type": "code",
   "execution_count": 4,
   "id": "5ad1aa8c",
   "metadata": {},
   "outputs": [
    {
     "data": {
      "text/plain": [
       "'hello'"
      ]
     },
     "execution_count": 4,
     "metadata": {},
     "output_type": "execute_result"
    }
   ],
   "source": [
    "'Hello'.upper().lower()"
   ]
  },
  {
   "cell_type": "markdown",
   "id": "038ff1a4",
   "metadata": {},
   "source": [
    "-----------"
   ]
  },
  {
   "cell_type": "markdown",
   "id": "ecbb7ed3",
   "metadata": {},
   "source": [
    "## 8. What are the values of the following expressions?"
   ]
  },
  {
   "cell_type": "code",
   "execution_count": 6,
   "id": "30d820eb",
   "metadata": {},
   "outputs": [
    {
     "data": {
      "text/plain": [
       "['Remember,', 'remember,', 'the', 'fifth', 'of', 'July.']"
      ]
     },
     "execution_count": 6,
     "metadata": {},
     "output_type": "execute_result"
    }
   ],
   "source": [
    "'Remember, remember, the fifth of July.'.split()"
   ]
  },
  {
   "cell_type": "code",
   "execution_count": 7,
   "id": "20e40e1e",
   "metadata": {},
   "outputs": [
    {
     "data": {
      "text/plain": [
       "'There-can-only-one.'"
      ]
     },
     "execution_count": 7,
     "metadata": {},
     "output_type": "execute_result"
    }
   ],
   "source": [
    "'-'.join('There can only one.'.split())"
   ]
  },
  {
   "cell_type": "markdown",
   "id": "d6c6a33d",
   "metadata": {},
   "source": [
    "-----------"
   ]
  },
  {
   "cell_type": "markdown",
   "id": "01c6f0d6",
   "metadata": {},
   "source": [
    "## 9. What are the methods for right-justifying, left-justifying, and centering a string?"
   ]
  },
  {
   "cell_type": "code",
   "execution_count": 11,
   "id": "c2651c0e",
   "metadata": {},
   "outputs": [
    {
     "data": {
      "text/plain": [
       "'              banana'"
      ]
     },
     "execution_count": 11,
     "metadata": {},
     "output_type": "execute_result"
    }
   ],
   "source": [
    "\"banana\".rjust(20)"
   ]
  },
  {
   "cell_type": "code",
   "execution_count": 14,
   "id": "e3ab0d75",
   "metadata": {},
   "outputs": [
    {
     "data": {
      "text/plain": [
       "'apple     '"
      ]
     },
     "execution_count": 14,
     "metadata": {},
     "output_type": "execute_result"
    }
   ],
   "source": [
    "\"apple\".ljust(10)"
   ]
  },
  {
   "cell_type": "code",
   "execution_count": 13,
   "id": "50f89a89",
   "metadata": {},
   "outputs": [
    {
     "data": {
      "text/plain": [
       "'  mango   '"
      ]
     },
     "execution_count": 13,
     "metadata": {},
     "output_type": "execute_result"
    }
   ],
   "source": [
    "\"mango\".center(10)"
   ]
  },
  {
   "cell_type": "markdown",
   "id": "1b3917d6",
   "metadata": {},
   "source": [
    "------"
   ]
  },
  {
   "cell_type": "markdown",
   "id": "83763752",
   "metadata": {},
   "source": [
    "## 10. What is the best way to remove whitespace characters from the start or end?"
   ]
  },
  {
   "cell_type": "code",
   "execution_count": 15,
   "id": "2875167b",
   "metadata": {},
   "outputs": [
    {
     "data": {
      "text/plain": [
       "'banana'"
      ]
     },
     "execution_count": 15,
     "metadata": {},
     "output_type": "execute_result"
    }
   ],
   "source": [
    "\"          banana\".lstrip()"
   ]
  },
  {
   "cell_type": "code",
   "execution_count": 16,
   "id": "3d71f509",
   "metadata": {},
   "outputs": [
    {
     "data": {
      "text/plain": [
       "'apple'"
      ]
     },
     "execution_count": 16,
     "metadata": {},
     "output_type": "execute_result"
    }
   ],
   "source": [
    "\"apple        \".rstrip()"
   ]
  }
 ],
 "metadata": {
  "kernelspec": {
   "display_name": "Python 3 (ipykernel)",
   "language": "python",
   "name": "python3"
  },
  "language_info": {
   "codemirror_mode": {
    "name": "ipython",
    "version": 3
   },
   "file_extension": ".py",
   "mimetype": "text/x-python",
   "name": "python",
   "nbconvert_exporter": "python",
   "pygments_lexer": "ipython3",
   "version": "3.9.12"
  }
 },
 "nbformat": 4,
 "nbformat_minor": 5
}
