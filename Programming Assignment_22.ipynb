{
 "cells": [
  {
   "cell_type": "markdown",
   "id": "7afb05d1",
   "metadata": {},
   "source": [
    "## Question 1\n",
    "### Create a function that takes three parameters where:\n",
    "-  x is the start of the range (inclusive).\n",
    "-  y is the end of the range (inclusive).\n",
    "-  n is the divisor to be checked against.\n",
    "- Return an ordered list with numbers in the range that are divisible by the third parameter n.\n",
    "- Return an empty list if there are no numbers that are divisible by n.\n",
    "- Examples\n",
    "- list_operation(1, 10, 3) ➞ [3, 6, 9]\n",
    "- list_operation(7, 9, 2) ➞ [8]\n",
    "- list_operation(15, 20, 7) ➞ []\n",
    "\n"
   ]
  },
  {
   "cell_type": "code",
   "execution_count": 1,
   "id": "3044fa3e",
   "metadata": {},
   "outputs": [
    {
     "name": "stdout",
     "output_type": "stream",
     "text": [
      "[3, 6, 9]\n",
      "[8]\n",
      "[]\n"
     ]
    }
   ],
   "source": [
    "def list_operation(x,y,n):\n",
    "    num = []\n",
    "    for i in range (x,y+1):\n",
    "        if i%n == 0:\n",
    "            num.append(i)\n",
    "    return num\n",
    "print(list_operation(1,10,3))\n",
    "print(list_operation(7,9,2))\n",
    "print(list_operation(15,20,7))"
   ]
  },
  {
   "cell_type": "markdown",
   "id": "4e14f768",
   "metadata": {},
   "source": [
    "-----------"
   ]
  },
  {
   "cell_type": "markdown",
   "id": "4c9713f0",
   "metadata": {},
   "source": [
    "## Question 2\n",
    "### Create a function that takes in two lists and returns True if the second list follows the first list by one element, and False otherwise. In other words, determine if the second list is the first list shifted to the right by 1.\n",
    "- Examples\n",
    "- simon_says([1, 2], [5, 1]) ➞ True\n",
    "- simon_says([1, 2], [5, 5]) ➞ False\n",
    "- simon_says([1, 2, 3, 4, 5], [0, 1, 2, 3, 4]) ➞ True\n",
    "- simon_says([1, 2, 3, 4, 5], [5, 5, 1, 2, 3]) ➞ False\n",
    "- Notes\n",
    "-  Both input lists will be of the same length, and will have a minimum length of 2.\n",
    "-  The values of the 0-indexed element in the second list and the n-1th indexed element in the first list do not matter.\n",
    "\n",
    "\n"
   ]
  },
  {
   "cell_type": "code",
   "execution_count": 2,
   "id": "079136bb",
   "metadata": {},
   "outputs": [
    {
     "name": "stdout",
     "output_type": "stream",
     "text": [
      "True\n",
      "False\n"
     ]
    }
   ],
   "source": [
    "def simon_says(x,y):\n",
    "    while len(x)==len(y) and len(x)>=2:       \n",
    "        if x[0]==(y[0]+1):\n",
    "            return True\n",
    "        else:\n",
    "            return False\n",
    "\n",
    "print(simon_says([1,2,3,4,5],[0,1,2,3,4]))\n",
    "print(simon_says([1,2,3,4,5],[5,5,1,2,3]))"
   ]
  },
  {
   "cell_type": "markdown",
   "id": "808f012c",
   "metadata": {},
   "source": [
    "---------"
   ]
  },
  {
   "cell_type": "markdown",
   "id": "a6a2dbae",
   "metadata": {},
   "source": [
    "## Question 3\n",
    "### A group of friends have decided to start a secret society. The name will be the first letter of each of their names, sorted in alphabetical order.\n",
    "### Create a function that takes in a list of names and returns the name of the secret society.\n",
    "\n",
    "- Examples\n",
    "- society_name([&quot;Adam&quot;, &quot;Sarah&quot;, &quot;Malcolm&quot;]) ➞ &quot;AMS&quot;\n",
    "- society_name([&quot;Harry&quot;, &quot;Newt&quot;, &quot;Luna&quot;, &quot;Cho&quot;]) ➞ &quot;CHLN&quot;\n",
    "- society_name([&quot;Phoebe&quot;, &quot;Chandler&quot;, &quot;Rachel&quot;, &quot;Ross&quot;, &quot;Monica&quot;, &quot;Joey&quot;])\n"
   ]
  },
  {
   "cell_type": "code",
   "execution_count": 3,
   "id": "fd8b6be9",
   "metadata": {},
   "outputs": [
    {
     "name": "stdout",
     "output_type": "stream",
     "text": [
      "['A', 'M', 'S']\n",
      "['C', 'H', 'L', 'N']\n",
      "['C', 'J', 'M', 'P', 'R', 'R']\n"
     ]
    }
   ],
   "source": [
    "def society_name(x):\n",
    "    y = ''\n",
    "    return [(y+i[0]) for i in sorted(x)]\n",
    "\n",
    "print(society_name([\"Adam\", \"Sarah\", \"Malcolm\"]))\n",
    "print(society_name([\"Harry\", \"Newt\", \"Luna\", \"Cho\"]))\n",
    "print(society_name([\"Phoebe\", \"Chandler\", \"Rachel\", \"Ross\", \"Monica\", \"Joey\"]))"
   ]
  },
  {
   "cell_type": "markdown",
   "id": "8096492d",
   "metadata": {},
   "source": [
    "-----------"
   ]
  },
  {
   "cell_type": "markdown",
   "id": "99d05bfb",
   "metadata": {},
   "source": [
    "## Question 4\n",
    "### An isogram is a word that has no duplicate letters. Create a function that takes a string and returns either True or False depending on whether or not it&#39;s an &quot;isogram&quot;.\n",
    "- Examples\n",
    "- is_isogram(&quot;Algorism&quot;) ➞ True\n",
    "- is_isogram(&quot;PasSword&quot;) ➞ False\n",
    "####  Not case sensitive.\n",
    "- is_isogram(&quot;Consecutive&quot;) ➞ False\n",
    "- Notes\n",
    "-  Ignore letter case (should not be case sensitive).\n",
    "-  All test cases contain valid one word strings.\n",
    "\n"
   ]
  },
  {
   "cell_type": "code",
   "execution_count": 4,
   "id": "f186d87e",
   "metadata": {},
   "outputs": [
    {
     "name": "stdout",
     "output_type": "stream",
     "text": [
      "True\n",
      "False\n",
      "False\n"
     ]
    }
   ],
   "source": [
    "def is_isogram(string):\n",
    "    string = string.lower()\n",
    "    chars = {}\n",
    " \n",
    "    # Iterate through each character in the string\n",
    "    for char in string:\n",
    "        # If the character is not in the dictionary, add it\n",
    "        if char not in chars:\n",
    "            chars[char] = 1\n",
    "        else:\n",
    "            # If the character is already in the dictionary, increment the count\n",
    "            chars[char] += 1\n",
    " \n",
    "    # Create a list to store the duplicate characters\n",
    "    duplicates = []\n",
    "    for char, count in chars.items():\n",
    "        if count > 1:\n",
    "            duplicates.append(char)\n",
    "    #return duplicates\n",
    "    if duplicates == []:\n",
    "        return True\n",
    "    else:\n",
    "        return False\n",
    "    \n",
    "    \n",
    "print(is_isogram(\"Algorism\"))\n",
    "print(is_isogram(\"PasSword\"))\n",
    "print(is_isogram(\"Consecutive\"))\n"
   ]
  },
  {
   "cell_type": "markdown",
   "id": "16596020",
   "metadata": {},
   "source": [
    "----------"
   ]
  },
  {
   "cell_type": "markdown",
   "id": "f27b37b8",
   "metadata": {},
   "source": [
    "## Question 5\n",
    "### Create a function that takes a string and returns True or False, depending on whether the characters are in order or not.\n",
    "- Examples\n",
    "- is_in_order(&quot;abc&quot;) ➞ True\n",
    "- is_in_order(&quot;edabit&quot;) ➞ False\n",
    "- is_in_order(&quot;123&quot;) ➞ True\n",
    "- is_in_order(&quot;xyzz&quot;) ➞ True\n",
    "- Notes\n",
    "- You don&#39;t have to handle empty strings."
   ]
  },
  {
   "cell_type": "code",
   "execution_count": 5,
   "id": "cfd6856f",
   "metadata": {},
   "outputs": [
    {
     "name": "stdout",
     "output_type": "stream",
     "text": [
      "True\n",
      "False\n",
      "True\n"
     ]
    }
   ],
   "source": [
    "def is_in_order(my_str):\n",
    "    z = \"\"\n",
    "    x = sorted(my_str)\n",
    "    for x in x:\n",
    "        #print(x)\n",
    "        z += x\n",
    "    #print(z)\n",
    "    if z == my_str:\n",
    "        return True\n",
    "    else:\n",
    "        return False\n",
    "print(is_in_order(\"xyzz\"))\n",
    "print(is_in_order(\"edabit\"))\n",
    "print(is_in_order(\"123\"))"
   ]
  }
 ],
 "metadata": {
  "kernelspec": {
   "display_name": "Python 3 (ipykernel)",
   "language": "python",
   "name": "python3"
  },
  "language_info": {
   "codemirror_mode": {
    "name": "ipython",
    "version": 3
   },
   "file_extension": ".py",
   "mimetype": "text/x-python",
   "name": "python",
   "nbconvert_exporter": "python",
   "pygments_lexer": "ipython3",
   "version": "3.9.12"
  }
 },
 "nbformat": 4,
 "nbformat_minor": 5
}
