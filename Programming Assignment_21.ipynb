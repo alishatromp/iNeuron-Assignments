{
 "cells": [
  {
   "cell_type": "markdown",
   "id": "409a1e10",
   "metadata": {},
   "source": [
    "## Question1\n",
    "### Write a function that takes a list and a number as arguments. Add the number to the end of the list, then remove the first element of the list. The function should then return the updated list.\n",
    "- Examples\n",
    "- next_in_line([5, 6, 7, 8, 9], 1) ➞ [6, 7, 8, 9, 1]\n",
    "- next_in_line([7, 6, 3, 23, 17], 10) ➞ [6, 3, 23, 17, 10]\n",
    "- next_in_line([1, 10, 20, 42 ], 6) ➞ [10, 20, 42, 6]\n",
    "- next_in_line([], 6) ➞ &quot;No list has been selected&quot;\n",
    "\n"
   ]
  },
  {
   "cell_type": "code",
   "execution_count": 14,
   "id": "169eaf3a",
   "metadata": {},
   "outputs": [
    {
     "name": "stdout",
     "output_type": "stream",
     "text": [
      "[6, 7, 8, 9, 1]\n",
      "[6, 3, 23, 17, 10]\n",
      "[10, 20, 42, 6]\n",
      "No list has been selected\n"
     ]
    }
   ],
   "source": [
    "def next_in_line(l,n):\n",
    "    while l == []:\n",
    "        return \"No list has been selected\"\n",
    "    else:\n",
    "        l.append(n)\n",
    "        l.pop(0)\n",
    "        return l\n",
    "\n",
    "print(next_in_line([5, 6, 7, 8, 9], 1))\n",
    "print(next_in_line([7, 6, 3, 23, 17], 10))\n",
    "print(next_in_line([1, 10, 20, 42 ],6))\n",
    "print(next_in_line([],6))"
   ]
  },
  {
   "cell_type": "markdown",
   "id": "60a7cce8",
   "metadata": {},
   "source": [
    "-----------"
   ]
  },
  {
   "cell_type": "markdown",
   "id": "a64ae784",
   "metadata": {},
   "source": [
    "## Question2\n",
    "### Create the function that takes a list of dictionaries and returns the sum of people&#39;s budgets.\n",
    "- Examples\n",
    "- get_budgets([\n",
    "{ &quot;name&quot;: &quot;John&quot;, &quot;age&quot;: 21, &quot;budget&quot;: 23000 },\n",
    "{ &quot;name&quot;: &quot;Steve&quot;, &quot;age&quot;: 32, &quot;budget&quot;: 40000 },\n",
    "{ &quot;name&quot;: &quot;Martin&quot;, &quot;age&quot;: 16, &quot;budget&quot;: 2700 }\n",
    "]) ➞ 65700\n",
    "get_budgets([\n",
    "{ &quot;name&quot;: &quot;John&quot;, &quot;age&quot;: 21, &quot;budget&quot;: 29000 },\n",
    "{ &quot;name&quot;: &quot;Steve&quot;, &quot;age&quot;: 32, &quot;budget&quot;: 32000 },\n",
    "{ &quot;name&quot;: &quot;Martin&quot;, &quot;age&quot;: 16, &quot;budget&quot;: 1600 }\n",
    "]) ➞ 62600\n",
    "\n",
    "\n",
    "\n"
   ]
  },
  {
   "cell_type": "code",
   "execution_count": 75,
   "id": "bb5af985",
   "metadata": {},
   "outputs": [
    {
     "name": "stdout",
     "output_type": "stream",
     "text": [
      "65700\n",
      "62600\n"
     ]
    }
   ],
   "source": [
    "def get_budgets(d):\n",
    "    b = []\n",
    "    for i in d:\n",
    "        if type(i)==dict:\n",
    "            b.append(i['budget'])\n",
    "    return sum (b)\n",
    "\n",
    "print(get_budgets([{ \"name\": \"John\", \"age\": 21, \"budget\": 23000 }, \n",
    "                   { \"name\": \"Steve\", \"age\": 32, \"budget\": 40000 }, \n",
    "                   { \"name\": \"Martin\", \"age\": 16, \"budget\": 2700 }]))\n",
    "print(get_budgets([{ \"name\": \"John\", \"age\": 21, \"budget\": 29000 }, \n",
    "                   { \"name\": \"Steve\", \"age\": 32, \"budget\": 32000 }, \n",
    "                   { \"name\": \"Martin\", \"age\": 16, \"budget\": 1600 }]))"
   ]
  },
  {
   "cell_type": "markdown",
   "id": "77a54c95",
   "metadata": {},
   "source": [
    "-----------"
   ]
  },
  {
   "cell_type": "markdown",
   "id": "90a5cd52",
   "metadata": {},
   "source": [
    "## Question3\n",
    "### Create a function that takes a string and returns a string with its letters in alphabetical order.\n",
    "- Examples\n",
    "- alphabet_soup(&quot;hello&quot;) ➞ &quot;ehllo&quot;\n",
    "- alphabet_soup(&quot;edabit&quot;) ➞ &quot;abdeit&quot;\n",
    "- alphabet_soup(&quot;hacker&quot;) ➞ &quot;acehkr&quot;\n",
    "- alphabet_soup(&quot;geek&quot;) ➞ &quot;eegk&quot;\n",
    "- alphabet_soup(&quot;javascript&quot;) ➞ &quot;aacijprstv&quot;\n",
    "\n"
   ]
  },
  {
   "cell_type": "code",
   "execution_count": 16,
   "id": "6f9f1fa0",
   "metadata": {},
   "outputs": [
    {
     "name": "stdout",
     "output_type": "stream",
     "text": [
      "['e', 'h', 'l', 'l', 'o']\n",
      "['a', 'c', 'e', 'h', 'k', 'r']\n"
     ]
    }
   ],
   "source": [
    "def alphabet_soup(my_str):\n",
    "    return [x for x in sorted(my_str)]\n",
    "\n",
    "print(alphabet_soup(\"hello\"))\n",
    "print(alphabet_soup(\"hacker\"))"
   ]
  },
  {
   "cell_type": "markdown",
   "id": "58952fe5",
   "metadata": {},
   "source": [
    "--------"
   ]
  },
  {
   "cell_type": "markdown",
   "id": "685225cd",
   "metadata": {},
   "source": [
    "## Question4\n",
    "### Suppose that you invest $10,000 for 10 years at an interest rate of 6% compounded monthly.What will be the value of your investment at the end of the 10 year period?\n",
    "### Create a function that accepts the principal p, the term in years t, the interest rate r, and the number of compounding periods per year n. The function returns the value at the end of term rounded to the nearest cent.\n",
    "- For the example above:\n",
    "- compound_interest(10000, 10, 0.06, 12) ➞ 18193.97\n",
    "- Note that the interest rate is given as a decimal and n=12 because with monthly compounding there are 12 periods per year. Compounding can also be done annually, quarterly, weekly, or daily.\n",
    "- Examples\n",
    "- compound_interest(100, 1, 0.05, 1) ➞ 105.0\n",
    "- compound_interest(3500, 15, 0.1, 4) ➞ 15399.26\n",
    "- compound_interest(100000, 20, 0.15, 365) ➞ 2007316.26"
   ]
  },
  {
   "cell_type": "code",
   "execution_count": 82,
   "id": "b8b21ffa",
   "metadata": {},
   "outputs": [
    {
     "name": "stdout",
     "output_type": "stream",
     "text": [
      "105.0\n",
      "15399.26\n",
      "2007316.26\n"
     ]
    }
   ],
   "source": [
    "def compound_interest(p,t,r,n):\n",
    "    A = p*(1+(r/n))**(n*t)\n",
    "    return round(A,2)\n",
    "print(compound_interest(100,1,0.05,1))\n",
    "print(compound_interest(3500,15,0.1,4))\n",
    "print(compound_interest(100000,20,0.15,365))"
   ]
  },
  {
   "cell_type": "markdown",
   "id": "8787a58b",
   "metadata": {},
   "source": [
    "------------"
   ]
  },
  {
   "cell_type": "markdown",
   "id": "459caf6a",
   "metadata": {},
   "source": [
    "## Question5\n",
    "### Write a function that takes a list of elements and returns only the integers.\n",
    "- Examples\n",
    "- return_only_integer([9, 2, &quot;space&quot;, &quot;car&quot;, &quot;lion&quot;, 16]) ➞ [9, 2, 16]\n",
    "- return_only_integer([&quot;hello&quot;, 81, &quot;basketball&quot;, 123, &quot;fox&quot;]) ➞ [81, 123]\n",
    "- return_only_integer([10, &quot;121&quot;, 56, 20, &quot;car&quot;, 3, &quot;lion&quot;]) ➞ [10, 56, 20,\n",
    "3]\n",
    "- return_only_integer([&quot;String&quot;, True, 3.3, 1]) ➞ [1]"
   ]
  },
  {
   "cell_type": "code",
   "execution_count": 5,
   "id": "51858214",
   "metadata": {},
   "outputs": [
    {
     "name": "stdout",
     "output_type": "stream",
     "text": [
      "[9, 2, 16]\n",
      "[81, 123]\n"
     ]
    }
   ],
   "source": [
    "def return_only_integer(x):\n",
    "    return [ele for ele in x if type(ele) == int]\n",
    "\n",
    "print(return_only_integer([9, 2, \"space\", \"car\", \"lion\", 16]))\n",
    "print(return_only_integer([\"hello\", 81, \"basketball\", 123, \"fox\"]))"
   ]
  }
 ],
 "metadata": {
  "kernelspec": {
   "display_name": "Python 3 (ipykernel)",
   "language": "python",
   "name": "python3"
  },
  "language_info": {
   "codemirror_mode": {
    "name": "ipython",
    "version": 3
   },
   "file_extension": ".py",
   "mimetype": "text/x-python",
   "name": "python",
   "nbconvert_exporter": "python",
   "pygments_lexer": "ipython3",
   "version": "3.9.12"
  }
 },
 "nbformat": 4,
 "nbformat_minor": 5
}
