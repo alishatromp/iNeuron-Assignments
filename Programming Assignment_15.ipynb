{
 "cells": [
  {
   "cell_type": "markdown",
   "id": "717bfe27",
   "metadata": {},
   "source": [
    "## Question 1:\n",
    "## Please write a program using generator to print the numbers which can be divisible by 5 and 7 between 0 and n in comma separated form while n is input by console.\n",
    "## Example: If the following n is given as input to the program: 100 \n",
    "## Then, the output of the program should be:\n",
    "## 0,35,70\n",
    "\n"
   ]
  },
  {
   "cell_type": "code",
   "execution_count": 3,
   "id": "d26a04c3",
   "metadata": {},
   "outputs": [
    {
     "name": "stdout",
     "output_type": "stream",
     "text": [
      "[0, 35, 70]\n"
     ]
    }
   ],
   "source": [
    "def gen(n):\n",
    "    for i in range(0,n+1):\n",
    "        if (i%7==0) and (i%5==0):\n",
    "            yield (i) #whenever you have yield keyword, you're using generator func\n",
    "k = gen (100)\n",
    "num = []\n",
    "for i in k:\n",
    "    num.append(i)\n",
    "print(num)"
   ]
  },
  {
   "cell_type": "markdown",
   "id": "65e8c83c",
   "metadata": {},
   "source": [
    "--------"
   ]
  },
  {
   "cell_type": "markdown",
   "id": "eb08dedf",
   "metadata": {},
   "source": [
    "## Question 2: Please write a program using generator to print the even numbers between 0 and n in comma separated form while n is input by console.\n",
    "## Example:\n",
    "## If the following n is given as input to the program: 10\n",
    "## Then, the output of the program should be:\n",
    "## 0,2,4,6,8,10"
   ]
  },
  {
   "cell_type": "code",
   "execution_count": 4,
   "id": "24656831",
   "metadata": {},
   "outputs": [
    {
     "name": "stdout",
     "output_type": "stream",
     "text": [
      "[0, 2, 4, 6, 8, 10]\n"
     ]
    }
   ],
   "source": [
    "def gen(n):\n",
    "    for i in range(0,n+1):\n",
    "        if i%2==0:\n",
    "            yield (i) #whenever you have yield keyword, you're using generator func\n",
    "k = gen (10)\n",
    "num = []\n",
    "for i in k:\n",
    "    num.append(i)\n",
    "print(num)"
   ]
  },
  {
   "cell_type": "markdown",
   "id": "56143df2",
   "metadata": {},
   "source": [
    "--------"
   ]
  },
  {
   "cell_type": "markdown",
   "id": "dfdc4419",
   "metadata": {},
   "source": [
    "## Question 3:\n",
    "## The Fibonacci Sequence is computed based on the following formula:\n",
    "## f(n)=0 if n=0\n",
    "## f(n)=1 if n=1\n",
    "## f(n)=f(n-1)+f(n-2) if n&gt;1\n",
    "## Please write a program using list comprehension to print the Fibonacci Sequence in comma separated form with a given n input by console.\n",
    "## Example:\n",
    "## If the following n is given as input to the program:\n",
    "## 7\n",
    "\n",
    "## Then, the output of the program should be:\n",
    "## 0,1,1,2,3,5,8,13\n",
    "\n"
   ]
  },
  {
   "cell_type": "code",
   "execution_count": 34,
   "id": "66ead30a",
   "metadata": {},
   "outputs": [],
   "source": [
    "def fibo(n):\n",
    "    series = [round((((1 + 5**0.5) / 2)**n - ((1 - 5**0.5) / 2)**n) / 5**0.5) for n in range(0, n+1)]\n",
    "    print(series)"
   ]
  },
  {
   "cell_type": "code",
   "execution_count": 37,
   "id": "4a06521a",
   "metadata": {},
   "outputs": [
    {
     "name": "stdout",
     "output_type": "stream",
     "text": [
      "[0, 1, 1, 2, 3, 5, 8, 13]\n"
     ]
    }
   ],
   "source": [
    "fibo(7)"
   ]
  },
  {
   "cell_type": "markdown",
   "id": "071c9b06",
   "metadata": {},
   "source": [
    "---------"
   ]
  },
  {
   "cell_type": "markdown",
   "id": "8983fcec",
   "metadata": {},
   "source": [
    "## Question 4:\n",
    "## Assuming that we have some email addresses in the &quot;username@companyname.com&quot; format,\n",
    "## please write program to print the user name of a given email address. Both user names and company names are composed of letters only.\n",
    "## Example:\n",
    "## If the following email address is given as input to the program:\n",
    "## john@google.com\n",
    "## Then, the output of the program should be:\n",
    "## john\n",
    "\n"
   ]
  },
  {
   "cell_type": "code",
   "execution_count": 38,
   "id": "9c0af048",
   "metadata": {},
   "outputs": [
    {
     "name": "stdout",
     "output_type": "stream",
     "text": [
      "Enter email address: john@google.com\n",
      "john\n"
     ]
    }
   ],
   "source": [
    "email_id = input(\"Enter email address: \")\n",
    "x = email_id.split(\"@\")\n",
    "print(x[0])"
   ]
  },
  {
   "cell_type": "markdown",
   "id": "889af856",
   "metadata": {},
   "source": [
    "----------"
   ]
  },
  {
   "cell_type": "markdown",
   "id": "7a65a348",
   "metadata": {},
   "source": [
    "## Question 5:\n",
    "## Define a class named Shape and its subclass Square. The Square class has an init function which takes a length as argument. Both classes have a area function which can print the area of the shape where Shape&#39;s area is 0 by default."
   ]
  },
  {
   "cell_type": "code",
   "execution_count": 64,
   "id": "ad6bc9f7",
   "metadata": {},
   "outputs": [
    {
     "name": "stdout",
     "output_type": "stream",
     "text": [
      "4\n"
     ]
    }
   ],
   "source": [
    "class Shape:\n",
    "    def area(self):\n",
    "        area = 0\n",
    "        print(area)\n",
    "    \n",
    "class Square(Shape):\n",
    "    def __init__(self,l):\n",
    "        self.l = l\n",
    "        area = self.l*self.l\n",
    "        print(area)\n",
    "        \n",
    "        \n",
    "x = Square(2)\n",
    "y = Shape()"
   ]
  }
 ],
 "metadata": {
  "kernelspec": {
   "display_name": "Python 3 (ipykernel)",
   "language": "python",
   "name": "python3"
  },
  "language_info": {
   "codemirror_mode": {
    "name": "ipython",
    "version": 3
   },
   "file_extension": ".py",
   "mimetype": "text/x-python",
   "name": "python",
   "nbconvert_exporter": "python",
   "pygments_lexer": "ipython3",
   "version": "3.9.12"
  }
 },
 "nbformat": 4,
 "nbformat_minor": 5
}
