{
 "cells": [
  {
   "cell_type": "markdown",
   "id": "14567ccf",
   "metadata": {},
   "source": [
    "## Question 1\n",
    "### Create a function that takes three integer arguments (a, b, c) and returns the amount of integers which are of equal value.\n",
    "- Examples\n",
    "- equal(3, 4, 3) ➞ 2\n",
    "- equal(1, 1, 1) ➞ 3\n",
    "- equal(3, 4, 1) ➞ 0\n",
    "- Notes\n",
    "- Your function must return 0, 2 or 3."
   ]
  },
  {
   "cell_type": "code",
   "execution_count": 1,
   "id": "99293cb8",
   "metadata": {},
   "outputs": [
    {
     "name": "stdout",
     "output_type": "stream",
     "text": [
      "3\n",
      "0\n",
      "2\n"
     ]
    }
   ],
   "source": [
    "def equal(a,b,c):\n",
    "    count = 0\n",
    "    if a == b and b==c:\n",
    "        count = 3\n",
    "    if b == c and a != b:\n",
    "        count = 2\n",
    "    if a == c and b!=c:\n",
    "        count = 2\n",
    "    return count\n",
    "\n",
    "print(equal(1,1,1))\n",
    "print(equal(3,4,1))\n",
    "print(equal(2,3,3))"
   ]
  },
  {
   "cell_type": "markdown",
   "id": "9e676827",
   "metadata": {},
   "source": [
    "---------"
   ]
  },
  {
   "cell_type": "markdown",
   "id": "4cbdec2d",
   "metadata": {},
   "source": [
    "## Question 2\n",
    "### Write a function that converts a dictionary into a list of keys-values tuples.\n",
    "- Examples\n",
    "- dict_to_list({\n",
    "&quot;D&quot;: 1,\n",
    "&quot;B&quot;: 2,\n",
    "&quot;C&quot;: 3\n",
    "}) ➞ [(&quot;B&quot;, 2), (&quot;C&quot;, 3), (&quot;D&quot;, 1)]\n",
    "- dict_to_list({\n",
    "&quot;likes&quot;: 2,\n",
    "&quot;dislikes&quot;: 3,\n",
    "&quot;followers&quot;: 10\n",
    "}) ➞ [(&quot;dislikes&quot;, 3), (&quot;followers&quot;, 10), (&quot;likes&quot;, 2)]\n",
    "- Notes\n",
    "- Return the elements in the list in alphabetical order."
   ]
  },
  {
   "cell_type": "code",
   "execution_count": 2,
   "id": "942b0ca1",
   "metadata": {},
   "outputs": [
    {
     "name": "stdout",
     "output_type": "stream",
     "text": [
      "{'B': 2, 'C': 3, 'D': 1}\n",
      "{'dislikes': 3, 'followers': 10, 'likes': 2}\n"
     ]
    }
   ],
   "source": [
    "def dict_to_list(x):\n",
    "    new_dict = sorted(x.items(),key = lambda i:i[0])\n",
    "    return (dict(new_dict))\n",
    "\n",
    "print(dict_to_list({ \"D\": 1, \"B\": 2, \"C\": 3 }))\n",
    "print(dict_to_list({ \"likes\": 2, \"dislikes\": 3, \"followers\": 10 }))"
   ]
  },
  {
   "cell_type": "markdown",
   "id": "8fbabbba",
   "metadata": {},
   "source": [
    "---------"
   ]
  },
  {
   "cell_type": "markdown",
   "id": "f03838be",
   "metadata": {},
   "source": [
    "## Question 3\n",
    "### Write a function that creates a dictionary with each (key, value) pair being the (lower case, upper case) versions of a letter, respectively.\n",
    "- Examples\n",
    "- mapping([&quot;p&quot;, &quot;s&quot;]) ➞ { &quot;p&quot;: &quot;P&quot;, &quot;s&quot;: &quot;S&quot; }\n",
    "\n",
    "- mapping([&quot;a&quot;, &quot;b&quot;, &quot;c&quot;]) ➞ { &quot;a&quot;: &quot;A&quot;, &quot;b&quot;: &quot;B&quot;, &quot;c&quot;: &quot;C&quot; }\n",
    "- mapping([&quot;a&quot;, &quot;v&quot;, &quot;y&quot;, &quot;z&quot;]) ➞ { &quot;a&quot;: &quot;A&quot;, &quot;v&quot;: &quot;V&quot;, &quot;y&quot;: &quot;Y&quot;, &quot;z&quot;: &quot;Z&quot; }\n",
    "- Notes\n",
    "- All of the letters in the input list will always be lowercase."
   ]
  },
  {
   "cell_type": "code",
   "execution_count": 3,
   "id": "ce79e7b8",
   "metadata": {},
   "outputs": [
    {
     "name": "stdout",
     "output_type": "stream",
     "text": [
      "{'p': 'P', 's': 'S'}\n",
      "{'a': 'A', 'b': 'B', 'c': 'C'}\n",
      "{'a': 'A', 'v': 'V', 'y': 'Y', 'z': 'Z'}\n"
     ]
    }
   ],
   "source": [
    "def mapping(d):\n",
    "    my_dict = {}\n",
    "    l = []\n",
    "    for i in d:\n",
    "        l.append(i.upper())\n",
    "    count = 0\n",
    "    for i in d:\n",
    "        my_dict[i] = l[count]\n",
    "        count+=1\n",
    "    return my_dict\n",
    "\n",
    "print(mapping([\"p\", \"s\"]))\n",
    "print(mapping([\"a\", \"b\", \"c\"]))\n",
    "print(mapping([\"a\", \"v\", \"y\", \"z\"]))"
   ]
  },
  {
   "cell_type": "markdown",
   "id": "05c1333f",
   "metadata": {},
   "source": [
    "--------"
   ]
  },
  {
   "cell_type": "markdown",
   "id": "118c2a8f",
   "metadata": {},
   "source": [
    "## Question 4\n",
    "### Write a function, that replaces all vowels in a string with a specified vowel.\n",
    "- Examples\n",
    "- vow_replace(&quot;apples and bananas&quot;, &quot;u&quot;) ➞ &quot;upplus und bununus&quot;\n",
    "- vow_replace(&quot;cheese casserole&quot;, &quot;o&quot;) ➞ &quot;chooso cossorolo&quot;\n",
    "- vow_replace(&quot;stuffed jalapeno poppers&quot;, &quot;e&quot;) ➞ &quot;steffed jelepene peppers&quot;\n",
    "- Notes\n",
    "- All words will be lowercase. Y is not considered a vowel."
   ]
  },
  {
   "cell_type": "code",
   "execution_count": 4,
   "id": "f9ae851f",
   "metadata": {},
   "outputs": [
    {
     "name": "stdout",
     "output_type": "stream",
     "text": [
      "upplus und bununus\n",
      "chooso cossorolo\n",
      "steffed jelepene peppers\n"
     ]
    }
   ],
   "source": [
    "def vow_replace(x,y):\n",
    "    vowels = 'aeiou'\n",
    "    for i in x:\n",
    "        if i in vowels:\n",
    "            x = x.replace(i,y)\n",
    "    return x\n",
    "    \n",
    "print(vow_replace(\"apples and bananas\", \"u\"))\n",
    "print(vow_replace(\"cheese casserole\", \"o\"))\n",
    "print(vow_replace(\"stuffed jalapeno poppers\", \"e\"))"
   ]
  },
  {
   "cell_type": "markdown",
   "id": "f4f2760e",
   "metadata": {},
   "source": [
    "---"
   ]
  },
  {
   "cell_type": "markdown",
   "id": "a2048e8a",
   "metadata": {},
   "source": [
    "## Question 5\n",
    "### Create a function that takes a string as input and capitalizes a letter if its ASCII code is even and returns its lower case version if its ASCII code is odd.\n",
    "- Examples\n",
    "- ascii_capitalize(&quot;to be or not to be!&quot;) ➞ &quot;To Be oR NoT To Be!&quot;\n",
    "- ascii_capitalize(&quot;THE LITTLE MERMAID&quot;) ➞ &quot;THe LiTTLe meRmaiD&quot;\n",
    "- ascii_capitalize(&quot;Oh what a beautiful morning.&quot;) ➞ &quot;oH wHaT a BeauTiFuL moRNiNg.&quot;"
   ]
  },
  {
   "cell_type": "code",
   "execution_count": 5,
   "id": "632a36e6",
   "metadata": {},
   "outputs": [
    {
     "name": "stdout",
     "output_type": "stream",
     "text": [
      "To Be oR NoT To Be!\n",
      "THe LiTTLe meRmaiD\n",
      "oH wHaT a BeauTiFuL moRNiNg.\n"
     ]
    }
   ],
   "source": [
    "def ascii_capitalize(string):\n",
    "    new_string = ''\n",
    "    for i in string:\n",
    "        if ord(i)%2 == 0:\n",
    "            new_string += i.upper()\n",
    "        else:\n",
    "            new_string+= i.lower()\n",
    "    return new_string\n",
    "\n",
    "print(ascii_capitalize(\"to be or not to be!\"))\n",
    "print(ascii_capitalize(\"THE LITTLE MERMAID\"))\n",
    "print(ascii_capitalize(\"Oh what a beautiful morning.\"))"
   ]
  }
 ],
 "metadata": {
  "kernelspec": {
   "display_name": "Python 3 (ipykernel)",
   "language": "python",
   "name": "python3"
  },
  "language_info": {
   "codemirror_mode": {
    "name": "ipython",
    "version": 3
   },
   "file_extension": ".py",
   "mimetype": "text/x-python",
   "name": "python",
   "nbconvert_exporter": "python",
   "pygments_lexer": "ipython3",
   "version": "3.9.12"
  }
 },
 "nbformat": 4,
 "nbformat_minor": 5
}
