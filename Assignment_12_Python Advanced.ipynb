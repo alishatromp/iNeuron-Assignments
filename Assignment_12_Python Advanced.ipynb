{
 "cells": [
  {
   "cell_type": "markdown",
   "id": "0fbc106f",
   "metadata": {},
   "source": [
    "## Q1. Does assigning a value to a string&#39;s indexed character violate Python&#39;s string immutability?"
   ]
  },
  {
   "cell_type": "markdown",
   "id": "5cc18fda",
   "metadata": {},
   "source": [
    "## Strings are immutable.You cannot assign anything to it."
   ]
  },
  {
   "cell_type": "code",
   "execution_count": 2,
   "id": "6583e4ed",
   "metadata": {},
   "outputs": [
    {
     "ename": "TypeError",
     "evalue": "'str' object does not support item assignment",
     "output_type": "error",
     "traceback": [
      "\u001b[1;31m---------------------------------------------------------------------------\u001b[0m",
      "\u001b[1;31mTypeError\u001b[0m                                 Traceback (most recent call last)",
      "Input \u001b[1;32mIn [2]\u001b[0m, in \u001b[0;36m<cell line: 2>\u001b[1;34m()\u001b[0m\n\u001b[0;32m      1\u001b[0m string \u001b[38;5;241m=\u001b[39m \u001b[38;5;124m\"\u001b[39m\u001b[38;5;124mScience\u001b[39m\u001b[38;5;124m\"\u001b[39m\n\u001b[1;32m----> 2\u001b[0m string[\u001b[38;5;241m0\u001b[39m] \u001b[38;5;241m=\u001b[39m \u001b[38;5;124m\"\u001b[39m\u001b[38;5;124mP\u001b[39m\u001b[38;5;124m\"\u001b[39m\n\u001b[0;32m      3\u001b[0m \u001b[38;5;28mprint\u001b[39m(string)\n",
      "\u001b[1;31mTypeError\u001b[0m: 'str' object does not support item assignment"
     ]
    }
   ],
   "source": [
    "string = \"Science\"\n",
    "string[0] = \"P\"\n",
    "print(string)"
   ]
  },
  {
   "cell_type": "markdown",
   "id": "0b11fa97",
   "metadata": {},
   "source": [
    "-----"
   ]
  },
  {
   "cell_type": "markdown",
   "id": "5aaec8a0",
   "metadata": {},
   "source": [
    "## Q2. Does using the += operator to concatenate strings violate Python&#39;s string immutability? Why or why not?"
   ]
  },
  {
   "cell_type": "markdown",
   "id": "8a3c29c9",
   "metadata": {},
   "source": [
    "## You can concatenate two strings using \"+=\". This will not affect its immutability. Its because 'a' is assigned to a string and 'b' is assigned to a string. Now a+b is assigned to something else. Therefore a and b will always be a original string and a+b will be new string. You can check it with the id function where id of a, b and c(a+b) is different."
   ]
  },
  {
   "cell_type": "code",
   "execution_count": 8,
   "id": "b25774c5",
   "metadata": {},
   "outputs": [
    {
     "name": "stdout",
     "output_type": "stream",
     "text": [
      "I love iNeuron\n",
      "2102606343152\n",
      "2102626904560\n",
      "2102634746736\n"
     ]
    }
   ],
   "source": [
    "a = \"I love\"\n",
    "b = \" iNeuron\" \n",
    "c = a+b\n",
    "print(c)\n",
    "print (id(a))\n",
    "print (id(b))\n",
    "print (id(c))"
   ]
  },
  {
   "cell_type": "markdown",
   "id": "ca4a803b",
   "metadata": {},
   "source": [
    "------"
   ]
  },
  {
   "cell_type": "markdown",
   "id": "59bec66b",
   "metadata": {},
   "source": [
    "## Q3. In Python, how many different ways are there to index a character?"
   ]
  },
  {
   "cell_type": "markdown",
   "id": "0a0c8127",
   "metadata": {},
   "source": [
    "## Positive indexing will start from start to end."
   ]
  },
  {
   "cell_type": "code",
   "execution_count": 20,
   "id": "2c1c39fe",
   "metadata": {},
   "outputs": [
    {
     "name": "stdout",
     "output_type": "stream",
     "text": [
      "Scienc\n"
     ]
    }
   ],
   "source": [
    "str_1 = \"Science\"\n",
    "print(str_1[0:6])"
   ]
  },
  {
   "cell_type": "markdown",
   "id": "341b3b96",
   "metadata": {},
   "source": [
    "## Negative indexing will start from end to start."
   ]
  },
  {
   "cell_type": "code",
   "execution_count": 21,
   "id": "31d24d46",
   "metadata": {},
   "outputs": [
    {
     "name": "stdout",
     "output_type": "stream",
     "text": [
      "e\n"
     ]
    }
   ],
   "source": [
    "print(str_1[-1:])"
   ]
  },
  {
   "cell_type": "markdown",
   "id": "9debfb57",
   "metadata": {},
   "source": [
    "-----"
   ]
  },
  {
   "cell_type": "markdown",
   "id": "037891cc",
   "metadata": {},
   "source": [
    "## Q4. What is the relationship between indexing and slicing?"
   ]
  },
  {
   "cell_type": "markdown",
   "id": "d3d90b58",
   "metadata": {},
   "source": [
    "## Slicing in Python refers to extracting a subset or specific part of the sequence list, tuple, or string in a specific range. While indexing refers to accessing a single element from an array, it is used to get slices of arrays."
   ]
  },
  {
   "cell_type": "code",
   "execution_count": 19,
   "id": "151574d8",
   "metadata": {},
   "outputs": [
    {
     "data": {
      "text/plain": [
       "'Science'"
      ]
     },
     "execution_count": 19,
     "metadata": {},
     "output_type": "execute_result"
    }
   ],
   "source": [
    "#Indexing\n",
    "str_1[0]\n",
    "\n",
    "#slicing\n",
    "str_1[0:8]"
   ]
  },
  {
   "cell_type": "markdown",
   "id": "3e60d911",
   "metadata": {},
   "source": [
    "------"
   ]
  },
  {
   "cell_type": "markdown",
   "id": "5b2b3bb1",
   "metadata": {},
   "source": [
    "## Q5. What is an indexed character&#39;s exact data type? What is the data form of a slicing-generated substring?"
   ]
  },
  {
   "cell_type": "markdown",
   "id": "e66d34a7",
   "metadata": {},
   "source": [
    "## Ans - An indexed characters exact data type is the str of the indexed position you've requested.\n",
    "## Slicing generates str from a start position up to an end position."
   ]
  },
  {
   "cell_type": "markdown",
   "id": "da06409f",
   "metadata": {},
   "source": [
    "---------"
   ]
  },
  {
   "cell_type": "markdown",
   "id": "cf6d5778",
   "metadata": {},
   "source": [
    "## Q6. What is the relationship between string and character &quot;types&quot; in Python?"
   ]
  },
  {
   "cell_type": "markdown",
   "id": "592487d4",
   "metadata": {},
   "source": [
    "## Ans - an object that contains a sequence or \"string\" of characters is called a string."
   ]
  },
  {
   "cell_type": "markdown",
   "id": "6786b70d",
   "metadata": {},
   "source": [
    "---------"
   ]
  },
  {
   "cell_type": "markdown",
   "id": "5fcfba6b",
   "metadata": {},
   "source": [
    "## Q7. Identify at least two operators and one method that allow you to combine one or more smaller strings to create a larger string.\n",
    "\n",
    "\n"
   ]
  },
  {
   "cell_type": "markdown",
   "id": "ebe7a356",
   "metadata": {},
   "source": [
    "## Ans - you can use \"+\", \"+=\", \"*\" to concatenate two strings. \n",
    "## Use .join to join two strings.\n"
   ]
  },
  {
   "cell_type": "code",
   "execution_count": 3,
   "id": "3c8b4892",
   "metadata": {},
   "outputs": [
    {
     "name": "stdout",
     "output_type": "stream",
     "text": [
      "YesNo\n"
     ]
    }
   ],
   "source": [
    "a = \"Yes\"\n",
    "b = \"No\"\n",
    "c = a+b\n",
    "print(c)"
   ]
  },
  {
   "cell_type": "code",
   "execution_count": 2,
   "id": "2bd1ae55",
   "metadata": {},
   "outputs": [
    {
     "data": {
      "text/plain": [
       "'Y e s ,   N o'"
      ]
     },
     "execution_count": 2,
     "metadata": {},
     "output_type": "execute_result"
    }
   ],
   "source": [
    "# Method to join two strings\n",
    "\" \".join(\"Yes, No\")"
   ]
  },
  {
   "cell_type": "markdown",
   "id": "de18c427",
   "metadata": {},
   "source": [
    "-----"
   ]
  },
  {
   "cell_type": "markdown",
   "id": "5da4d15a",
   "metadata": {},
   "source": [
    "## Q8. What is the benefit of first checking the target string with in or not in before using the index method to find a substring?\n"
   ]
  },
  {
   "cell_type": "markdown",
   "id": "de592688",
   "metadata": {},
   "source": [
    "## Ans - using in or not in method is simple and straigthforward and confirms availability without displaying value error."
   ]
  },
  {
   "cell_type": "markdown",
   "id": "4efa6a4c",
   "metadata": {},
   "source": [
    "----------"
   ]
  },
  {
   "cell_type": "markdown",
   "id": "457a22d5",
   "metadata": {},
   "source": [
    "## Q9. Which operators and built-in string methods produce simple Boolean (true/false) results?"
   ]
  },
  {
   "cell_type": "code",
   "execution_count": 25,
   "id": "9ef07e1f",
   "metadata": {},
   "outputs": [],
   "source": [
    "string = \"iNeuron FSDS Batch 2.0\""
   ]
  },
  {
   "cell_type": "code",
   "execution_count": 22,
   "id": "9afc80fb",
   "metadata": {},
   "outputs": [
    {
     "name": "stdout",
     "output_type": "stream",
     "text": [
      "False\n",
      "False\n",
      "False\n",
      "False\n",
      "False\n",
      "False\n",
      "True\n",
      "False\n",
      "False\n"
     ]
    }
   ],
   "source": [
    "in\n",
    "not in\n",
    "\n",
    "print(string.isalpha())\n",
    "print(string.isalnum())\n",
    "print(string.isdecimal())\n",
    "print(string.isdigit())\n",
    "print(string.islower())\n",
    "print(string.isnumeric())\n",
    "print(string.isprintable())\n",
    "print(string.isspace())\n",
    "print(string.istitle())"
   ]
  }
 ],
 "metadata": {
  "kernelspec": {
   "display_name": "Python 3 (ipykernel)",
   "language": "python",
   "name": "python3"
  },
  "language_info": {
   "codemirror_mode": {
    "name": "ipython",
    "version": 3
   },
   "file_extension": ".py",
   "mimetype": "text/x-python",
   "name": "python",
   "nbconvert_exporter": "python",
   "pygments_lexer": "ipython3",
   "version": "3.9.12"
  }
 },
 "nbformat": 4,
 "nbformat_minor": 5
}
