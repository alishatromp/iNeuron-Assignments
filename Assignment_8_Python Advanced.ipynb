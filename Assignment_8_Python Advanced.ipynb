{
 "cells": [
  {
   "cell_type": "markdown",
   "id": "3d355528",
   "metadata": {},
   "source": [
    "## Q1. What are the two latest user-defined exception constraints in Python 3.X?"
   ]
  },
  {
   "cell_type": "markdown",
   "id": "600d81ca",
   "metadata": {},
   "source": [
    "## Ans - Raise and assert are the two user defined constraints."
   ]
  },
  {
   "cell_type": "markdown",
   "id": "2aafe0f6",
   "metadata": {},
   "source": [
    "----------"
   ]
  },
  {
   "cell_type": "markdown",
   "id": "4087d999",
   "metadata": {},
   "source": [
    "## Q2. How are class-based exceptions that have been raised matched to handlers?"
   ]
  },
  {
   "cell_type": "markdown",
   "id": "a9d02d19",
   "metadata": {},
   "source": [
    "## Ans - Users can raise exceptions in a class either directly or indirectly from a built in exception class.This can be executed by using the raise statement."
   ]
  },
  {
   "cell_type": "code",
   "execution_count": 3,
   "id": "0c97c982",
   "metadata": {},
   "outputs": [
    {
     "ename": "UnderAge",
     "evalue": "You're to young to drink",
     "output_type": "error",
     "traceback": [
      "\u001b[1;31m---------------------------------------------------------------------------\u001b[0m",
      "\u001b[1;31mUnderAge\u001b[0m                                  Traceback (most recent call last)",
      "Input \u001b[1;32mIn [3]\u001b[0m, in \u001b[0;36m<cell line: 5>\u001b[1;34m()\u001b[0m\n\u001b[0;32m      3\u001b[0m         \u001b[38;5;28mself\u001b[39m\u001b[38;5;241m.\u001b[39mmsg \u001b[38;5;241m=\u001b[39m msg\n\u001b[0;32m      4\u001b[0m age \u001b[38;5;241m=\u001b[39m \u001b[38;5;241m9\u001b[39m\n\u001b[1;32m----> 5\u001b[0m \u001b[38;5;28;01mif\u001b[39;00m age \u001b[38;5;241m<\u001b[39m\u001b[38;5;241m=\u001b[39m\u001b[38;5;241m18\u001b[39m: \u001b[38;5;28;01mraise\u001b[39;00m UnderAge(\u001b[38;5;124m\"\u001b[39m\u001b[38;5;124mYou\u001b[39m\u001b[38;5;124m'\u001b[39m\u001b[38;5;124mre to young to drink\u001b[39m\u001b[38;5;124m\"\u001b[39m)\n",
      "\u001b[1;31mUnderAge\u001b[0m: You're to young to drink"
     ]
    }
   ],
   "source": [
    "class UnderAge(Exception):\n",
    "    def __init__(self,msg):\n",
    "        self.msg = msg\n",
    "age = 9\n",
    "if age <=18: raise UnderAge(\"You're to young to drink\")         "
   ]
  },
  {
   "cell_type": "markdown",
   "id": "c5d1c338",
   "metadata": {},
   "source": [
    "--------"
   ]
  },
  {
   "cell_type": "markdown",
   "id": "e3d48d22",
   "metadata": {},
   "source": [
    "## Q3. Describe two methods for attaching context information to exception artefacts.\n",
    "\n"
   ]
  },
  {
   "cell_type": "markdown",
   "id": "5128c33a",
   "metadata": {},
   "source": [
    "## Ans - 1) you can use logging method and add contextual information. In logging you can create a file and log any error occurred.\n",
    "## 2) raise it in a class called Exception."
   ]
  },
  {
   "cell_type": "markdown",
   "id": "85bfe207",
   "metadata": {},
   "source": [
    "---------"
   ]
  },
  {
   "cell_type": "markdown",
   "id": "4d9d1507",
   "metadata": {},
   "source": [
    "## Q4. Describe two methods for specifying the text of an exception object&#39;s error message."
   ]
  },
  {
   "cell_type": "markdown",
   "id": "cd02d2fc",
   "metadata": {},
   "source": [
    "## Ans - 1) Using the raise and assert keyword you can add it to a class\n",
    "## 2) you can also use logging module and logger keyword."
   ]
  },
  {
   "cell_type": "markdown",
   "id": "46188d3e",
   "metadata": {},
   "source": [
    "-------"
   ]
  },
  {
   "cell_type": "markdown",
   "id": "fd50f2f1",
   "metadata": {},
   "source": [
    "## Q5. Why do you no longer use string-based exceptions?"
   ]
  },
  {
   "cell_type": "markdown",
   "id": "89c8eefe",
   "metadata": {},
   "source": [
    "## Ans - String based can't inherit from Exceptions. Plain ones catch everything."
   ]
  }
 ],
 "metadata": {
  "kernelspec": {
   "display_name": "Python 3 (ipykernel)",
   "language": "python",
   "name": "python3"
  },
  "language_info": {
   "codemirror_mode": {
    "name": "ipython",
    "version": 3
   },
   "file_extension": ".py",
   "mimetype": "text/x-python",
   "name": "python",
   "nbconvert_exporter": "python",
   "pygments_lexer": "ipython3",
   "version": "3.9.12"
  }
 },
 "nbformat": 4,
 "nbformat_minor": 5
}
