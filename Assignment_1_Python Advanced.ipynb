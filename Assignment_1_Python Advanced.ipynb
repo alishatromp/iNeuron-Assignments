{
 "cells": [
  {
   "cell_type": "markdown",
   "id": "cc155a13",
   "metadata": {},
   "source": [
    "## Q1. What is the purpose of Python&#39;s OOP?\n",
    "\n"
   ]
  },
  {
   "cell_type": "markdown",
   "id": "6790c531",
   "metadata": {},
   "source": [
    "## Ans - OOP or object oriented programming helps us create objects and classes where we can re-use the code."
   ]
  },
  {
   "cell_type": "markdown",
   "id": "2675354f",
   "metadata": {},
   "source": [
    "-----"
   ]
  },
  {
   "cell_type": "markdown",
   "id": "cac4af84",
   "metadata": {},
   "source": [
    "## Q2. Where does an inheritance search look for an attribute?\n",
    "\n"
   ]
  },
  {
   "cell_type": "markdown",
   "id": "51998dc8",
   "metadata": {},
   "source": [
    "## Ans - first in the instance object, then in the class the instance was created from, then in all higher superclasses, progressing from left to right (by default). The search stops at the first place the attribute is found."
   ]
  },
  {
   "cell_type": "markdown",
   "id": "90574c44",
   "metadata": {},
   "source": [
    "-----"
   ]
  },
  {
   "cell_type": "markdown",
   "id": "3851fe95",
   "metadata": {},
   "source": [
    "## Q3. How do you distinguish between a class object and an instance object?\n",
    "\n",
    "\n",
    "\n"
   ]
  },
  {
   "cell_type": "markdown",
   "id": "59e5abe4",
   "metadata": {},
   "source": [
    "## Ans - Everything in Python is an object such as integers, lists, dictionaries, functions and so on. \n",
    "## Every object has a type and the object types are created using classes. \n",
    "## Instance is an object that belongs to a class. For instance, list is a class in Python."
   ]
  },
  {
   "cell_type": "markdown",
   "id": "dbe65b91",
   "metadata": {},
   "source": [
    "-------"
   ]
  },
  {
   "cell_type": "markdown",
   "id": "4f04f4ac",
   "metadata": {},
   "source": [
    "## Q4. What makes the first argument in a class’s method function special?\n",
    "\n"
   ]
  },
  {
   "cell_type": "markdown",
   "id": "cefe15d8",
   "metadata": {},
   "source": [
    "## Ans - The first parameter of a function in class must be the object itself."
   ]
  },
  {
   "cell_type": "markdown",
   "id": "a271c479",
   "metadata": {},
   "source": [
    "------"
   ]
  },
  {
   "cell_type": "markdown",
   "id": "cd7cff1e",
   "metadata": {},
   "source": [
    "## Q5. What is the purpose of the __init__ method?"
   ]
  },
  {
   "cell_type": "markdown",
   "id": "3238ce95",
   "metadata": {},
   "source": [
    "## Ans - It initializes the objects attributes."
   ]
  },
  {
   "cell_type": "markdown",
   "id": "52f0eb6f",
   "metadata": {},
   "source": [
    "----"
   ]
  },
  {
   "cell_type": "markdown",
   "id": "16ae7327",
   "metadata": {},
   "source": [
    "## Q6. What is the process for creating a class instance?\n"
   ]
  },
  {
   "cell_type": "markdown",
   "id": "a36520ac",
   "metadata": {},
   "source": [
    "## Ans - To create instances of a class, you call the class using class name and pass in whatever arguments its __init__ method accepts."
   ]
  },
  {
   "cell_type": "markdown",
   "id": "357aad0e",
   "metadata": {},
   "source": [
    "-------"
   ]
  },
  {
   "cell_type": "markdown",
   "id": "a171ecbe",
   "metadata": {},
   "source": [
    "## Q7. What is the process for creating a class?\n"
   ]
  },
  {
   "cell_type": "markdown",
   "id": "807d8408",
   "metadata": {},
   "source": [
    "## Ans - Classes are created using class keyword.\n",
    "## A colon (:) is used after the class name.\n",
    "## The class is made up of attributes (data) and methods (functions)"
   ]
  },
  {
   "cell_type": "markdown",
   "id": "114aaa02",
   "metadata": {},
   "source": [
    "---------"
   ]
  },
  {
   "cell_type": "markdown",
   "id": "45b71afd",
   "metadata": {},
   "source": [
    "## Q8. How would you define the superclasses of a class?"
   ]
  },
  {
   "cell_type": "markdown",
   "id": "4919e8ba",
   "metadata": {},
   "source": [
    "## Ans - A superclass is the class from which many subclasses can be created. The subclasses inherit the characteristics of a superclass. The superclass is also known as the parent class or base class."
   ]
  }
 ],
 "metadata": {
  "kernelspec": {
   "display_name": "Python 3 (ipykernel)",
   "language": "python",
   "name": "python3"
  },
  "language_info": {
   "codemirror_mode": {
    "name": "ipython",
    "version": 3
   },
   "file_extension": ".py",
   "mimetype": "text/x-python",
   "name": "python",
   "nbconvert_exporter": "python",
   "pygments_lexer": "ipython3",
   "version": "3.9.12"
  }
 },
 "nbformat": 4,
 "nbformat_minor": 5
}
