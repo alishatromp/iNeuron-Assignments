{
 "cells": [
  {
   "cell_type": "markdown",
   "id": "3069bdc7",
   "metadata": {},
   "source": [
    "## Q1. What is the relationship between classes and modules?\n",
    "\n"
   ]
  },
  {
   "cell_type": "markdown",
   "id": "796b75f0",
   "metadata": {},
   "source": [
    "## Ans - Modules are files present inside a package, whereas a class is used to encapsulate data and functions together inside the same unit. \n",
    "\n",
    "## Classes support inheritance, metaclasses, and descriptors. Modules can't do any of this, modules are essentially singleton instances of an internal module class, and all their globals are attributes on the module instance"
   ]
  },
  {
   "cell_type": "markdown",
   "id": "f679dac1",
   "metadata": {},
   "source": [
    "---------"
   ]
  },
  {
   "cell_type": "markdown",
   "id": "6f3f57ec",
   "metadata": {},
   "source": [
    "## Q2. How do you make instances and classes?"
   ]
  },
  {
   "cell_type": "markdown",
   "id": "60a19ef0",
   "metadata": {},
   "source": [
    "## Ans - To create instances of a class, you call the class using class name and pass in whatever arguments its __init__ method accepts.\n",
    "\n",
    "## To create a class use the keyword class and define methods or functions within it."
   ]
  },
  {
   "cell_type": "markdown",
   "id": "efd1d769",
   "metadata": {},
   "source": [
    "--------"
   ]
  },
  {
   "cell_type": "markdown",
   "id": "2bfe8e5e",
   "metadata": {},
   "source": [
    "## Q3. Where and how should be class attributes created?"
   ]
  },
  {
   "cell_type": "markdown",
   "id": "5ca24858",
   "metadata": {},
   "source": [
    "## Ans - Class attributes are the variables defined directly in the class that are shared by all objects of the class. Instance attributes are attributes or properties attached to an instance of a class."
   ]
  },
  {
   "cell_type": "markdown",
   "id": "97aaa325",
   "metadata": {},
   "source": [
    "------"
   ]
  },
  {
   "cell_type": "markdown",
   "id": "52a592ff",
   "metadata": {},
   "source": [
    "## Q4. Where and how are instance attributes created?\n"
   ]
  },
  {
   "cell_type": "markdown",
   "id": "1796fc21",
   "metadata": {},
   "source": [
    "## Ans -  Instance attributes are defined in the constructor. They are defined using the self parameter and shared across all objects."
   ]
  },
  {
   "cell_type": "markdown",
   "id": "d4be55d2",
   "metadata": {},
   "source": [
    "-------"
   ]
  },
  {
   "cell_type": "markdown",
   "id": "d8d88ea5",
   "metadata": {},
   "source": [
    "## Q5. What does the term &quot;self&quot; in a Python class mean?"
   ]
  },
  {
   "cell_type": "markdown",
   "id": "bb926fc4",
   "metadata": {},
   "source": [
    "## Ans - The self keyword is used to represent an instance (object) of the given class.This handy keyword allows you to access variables, attributes, and methods of a defined class in Python."
   ]
  },
  {
   "cell_type": "markdown",
   "id": "d21b68a8",
   "metadata": {},
   "source": [
    "------"
   ]
  },
  {
   "cell_type": "markdown",
   "id": "c5298fd6",
   "metadata": {},
   "source": [
    "## Q6. How does a Python class handle operator overloading?"
   ]
  },
  {
   "cell_type": "markdown",
   "id": "d1f9927d",
   "metadata": {},
   "source": [
    "## Ans - Python provides some special function or magic function that is automatically invoked when it is associated with that particular operator. For example, when we use + operator, the magic method __add__ is automatically invoked in which the operation for + operator is defined."
   ]
  },
  {
   "cell_type": "markdown",
   "id": "512b8314",
   "metadata": {},
   "source": [
    "------"
   ]
  },
  {
   "cell_type": "markdown",
   "id": "e9960c3f",
   "metadata": {},
   "source": [
    "## Q7. When do you consider allowing operator overloading of your classes?\n"
   ]
  },
  {
   "cell_type": "markdown",
   "id": "0e74cb42",
   "metadata": {},
   "source": [
    "## Ans - It allows us to provide an intuitive interface to our class users, plus makes it possible for templates to work equally well with classes and built-in types."
   ]
  },
  {
   "cell_type": "markdown",
   "id": "eb3840bd",
   "metadata": {},
   "source": [
    "-----"
   ]
  },
  {
   "cell_type": "markdown",
   "id": "c9231100",
   "metadata": {},
   "source": [
    "## Q8. What is the most popular form of operator overloading?"
   ]
  },
  {
   "cell_type": "markdown",
   "id": "5146400a",
   "metadata": {},
   "source": [
    "## Ans - The most frequent instance is the adding up operator '+', where it can be used for the usual addition and also for combining two different strings."
   ]
  },
  {
   "cell_type": "markdown",
   "id": "e44c6f65",
   "metadata": {},
   "source": [
    "--------"
   ]
  },
  {
   "cell_type": "markdown",
   "id": "c8d7d86c",
   "metadata": {},
   "source": [
    "## Q9. What are the two most important concepts to grasp in order to comprehend Python OOP code?"
   ]
  },
  {
   "cell_type": "markdown",
   "id": "53eb64a0",
   "metadata": {},
   "source": [
    "## Ans - Inheritance and Polymorphism"
   ]
  }
 ],
 "metadata": {
  "kernelspec": {
   "display_name": "Python 3 (ipykernel)",
   "language": "python",
   "name": "python3"
  },
  "language_info": {
   "codemirror_mode": {
    "name": "ipython",
    "version": 3
   },
   "file_extension": ".py",
   "mimetype": "text/x-python",
   "name": "python",
   "nbconvert_exporter": "python",
   "pygments_lexer": "ipython3",
   "version": "3.9.12"
  }
 },
 "nbformat": 4,
 "nbformat_minor": 5
}
