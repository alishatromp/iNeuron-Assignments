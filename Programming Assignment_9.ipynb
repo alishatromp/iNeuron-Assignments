{
 "cells": [
  {
   "cell_type": "markdown",
   "id": "eb43512c",
   "metadata": {},
   "source": [
    "## 1. Write a Python program to check if the given number is a Disarium Number?"
   ]
  },
  {
   "cell_type": "code",
   "execution_count": 1,
   "id": "7b08a95d",
   "metadata": {},
   "outputs": [
    {
     "name": "stdout",
     "output_type": "stream",
     "text": [
      "enter a number: 135\n",
      "135 is a Disarium number\n"
     ]
    }
   ],
   "source": [
    "n = int(input(\"enter a number: \"))\n",
    "temp = n\n",
    "x=n\n",
    "count = 0\n",
    "while temp>0:\n",
    "    temp=temp//10\n",
    "    count=count+1\n",
    "#print (\"count is\", count)\n",
    "\n",
    "summ=0\n",
    "while x>0:\n",
    "    rem=x%10\n",
    "    summ=summ+rem**count\n",
    "    x=x//10\n",
    "    count=count-1\n",
    "if summ==n:\n",
    "    print (f\"{n} is a Disarium number\")\n",
    "else:\n",
    "    print (f\"{n} is not a Disarium number\")"
   ]
  },
  {
   "cell_type": "markdown",
   "id": "a038f191",
   "metadata": {},
   "source": [
    "---------"
   ]
  },
  {
   "cell_type": "markdown",
   "id": "6c7fedbb",
   "metadata": {},
   "source": [
    "## 2. Write a Python program to print all disarium numbers between 1 to 100?\n"
   ]
  },
  {
   "cell_type": "code",
   "execution_count": 2,
   "id": "b66ad273",
   "metadata": {},
   "outputs": [
    {
     "name": "stdout",
     "output_type": "stream",
     "text": [
      "1\n",
      "2\n",
      "3\n",
      "4\n",
      "5\n",
      "6\n",
      "7\n",
      "8\n",
      "9\n",
      "89\n"
     ]
    }
   ],
   "source": [
    "for n in range (1,100):\n",
    "    temp = n\n",
    "    x=n\n",
    "    count = 0\n",
    "    while temp>0:\n",
    "        temp=temp//10\n",
    "        count=count+1\n",
    "#print (\"count is\", count)\n",
    "    summ=0\n",
    "    while x>0:\n",
    "        rem=x%10\n",
    "        summ=summ+rem**count\n",
    "        x=x//10\n",
    "        count=count-1\n",
    "    if summ==n:\n",
    "        print (n)"
   ]
  },
  {
   "cell_type": "markdown",
   "id": "edcc25f5",
   "metadata": {},
   "source": [
    "-----------"
   ]
  },
  {
   "cell_type": "markdown",
   "id": "eea9cdbb",
   "metadata": {},
   "source": [
    "## 3. Write a Python program to check if the given number is Happy Number?\n"
   ]
  },
  {
   "cell_type": "markdown",
   "id": "e7e65e01",
   "metadata": {},
   "source": [
    "#### Recursively finding sum of square of individual digits until sum becomes single digit and if the final single digit sum ==1 then we call it happy number"
   ]
  },
  {
   "cell_type": "code",
   "execution_count": 22,
   "id": "0252e682",
   "metadata": {},
   "outputs": [
    {
     "name": "stdout",
     "output_type": "stream",
     "text": [
      "Enter a number: 7\n",
      "7 is not a Happy number\n"
     ]
    }
   ],
   "source": [
    "n= int(input(\"Enter a number: \"))\n",
    "x = n\n",
    "while x>=10:\n",
    "    sum = 0\n",
    "    while x>10:\n",
    "        r=x%10\n",
    "        sum = sum+(r**2)\n",
    "        x=x//10\n",
    "        #print (sum)\n",
    "    x=sum\n",
    "if x==1:\n",
    "    print(n, \"is a Happy number\")\n",
    "else:\n",
    "    print(n,\"is not a Happy number\")"
   ]
  },
  {
   "cell_type": "markdown",
   "id": "09b5bf98",
   "metadata": {},
   "source": [
    "-----------"
   ]
  },
  {
   "cell_type": "markdown",
   "id": "e74cd693",
   "metadata": {},
   "source": [
    "## 4. Write a Python program to print all happy numbers between 1 and 100?\n"
   ]
  },
  {
   "cell_type": "code",
   "execution_count": 23,
   "id": "30a10d46",
   "metadata": {},
   "outputs": [
    {
     "name": "stdout",
     "output_type": "stream",
     "text": [
      "List of happy numbers between 1 and 100: \n",
      "1\n",
      "7\n",
      "10\n",
      "13\n",
      "19\n",
      "23\n",
      "28\n",
      "31\n",
      "32\n",
      "44\n",
      "49\n",
      "68\n",
      "70\n",
      "79\n",
      "82\n",
      "86\n",
      "91\n",
      "94\n",
      "97\n",
      "100\n"
     ]
    }
   ],
   "source": [
    "def isHappyNumber(num):    \n",
    "    rem =0\n",
    "    sum = 0 \n",
    "        \n",
    "    #Calculates the sum of squares of digits    \n",
    "    while(num > 0):    \n",
    "        rem = num%10;    \n",
    "        sum = sum + (rem**2);   \n",
    "        #print (sum,\"Sum\")\n",
    "        num = num//10;    \n",
    "    return sum;    \n",
    "print(\"List of happy numbers between 1 and 100: \");    \n",
    "for i in range(1, 101):    \n",
    "    result = i;       \n",
    "    while(result != 1 and result != 4):    \n",
    "        result = isHappyNumber(result);\n",
    "        \n",
    "    if(result == 1):    \n",
    "        print(i)"
   ]
  },
  {
   "cell_type": "markdown",
   "id": "3ce08b82",
   "metadata": {},
   "source": [
    "-----"
   ]
  },
  {
   "cell_type": "markdown",
   "id": "38b0398c",
   "metadata": {},
   "source": [
    "## 5. Write a Python program to determine whether the given number is a Harshad Number?\n"
   ]
  },
  {
   "cell_type": "markdown",
   "id": "5743e839",
   "metadata": {},
   "source": [
    "#### Harshad number is number divisible by its sum of individual digits"
   ]
  },
  {
   "cell_type": "code",
   "execution_count": 5,
   "id": "135c5400",
   "metadata": {},
   "outputs": [
    {
     "name": "stdout",
     "output_type": "stream",
     "text": [
      "enter a number: 12\n",
      "12 is a Harshad number\n"
     ]
    }
   ],
   "source": [
    "n = int(input(\"enter a number: \"))\n",
    "x=n\n",
    "sum=0\n",
    "\n",
    "while x>0:\n",
    "    r = x%10\n",
    "    sum=sum+r\n",
    "    x=x//10\n",
    "if n%sum==0:\n",
    "    print(n, \"is a Harshad number\")\n",
    "else:\n",
    "    print(n,\"is not a Harshad number\")"
   ]
  },
  {
   "cell_type": "markdown",
   "id": "1f3a685a",
   "metadata": {},
   "source": [
    "---------"
   ]
  },
  {
   "cell_type": "markdown",
   "id": "5e567aa5",
   "metadata": {},
   "source": [
    "## 6. Write a Python program to print all pronic numbers between 1 and 100"
   ]
  },
  {
   "cell_type": "markdown",
   "id": "babf0078",
   "metadata": {},
   "source": [
    "#### Pronic numbers are numbers of the product of two consecutive numbers\n",
    "#### for e.g 6=3*2"
   ]
  },
  {
   "cell_type": "code",
   "execution_count": 12,
   "id": "99a2edc3",
   "metadata": {},
   "outputs": [
    {
     "name": "stdout",
     "output_type": "stream",
     "text": [
      "2\n",
      "6\n",
      "12\n",
      "20\n",
      "30\n",
      "42\n",
      "56\n",
      "72\n",
      "90\n"
     ]
    }
   ],
   "source": [
    "for i in range (1,100):\n",
    "    n=i\n",
    "    flag = 0\n",
    "    for j in range (1,n+1):\n",
    "        if (j*(j+1)==n):\n",
    "            flag=1\n",
    "            break\n",
    "    if flag==1:\n",
    "        print(n)\n",
    "    #else:\n",
    "        #print(n,\"is not a pronic number\")"
   ]
  }
 ],
 "metadata": {
  "kernelspec": {
   "display_name": "Python 3 (ipykernel)",
   "language": "python",
   "name": "python3"
  },
  "language_info": {
   "codemirror_mode": {
    "name": "ipython",
    "version": 3
   },
   "file_extension": ".py",
   "mimetype": "text/x-python",
   "name": "python",
   "nbconvert_exporter": "python",
   "pygments_lexer": "ipython3",
   "version": "3.9.12"
  }
 },
 "nbformat": 4,
 "nbformat_minor": 5
}
