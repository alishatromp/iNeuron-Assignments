{
 "cells": [
  {
   "cell_type": "markdown",
   "id": "2b413e75",
   "metadata": {},
   "source": [
    "## 1. To what does a relative path refer?\n",
    "\n",
    "## Ans - Gives the path to the location of a file you want to manipulate."
   ]
  },
  {
   "cell_type": "markdown",
   "id": "08d8c338",
   "metadata": {},
   "source": [
    "-----------------"
   ]
  },
  {
   "cell_type": "markdown",
   "id": "c50d64e0",
   "metadata": {},
   "source": [
    "## 2. What does an absolute path start with your operating system?"
   ]
  },
  {
   "cell_type": "markdown",
   "id": "e3852056",
   "metadata": {},
   "source": [
    "## Ans - An absolute path always begins from the absolute start of your hard drive and describes every step you must take through the filesystem to end up at the target location"
   ]
  },
  {
   "cell_type": "markdown",
   "id": "0a6300b5",
   "metadata": {},
   "source": [
    "---------------"
   ]
  },
  {
   "cell_type": "markdown",
   "id": "9e1b4a9b",
   "metadata": {},
   "source": [
    "## 3. What do the functions os.getcwd() and os.chdir() do?"
   ]
  },
  {
   "cell_type": "markdown",
   "id": "af8f61c7",
   "metadata": {},
   "source": [
    "## Ans - os.getcwd() fetches the current working directory.\n",
    "## os.chdir() - changes the current working directory to the given path."
   ]
  },
  {
   "cell_type": "code",
   "execution_count": 5,
   "id": "06e3b875",
   "metadata": {},
   "outputs": [
    {
     "data": {
      "text/plain": [
       "'C:\\\\Users\\\\61421\\\\Assignments'"
      ]
     },
     "execution_count": 5,
     "metadata": {},
     "output_type": "execute_result"
    }
   ],
   "source": [
    "import os\n",
    "os.getcwd()"
   ]
  },
  {
   "cell_type": "code",
   "execution_count": 8,
   "id": "05596f96",
   "metadata": {},
   "outputs": [
    {
     "data": {
      "text/plain": [
       "'C:\\\\Users\\\\61421\\\\Sudhanshu'"
      ]
     },
     "execution_count": 8,
     "metadata": {},
     "output_type": "execute_result"
    }
   ],
   "source": [
    "path = 'C:\\\\Users\\\\61421\\\\Sudhanshu'\n",
    "os.chdir(path)\n",
    "os.getcwd()"
   ]
  },
  {
   "cell_type": "markdown",
   "id": "dfd84c55",
   "metadata": {},
   "source": [
    "----------------"
   ]
  },
  {
   "cell_type": "markdown",
   "id": "288abbaa",
   "metadata": {},
   "source": [
    "## 4. What are the . and .. folders?\n",
    "\n"
   ]
  },
  {
   "cell_type": "markdown",
   "id": "4757805e",
   "metadata": {},
   "source": [
    "## Ans - \n",
    "## - \".\" - current directory\n",
    "## - \"..\" - go to next level up."
   ]
  },
  {
   "cell_type": "markdown",
   "id": "b10fa8cf",
   "metadata": {},
   "source": [
    "--------"
   ]
  },
  {
   "cell_type": "markdown",
   "id": "844f44a3",
   "metadata": {},
   "source": [
    "## 5. In C:\\bacon\\eggs\\spam.txt, which part is the dir name, and which part is the base name?\n"
   ]
  },
  {
   "cell_type": "markdown",
   "id": "85b9552e",
   "metadata": {},
   "source": [
    "## Ans -\n",
    "\n",
    "## Directory is C:\\bacon\\eggs\n",
    "\n",
    "## base name is spam.txt"
   ]
  },
  {
   "cell_type": "markdown",
   "id": "e3328975",
   "metadata": {},
   "source": [
    "------------"
   ]
  },
  {
   "cell_type": "markdown",
   "id": "ff2ff059",
   "metadata": {},
   "source": [
    "## 6. What are the three “mode” arguments that can be passed to the open() function?\n"
   ]
  },
  {
   "cell_type": "markdown",
   "id": "b9c470f1",
   "metadata": {},
   "source": [
    "## Ans - r (read), w(write) and a(append) modes."
   ]
  },
  {
   "cell_type": "markdown",
   "id": "4f2c168d",
   "metadata": {},
   "source": [
    "-------------"
   ]
  },
  {
   "cell_type": "markdown",
   "id": "662eb2b2",
   "metadata": {},
   "source": [
    "## 7. What happens if an existing file is opened in write mode?\n"
   ]
  },
  {
   "cell_type": "markdown",
   "id": "40f30855",
   "metadata": {},
   "source": [
    "## Ans - If a file is opened in \"w\" or \"w+\" mode does not exist then a new file is created with the same name in the present working directory."
   ]
  },
  {
   "cell_type": "markdown",
   "id": "7da1c445",
   "metadata": {},
   "source": [
    "--------------"
   ]
  },
  {
   "cell_type": "markdown",
   "id": "56b84c62",
   "metadata": {},
   "source": [
    "## 8. How do you tell the difference between read() and readlines()?\n"
   ]
  },
  {
   "cell_type": "markdown",
   "id": "30017a82",
   "metadata": {},
   "source": [
    "## Ans - \n",
    "## read() - will read full file.\n",
    "## readlines() - will read file up to lines specified."
   ]
  },
  {
   "cell_type": "markdown",
   "id": "509c6ed7",
   "metadata": {},
   "source": [
    "---------------"
   ]
  },
  {
   "cell_type": "markdown",
   "id": "1462437c",
   "metadata": {},
   "source": [
    "## 9. What data structure does a shelf value resemble?"
   ]
  },
  {
   "cell_type": "markdown",
   "id": "ac55b023",
   "metadata": {},
   "source": [
    "## Ans - dictionary with keys and values."
   ]
  }
 ],
 "metadata": {
  "kernelspec": {
   "display_name": "Python 3 (ipykernel)",
   "language": "python",
   "name": "python3"
  },
  "language_info": {
   "codemirror_mode": {
    "name": "ipython",
    "version": 3
   },
   "file_extension": ".py",
   "mimetype": "text/x-python",
   "name": "python",
   "nbconvert_exporter": "python",
   "pygments_lexer": "ipython3",
   "version": "3.9.12"
  }
 },
 "nbformat": 4,
 "nbformat_minor": 5
}
