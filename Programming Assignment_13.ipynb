{
 "cells": [
  {
   "cell_type": "raw",
   "id": "c908cc06",
   "metadata": {},
   "source": [
    "Question 1:\n",
    "Write a program that calculates and prints the value according to the given formula:\n",
    "Q = Square root of [(2 * C * D)/H]\n",
    "Following are the fixed values of C and H:\n",
    "C is 50. H is 30.\n",
    "D is the variable whose values should be input to your program in a comma-separated\n",
    "sequence.\n",
    "Example\n",
    "Let us assume the following comma separated input sequence is given to the program:\n",
    "100,150,180\n",
    "The output of the program should be:\n",
    "18,22,24"
   ]
  },
  {
   "cell_type": "code",
   "execution_count": 1,
   "id": "fdf8a94c",
   "metadata": {},
   "outputs": [
    {
     "name": "stdout",
     "output_type": "stream",
     "text": [
      "Enter your numbers: 100,150,180\n",
      "[18, 22, 24]\n"
     ]
    }
   ],
   "source": [
    "import math\n",
    "\n",
    "numbers = input(\"Enter your numbers: \")\n",
    "numbers = numbers.split(\",\")\n",
    "#print(numbers)\n",
    "\n",
    "results = []\n",
    "for i in numbers:\n",
    "    #print(i)\n",
    "    Q = round(math.sqrt(2 *50* int(i)/30))\n",
    "    results.append(Q)\n",
    "print(results)"
   ]
  },
  {
   "cell_type": "markdown",
   "id": "37e0f761",
   "metadata": {},
   "source": [
    "---------"
   ]
  },
  {
   "cell_type": "raw",
   "id": "8054e651",
   "metadata": {},
   "source": [
    "Question 2:\n",
    "Write a program which takes 2 digits, X,Y as input and generates a 2-dimensional array. The\n",
    "element value in the i-th row and j-th column of the array should be i*j.\n",
    "Note: i=0,1.., X-1; j=0,1,¡Y-1.\n",
    "Example\n",
    "Suppose the following inputs are given to the program:\n",
    "3,5\n",
    "Then, the output of the program should be:\n",
    "[[0, 0, 0, 0, 0], [0, 1, 2, 3, 4], [0, 2, 4, 6, 8]]"
   ]
  },
  {
   "cell_type": "code",
   "execution_count": 2,
   "id": "d3ba5faf",
   "metadata": {},
   "outputs": [
    {
     "name": "stdout",
     "output_type": "stream",
     "text": [
      "Enter X: 3\n",
      "Enter Y: 5\n",
      "[[0, 0, 0, 0, 0], [0, 1, 2, 3, 4], [0, 2, 4, 6, 8]]\n"
     ]
    }
   ],
   "source": [
    "X = int(input(\"Enter X: \"))\n",
    "Y = int(input(\"Enter Y: \"))\n",
    "\n",
    "array = [[(i*j) for i in range (Y)] for j in range (X)]\n",
    "print (array)"
   ]
  },
  {
   "cell_type": "markdown",
   "id": "dd64981c",
   "metadata": {},
   "source": [
    "--------"
   ]
  },
  {
   "cell_type": "raw",
   "id": "3816c622",
   "metadata": {},
   "source": [
    "Question 3:\n",
    "Write a program that accepts a comma separated sequence of words as input and prints the\n",
    "words in a comma-separated sequence after sorting them alphabetically.\n",
    "Suppose the following input is supplied to the program:\n",
    "without,hello,bag,world\n",
    "Then, the output should be:\n",
    "bag,hello,without,world"
   ]
  },
  {
   "cell_type": "code",
   "execution_count": 3,
   "id": "90b9fe02",
   "metadata": {},
   "outputs": [
    {
     "name": "stdout",
     "output_type": "stream",
     "text": [
      "Enter words: without,hello,bag,world\n",
      "['bag', 'hello', 'without', 'world']\n"
     ]
    }
   ],
   "source": [
    "words = input(\"Enter words: \")\n",
    "sorted_words = []\n",
    "words = [words.lower() for words in words.split(\",\")]\n",
    "words.sort()\n",
    "for word in words:\n",
    "    sorted_words.append(word)\n",
    "print(sorted_words)"
   ]
  },
  {
   "cell_type": "markdown",
   "id": "11cd9073",
   "metadata": {},
   "source": [
    "------"
   ]
  },
  {
   "cell_type": "raw",
   "id": "ff39101b",
   "metadata": {},
   "source": [
    "Question 4:\n",
    "Write a program that accepts a sequence of whitespace separated words as input and prints\n",
    "the words after removing all duplicate words and sorting them alphanumerically.\n",
    "Suppose the following input is supplied to the program:\n",
    "hello world and practice makes perfect and hello world again\n",
    "Then, the output should be:\n",
    "again and hello makes perfect practice world"
   ]
  },
  {
   "cell_type": "code",
   "execution_count": 4,
   "id": "3027cd83",
   "metadata": {},
   "outputs": [
    {
     "name": "stdout",
     "output_type": "stream",
     "text": [
      "Enter sentence: hello world and practice makes perfect and hello world again\n",
      "['again', 'and', 'hello', 'makes', 'perfect', 'practice', 'world']\n"
     ]
    }
   ],
   "source": [
    "my_str = input(\"Enter sentence: \")\n",
    "words = [word.lower() for word in my_str.split()]\n",
    "words = set(words)\n",
    "words = list(words)\n",
    "x = []\n",
    "#print(words)\n",
    "words.sort()\n",
    "for word in words:\n",
    "    x.append(word)\n",
    "print(x)"
   ]
  },
  {
   "cell_type": "markdown",
   "id": "1438d02b",
   "metadata": {},
   "source": [
    "--------"
   ]
  },
  {
   "cell_type": "raw",
   "id": "488ec93c",
   "metadata": {},
   "source": [
    "Question 5:\n",
    "Write a program that accepts a sentence and calculate the number of letters and digits.\n",
    "Suppose the following input is supplied to the program:\n",
    "hello world! 123\n",
    "Then, the output should be:\n",
    "LETTERS 10\n",
    "\n",
    "DIGITS 3"
   ]
  },
  {
   "cell_type": "code",
   "execution_count": 5,
   "id": "587f562e",
   "metadata": {},
   "outputs": [
    {
     "name": "stdout",
     "output_type": "stream",
     "text": [
      "Enter sentence: hello world! 123\n",
      "Letters 10 and Digits 3\n"
     ]
    }
   ],
   "source": [
    "sentence = (input(\"Enter sentence: \"))\n",
    "sentence = sentence.lower()\n",
    "sentence = list(sentence)\n",
    "alph = ['a','b','c','d','e','f','g','h','i','j','k','l','m','n','o','p','q','r','s','t','u','v','w','x','y','z']\n",
    "num = ['0','1','2','3','4','5','6','7','8','9']\n",
    "l = 0\n",
    "d = 0\n",
    "for i in sentence:\n",
    "    if i in alph:\n",
    "        l +=1\n",
    "for i in sentence:\n",
    "    if i in num:\n",
    "        d +=1\n",
    "    else:\n",
    "        continue\n",
    "print (\"Letters\",l, \"and Digits\", d)"
   ]
  },
  {
   "cell_type": "markdown",
   "id": "6da2b140",
   "metadata": {},
   "source": [
    "--------"
   ]
  },
  {
   "cell_type": "code",
   "execution_count": null,
   "id": "cc2b79d5",
   "metadata": {},
   "outputs": [],
   "source": [
    "Question 6:\n",
    "A website requires the users to input username and password to register. Write a program to\n",
    "check the validity of password input by users.\n",
    "Following are the criteria for checking the password:\n",
    "1. At least 1 letter between [a-z]\n",
    "2. At least 1 number between [0-9]\n",
    "1. At least 1 letter between [A-Z]\n",
    "3. At least 1 character from [$#@]\n",
    "4. Minimum length of transaction password: 6\n",
    "5. Maximum length of transaction password: 12\n",
    "Your program should accept a sequence of comma separated passwords and will check them\n",
    "according to the above criteria. Passwords that match the criteria are to be printed, each\n",
    "separated by a comma.\n",
    "Example\n",
    "If the following passwords are given as input to the program:\n",
    "ABd1234@1,a F1#,2w3E*,2We3345\n",
    "Then, the output of the program should be:\n",
    "ABd1234@1"
   ]
  },
  {
   "cell_type": "code",
   "execution_count": 6,
   "id": "923ca8eb",
   "metadata": {},
   "outputs": [
    {
     "name": "stdout",
     "output_type": "stream",
     "text": [
      "Input your passwords seperated by , ABd1234@1,a F1#,2w3E*,2We3345\n",
      "['ABd1234@1']\n"
     ]
    }
   ],
   "source": [
    "import re\n",
    "p = input(\"Input your passwords seperated by , \")\n",
    "p = p.split(\",\")\n",
    "pwd = []\n",
    "\n",
    "for i in p:\n",
    "    x = True\n",
    "    while x:  \n",
    "        if 6<len(i)>12:\n",
    "            break\n",
    "        elif not re.search(\"[a-z]\",i):\n",
    "            break\n",
    "        elif not re.search(\"[0-9]\",i):\n",
    "            break\n",
    "        elif not re.search(\"[A-Z]\",i):\n",
    "            break\n",
    "        elif not re.search(\"[$#@]\",i):\n",
    "            break\n",
    "        elif re.search(\"\\s\",i):\n",
    "            break\n",
    "        else:\n",
    "            pwd.append(i)\n",
    "            print(pwd)\n",
    "            x=False\n",
    "            break"
   ]
  }
 ],
 "metadata": {
  "kernelspec": {
   "display_name": "Python 3 (ipykernel)",
   "language": "python",
   "name": "python3"
  },
  "language_info": {
   "codemirror_mode": {
    "name": "ipython",
    "version": 3
   },
   "file_extension": ".py",
   "mimetype": "text/x-python",
   "name": "python",
   "nbconvert_exporter": "python",
   "pygments_lexer": "ipython3",
   "version": "3.9.12"
  }
 },
 "nbformat": 4,
 "nbformat_minor": 5
}
