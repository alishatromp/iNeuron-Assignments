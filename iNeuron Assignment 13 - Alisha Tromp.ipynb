{
 "cells": [
  {
   "cell_type": "markdown",
   "id": "d34ec5f9",
   "metadata": {},
   "source": [
    "## 1. What advantages do Excel spreadsheets have over CSV spreadsheets?\n"
   ]
  },
  {
   "cell_type": "markdown",
   "id": "970c4dd5",
   "metadata": {},
   "source": [
    "## Advantages of Excel -\n",
    "### - CSV allows to move basic data only. Excel allows operations on data. CSV has no distinction between text and numeric values. Excel does. "
   ]
  },
  {
   "cell_type": "markdown",
   "id": "17f5abf1",
   "metadata": {},
   "source": [
    "--------"
   ]
  },
  {
   "cell_type": "markdown",
   "id": "0861a6de",
   "metadata": {},
   "source": [
    "## 2. What do you pass to csv.reader() and csv.writer() to create reader and writer objects?"
   ]
  },
  {
   "cell_type": "markdown",
   "id": "ec9f6f3d",
   "metadata": {},
   "source": [
    "## Ans - pass \"r\" in csv.reader() and pass \"w\" in csv.writer()"
   ]
  },
  {
   "cell_type": "markdown",
   "id": "9047b16f",
   "metadata": {},
   "source": [
    "-------------"
   ]
  },
  {
   "cell_type": "markdown",
   "id": "1c67c800",
   "metadata": {},
   "source": [
    "## 3. What modes do File objects for reader and writer objects need to be opened in?"
   ]
  },
  {
   "cell_type": "markdown",
   "id": "c8471681",
   "metadata": {},
   "source": [
    "## w+"
   ]
  },
  {
   "cell_type": "markdown",
   "id": "1ad378bb",
   "metadata": {},
   "source": [
    "-----------"
   ]
  },
  {
   "cell_type": "markdown",
   "id": "9357a66f",
   "metadata": {},
   "source": [
    "## 4. What method takes a list argument and writes it to a CSV file?\n"
   ]
  },
  {
   "cell_type": "code",
   "execution_count": 13,
   "id": "02f2ec17",
   "metadata": {},
   "outputs": [
    {
     "data": {
      "text/html": [
       "<div>\n",
       "<style scoped>\n",
       "    .dataframe tbody tr th:only-of-type {\n",
       "        vertical-align: middle;\n",
       "    }\n",
       "\n",
       "    .dataframe tbody tr th {\n",
       "        vertical-align: top;\n",
       "    }\n",
       "\n",
       "    .dataframe thead th {\n",
       "        text-align: right;\n",
       "    }\n",
       "</style>\n",
       "<table border=\"1\" class=\"dataframe\">\n",
       "  <thead>\n",
       "    <tr style=\"text-align: right;\">\n",
       "      <th></th>\n",
       "      <th>Employee Name</th>\n",
       "      <th>ID</th>\n",
       "      <th>Salary</th>\n",
       "    </tr>\n",
       "  </thead>\n",
       "  <tbody>\n",
       "    <tr>\n",
       "      <th>0</th>\n",
       "      <td>XYZ</td>\n",
       "      <td>11</td>\n",
       "      <td>2000</td>\n",
       "    </tr>\n",
       "    <tr>\n",
       "      <th>1</th>\n",
       "      <td>ABC</td>\n",
       "      <td>12</td>\n",
       "      <td>8000</td>\n",
       "    </tr>\n",
       "    <tr>\n",
       "      <th>2</th>\n",
       "      <td>PQR</td>\n",
       "      <td>351</td>\n",
       "      <td>5000</td>\n",
       "    </tr>\n",
       "    <tr>\n",
       "      <th>3</th>\n",
       "      <td>EFG</td>\n",
       "      <td>146</td>\n",
       "      <td>10000</td>\n",
       "    </tr>\n",
       "  </tbody>\n",
       "</table>\n",
       "</div>"
      ],
      "text/plain": [
       "  Employee Name   ID  Salary\n",
       "0           XYZ   11    2000\n",
       "1           ABC   12    8000\n",
       "2           PQR  351    5000\n",
       "3           EFG  146   10000"
      ]
     },
     "execution_count": 13,
     "metadata": {},
     "output_type": "execute_result"
    }
   ],
   "source": [
    "# Using CSV\n",
    "import csv\n",
    "fields = ['Employee Name', 'ID', 'Salary']\n",
    "rows = [\n",
    "    ['XYZ', '011', '2000'],\n",
    "    ['ABC', '012', '8000'],\n",
    "    ['PQR', '351', '5000'],\n",
    "    ['EFG', '146', '10000']\n",
    "]\n",
    "with open('EmployeeData.csv', 'w') as f:\n",
    "    csv_writer = csv.writer(f)\n",
    "    csv_writer.writerow(fields)\n",
    "    csv_writer.writerows(rows)\n",
    "pd.read_csv('EmployeeData.csv')"
   ]
  },
  {
   "cell_type": "code",
   "execution_count": 17,
   "id": "35963327",
   "metadata": {},
   "outputs": [
    {
     "data": {
      "text/html": [
       "<div>\n",
       "<style scoped>\n",
       "    .dataframe tbody tr th:only-of-type {\n",
       "        vertical-align: middle;\n",
       "    }\n",
       "\n",
       "    .dataframe tbody tr th {\n",
       "        vertical-align: top;\n",
       "    }\n",
       "\n",
       "    .dataframe thead th {\n",
       "        text-align: right;\n",
       "    }\n",
       "</style>\n",
       "<table border=\"1\" class=\"dataframe\">\n",
       "  <thead>\n",
       "    <tr style=\"text-align: right;\">\n",
       "      <th></th>\n",
       "      <th>Unnamed: 0</th>\n",
       "      <th>Employee</th>\n",
       "      <th>ID</th>\n",
       "      <th>Salary</th>\n",
       "    </tr>\n",
       "  </thead>\n",
       "  <tbody>\n",
       "    <tr>\n",
       "      <th>0</th>\n",
       "      <td>0</td>\n",
       "      <td>XYZ</td>\n",
       "      <td>111</td>\n",
       "      <td>2000</td>\n",
       "    </tr>\n",
       "    <tr>\n",
       "      <th>1</th>\n",
       "      <td>1</td>\n",
       "      <td>ABC</td>\n",
       "      <td>112</td>\n",
       "      <td>8000</td>\n",
       "    </tr>\n",
       "    <tr>\n",
       "      <th>2</th>\n",
       "      <td>2</td>\n",
       "      <td>PQR</td>\n",
       "      <td>321</td>\n",
       "      <td>5000</td>\n",
       "    </tr>\n",
       "    <tr>\n",
       "      <th>3</th>\n",
       "      <td>3</td>\n",
       "      <td>EFG</td>\n",
       "      <td>146</td>\n",
       "      <td>10000</td>\n",
       "    </tr>\n",
       "  </tbody>\n",
       "</table>\n",
       "</div>"
      ],
      "text/plain": [
       "   Unnamed: 0 Employee   ID  Salary\n",
       "0           0      XYZ  111    2000\n",
       "1           1      ABC  112    8000\n",
       "2           2      PQR  321    5000\n",
       "3           3      EFG  146   10000"
      ]
     },
     "execution_count": 17,
     "metadata": {},
     "output_type": "execute_result"
    }
   ],
   "source": [
    "# Using Pandas\n",
    "import pandas as pd  \n",
    "emp = [\"XYZ\", \"ABC\", \"PQR\", \"EFG\"] \n",
    "id = [111, 112, 321, 146] \n",
    "sal = [2000, 8000, 5000, 10000] \n",
    "dict = {'Employee': emp, 'ID': id, 'Salary': sal}  \n",
    "df = pd.DataFrame(dict)\n",
    "df.to_csv('EmployeeDatausingPD.csv')\n",
    "pd.read_csv('EmployeeDatausingPD.csv')"
   ]
  },
  {
   "cell_type": "code",
   "execution_count": 11,
   "id": "f7b3ee11",
   "metadata": {},
   "outputs": [
    {
     "data": {
      "text/html": [
       "<div>\n",
       "<style scoped>\n",
       "    .dataframe tbody tr th:only-of-type {\n",
       "        vertical-align: middle;\n",
       "    }\n",
       "\n",
       "    .dataframe tbody tr th {\n",
       "        vertical-align: top;\n",
       "    }\n",
       "\n",
       "    .dataframe thead th {\n",
       "        text-align: right;\n",
       "    }\n",
       "</style>\n",
       "<table border=\"1\" class=\"dataframe\">\n",
       "  <thead>\n",
       "    <tr style=\"text-align: right;\">\n",
       "      <th></th>\n",
       "      <th>Employee</th>\n",
       "      <th>ID</th>\n",
       "      <th>Salary</th>\n",
       "    </tr>\n",
       "  </thead>\n",
       "  <tbody>\n",
       "    <tr>\n",
       "      <th>0</th>\n",
       "      <td>XYZ</td>\n",
       "      <td>11</td>\n",
       "      <td>2000</td>\n",
       "    </tr>\n",
       "    <tr>\n",
       "      <th>1</th>\n",
       "      <td>ABC</td>\n",
       "      <td>12</td>\n",
       "      <td>8000</td>\n",
       "    </tr>\n",
       "    <tr>\n",
       "      <th>2</th>\n",
       "      <td>PQR</td>\n",
       "      <td>351</td>\n",
       "      <td>5000</td>\n",
       "    </tr>\n",
       "    <tr>\n",
       "      <th>3</th>\n",
       "      <td>EFG</td>\n",
       "      <td>146</td>\n",
       "      <td>10000</td>\n",
       "    </tr>\n",
       "  </tbody>\n",
       "</table>\n",
       "</div>"
      ],
      "text/plain": [
       "  Employee   ID   Salary\n",
       "0      XYZ   11     2000\n",
       "1      ABC   12     8000\n",
       "2      PQR  351     5000\n",
       "3      EFG  146    10000"
      ]
     },
     "execution_count": 11,
     "metadata": {},
     "output_type": "execute_result"
    }
   ],
   "source": [
    "# Using Numpy\n",
    "import numpy as np\n",
    "rows = [['Employee', 'ID', 'Salary'],\n",
    "        ['XYZ', '011', '2000'], \n",
    "        ['ABC', '012', '8000'],\n",
    "        ['PQR', '351', '5000'],\n",
    "        ['EFG', '146', '10000']]\n",
    "np.savetxt(\"EmployeeDatausingNumpy.csv\", \n",
    "           rows,\n",
    "           delimiter =\", \",  \n",
    "           fmt ='% s')\n",
    "pd.read_csv('EmployeeDatausingNumpy.csv')"
   ]
  },
  {
   "cell_type": "markdown",
   "id": "660bfc83",
   "metadata": {},
   "source": [
    "-----------"
   ]
  },
  {
   "cell_type": "markdown",
   "id": "cb8a550d",
   "metadata": {},
   "source": [
    "# 5. What do the keyword arguments delimiter and line terminator do?\n"
   ]
  },
  {
   "cell_type": "markdown",
   "id": "990bc67b",
   "metadata": {},
   "source": [
    "## Ans - delimiter is the character that appears between cells on a row. In CSV files these are commas.\n",
    "## The line terminator is the character that comes at the end of the row."
   ]
  },
  {
   "cell_type": "markdown",
   "id": "b4ead643",
   "metadata": {},
   "source": [
    "-----------"
   ]
  },
  {
   "cell_type": "markdown",
   "id": "be57be7d",
   "metadata": {},
   "source": [
    "## 6. What function takes a string of JSON data and returns a Python data structure?\n"
   ]
  },
  {
   "cell_type": "markdown",
   "id": "18bff4e2",
   "metadata": {},
   "source": [
    "## Ans - we use jason.loads() to parse a JSON string and reutrn a Python object such as a dictionary."
   ]
  },
  {
   "cell_type": "markdown",
   "id": "a38ae036",
   "metadata": {},
   "source": [
    "---------"
   ]
  },
  {
   "cell_type": "markdown",
   "id": "aeb4d704",
   "metadata": {},
   "source": [
    "## 7. What function takes a Python data structure and returns a string of JSON data?"
   ]
  },
  {
   "cell_type": "markdown",
   "id": "371e96ab",
   "metadata": {},
   "source": [
    "## Ans - If you have a Python object, you can convert it to a JSON string by using a json.dumps() method"
   ]
  }
 ],
 "metadata": {
  "kernelspec": {
   "display_name": "Python 3 (ipykernel)",
   "language": "python",
   "name": "python3"
  },
  "language_info": {
   "codemirror_mode": {
    "name": "ipython",
    "version": 3
   },
   "file_extension": ".py",
   "mimetype": "text/x-python",
   "name": "python",
   "nbconvert_exporter": "python",
   "pygments_lexer": "ipython3",
   "version": "3.9.12"
  }
 },
 "nbformat": 4,
 "nbformat_minor": 5
}
