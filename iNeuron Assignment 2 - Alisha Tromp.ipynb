{
 "cells": [
  {
   "cell_type": "markdown",
   "id": "0532cd15",
   "metadata": {},
   "source": [
    "### 1.What are the two values of the Boolean data type? How do you write them?\n"
   ]
  },
  {
   "cell_type": "markdown",
   "id": "c01c70ac",
   "metadata": {},
   "source": [
    "### Ans - The two values of Boolean are True (1) and False (0)"
   ]
  },
  {
   "cell_type": "markdown",
   "id": "cb8025ab",
   "metadata": {},
   "source": [
    "-------------------"
   ]
  },
  {
   "cell_type": "markdown",
   "id": "35423a9c",
   "metadata": {},
   "source": [
    "### 2. What are the three different types of Boolean operators?\n"
   ]
  },
  {
   "cell_type": "markdown",
   "id": "6995d0d0",
   "metadata": {},
   "source": [
    "### Ans - AND, OR and NOT"
   ]
  },
  {
   "cell_type": "markdown",
   "id": "0b221fa8",
   "metadata": {},
   "source": [
    "--------------------------"
   ]
  },
  {
   "cell_type": "markdown",
   "id": "bbf70d44",
   "metadata": {},
   "source": [
    "### 3. Make a list of each Boolean operator&#39;s truth tables (i.e. every possible combination of Boolean values for the operator and what it evaluates ).\n"
   ]
  },
  {
   "cell_type": "markdown",
   "id": "bdefbebb",
   "metadata": {},
   "source": [
    "### Ans - \n",
    "\n",
    "### Inputs\n",
    "\n",
    "#### - a AND b\n",
    "\n",
    "- a  b      output\n",
    "- 0  0       0\n",
    "- 0  1       0\n",
    "- 1  0       0\n",
    "- 1  1       1\n",
    "\n",
    "\n",
    "#### - a OR b\n",
    "- a   b     output\n",
    "- 0   0      0\n",
    "- 0   1      1\n",
    "- 1   0      1\n",
    "- 1   1      1"
   ]
  },
  {
   "cell_type": "markdown",
   "id": "7631e80e",
   "metadata": {},
   "source": [
    "----------"
   ]
  },
  {
   "cell_type": "markdown",
   "id": "7bf693ec",
   "metadata": {},
   "source": [
    "### 4. What are the values of the following expressions?\n"
   ]
  },
  {
   "cell_type": "markdown",
   "id": "43bc773a",
   "metadata": {},
   "source": [
    "\n",
    "(5 > 4) and (3 == 5)\n",
    "- Ans = False\n",
    "\n",
    "\n",
    "not (5>4)\n",
    "- Ans = False\n",
    "\n",
    "\n",
    "(5 > 4) or (3 == 5)\n",
    "- Ans = True\n",
    "\n",
    "\n",
    "not ((5 > 4) or (3 == 5))\n",
    "- Ans = False\n",
    "\n",
    " \n",
    "(True and True) and (True == False)\n",
    "- Ans = False\n",
    "\n",
    "\n",
    "(not False) or (not True)\n",
    "- Ans = True"
   ]
  },
  {
   "cell_type": "markdown",
   "id": "cad5f510",
   "metadata": {},
   "source": [
    "----"
   ]
  },
  {
   "cell_type": "markdown",
   "id": "f1608ddc",
   "metadata": {},
   "source": [
    "### 5. What are the six comparison operators?"
   ]
  },
  {
   "cell_type": "markdown",
   "id": "756636a8",
   "metadata": {},
   "source": [
    "### Ans - \n",
    "### less than <\n",
    "### greater than >\n",
    "### less than or equal to <=\n",
    "### greater or equal to >=\n",
    "### equal to ==\n",
    "### not equal to !="
   ]
  },
  {
   "cell_type": "markdown",
   "id": "a01d359d",
   "metadata": {},
   "source": [
    "---"
   ]
  },
  {
   "cell_type": "markdown",
   "id": "70dbe381",
   "metadata": {},
   "source": [
    "### 6. How do you tell the difference between the equal to and assignment operators?Describe a condition and when you would use one."
   ]
  },
  {
   "cell_type": "markdown",
   "id": "490c7e13",
   "metadata": {},
   "source": [
    "### Ans - \n",
    "\n",
    "## we use == instead of = \n",
    "\n",
    "#### for e.g."
   ]
  },
  {
   "cell_type": "code",
   "execution_count": 1,
   "id": "48e0e855",
   "metadata": {},
   "outputs": [
    {
     "name": "stdout",
     "output_type": "stream",
     "text": [
      "variable\n"
     ]
    }
   ],
   "source": [
    "x = 'variable'\n",
    "if type(x) == str:\n",
    "    print (x)"
   ]
  },
  {
   "cell_type": "markdown",
   "id": "a43087ef",
   "metadata": {},
   "source": [
    "---"
   ]
  },
  {
   "cell_type": "markdown",
   "id": "1360da92",
   "metadata": {},
   "source": [
    "### 7. Identify the three blocks in this code:"
   ]
  },
  {
   "cell_type": "raw",
   "id": "aa9041f7",
   "metadata": {},
   "source": [
    "spam = 0\n",
    "if spam == 10:\n",
    "    print('eggs')\n",
    "if spam > 5:\n",
    "    print('bacon')\n",
    "else:\n",
    "    print('ham')\n",
    "    print('spam')\n",
    "    print('spam')"
   ]
  },
  {
   "cell_type": "markdown",
   "id": "01c95d29",
   "metadata": {},
   "source": [
    "### Ans -\n",
    "\n",
    "### The three blocks are - 2 'if' and 1 'else' block.\n",
    "### 1. if spam == 10\n",
    "### 2. if spam > 5\n",
    "### 3. else print ('ham'), ('spam'), ('spam')"
   ]
  },
  {
   "cell_type": "markdown",
   "id": "38c68e42",
   "metadata": {},
   "source": [
    "----"
   ]
  },
  {
   "cell_type": "markdown",
   "id": "40f79442",
   "metadata": {},
   "source": [
    "### 8. Write code that prints Hello if 1 is stored in spam, prints Howdy if 2 is stored in spam, and prints Greetings! if anything else is stored in spam.\n",
    "\n",
    "\n",
    "\n",
    "\n",
    "\n"
   ]
  },
  {
   "cell_type": "code",
   "execution_count": 4,
   "id": "f1697908",
   "metadata": {},
   "outputs": [
    {
     "name": "stdout",
     "output_type": "stream",
     "text": [
      "Enter a number =: 2\n",
      "Howdy\n"
     ]
    }
   ],
   "source": [
    "spam = int (input (\"Enter a number =: \"))\n",
    "\n",
    "if spam == 1:\n",
    "    print ('Hello')\n",
    "elif spam == 2:\n",
    "    print ('Howdy')\n",
    "else:\n",
    "    print ('Greetings!')"
   ]
  },
  {
   "cell_type": "markdown",
   "id": "ead568ac",
   "metadata": {},
   "source": [
    "------"
   ]
  },
  {
   "cell_type": "markdown",
   "id": "d2318221",
   "metadata": {},
   "source": [
    "### 9.If your programme is stuck in an endless loop, what keys you’ll press?"
   ]
  },
  {
   "cell_type": "markdown",
   "id": "7f2291f1",
   "metadata": {},
   "source": [
    "### Ans - You can press the stop key and restart kernel."
   ]
  },
  {
   "cell_type": "markdown",
   "id": "95c88c7d",
   "metadata": {},
   "source": [
    "----"
   ]
  },
  {
   "cell_type": "markdown",
   "id": "5dedf319",
   "metadata": {},
   "source": [
    "\n",
    "### 10. How can you tell the difference between break and continue?\n"
   ]
  },
  {
   "cell_type": "markdown",
   "id": "52b7605a",
   "metadata": {},
   "source": [
    "### Ans - \n",
    "### break will discontinue the execution of the statements and iteration of the loop. \n",
    "### continue will keep exceuting and allow control to remain inside the loop."
   ]
  },
  {
   "cell_type": "markdown",
   "id": "e268f2dd",
   "metadata": {},
   "source": [
    "---"
   ]
  },
  {
   "cell_type": "markdown",
   "id": "f055aa33",
   "metadata": {},
   "source": [
    "### 11. In a for loop, what is the difference between range(10), range(0, 10), and range(0, 10, 1)?"
   ]
  },
  {
   "cell_type": "markdown",
   "id": "0b6c35da",
   "metadata": {},
   "source": [
    "### Ans - \n",
    "\n",
    "### range (10) means range from 0,1,2,3,4,5,6,7,8,9.\n",
    "\n",
    "### range (0,10) is in format (start,stop) so will start at 0 and go from 1,2,3,4,5,6,7,8 up to 9.\n",
    "\n",
    "### range (0,10,1) is (start,stop,step) so starts again at 0, goes up to 9 with step of 1. \n",
    "\n",
    "### All three outcomes are same.\n"
   ]
  },
  {
   "cell_type": "markdown",
   "id": "ff48c28b",
   "metadata": {},
   "source": [
    "---------"
   ]
  },
  {
   "cell_type": "markdown",
   "id": "264bd86b",
   "metadata": {},
   "source": [
    "### 12. Write a short program that prints the numbers 1 to 10 using a for loop. Then write an equivalent program that prints the numbers 1 to 10 using a while loop."
   ]
  },
  {
   "cell_type": "code",
   "execution_count": 35,
   "id": "53768676",
   "metadata": {},
   "outputs": [
    {
     "name": "stdout",
     "output_type": "stream",
     "text": [
      "1\n",
      "2\n",
      "3\n",
      "4\n",
      "5\n",
      "6\n",
      "7\n",
      "8\n",
      "9\n",
      "10\n"
     ]
    }
   ],
   "source": [
    "for i in range (1,11):\n",
    "    print (i)"
   ]
  },
  {
   "cell_type": "code",
   "execution_count": 1,
   "id": "72ba0c57",
   "metadata": {},
   "outputs": [
    {
     "name": "stdout",
     "output_type": "stream",
     "text": [
      "1\n",
      "2\n",
      "3\n",
      "4\n",
      "5\n",
      "6\n",
      "7\n",
      "8\n",
      "9\n",
      "10\n"
     ]
    }
   ],
   "source": [
    "i = 1\n",
    "while i < 11:\n",
    "    print (i)\n",
    "    i += 1"
   ]
  },
  {
   "cell_type": "markdown",
   "id": "b73fa6de",
   "metadata": {},
   "source": [
    "### 13. If you had a function named bacon() inside a module named spam, how would you call it after importing spam?"
   ]
  },
  {
   "cell_type": "markdown",
   "id": "7c59c0fc",
   "metadata": {},
   "source": [
    "### Ans - using a decorator"
   ]
  },
  {
   "cell_type": "code",
   "execution_count": null,
   "id": "31e87df2",
   "metadata": {},
   "outputs": [],
   "source": [
    "def bacon():\n",
    "    pass\n",
    "\n",
    "import spam\n",
    "\n",
    "@bacon"
   ]
  }
 ],
 "metadata": {
  "kernelspec": {
   "display_name": "Python 3 (ipykernel)",
   "language": "python",
   "name": "python3"
  },
  "language_info": {
   "codemirror_mode": {
    "name": "ipython",
    "version": 3
   },
   "file_extension": ".py",
   "mimetype": "text/x-python",
   "name": "python",
   "nbconvert_exporter": "python",
   "pygments_lexer": "ipython3",
   "version": "3.9.12"
  }
 },
 "nbformat": 4,
 "nbformat_minor": 5
}
