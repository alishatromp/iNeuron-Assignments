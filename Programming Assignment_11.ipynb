{
 "cells": [
  {
   "cell_type": "markdown",
   "id": "fb0da6bf",
   "metadata": {},
   "source": [
    "## 1. Write a Python program to find words which are greater than given length k?\n"
   ]
  },
  {
   "cell_type": "code",
   "execution_count": 1,
   "id": "48a92138",
   "metadata": {},
   "outputs": [
    {
     "name": "stdout",
     "output_type": "stream",
     "text": [
      "Enter a length you want the word to be: 7\n",
      "Words greater than 7 letters are ['chemistry', 'computers']\n"
     ]
    }
   ],
   "source": [
    "k = int (input (\"Enter a length you want the word to be: \"))\n",
    "l = [\"biology\", \"chemistry\", \"physics\", \"maths\", \"science\", \"computers\", \"ecology\"]\n",
    "l1=[]\n",
    "\n",
    "for i in l:\n",
    "    if (len(i))> k :\n",
    "        #print (len(i))\n",
    "        l1.append(i)\n",
    "print(f\"Words greater than {k} letters are {l1}\")"
   ]
  },
  {
   "cell_type": "markdown",
   "id": "469ff765",
   "metadata": {},
   "source": [
    "----------"
   ]
  },
  {
   "cell_type": "markdown",
   "id": "63cbe014",
   "metadata": {},
   "source": [
    "## 2. Write a Python program for removing i-th character from a string?\n"
   ]
  },
  {
   "cell_type": "code",
   "execution_count": 2,
   "id": "5865d47e",
   "metadata": {},
   "outputs": [
    {
     "name": "stdout",
     "output_type": "stream",
     "text": [
      "iNeuron is best.\n"
     ]
    }
   ],
   "source": [
    "def remove(my_str, i):\n",
    "    if i > len(my_str):\n",
    "        return my_str\n",
    "    a = list(my_str)\n",
    "    a.pop(i)\n",
    "    return \"\".join(a)\n",
    "print(remove(\"iNeurons is best.\", 7))"
   ]
  },
  {
   "cell_type": "markdown",
   "id": "1faf4fed",
   "metadata": {},
   "source": [
    "---------"
   ]
  },
  {
   "cell_type": "markdown",
   "id": "780f22f1",
   "metadata": {},
   "source": [
    "## 3. Write a Python program to split and join a string?\n"
   ]
  },
  {
   "cell_type": "code",
   "execution_count": 3,
   "id": "9e3a791a",
   "metadata": {},
   "outputs": [
    {
     "name": "stdout",
     "output_type": "stream",
     "text": [
      "(['White', 'horse', 'runs', 'crazy.', 'White', 'knight', 'runs', 'frantic.'], 'W*h*i*t*e* *h*o*r*s*e* *r*u*n*s* *c*r*a*z*y*.* *W*h*i*t*e* *k*n*i*g*h*t* *r*u*n*s* *f*r*a*n*t*i*c*.')\n"
     ]
    }
   ],
   "source": [
    "def split_join(my_str, i,j):\n",
    "    x = my_str.split(i)\n",
    "    y = (j).join(my_str)\n",
    "    return (x,y)\n",
    "print(split_join(\"White horse runs crazy. White knight runs frantic.\", \" \", \"*\"))"
   ]
  },
  {
   "cell_type": "markdown",
   "id": "e3a227ea",
   "metadata": {},
   "source": [
    "------"
   ]
  },
  {
   "cell_type": "markdown",
   "id": "65133563",
   "metadata": {},
   "source": [
    "## 4. Write a Python to check if a given string is binary string or not?\n"
   ]
  },
  {
   "cell_type": "code",
   "execution_count": 4,
   "id": "e59be0c8",
   "metadata": {},
   "outputs": [
    {
     "data": {
      "text/plain": [
       "True"
      ]
     },
     "execution_count": 4,
     "metadata": {},
     "output_type": "execute_result"
    }
   ],
   "source": [
    "def check_binary(string):\n",
    "    s = {\"0\",\"1\"}\n",
    "    p = set(string)\n",
    "    \n",
    "    if s == p or p == {'0'} or p == {'1'}:\n",
    "        return True\n",
    "    else:\n",
    "        return False\n",
    "    \n",
    "check_binary(\"0101010101001\")"
   ]
  },
  {
   "cell_type": "markdown",
   "id": "ab0b968e",
   "metadata": {},
   "source": [
    "---------"
   ]
  },
  {
   "cell_type": "markdown",
   "id": "5d01a724",
   "metadata": {},
   "source": [
    "## 5. Write a Python program to find uncommon words from two Strings?\n"
   ]
  },
  {
   "cell_type": "code",
   "execution_count": 5,
   "id": "62534cda",
   "metadata": {},
   "outputs": [
    {
     "data": {
      "text/plain": [
       "['My', 'my', 'no', 'yes']"
      ]
     },
     "execution_count": 5,
     "metadata": {},
     "output_type": "execute_result"
    }
   ],
   "source": [
    "def uncommon_words(str1, str2):    \n",
    "    x = str1.split()\n",
    "    y = str2.split()\n",
    "    o = []\n",
    "    for i in x:\n",
    "        if i not in y:\n",
    "            o.append(i)\n",
    "        for i in y:\n",
    "            if i not in  x:\n",
    "                o.append(i)\n",
    "    o = (set(o))\n",
    "    return list(o)\n",
    "uncommon_words(\"My mine ok ok yes\", \"my mine ok ok no\")"
   ]
  },
  {
   "cell_type": "markdown",
   "id": "f6530cad",
   "metadata": {},
   "source": [
    "------"
   ]
  },
  {
   "cell_type": "markdown",
   "id": "0789f37f",
   "metadata": {},
   "source": [
    "## 6. Write a Python to find all duplicate characters in string?\n"
   ]
  },
  {
   "cell_type": "code",
   "execution_count": 6,
   "id": "fd4e25e7",
   "metadata": {},
   "outputs": [
    {
     "name": "stdout",
     "output_type": "stream",
     "text": [
      "i\n",
      "c\n",
      "a\n",
      "t\n",
      "e\n",
      "r\n",
      "s\n",
      "n\n",
      "g\n"
     ]
    }
   ],
   "source": [
    "string = \"Duplicate characters in a given string\"\n",
    "for i in range (0, len(string)):\n",
    "    count = 1;\n",
    "    for j in range (i+1, len (string)):\n",
    "        if (string[i] ==  string[j] and string [i] != ' '):\n",
    "            count= count+1;\n",
    "            string = string[:j] + '0' + string [j+1:];\n",
    "    if (count>1 and string [i] != '0'):\n",
    "        print (string [i]);"
   ]
  },
  {
   "cell_type": "markdown",
   "id": "b75c31e0",
   "metadata": {},
   "source": [
    "--------"
   ]
  },
  {
   "cell_type": "markdown",
   "id": "7bac498b",
   "metadata": {},
   "source": [
    "## 7. Write a Python Program to check if a string contains any special character?"
   ]
  },
  {
   "cell_type": "code",
   "execution_count": 7,
   "id": "9ef5b887",
   "metadata": {},
   "outputs": [
    {
     "name": "stdout",
     "output_type": "stream",
     "text": [
      "Yes, special characters\n",
      "No, special characters\n"
     ]
    }
   ],
   "source": [
    "def spec_char(s):\n",
    "    for i in s:\n",
    "        count = 0\n",
    "        if (i.isalpha() or i.isdigit() or i == ' '):\n",
    "            #print (i)\n",
    "            count = 0\n",
    "        else:\n",
    "            count += 1\n",
    "\n",
    "    if count > 0:\n",
    "        print (\"Yes, special characters\")\n",
    "    else:\n",
    "        print (\"No, special characters\")\n",
    "        \n",
    "spec_char(\"Hello@world!!!!\")\n",
    "spec_char(\"ineuronis best\")"
   ]
  }
 ],
 "metadata": {
  "kernelspec": {
   "display_name": "Python 3 (ipykernel)",
   "language": "python",
   "name": "python3"
  },
  "language_info": {
   "codemirror_mode": {
    "name": "ipython",
    "version": 3
   },
   "file_extension": ".py",
   "mimetype": "text/x-python",
   "name": "python",
   "nbconvert_exporter": "python",
   "pygments_lexer": "ipython3",
   "version": "3.9.12"
  }
 },
 "nbformat": 4,
 "nbformat_minor": 5
}
