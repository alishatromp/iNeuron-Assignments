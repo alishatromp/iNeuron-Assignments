{
 "cells": [
  {
   "cell_type": "markdown",
   "id": "ab71cd43",
   "metadata": {},
   "source": [
    "### 1. In the below elements which of them are values or an expression? eg:- values can be integer or string and expressions will be mathematical operators.\n"
   ]
  },
  {
   "cell_type": "raw",
   "id": "5ec95d29",
   "metadata": {},
   "source": [
    "Answers\n",
    "\n",
    "* = expression (mathematical operator for multiplication\n",
    "\n",
    "'hello' = vale (string)\n",
    "\n",
    "-87.8 = value (float)\n",
    "\n",
    "- = mathematical operator for subtraction\n",
    "\n",
    "/ = mathematical operator for division\n",
    "\n",
    "+ = mahematical operator for addition\n",
    "\n",
    "6 = value (int)"
   ]
  },
  {
   "cell_type": "markdown",
   "id": "b4f65f0b",
   "metadata": {},
   "source": [
    "-----------------"
   ]
  },
  {
   "cell_type": "markdown",
   "id": "1940395c",
   "metadata": {},
   "source": [
    "### 2. What is the difference between string and variable?"
   ]
  },
  {
   "cell_type": "markdown",
   "id": "fb1b93a9",
   "metadata": {},
   "source": [
    "### Ans - A variable is an entity with an assigned value for e.g. a = 10. a is a variable\n",
    "\n",
    "### A string is a datatype of the variable which has a value assigned to it in single or double quotes.\n",
    "### for e.g. x = \"hello\". type(x) is a str"
   ]
  },
  {
   "cell_type": "markdown",
   "id": "d0881c19",
   "metadata": {},
   "source": [
    "-------------"
   ]
  },
  {
   "cell_type": "markdown",
   "id": "7c12745f",
   "metadata": {},
   "source": [
    "### 3. Describe three different data types.\n",
    "\n"
   ]
  },
  {
   "cell_type": "markdown",
   "id": "e25a34f9",
   "metadata": {},
   "source": [
    "### Ans - The three diff data types are.\n",
    "### String, List, Tuple"
   ]
  },
  {
   "cell_type": "markdown",
   "id": "50083328",
   "metadata": {},
   "source": [
    "---------------------------------"
   ]
  },
  {
   "cell_type": "markdown",
   "id": "400b9f1e",
   "metadata": {},
   "source": [
    "### 4. What is an expression made up of? What do all expressions do?\n",
    "\n",
    "\n",
    "\n"
   ]
  },
  {
   "cell_type": "markdown",
   "id": "564bb8a6",
   "metadata": {},
   "source": [
    "### Ans - An expression is made up of a variables with an assigned values (operand) and some operation. All expressions perform an operation"
   ]
  },
  {
   "cell_type": "markdown",
   "id": "077bf489",
   "metadata": {},
   "source": [
    "------------------------"
   ]
  },
  {
   "cell_type": "markdown",
   "id": "f6f6c8f8",
   "metadata": {},
   "source": [
    "### 5. This assignment statements, like spam = 10. What is the difference between an expression and a statement?\n",
    "\n"
   ]
  },
  {
   "cell_type": "markdown",
   "id": "cf4ceb61",
   "metadata": {},
   "source": [
    "### Ans - Expression are statements with mathematical operators that will always return a value. \n",
    "### Statements are commands where one assigns a value to a variable."
   ]
  },
  {
   "cell_type": "markdown",
   "id": "aad45469",
   "metadata": {},
   "source": [
    "------------------"
   ]
  },
  {
   "cell_type": "markdown",
   "id": "c1f2070a",
   "metadata": {},
   "source": [
    "### 6. After running the following code, what does the variable bacon contain?"
   ]
  },
  {
   "cell_type": "raw",
   "id": "fc779c4e",
   "metadata": {},
   "source": [
    "bacon = 22\n",
    "bacon + 1"
   ]
  },
  {
   "cell_type": "markdown",
   "id": "f80ef37e",
   "metadata": {},
   "source": [
    "### Ans - bacon will contain the value 23"
   ]
  },
  {
   "cell_type": "markdown",
   "id": "bc63d223",
   "metadata": {},
   "source": [
    "----------"
   ]
  },
  {
   "cell_type": "markdown",
   "id": "23085f6d",
   "metadata": {},
   "source": [
    "### 7. What should the values of the following two terms be?\n"
   ]
  },
  {
   "cell_type": "raw",
   "id": "555c88e8",
   "metadata": {},
   "source": [
    "'spam' + 'spamspam'\n",
    "'spam' * 3"
   ]
  },
  {
   "cell_type": "markdown",
   "id": "56e0723f",
   "metadata": {},
   "source": [
    "### Ans - Both answers will be 'spamspamspam'"
   ]
  },
  {
   "cell_type": "markdown",
   "id": "eafa77f1",
   "metadata": {},
   "source": [
    "-----------------"
   ]
  },
  {
   "cell_type": "markdown",
   "id": "3f893059",
   "metadata": {},
   "source": [
    "### 8. Why is eggs a valid variable name while 100 is invalid?"
   ]
  },
  {
   "cell_type": "markdown",
   "id": "9b7a78a0",
   "metadata": {},
   "source": [
    "### Ans - eggs is a valid variable name because its id is empty. Therefore once assigned a value it can hold that value.\n",
    "### id(100) holds a value already therefore cannot be assigned a new value unless you write it in inverted commas."
   ]
  },
  {
   "cell_type": "markdown",
   "id": "0e69043b",
   "metadata": {},
   "source": [
    "-----------------"
   ]
  },
  {
   "cell_type": "markdown",
   "id": "3ecba049",
   "metadata": {},
   "source": [
    "### 9. What three functions can be used to get the integer, floating-point number, or string version of a value?"
   ]
  },
  {
   "cell_type": "markdown",
   "id": "f4b2eec7",
   "metadata": {},
   "source": [
    "### Ans - int, float, str"
   ]
  },
  {
   "cell_type": "markdown",
   "id": "f70a436c",
   "metadata": {},
   "source": [
    "-------------"
   ]
  },
  {
   "cell_type": "markdown",
   "id": "a58b9525",
   "metadata": {},
   "source": [
    "### 10. Why does this expression cause an error? How can you fix it?"
   ]
  },
  {
   "cell_type": "raw",
   "id": "5077b126",
   "metadata": {},
   "source": [
    "'I have eaten ' + 99 + ' burritos.'"
   ]
  },
  {
   "cell_type": "markdown",
   "id": "5e5a153a",
   "metadata": {},
   "source": [
    "### Ans - You cannot concatenate str and int values. You can concatenate string to string values. To fix it, put 99 in single or double quotes."
   ]
  },
  {
   "cell_type": "code",
   "execution_count": 19,
   "id": "c188f208",
   "metadata": {},
   "outputs": [
    {
     "data": {
      "text/plain": [
       "'I have eaten 99 burritos'"
      ]
     },
     "execution_count": 19,
     "metadata": {},
     "output_type": "execute_result"
    }
   ],
   "source": [
    "'I have eaten ' + '99' + ' burritos'"
   ]
  }
 ],
 "metadata": {
  "kernelspec": {
   "display_name": "Python 3 (ipykernel)",
   "language": "python",
   "name": "python3"
  },
  "language_info": {
   "codemirror_mode": {
    "name": "ipython",
    "version": 3
   },
   "file_extension": ".py",
   "mimetype": "text/x-python",
   "name": "python",
   "nbconvert_exporter": "python",
   "pygments_lexer": "ipython3",
   "version": "3.9.12"
  }
 },
 "nbformat": 4,
 "nbformat_minor": 5
}
