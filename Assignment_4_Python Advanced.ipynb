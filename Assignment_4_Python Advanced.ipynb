{
 "cells": [
  {
   "cell_type": "markdown",
   "id": "82107def",
   "metadata": {},
   "source": [
    "## Q1. Which two operator overloading methods can you use in your classes to support iteration?"
   ]
  },
  {
   "cell_type": "raw",
   "id": "2d842725",
   "metadata": {},
   "source": [
    "The \"__iter__\" returns the iterator object and is implicitly called at the start of loops. The \"__next__\" method returns the next value and is implicitly called at each loop increment. __next__ raises a StopIteration exception when there are no more value to return, which is implicitly captured by looping constructs to stop iterating."
   ]
  },
  {
   "cell_type": "code",
   "execution_count": 4,
   "id": "40e987b3",
   "metadata": {},
   "outputs": [
    {
     "name": "stdout",
     "output_type": "stream",
     "text": [
      "0\n",
      "1\n",
      "2\n",
      "3\n",
      "4\n",
      "5\n"
     ]
    }
   ],
   "source": [
    "class Count:\n",
    "    def __init__(self, low, high):\n",
    "        self.current = low\n",
    "        self.high = high\n",
    " \n",
    "    def __iter__(self):\n",
    "        return self\n",
    " \n",
    "    def __next__(self):\n",
    "        if self.current > self.high:\n",
    "            raise StopIteration\n",
    "        else:\n",
    "            self.current += 1\n",
    "            return self.current - 1\n",
    " \n",
    " \n",
    "for num in Count(0, 5):\n",
    "    print(num)"
   ]
  },
  {
   "cell_type": "markdown",
   "id": "ed039037",
   "metadata": {},
   "source": [
    "-----"
   ]
  },
  {
   "cell_type": "markdown",
   "id": "a7e8f8c4",
   "metadata": {},
   "source": [
    "## Q2. In what contexts do the two operator overloading methods manage printing?\n"
   ]
  },
  {
   "cell_type": "raw",
   "id": "34779b99",
   "metadata": {},
   "source": [
    "__str__ - returns an informal string representation of an object.\n",
    "__repr__- returns an official string representation of an object."
   ]
  },
  {
   "cell_type": "markdown",
   "id": "21fb69f5",
   "metadata": {},
   "source": [
    "--------"
   ]
  },
  {
   "cell_type": "markdown",
   "id": "890f73c8",
   "metadata": {},
   "source": [
    "## Q3. In a class, how do you intercept slice operations?\n"
   ]
  },
  {
   "cell_type": "raw",
   "id": "a245f5f6",
   "metadata": {},
   "source": [
    "The use of slice() in __getitem__ method is used for intercept slice operation. This slice method is provided with start integer number, stop integer number and step integer number.\n",
    "Eg __get__item(slice(2, 10, 2))"
   ]
  },
  {
   "cell_type": "markdown",
   "id": "57f31b94",
   "metadata": {},
   "source": [
    "-------"
   ]
  },
  {
   "cell_type": "markdown",
   "id": "d151e1b9",
   "metadata": {},
   "source": [
    "## Q4. In a class, how do you capture in-place addition?\n"
   ]
  },
  {
   "cell_type": "raw",
   "id": "38dbd337",
   "metadata": {},
   "source": [
    "x+ y is normal addition.\n",
    "x+=y is inplace addition operation. In this in-place addition 'x' itself will store the value of addition. In a class __iadd__ method is used for this in-place operation."
   ]
  },
  {
   "cell_type": "markdown",
   "id": "1ad592fb",
   "metadata": {},
   "source": [
    "------"
   ]
  },
  {
   "cell_type": "markdown",
   "id": "bb54dbc2",
   "metadata": {},
   "source": [
    "## Q5. When is it appropriate to use operator overloading?"
   ]
  },
  {
   "cell_type": "raw",
   "id": "0a02c412",
   "metadata": {},
   "source": [
    "We can use it if we want to use the operator instead of its normal function."
   ]
  }
 ],
 "metadata": {
  "kernelspec": {
   "display_name": "Python 3 (ipykernel)",
   "language": "python",
   "name": "python3"
  },
  "language_info": {
   "codemirror_mode": {
    "name": "ipython",
    "version": 3
   },
   "file_extension": ".py",
   "mimetype": "text/x-python",
   "name": "python",
   "nbconvert_exporter": "python",
   "pygments_lexer": "ipython3",
   "version": "3.9.12"
  }
 },
 "nbformat": 4,
 "nbformat_minor": 5
}
