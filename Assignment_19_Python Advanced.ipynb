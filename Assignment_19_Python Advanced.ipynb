{
 "cells": [
  {
   "cell_type": "markdown",
   "id": "31d3280b",
   "metadata": {},
   "source": [
    "## Q1. Define the relationship between a class and its instances. Is it a one-to-one or a one-to-many partnership, for example?"
   ]
  },
  {
   "cell_type": "markdown",
   "id": "82bf5b7d",
   "metadata": {},
   "source": [
    "## Ans - The relationship between a class and its instance is a one to many partnership."
   ]
  },
  {
   "cell_type": "markdown",
   "id": "4b3fb034",
   "metadata": {},
   "source": [
    "-----------"
   ]
  },
  {
   "cell_type": "markdown",
   "id": "92015d6f",
   "metadata": {},
   "source": [
    "## Q2. What kind of data is held only in an instance?"
   ]
  },
  {
   "cell_type": "markdown",
   "id": "86a96db6",
   "metadata": {},
   "source": [
    "## Ans - Instance or instance objects hold variables specific to that intsance object."
   ]
  },
  {
   "cell_type": "markdown",
   "id": "8486f743",
   "metadata": {},
   "source": [
    "----------"
   ]
  },
  {
   "cell_type": "markdown",
   "id": "5b26bc3e",
   "metadata": {},
   "source": [
    "## Q3. What kind of knowledge is stored in a class?"
   ]
  },
  {
   "cell_type": "markdown",
   "id": "41e71608",
   "metadata": {},
   "source": [
    "## Ans - Classes commonly contains data field to store the data and methods for defining behaviors. Also every class in python contains a special method called initializer (also commonly known as constructors), which invokes automatically every time a new object is created."
   ]
  },
  {
   "cell_type": "markdown",
   "id": "f3fee8b3",
   "metadata": {},
   "source": [
    "-------"
   ]
  },
  {
   "cell_type": "markdown",
   "id": "3d95d751",
   "metadata": {},
   "source": [
    "## Q4. What exactly is a method, and how is it different from a regular function?"
   ]
  },
  {
   "cell_type": "markdown",
   "id": "7171428d",
   "metadata": {},
   "source": [
    "## A method is a function that “belongs to” an object. Within a class, a method is used to define the role of instances or access instance variables. \n",
    "## A regular function cannot access the attributes of an instance or modify the state of an object."
   ]
  },
  {
   "cell_type": "markdown",
   "id": "b668360b",
   "metadata": {},
   "source": [
    "----------"
   ]
  },
  {
   "cell_type": "markdown",
   "id": "0a0cf75a",
   "metadata": {},
   "source": [
    "## Q5. Is inheritance supported in Python, and if so, what is the syntax?"
   ]
  },
  {
   "cell_type": "markdown",
   "id": "1e9ed0bc",
   "metadata": {},
   "source": [
    "## Yes it is supported. For e.g. \n",
    "- Simple Inheritance\n",
    "- Multiple\n",
    "- Multilevel\n",
    "- Heirarchical\n",
    "- Hybrid"
   ]
  },
  {
   "cell_type": "code",
   "execution_count": 1,
   "id": "2c132007",
   "metadata": {},
   "outputs": [],
   "source": [
    "class Me:\n",
    "    def __init__(self,firstname,lastname):\n",
    "        self.firstname = firstname\n",
    "        self.lastname = lastname\n",
    "class NotMe(Me):\n",
    "    pass"
   ]
  },
  {
   "cell_type": "markdown",
   "id": "1ecba9ce",
   "metadata": {},
   "source": [
    "------------"
   ]
  },
  {
   "cell_type": "markdown",
   "id": "a1d006f0",
   "metadata": {},
   "source": [
    "## Q6. How much encapsulation (making instance or class variables private) does Python support?"
   ]
  },
  {
   "cell_type": "markdown",
   "id": "fdb7eb4e",
   "metadata": {},
   "source": [
    "## Ans - Encapsulation is a way of wrapping the data (variables) and code acting on the data (methods) together as a single unit. \n",
    "## To prevent accidental change, the variables of a class will be hidden from other classes, and can be accessed only through the methods of their current class."
   ]
  },
  {
   "cell_type": "markdown",
   "id": "f9b1ce96",
   "metadata": {},
   "source": [
    "-----------"
   ]
  },
  {
   "cell_type": "markdown",
   "id": "4d117a2c",
   "metadata": {},
   "source": [
    "## Q7. How do you distinguish between a class variable and an instance variable?"
   ]
  },
  {
   "cell_type": "markdown",
   "id": "f2af77f6",
   "metadata": {},
   "source": [
    "## Ans - Class variables are defined within the class but outside of any class methods. Instance variables are defined within class methods, typically the constructor. \n",
    "## Changes made to the class variable affect all instances. Changes made to the instance variable does not affect all instances."
   ]
  },
  {
   "cell_type": "markdown",
   "id": "cb8e7c35",
   "metadata": {},
   "source": [
    "-------"
   ]
  },
  {
   "cell_type": "markdown",
   "id": "1503ec45",
   "metadata": {},
   "source": [
    "## Q8. When, if ever, can self be included in a class&#39;s method definitions?"
   ]
  },
  {
   "cell_type": "markdown",
   "id": "c83ef319",
   "metadata": {},
   "source": [
    "## Ans - Self can be included in class's method definition to access the instance variables inside class methods."
   ]
  },
  {
   "cell_type": "markdown",
   "id": "e1aa4d65",
   "metadata": {},
   "source": [
    "-----------"
   ]
  },
  {
   "cell_type": "markdown",
   "id": "c6623eb3",
   "metadata": {},
   "source": [
    "## Q9. What is the difference between the _ _add_ _ and the _ _radd_ _ methods?"
   ]
  },
  {
   "cell_type": "markdown",
   "id": "0f49412a",
   "metadata": {},
   "source": [
    "## Ans - Entering \\__radd__ Python will first try \\__add__(), and if that returns Not Implemented Python will check if the right-hand operand implements \\__radd__, and if it does, it will call \\__radd__() rather than raising a TypeError.\n",
    "\n",
    "## \\__radd__ is only called if the left object does not have an \\__add__ method, or that method does not know how to add the two objects (which it flags by returning NotImplemented ). "
   ]
  },
  {
   "cell_type": "markdown",
   "id": "777e6ab9",
   "metadata": {},
   "source": [
    "-------"
   ]
  },
  {
   "cell_type": "markdown",
   "id": "47abc426",
   "metadata": {},
   "source": [
    "## Q10. When is it necessary to use a reflection method? When do you not need it, even though you support the operation in question?"
   ]
  },
  {
   "cell_type": "markdown",
   "id": "93a2ff8e",
   "metadata": {},
   "source": [
    "## Ans - Reflection refers to the ability for code to be able to examine attributes about objects that might be passed as parameters to a function. For example, if we write type(obj) then Python will return an object which represents the type of obj."
   ]
  },
  {
   "cell_type": "markdown",
   "id": "1e81f597",
   "metadata": {},
   "source": [
    "--------"
   ]
  },
  {
   "cell_type": "markdown",
   "id": "07484fcd",
   "metadata": {},
   "source": [
    "## Q11. What is the _ _iadd_ _ method called?"
   ]
  },
  {
   "cell_type": "markdown",
   "id": "7aec0f5d",
   "metadata": {},
   "source": [
    "## Ans - This method is used when we want to add two variables. For eg. a+=b is a.\\__iadd__(b)"
   ]
  },
  {
   "cell_type": "markdown",
   "id": "b19bee74",
   "metadata": {},
   "source": [
    "---------"
   ]
  },
  {
   "cell_type": "markdown",
   "id": "473ed923",
   "metadata": {},
   "source": [
    "## Q12. Is the _ _init_ _ method inherited by subclasses? What do you do if you need to customize its behavior within a subclass?"
   ]
  },
  {
   "cell_type": "markdown",
   "id": "6c394280",
   "metadata": {},
   "source": [
    "## Ans - Yes, \\__init__ method will be inherited by subclasses. \n",
    "## In order to customize its behaviour within a subclass we can use super() method."
   ]
  }
 ],
 "metadata": {
  "kernelspec": {
   "display_name": "Python 3 (ipykernel)",
   "language": "python",
   "name": "python3"
  },
  "language_info": {
   "codemirror_mode": {
    "name": "ipython",
    "version": 3
   },
   "file_extension": ".py",
   "mimetype": "text/x-python",
   "name": "python",
   "nbconvert_exporter": "python",
   "pygments_lexer": "ipython3",
   "version": "3.9.12"
  }
 },
 "nbformat": 4,
 "nbformat_minor": 5
}
