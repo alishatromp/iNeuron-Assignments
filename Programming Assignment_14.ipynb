{
 "cells": [
  {
   "cell_type": "markdown",
   "id": "416ff207",
   "metadata": {},
   "source": [
    "## Question 1:Define a class with a generator which can iterate the numbers, which are divisible by 7, between a given range 0 and n."
   ]
  },
  {
   "cell_type": "code",
   "execution_count": 75,
   "id": "fd84e6bc",
   "metadata": {},
   "outputs": [
    {
     "name": "stdout",
     "output_type": "stream",
     "text": [
      "7\n",
      "14\n",
      "21\n",
      "28\n",
      "35\n",
      "42\n",
      "49\n",
      "56\n",
      "63\n",
      "70\n",
      "77\n",
      "84\n",
      "91\n",
      "98\n"
     ]
    }
   ],
   "source": [
    "def gen(n):\n",
    "    for i in range(1,n+1):\n",
    "        if (i%7==0):\n",
    "            yield (i) #whenever you have yield keyword, you're using generator func\n",
    "k = gen (100)\n",
    "for i in k:\n",
    "    print(i)"
   ]
  },
  {
   "cell_type": "markdown",
   "id": "6f81761c",
   "metadata": {},
   "source": [
    "--------"
   ]
  },
  {
   "cell_type": "markdown",
   "id": "e658856e",
   "metadata": {},
   "source": [
    "## Question 2:\n",
    "## Write a program to compute the frequency of the words from the input. The output should output after sorting the key alphanumerically. Suppose the following input is supplied to the program: New to Python or choosing between Python 2 and Python 3? Read Python 2 or Python 3.\n",
    "## Then, the output should be:\n",
    "2:2\n",
    "3.:1\n",
    "3?:1\n",
    "New:1\n",
    "Python:5\n",
    "Read:1\n",
    "and:1\n",
    "between:1\n",
    "choosing:1\n",
    "or:2\n",
    "to:1"
   ]
  },
  {
   "cell_type": "code",
   "execution_count": 53,
   "id": "42ecf95c",
   "metadata": {},
   "outputs": [
    {
     "name": "stdout",
     "output_type": "stream",
     "text": [
      "2:2\n",
      "3:1\n",
      "3?:1\n",
      "New:1\n",
      "Python:5\n",
      "Read:1\n",
      "and:1\n",
      "between:1\n",
      "choosing:1\n",
      "or:2\n",
      "to:1\n"
     ]
    }
   ],
   "source": [
    "def frequency(x):\n",
    "    freq = {}\n",
    "\n",
    "    for word in x.split():\n",
    "        freq[word] = freq.get(word, 0) + 1\n",
    "\n",
    "    words = list(freq.keys())\n",
    "    words.sort()\n",
    "\n",
    "    for w in words:\n",
    "        print(f'{w}:{freq[w]}')\n",
    "frequency(\"New to Python or choosing between Python 2 and Python 3? Read Python 2 or Python 3\")"
   ]
  },
  {
   "cell_type": "markdown",
   "id": "961087bb",
   "metadata": {},
   "source": [
    "-------"
   ]
  },
  {
   "cell_type": "markdown",
   "id": "4164cd5e",
   "metadata": {},
   "source": [
    "## Question 3: Define a class Person and its two child classes: Male and Female. All classes have a method &quot;getGender&quot; which can print &quot;Male&quot; for Male class and &quot;Female&quot; for Female class."
   ]
  },
  {
   "cell_type": "code",
   "execution_count": 39,
   "id": "4b3a57e9",
   "metadata": {},
   "outputs": [
    {
     "name": "stdout",
     "output_type": "stream",
     "text": [
      "Female\n",
      "Male\n"
     ]
    }
   ],
   "source": [
    "class Person:\n",
    "    def getGender(self):\n",
    "        pass\n",
    "        \n",
    "class Male(Person):\n",
    "    def getGender(self):\n",
    "        print(\"Male\")\n",
    "        \n",
    "class Female(Person):\n",
    "    def getGender(self):\n",
    "        print(\"Female\")\n",
    "        \n",
    "test = Female()\n",
    "test1 = Male()\n",
    "test.getGender()   \n",
    "test1.getGender()"
   ]
  },
  {
   "cell_type": "markdown",
   "id": "1cc39267",
   "metadata": {},
   "source": [
    "----------"
   ]
  },
  {
   "cell_type": "markdown",
   "id": "3ad39a96",
   "metadata": {},
   "source": [
    "## Question 4: Please write a program to generate all sentences where subject is in [&quot;I&quot;, &quot;You&quot;] and verb is in [&quot;Play&quot;, &quot;Love&quot;] and the object is in [&quot;Hockey&quot;,&quot;Football&quot;]."
   ]
  },
  {
   "cell_type": "code",
   "execution_count": 61,
   "id": "d7f168c0",
   "metadata": {},
   "outputs": [
    {
     "name": "stdout",
     "output_type": "stream",
     "text": [
      "I Love Football\n",
      "I Play Hockey\n",
      "I Love Hockey\n",
      "You Love Football\n",
      "You Play Hockey\n",
      "You Love Hockey\n"
     ]
    }
   ],
   "source": [
    "def sentence(i,j,k):\n",
    "    subject = [\"I\", \"You\"]\n",
    "    verb = [\"Play\", \"Love\"]\n",
    "    obj = [\"Hockey\", \"Football\"]\n",
    "    sentence = subject[i]+ \" \" + verb[j]+ \" \" + obj[k]\n",
    "    print(sentence)\n",
    "sentence(0,1,1)\n",
    "sentence(0,0,0)\n",
    "sentence(0,1,0)\n",
    "sentence(1,1,1)\n",
    "sentence(1,0,0)\n",
    "sentence(1,1,0)"
   ]
  },
  {
   "cell_type": "markdown",
   "id": "ac11903b",
   "metadata": {},
   "source": [
    "-------"
   ]
  },
  {
   "cell_type": "markdown",
   "id": "180a5012",
   "metadata": {},
   "source": [
    "## Question 5: Please write a program to compress and decompress the string &quot;hello world!hello world!hello world!hello world!&quot;.\n"
   ]
  },
  {
   "cell_type": "code",
   "execution_count": 71,
   "id": "26ad1c66",
   "metadata": {},
   "outputs": [
    {
     "name": "stdout",
     "output_type": "stream",
     "text": [
      "b'x\\x9c\\xcbH\\xcd\\xc9\\xc9W(\\xcf/\\xcaIQ\\xcc \\x82\\r\\x00\\xbd[\\x11\\xf5'\n",
      "b'hello world!hello world!hello world!hello world!'\n"
     ]
    }
   ],
   "source": [
    "s = 'hello world!hello world!hello world!hello world!'\n",
    "# In Python 3 zlib.compress() accepts only DataType <bytes>\n",
    "y = bytes(s, 'utf-8')\n",
    "x = zlib.compress(y)\n",
    "print(x)\n",
    "print(zlib.decompress(x))"
   ]
  },
  {
   "cell_type": "markdown",
   "id": "f02016d2",
   "metadata": {},
   "source": [
    "---------"
   ]
  },
  {
   "cell_type": "markdown",
   "id": "6cbb5e61",
   "metadata": {},
   "source": [
    "## Question 6: Please write a binary search function which searches an item in a sorted list. The function should return the index of element to be searched in the list."
   ]
  },
  {
   "cell_type": "code",
   "execution_count": 63,
   "id": "9a41b11a",
   "metadata": {},
   "outputs": [
    {
     "name": "stdout",
     "output_type": "stream",
     "text": [
      "Enter item to search: fish\n",
      "Index of fish is 3\n"
     ]
    }
   ],
   "source": [
    "l = [\"boy\", 'girl', \"tree\", \"toy\",\"fish\", \"quiz\", \"clown\", \"circus\", \"module\"]\n",
    "l.sort()\n",
    "#for i in l:\n",
    "    #print(i)\n",
    "#print(l)\n",
    "x = input (\"Enter item to search: \")\n",
    "output = l.index(x)\n",
    "print(f\"Index of {x} is {output}\")"
   ]
  }
 ],
 "metadata": {
  "kernelspec": {
   "display_name": "Python 3 (ipykernel)",
   "language": "python",
   "name": "python3"
  },
  "language_info": {
   "codemirror_mode": {
    "name": "ipython",
    "version": 3
   },
   "file_extension": ".py",
   "mimetype": "text/x-python",
   "name": "python",
   "nbconvert_exporter": "python",
   "pygments_lexer": "ipython3",
   "version": "3.9.12"
  }
 },
 "nbformat": 4,
 "nbformat_minor": 5
}
