{
 "cells": [
  {
   "cell_type": "markdown",
   "id": "4389ae50",
   "metadata": {},
   "source": [
    "## Q1. Is an assignment operator like += only for show? Is it possible that it would lead to faster results at the runtime?"
   ]
  },
  {
   "cell_type": "markdown",
   "id": "b8305e0c",
   "metadata": {},
   "source": [
    "## Ans - \"+=\" leads to faster operation. Consider the following difference and you shall see why it is faster to use +="
   ]
  },
  {
   "cell_type": "markdown",
   "id": "19b2e5e5",
   "metadata": {},
   "source": [
    "- x += 5 means\n",
    "\n",
    "-- Find the place identified by x\n",
    "-- Add 5 to it\n",
    "\n",
    "- But x = x + 5 means:\n",
    "\n",
    "-- Evaluate x+5\n",
    "-- Find the place identified by x\n",
    "-- Copy x into an accumulator\n",
    "-- Add 5 to the accumulator\n",
    "-- Store the result in x\n",
    "-- Find the place identified by x\n",
    "-- Copy the accumulator to it"
   ]
  },
  {
   "cell_type": "markdown",
   "id": "cccbca0e",
   "metadata": {},
   "source": [
    "----------"
   ]
  },
  {
   "cell_type": "markdown",
   "id": "bb3e5146",
   "metadata": {},
   "source": [
    "## Q2. What is the smallest number of statements you&#39;d have to write in most programming languages to replace the Python expression a, b = a + b, a?"
   ]
  },
  {
   "cell_type": "markdown",
   "id": "c4cc2950",
   "metadata": {},
   "source": [
    "## Ans - \n",
    "1. assign values to a, b\n",
    "2. b = a+b\n",
    "3. b = a"
   ]
  },
  {
   "cell_type": "code",
   "execution_count": 11,
   "id": "17936252",
   "metadata": {},
   "outputs": [
    {
     "name": "stdout",
     "output_type": "stream",
     "text": [
      "11 11\n"
     ]
    }
   ],
   "source": [
    "(a, b) = 1, 10\n",
    "a+=b\n",
    "b=a\n",
    "print(a,b)"
   ]
  },
  {
   "cell_type": "markdown",
   "id": "765b427c",
   "metadata": {},
   "source": [
    "-------"
   ]
  },
  {
   "cell_type": "markdown",
   "id": "0f5f263f",
   "metadata": {},
   "source": [
    "## Q3. In Python, what is the most effective way to set a list of 100 integers to 0?"
   ]
  },
  {
   "cell_type": "code",
   "execution_count": 12,
   "id": "c457a93e",
   "metadata": {},
   "outputs": [
    {
     "name": "stdout",
     "output_type": "stream",
     "text": [
      "[0, 0, 0, 0, 0, 0, 0, 0, 0, 0, 0, 0, 0, 0, 0, 0, 0, 0, 0, 0, 0, 0, 0, 0, 0, 0, 0, 0, 0, 0, 0, 0, 0, 0, 0, 0, 0, 0, 0, 0, 0, 0, 0, 0, 0, 0, 0, 0, 0, 0, 0, 0, 0, 0, 0, 0, 0, 0, 0, 0, 0, 0, 0, 0, 0, 0, 0, 0, 0, 0, 0, 0, 0, 0, 0, 0, 0, 0, 0, 0, 0, 0, 0, 0, 0, 0, 0, 0, 0, 0, 0, 0, 0, 0, 0, 0, 0, 0, 0, 0]\n"
     ]
    }
   ],
   "source": [
    "l1 = [0]*100\n",
    "print (l1)"
   ]
  },
  {
   "cell_type": "code",
   "execution_count": 14,
   "id": "7a121e7e",
   "metadata": {},
   "outputs": [
    {
     "name": "stdout",
     "output_type": "stream",
     "text": [
      "[0, 0, 0, 0, 0, 0, 0, 0, 0, 0, 0, 0, 0, 0, 0, 0, 0, 0, 0, 0, 0, 0, 0, 0, 0, 0, 0, 0, 0, 0, 0, 0, 0, 0, 0, 0, 0, 0, 0, 0, 0, 0, 0, 0, 0, 0, 0, 0, 0, 0, 0, 0, 0, 0, 0, 0, 0, 0, 0, 0, 0, 0, 0, 0, 0, 0, 0, 0, 0, 0, 0, 0, 0, 0, 0, 0, 0, 0, 0, 0, 0, 0, 0, 0, 0, 0, 0, 0, 0, 0, 0, 0, 0, 0, 0, 0, 0, 0, 0, 0]\n"
     ]
    }
   ],
   "source": [
    "z = [0 for x in range (0,100)]\n",
    "print(z)"
   ]
  },
  {
   "cell_type": "markdown",
   "id": "157b06cc",
   "metadata": {},
   "source": [
    "---------"
   ]
  },
  {
   "cell_type": "markdown",
   "id": "bd843252",
   "metadata": {},
   "source": [
    "## Q4. What is the most effective way to initialise a list of 99 integers that repeats the sequence 1, 2, 3? S If necessary, show step-by-step instructions on how to accomplish this."
   ]
  },
  {
   "cell_type": "code",
   "execution_count": 22,
   "id": "90b0ae03",
   "metadata": {},
   "outputs": [
    {
     "name": "stdout",
     "output_type": "stream",
     "text": [
      "[1, 2, 3, 1, 2, 3, 1, 2, 3, 1, 2, 3, 1, 2, 3, 1, 2, 3, 1, 2, 3, 1, 2, 3, 1, 2, 3, 1, 2, 3, 1, 2, 3, 1, 2, 3, 1, 2, 3, 1, 2, 3, 1, 2, 3, 1, 2, 3, 1, 2, 3, 1, 2, 3, 1, 2, 3, 1, 2, 3, 1, 2, 3, 1, 2, 3, 1, 2, 3, 1, 2, 3, 1, 2, 3, 1, 2, 3, 1, 2, 3, 1, 2, 3, 1, 2, 3, 1, 2, 3, 1, 2, 3, 1, 2, 3, 1, 2, 3]\n"
     ]
    }
   ],
   "source": [
    "list1 = [1,2,3]*33\n",
    "print(list1)"
   ]
  },
  {
   "cell_type": "markdown",
   "id": "b2491bbc",
   "metadata": {},
   "source": [
    "-------"
   ]
  },
  {
   "cell_type": "markdown",
   "id": "7f176c42",
   "metadata": {},
   "source": [
    "## Q5. If you&#39;re using IDLE to run a Python application, explain how to print a multidimensional list as efficiently?"
   ]
  },
  {
   "cell_type": "code",
   "execution_count": 7,
   "id": "3a6fa036",
   "metadata": {},
   "outputs": [
    {
     "name": "stdout",
     "output_type": "stream",
     "text": [
      "1 1 2 2 3 3 4 4 5 5 "
     ]
    }
   ],
   "source": [
    "my_list = [[1,1],[2,2],[3,3],[4,4],[5,5]]\n",
    "for x in range(len(my_list)):\n",
    "    for y in range(len(my_list[x])):\n",
    "        print(my_list[x][y],end=\" \")"
   ]
  },
  {
   "cell_type": "markdown",
   "id": "51e5b847",
   "metadata": {},
   "source": [
    "-----------"
   ]
  },
  {
   "cell_type": "markdown",
   "id": "b7aef52e",
   "metadata": {},
   "source": [
    "## Q6. Is it possible to use list comprehension with a string? If so, how can you go about doing it?"
   ]
  },
  {
   "cell_type": "code",
   "execution_count": 12,
   "id": "b7986f2c",
   "metadata": {},
   "outputs": [
    {
     "name": "stdout",
     "output_type": "stream",
     "text": [
      "['S', 'c', 'i', 'e', 'n', 't', 'i', 'f', 'i', 'c']\n"
     ]
    }
   ],
   "source": [
    "x = [ele for ele in \"Scientific\"]\n",
    "print (x)"
   ]
  },
  {
   "cell_type": "markdown",
   "id": "647bbbf8",
   "metadata": {},
   "source": [
    "-----------"
   ]
  },
  {
   "cell_type": "markdown",
   "id": "822eb775",
   "metadata": {},
   "source": [
    "## Q7. From the command line, how do you get support with a user-written Python programme? Is this possible from inside IDLE?"
   ]
  },
  {
   "cell_type": "markdown",
   "id": "bc10466a",
   "metadata": {},
   "source": [
    "## User written python programme:\n",
    "Start a command prompt (Windows) or terminal window (Linux/Mac). If the current working directory is the same as the location in which you saved the file, you can simply specify the filename as a command-line argument to the Python interpreter.\n",
    "\n",
    "## User written code from IDLE:\n",
    "You can also create script files and run them in IDLE. From the Shell window menu, select File → New File. That should open an additional editing window. Type in the code to be executed. From the menu in that window, select File → Save or File → Save As… and save the file to disk. Then select Run → Run Module. The output should appear back in the interpreter"
   ]
  },
  {
   "cell_type": "markdown",
   "id": "00e1a268",
   "metadata": {},
   "source": [
    "-----------------"
   ]
  },
  {
   "cell_type": "markdown",
   "id": "efb20014",
   "metadata": {},
   "source": [
    "## Q8. Functions are said to be “first-class objects” in Python but not in most other languages, such as C++ or Java. What can you do in Python with a function (callable object) that you can&#39;t do in C or C++?\n"
   ]
  },
  {
   "cell_type": "markdown",
   "id": "5ed64e6c",
   "metadata": {},
   "source": [
    "1. A function is an instance of the Object type.\n",
    "2. You can store it in a variable.\n",
    "3. You can use decorators to pass it as a function in another code.\n",
    "4. You can return the function from a function.\n",
    "5. You can store them in data structures such as hash tables, lists,"
   ]
  },
  {
   "cell_type": "markdown",
   "id": "3983771a",
   "metadata": {},
   "source": [
    "------------"
   ]
  },
  {
   "cell_type": "markdown",
   "id": "a472c33f",
   "metadata": {},
   "source": [
    "## Q9. How do you distinguish between a wrapper, a wrapped feature, and a decorator?"
   ]
  },
  {
   "cell_type": "markdown",
   "id": "796c25a9",
   "metadata": {},
   "source": [
    "## Wrappers around the functions are also knows as decorators "
   ]
  },
  {
   "cell_type": "code",
   "execution_count": null,
   "id": "c47a8cf8",
   "metadata": {},
   "outputs": [],
   "source": [
    "@wrapper\n",
    "def function(n):\n",
    "    statements(s)"
   ]
  },
  {
   "cell_type": "markdown",
   "id": "8c6cf76f",
   "metadata": {},
   "source": [
    "-------"
   ]
  },
  {
   "cell_type": "markdown",
   "id": "7feaf3a7",
   "metadata": {},
   "source": [
    "## Q10. If a function is a generator function, what does it return?"
   ]
  },
  {
   "cell_type": "markdown",
   "id": "0a52f32b",
   "metadata": {},
   "source": [
    "## - In Python, a generator is a function that returns an iterator that produces a sequence of values when iterated over.\n",
    "\n"
   ]
  },
  {
   "cell_type": "markdown",
   "id": "ffef8b66",
   "metadata": {},
   "source": [
    "----------"
   ]
  },
  {
   "cell_type": "markdown",
   "id": "bef0eee8",
   "metadata": {},
   "source": [
    "## Q11. What is the one improvement that must be made to a function in order for it to become a generator function in the Python language?\n"
   ]
  },
  {
   "cell_type": "markdown",
   "id": "5fc9a4db",
   "metadata": {},
   "source": [
    "## Use the yield keyword instead of return."
   ]
  },
  {
   "cell_type": "markdown",
   "id": "35f7b638",
   "metadata": {},
   "source": [
    "--------"
   ]
  },
  {
   "cell_type": "markdown",
   "id": "3a2ac7ce",
   "metadata": {},
   "source": [
    "## Q12. Identify at least one benefit of generators."
   ]
  },
  {
   "cell_type": "markdown",
   "id": "c06040bd",
   "metadata": {},
   "source": [
    "## Ans - Generators are useful when we want to produce a large sequence of values, but we don't want to store all of them in memory at once."
   ]
  }
 ],
 "metadata": {
  "kernelspec": {
   "display_name": "Python 3 (ipykernel)",
   "language": "python",
   "name": "python3"
  },
  "language_info": {
   "codemirror_mode": {
    "name": "ipython",
    "version": 3
   },
   "file_extension": ".py",
   "mimetype": "text/x-python",
   "name": "python",
   "nbconvert_exporter": "python",
   "pygments_lexer": "ipython3",
   "version": "3.9.12"
  }
 },
 "nbformat": 4,
 "nbformat_minor": 5
}
