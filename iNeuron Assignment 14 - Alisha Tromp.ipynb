{
 "cells": [
  {
   "cell_type": "markdown",
   "id": "2e62ba69",
   "metadata": {},
   "source": [
    "## 1. What does RGBA stand for?\n",
    "\n",
    "## Red, green, blue and alpha"
   ]
  },
  {
   "cell_type": "markdown",
   "id": "e6d3513a",
   "metadata": {},
   "source": [
    "----------"
   ]
  },
  {
   "cell_type": "markdown",
   "id": "ee3b7efc",
   "metadata": {},
   "source": [
    "## 2. From the Pillow module, how do you get the RGBA value of any images?"
   ]
  },
  {
   "cell_type": "markdown",
   "id": "28a3cb08",
   "metadata": {},
   "source": [
    "## Use getcolors(maxcolors=256) for colours or getdata() for pixel values."
   ]
  },
  {
   "cell_type": "code",
   "execution_count": 40,
   "id": "306b1cce",
   "metadata": {},
   "outputs": [
    {
     "name": "stdout",
     "output_type": "stream",
     "text": [
      "<PixelAccess object at 0x00000290CBD22770>\n"
     ]
    }
   ],
   "source": [
    "from PIL import Image\n",
    "with Image.open('flower-color.jpg') as img:\n",
    "    print (img.load())"
   ]
  },
  {
   "cell_type": "raw",
   "id": "497d2576",
   "metadata": {},
   "source": [
    "from PIL import Image\n",
    "im = Image.open(\"flower-color.jpg\")\n",
    "pix_val = list(im.getdata())\n",
    "pix_val_flat = []\n",
    "\n",
    "for group in pix_val:\n",
    "    if type(group) == int:\n",
    "        group (group, group, group, 0) # if int, change it to tupel\n",
    "    for item in group:\n",
    "        pix_val_flat.append(item)\n",
    "print (pix_val)"
   ]
  },
  {
   "cell_type": "markdown",
   "id": "5aa6b7dc",
   "metadata": {},
   "source": [
    "----------------"
   ]
  },
  {
   "cell_type": "markdown",
   "id": "4e10cfad",
   "metadata": {},
   "source": [
    "## 3. What is a box tuple, and how does it work?"
   ]
  },
  {
   "cell_type": "markdown",
   "id": "254e8e40",
   "metadata": {},
   "source": [
    "## Ans - The box.tuple is a submodule provides only read only access of tuples. \n",
    "## It allows for selective retrieval of field contents, retrieval of information about size, iteration over all fields and conversion to a data stucture in the form of arrays and dictionaries."
   ]
  },
  {
   "cell_type": "markdown",
   "id": "43af58ad",
   "metadata": {},
   "source": [
    "---------"
   ]
  },
  {
   "cell_type": "markdown",
   "id": "4219fbd9",
   "metadata": {},
   "source": [
    "## 4. Use your image and load in notebook then, How can you find out the width and height of an Image object?\n"
   ]
  },
  {
   "cell_type": "code",
   "execution_count": 33,
   "id": "1e6385f7",
   "metadata": {},
   "outputs": [
    {
     "name": "stdout",
     "output_type": "stream",
     "text": [
      "1600\n",
      "1564\n"
     ]
    }
   ],
   "source": [
    "from PIL import Image\n",
    "with Image.open('flower-color.jpg') as img:\n",
    "    print (img.width)\n",
    "    print (img.height)"
   ]
  },
  {
   "cell_type": "markdown",
   "id": "807ac2de",
   "metadata": {},
   "source": [
    "-----------"
   ]
  },
  {
   "cell_type": "markdown",
   "id": "3f3b4f40",
   "metadata": {},
   "source": [
    "## 5. What method would you call to get Image object for a 100×100 image, excluding the lower-left quarter of it?\n"
   ]
  },
  {
   "cell_type": "markdown",
   "id": "2dc9f5a8",
   "metadata": {},
   "source": [
    "## Use the cropping functionality.\n",
    "\n",
    "## set the cropping area with box (left, upper, right, lower)\n",
    "\n"
   ]
  },
  {
   "cell_type": "markdown",
   "id": "47bdb116",
   "metadata": {},
   "source": [
    "------------"
   ]
  },
  {
   "cell_type": "markdown",
   "id": "02cd835e",
   "metadata": {},
   "source": [
    "## 6. After making changes to an Image object, how could you save it as an image file?\n"
   ]
  },
  {
   "cell_type": "code",
   "execution_count": null,
   "id": "ccfd0c7a",
   "metadata": {},
   "outputs": [],
   "source": [
    "from PIL import Image\n",
    "\n",
    "im = Image.open('flower-color.jpg')\n",
    "im_crop_outside = im.crop((100, 150, 600, 110))\n",
    "im_crop_outside.save('flower-color cropped.jpg', quality=95)"
   ]
  },
  {
   "cell_type": "markdown",
   "id": "dd16f914",
   "metadata": {},
   "source": [
    "---------"
   ]
  },
  {
   "cell_type": "markdown",
   "id": "fee92600",
   "metadata": {},
   "source": [
    "## 7. What module contains Pillow’s shape-drawing code?\n",
    "## ImageDraw"
   ]
  },
  {
   "cell_type": "markdown",
   "id": "014f3669",
   "metadata": {},
   "source": [
    "----------"
   ]
  },
  {
   "cell_type": "markdown",
   "id": "12773cef",
   "metadata": {},
   "source": [
    "## 8. Image objects do not have drawing methods. What kind of object does? How do you get this kind of object?\n",
    "\n",
    "## Using draw() to get an ImageDraw object. Store ImageDraw in draw you can call drawing methods on draw."
   ]
  }
 ],
 "metadata": {
  "kernelspec": {
   "display_name": "Python 3 (ipykernel)",
   "language": "python",
   "name": "python3"
  },
  "language_info": {
   "codemirror_mode": {
    "name": "ipython",
    "version": 3
   },
   "file_extension": ".py",
   "mimetype": "text/x-python",
   "name": "python",
   "nbconvert_exporter": "python",
   "pygments_lexer": "ipython3",
   "version": "3.9.12"
  }
 },
 "nbformat": 4,
 "nbformat_minor": 5
}
