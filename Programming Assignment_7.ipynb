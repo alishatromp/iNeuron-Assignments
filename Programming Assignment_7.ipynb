{
 "cells": [
  {
   "cell_type": "markdown",
   "id": "573edf6c",
   "metadata": {},
   "source": [
    "## 1. Write a Python Program to find sum of array?\n"
   ]
  },
  {
   "cell_type": "code",
   "execution_count": 3,
   "id": "331e6924",
   "metadata": {},
   "outputs": [
    {
     "name": "stdout",
     "output_type": "stream",
     "text": [
      "28\n"
     ]
    }
   ],
   "source": [
    "arr = [1,2,3,4,5,6,7]\n",
    "_sum = 0\n",
    "for i in arr:\n",
    "    _sum+=i\n",
    "print (_sum)"
   ]
  },
  {
   "cell_type": "markdown",
   "id": "e898feae",
   "metadata": {},
   "source": [
    "-------"
   ]
  },
  {
   "cell_type": "markdown",
   "id": "e12e2825",
   "metadata": {},
   "source": [
    "## 2. Write a Python Program to find largest element in an array?"
   ]
  },
  {
   "cell_type": "code",
   "execution_count": 60,
   "id": "28ca6157",
   "metadata": {},
   "outputs": [
    {
     "name": "stdout",
     "output_type": "stream",
     "text": [
      "Largest element is 2003\n"
     ]
    }
   ],
   "source": [
    "arr = [1,32,17,100,82,99,2003]\n",
    "\n",
    "max_value = max(arr)\n",
    "print (f\"Largest element is {max_value}\")"
   ]
  },
  {
   "cell_type": "markdown",
   "id": "63424b8b",
   "metadata": {},
   "source": [
    "---------"
   ]
  },
  {
   "cell_type": "markdown",
   "id": "ac536fde",
   "metadata": {},
   "source": [
    "## 3. Write a Python Program for array rotation?\n"
   ]
  },
  {
   "cell_type": "code",
   "execution_count": 61,
   "id": "b811a9aa",
   "metadata": {},
   "outputs": [
    {
     "name": "stdout",
     "output_type": "stream",
     "text": [
      "[99, 82, 100, 17, 32, 1, 2003]\n"
     ]
    }
   ],
   "source": [
    "def reverse(start,end,arr):\n",
    "    no_of_reverse=end-start+1\n",
    "    count=0\n",
    "    while((no_of_reverse)//2!=count):\n",
    "        arr[start+count],arr[end-count]=arr[end-count],arr[start+count]\n",
    "        count+=1\n",
    "    return arr\n",
    "print (reverse(0,5, [1,32,17,100,82,99,2003]))"
   ]
  },
  {
   "cell_type": "markdown",
   "id": "fd2f9eed",
   "metadata": {},
   "source": [
    "----------"
   ]
  },
  {
   "cell_type": "markdown",
   "id": "4bbc1dec",
   "metadata": {},
   "source": [
    "## 4. Write a Python Program to Split the array and add the first part to the end?"
   ]
  },
  {
   "cell_type": "code",
   "execution_count": 1,
   "id": "dffd5e14",
   "metadata": {},
   "outputs": [
    {
     "name": "stdout",
     "output_type": "stream",
     "text": [
      "[[182, 9, 0, 11994], [1999, 312, 110]]\n"
     ]
    }
   ],
   "source": [
    "arr = [1999,312,110,182,9,0,11994]\n",
    "\n",
    "middle_index = int(len(arr)/2)\n",
    "front_arr = arr[0:middle_index]\n",
    "back_arr = arr[middle_index:]\n",
    "new_arr=[]\n",
    "new_arr.append(back_arr)\n",
    "new_arr.append(front_arr)\n",
    "print(new_arr)"
   ]
  },
  {
   "cell_type": "markdown",
   "id": "3f54d171",
   "metadata": {},
   "source": [
    "-----"
   ]
  },
  {
   "cell_type": "markdown",
   "id": "573c3681",
   "metadata": {},
   "source": [
    "## 5. Write a Python Program to check if given array is Monotonic?"
   ]
  },
  {
   "cell_type": "code",
   "execution_count": 28,
   "id": "5e048d10",
   "metadata": {},
   "outputs": [
    {
     "data": {
      "text/plain": [
       "False"
      ]
     },
     "execution_count": 28,
     "metadata": {},
     "output_type": "execute_result"
    }
   ],
   "source": [
    "def isMonotonic(arr):\n",
    "    x, y = [], []\n",
    "    x.extend(arr)\n",
    "    y.extend(arr)\n",
    "    x.sort()\n",
    "    y.sort(reverse=True)\n",
    "    if(x == arr or y == arr):\n",
    "        return True\n",
    "    return False\n",
    "isMonotonic([2,3,4,5,5,3,2,1])"
   ]
  }
 ],
 "metadata": {
  "kernelspec": {
   "display_name": "Python 3 (ipykernel)",
   "language": "python",
   "name": "python3"
  },
  "language_info": {
   "codemirror_mode": {
    "name": "ipython",
    "version": 3
   },
   "file_extension": ".py",
   "mimetype": "text/x-python",
   "name": "python",
   "nbconvert_exporter": "python",
   "pygments_lexer": "ipython3",
   "version": "3.9.12"
  }
 },
 "nbformat": 4,
 "nbformat_minor": 5
}
