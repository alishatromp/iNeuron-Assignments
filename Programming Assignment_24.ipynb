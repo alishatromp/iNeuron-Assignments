{
 "cells": [
  {
   "cell_type": "markdown",
   "id": "a0aa2bcd",
   "metadata": {},
   "source": [
    "## Question 1\n",
    "### Create a function that takes an integer and returns a list from 1 to the given number, where:\n",
    "- 1. If the number can be divided evenly by 4, amplify it by 10 (i.e. return 10 times the\n",
    "number).\n",
    "- 2. If the number cannot be divided evenly by 4, simply return the number.\n",
    "- Examples\n",
    "- amplify(4) ➞ [1, 2, 3, 40]\n",
    "- amplify(3) ➞ [1, 2, 3]\n",
    "- amplify(25) ➞ [1, 2, 3, 40, 5, 6, 7, 80, 9, 10, 11, 120, 13, 14, 15, 160, 17, 18, 19, 200, 21, 22, 23, 240, 25]\n",
    "- Notes\n",
    "-  The given integer will always be equal to or greater than 1.\n",
    "-  Include the number (see example above).\n",
    "-  To perform this problem with its intended purpose, try doing it with list comprehensions. If that&#39;s too difficult, just solve the challenge any way you can.\n",
    "\n",
    "\n"
   ]
  },
  {
   "cell_type": "code",
   "execution_count": 15,
   "id": "109d39b6",
   "metadata": {},
   "outputs": [
    {
     "name": "stdout",
     "output_type": "stream",
     "text": [
      "[1, 2, 3, 4, 40]\n",
      "[1, 2, 3, 4, 40, 5, 6, 7, 8, 80, 9, 10, 11, 12, 120, 13, 14, 15, 16, 160, 17, 18, 19, 20, 200, 21, 22, 23, 24, 240, 25]\n"
     ]
    }
   ],
   "source": [
    "def amplify(num):\n",
    "    l=[]\n",
    "    for i in range (1,num+1):\n",
    "        l.append(i)\n",
    "        if i%4==0:\n",
    "            l.append(i*10)\n",
    "    return l\n",
    "\n",
    "print(amplify(4))\n",
    "print(amplify(25))"
   ]
  },
  {
   "cell_type": "markdown",
   "id": "8d38711d",
   "metadata": {},
   "source": [
    "-------"
   ]
  },
  {
   "cell_type": "markdown",
   "id": "3ef452e3",
   "metadata": {},
   "source": [
    "## Question 2\n",
    "### Create a function that takes a list of numbers and return the number that&#39;s unique.\n",
    "- Examples\n",
    "- unique([3, 3, 3, 7, 3, 3]) ➞ 7\n",
    "- unique([0, 0, 0.77, 0, 0]) ➞ 0.77\n",
    "- unique([0, 1, 1, 1, 1, 1, 1, 1]) ➞ 0\n",
    "- Notes\n",
    "- Test cases will always have exactly one unique number while all others are the same.\n"
   ]
  },
  {
   "cell_type": "code",
   "execution_count": 18,
   "id": "19ef34e7",
   "metadata": {},
   "outputs": [
    {
     "name": "stdout",
     "output_type": "stream",
     "text": [
      "[7]\n",
      "[0.77]\n",
      "[0]\n"
     ]
    }
   ],
   "source": [
    "def unique(l):\n",
    "    unique = []\n",
    "    for i in l:\n",
    "        count = l.count(i)\n",
    "        if count == 1:\n",
    "            unique.append(i)\n",
    "    return unique\n",
    "            \n",
    "    \n",
    "\n",
    "print(unique([3, 3, 3, 7, 3, 3]))\n",
    "print(unique([0, 0, 0.77, 0, 0]))\n",
    "print(unique([0, 1, 1, 1, 1, 1, 1, 1]))"
   ]
  },
  {
   "cell_type": "markdown",
   "id": "e343eabd",
   "metadata": {},
   "source": [
    "------"
   ]
  },
  {
   "cell_type": "markdown",
   "id": "9ef5fcdb",
   "metadata": {},
   "source": [
    "## Question 3\n",
    "### Your task is to create a Circle constructor that creates a circle with a radius provided by an argument. The circles constructed must have two getters getArea() (PIr^2) and getPerimeter() (2PI*r) which give both respective areas and perimeter (circumference).\n",
    "\n",
    "- For help with this class, I have provided you with a Rectangle constructor which you can use as a base example.\n",
    "- Examples\n",
    "- circy = Circle(11)\n",
    "- circy.getArea()\n",
    "- Should return 380.132711084365\n",
    "- circy = Circle(4.44)\n",
    "- circy.getPerimeter()\n",
    "- Should return 27.897342763877365\n",
    "- Notes\n",
    "- Round results up to the nearest integer."
   ]
  },
  {
   "cell_type": "code",
   "execution_count": 19,
   "id": "ce8b8600",
   "metadata": {},
   "outputs": [
    {
     "name": "stdout",
     "output_type": "stream",
     "text": [
      "380\n",
      "69\n"
     ]
    }
   ],
   "source": [
    "class Circle:\n",
    "    def __init__(self,r):\n",
    "        self.r = r\n",
    "    \n",
    "    def getArea(self):\n",
    "        A = (3.141592653589793238)*((self.r)**2)\n",
    "        return round(A)\n",
    "    \n",
    "    def getPerimeter(self):\n",
    "        P = 2*(3.141592653589793238)*self.r\n",
    "        return round(P)\n",
    "        \n",
    "circy = Circle(11)\n",
    "print(circy.getArea())\n",
    "print(circy.getPerimeter())"
   ]
  },
  {
   "cell_type": "markdown",
   "id": "4d354e7d",
   "metadata": {},
   "source": [
    "--------"
   ]
  },
  {
   "cell_type": "markdown",
   "id": "8a08b710",
   "metadata": {},
   "source": [
    "## Question 4\n",
    "### Create a function that takes a list of strings and return a list, sorted from shortest to longest.\n",
    "- Examples\n",
    "- sort_by_length([&quot;Google&quot;, &quot;Apple&quot;, &quot;Microsoft&quot;])\n",
    "➞ [&quot;Apple&quot;, &quot;Google&quot;, &quot;Microsoft&quot;]\n",
    "- sort_by_length([&quot;Leonardo&quot;, &quot;Michelangelo&quot;, &quot;Raphael&quot;, &quot;Donatello&quot;])\n",
    "➞ [&quot;Raphael&quot;, &quot;Leonardo&quot;, &quot;Donatello&quot;, &quot;Michelangelo&quot;]\n",
    "- sort_by_length([&quot;Turing&quot;, &quot;Einstein&quot;, &quot;Jung&quot;])\n",
    "➞ [&quot;Jung&quot;, &quot;Turing&quot;, &quot;Einstein&quot;]\n",
    "- Notes\n",
    "- All test cases contain lists with strings of different lengths, so you won&#39;t have to deal with multiple strings of the same length.\n"
   ]
  },
  {
   "cell_type": "code",
   "execution_count": 20,
   "id": "8071b365",
   "metadata": {},
   "outputs": [
    {
     "name": "stdout",
     "output_type": "stream",
     "text": [
      "['Apple', 'Google', 'Microsoft']\n",
      "['Raphael', 'Leonardo', 'Donatello', 'Michelangelo']\n",
      "['Jung', 'Turing', 'Einstein']\n"
     ]
    }
   ],
   "source": [
    "def sort_by_length(x):\n",
    "    sorted_l = sorted(x, key=len)\n",
    "    return sorted_l\n",
    "\n",
    "print(sort_by_length([\"Google\", \"Apple\", \"Microsoft\"]))\n",
    "print(sort_by_length([\"Leonardo\", \"Michelangelo\", \"Raphael\", \"Donatello\"]))\n",
    "print(sort_by_length([\"Turing\", \"Einstein\", \"Jung\"]))"
   ]
  },
  {
   "cell_type": "markdown",
   "id": "62fbca20",
   "metadata": {},
   "source": [
    "-------"
   ]
  },
  {
   "cell_type": "markdown",
   "id": "3607fd0d",
   "metadata": {},
   "source": [
    "## Question 5\n",
    "### Create a function that validates whether three given integers form a Pythagorean triplet. The sum of the squares of the two smallest integers must equal the square of the largest number to be validated.\n",
    "- Examples\n",
    "- is_triplet(3, 4, 5) ➞ True\n",
    "### 3² + 4² = 25\n",
    "### 5² = 25\n",
    "- is_triplet(13, 5, 12) ➞ True\n",
    "### 5² + 12² = 169\n",
    "### 13² = 169\n",
    "- is_triplet(1, 2, 3) ➞ False\n",
    "### 1² + 2² = 5\n",
    "### 3² = 9\n",
    "- Notes\n",
    "- Numbers may not be given in a sorted order."
   ]
  },
  {
   "cell_type": "code",
   "execution_count": 21,
   "id": "2ecf67bb",
   "metadata": {},
   "outputs": [
    {
     "name": "stdout",
     "output_type": "stream",
     "text": [
      "False\n",
      "True\n",
      "True\n",
      "True\n"
     ]
    }
   ],
   "source": [
    "def is_triplet(a,b,c):\n",
    "    if a<b and b<c:\n",
    "        smallest = (a**2 + b**2)\n",
    "        largest = c**2\n",
    "    elif a<c and b<c:\n",
    "        smallest = (a**2 + b**2)\n",
    "        largest = c**2\n",
    "    else:\n",
    "        smallest = (b**2 + c**2)\n",
    "        largest = a**2\n",
    "    \n",
    "    if smallest == largest:\n",
    "        return True\n",
    "    else:\n",
    "        return False\n",
    "    \n",
    "print(is_triplet(1,2,3))\n",
    "print(is_triplet(3,4,5))\n",
    "print(is_triplet(13,5,12))\n",
    "print(is_triplet(4,3,5))"
   ]
  }
 ],
 "metadata": {
  "kernelspec": {
   "display_name": "Python 3 (ipykernel)",
   "language": "python",
   "name": "python3"
  },
  "language_info": {
   "codemirror_mode": {
    "name": "ipython",
    "version": 3
   },
   "file_extension": ".py",
   "mimetype": "text/x-python",
   "name": "python",
   "nbconvert_exporter": "python",
   "pygments_lexer": "ipython3",
   "version": "3.9.12"
  }
 },
 "nbformat": 4,
 "nbformat_minor": 5
}
