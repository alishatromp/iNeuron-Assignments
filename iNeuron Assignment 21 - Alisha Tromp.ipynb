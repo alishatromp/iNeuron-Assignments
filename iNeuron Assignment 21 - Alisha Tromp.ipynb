{
 "cells": [
  {
   "cell_type": "markdown",
   "id": "c14e5415",
   "metadata": {},
   "source": [
    "## 1. Add the current date to the text file today.txt as a string.\n"
   ]
  },
  {
   "cell_type": "code",
   "execution_count": 26,
   "id": "78f0a0ef",
   "metadata": {},
   "outputs": [
    {
     "name": "stdout",
     "output_type": "stream",
     "text": [
      "done\n"
     ]
    }
   ],
   "source": [
    "data = \"18/05/2023\"\n",
    "with open ('today.txt', 'w') as f:\n",
    "    f.write(data)\n",
    "print ('done')"
   ]
  },
  {
   "cell_type": "markdown",
   "id": "1fcedba5",
   "metadata": {},
   "source": [
    "------------"
   ]
  },
  {
   "cell_type": "markdown",
   "id": "a98d7e8f",
   "metadata": {},
   "source": [
    "## 2. Read the text file today.txt into the string today_string"
   ]
  },
  {
   "cell_type": "code",
   "execution_count": 27,
   "id": "35c30403",
   "metadata": {},
   "outputs": [],
   "source": [
    "with open('today.txt') as f:\n",
    "    today_string = f.read()"
   ]
  },
  {
   "cell_type": "markdown",
   "id": "0e11d77c",
   "metadata": {},
   "source": [
    "---------"
   ]
  },
  {
   "cell_type": "markdown",
   "id": "dfb1dc28",
   "metadata": {},
   "source": [
    "## 3. Parse the date from today_string."
   ]
  },
  {
   "cell_type": "code",
   "execution_count": 28,
   "id": "91b376e0",
   "metadata": {},
   "outputs": [
    {
     "name": "stdout",
     "output_type": "stream",
     "text": [
      "['18']\n"
     ]
    }
   ],
   "source": [
    "x = today_string.split('/')\n",
    "print (x[0:1])"
   ]
  },
  {
   "cell_type": "markdown",
   "id": "83a8c290",
   "metadata": {},
   "source": [
    "-------"
   ]
  },
  {
   "cell_type": "markdown",
   "id": "d732ea65",
   "metadata": {},
   "source": [
    "## 4. List the files in your current directory\n"
   ]
  },
  {
   "cell_type": "code",
   "execution_count": 29,
   "id": "d73d4852",
   "metadata": {},
   "outputs": [
    {
     "name": "stdout",
     "output_type": "stream",
     "text": [
      " Volume in drive C is Local Disk\n",
      " Volume Serial Number is ACB9-FBFA\n",
      "\n",
      " Directory of C:\\Users\\61421\\Assignments\n",
      "\n",
      "19/05/2023  12:23 PM    <DIR>          .\n",
      "17/05/2023  03:11 PM    <DIR>          ..\n",
      "19/05/2023  08:35 AM    <DIR>          .ipynb_checkpoints\n",
      "09/05/2023  12:50 PM    <DIR>          __pycache__\n",
      "26/04/2023  09:07 AM           213,310 Alisha Tromp BHP CV.pdf\n",
      "26/04/2023  09:17 AM           212,413 Alisha Tromp DS CV.pdf\n",
      "26/04/2023  09:53 AM           194,165 AT Clockwise.pdf\n",
      "17/05/2023  02:12 PM               208 books.csv\n",
      "17/05/2023  02:12 PM            12,288 books.db\n",
      "26/04/2023  10:40 AM            17,843 doc.docx\n",
      "26/04/2023  03:02 PM                87 EmployeeData.csv\n",
      "26/04/2023  03:01 PM                87 EmployeeDatausingNumpy.csv\n",
      "26/04/2023  03:05 PM                86 EmployeeDatausingPD.csv\n",
      "27/04/2023  10:38 AM                 0 flower-color cropped.jpg\n",
      "27/04/2023  08:59 AM           146,478 flower-color.jpg\n",
      "19/05/2023  12:23 PM             6,831 iNeuron Assignment 21 - Alisha Tromp.ipynb\n",
      "26/04/2023  10:39 AM            17,842 out.docx\n",
      "14/04/2023  11:55 AM    <DIR>          Programming Assignments\n",
      "17/05/2023  02:20 PM    <DIR>          Python Theory\n",
      "14/04/2023  11:48 AM    <DIR>          randomFolder\n",
      "27/04/2023  10:47 AM            35,278 result_image.png\n",
      "15/04/2023  05:08 PM           146,478 selectedFolder\n",
      "15/04/2023  05:07 PM           146,478 selectiveFolder\n",
      "15/05/2023  04:08 PM                43 test.txt\n",
      "19/05/2023  12:24 PM                10 today.txt\n",
      "19/05/2023  12:21 PM             9,406 Untitled.ipynb\n",
      "09/05/2023  12:50 PM                39 zoo.py\n",
      "              20 File(s)      1,159,370 bytes\n",
      "               7 Dir(s)  411,579,674,624 bytes free\n"
     ]
    }
   ],
   "source": [
    "%ls"
   ]
  },
  {
   "cell_type": "markdown",
   "id": "a3e9b298",
   "metadata": {},
   "source": [
    "-------"
   ]
  },
  {
   "cell_type": "markdown",
   "id": "69264434",
   "metadata": {},
   "source": [
    "## 5. Create a list of all of the files in your parent directory (minimum five files should be available).\n"
   ]
  },
  {
   "cell_type": "code",
   "execution_count": 30,
   "id": "ed8f0c62",
   "metadata": {},
   "outputs": [
    {
     "name": "stdout",
     "output_type": "stream",
     "text": [
      "Files and directories in ' C:\\Users\\61421\\Assignments ' : \n",
      "\n",
      "['.ipynb_checkpoints', 'Alisha Tromp BHP CV.pdf', 'Alisha Tromp DS CV.pdf', 'AT Clockwise.pdf', 'books.csv', 'books.db', 'doc.docx', 'EmployeeData.csv', 'EmployeeDatausingNumpy.csv', 'EmployeeDatausingPD.csv', 'flower-color cropped.jpg', 'flower-color.jpg', 'iNeuron Assignment 21 - Alisha Tromp.ipynb', 'out.docx', 'Programming Assignments', 'Python Theory', 'randomFolder', 'result_image.png', 'selectedFolder', 'selectiveFolder', 'test.txt', 'today.txt', 'Untitled.ipynb', 'zoo.py', '__pycache__']\n"
     ]
    }
   ],
   "source": [
    "# import OS module\n",
    "import os\n",
    " \n",
    "# Get the list of all files and directories\n",
    "path = \"C:\\\\Users\\\\61421\\\\Assignments\"\n",
    "parent_dict_list = os.listdir(path)\n",
    " \n",
    "print(\"Files and directories in '\", path, \"' :\", \"\\n\")\n",
    " \n",
    "# prints all files\n",
    "print(parent_dict_list)"
   ]
  },
  {
   "cell_type": "markdown",
   "id": "a977a47d",
   "metadata": {},
   "source": [
    "---------"
   ]
  },
  {
   "cell_type": "markdown",
   "id": "bd9b4762",
   "metadata": {},
   "source": [
    "## 6. Use multiprocessing to create three separate processes. Make each one wait a random number of seconds between one and five, print the current time, and then exit.\n"
   ]
  },
  {
   "cell_type": "code",
   "execution_count": 24,
   "id": "f48e42a6",
   "metadata": {},
   "outputs": [
    {
     "name": "stdout",
     "output_type": "stream",
     "text": [
      "Finished process in 0.09861350059509277 seconds\n"
     ]
    }
   ],
   "source": [
    "import time\n",
    "import multiprocessing\n",
    "import random\n",
    "\n",
    "def random_wait():\n",
    "    start = time.time()\n",
    "    print(f'Current time is {time.time()}')\n",
    "    time.sleep(random.randint(1,5))\n",
    "    end = time.time()\n",
    "    print(f\"Finished process in {end - start} seconds\")\n",
    "\n",
    "if __name__ == \"__main__\":\n",
    "    start = time.time()\n",
    "    # Create two threads\n",
    "    p1 = multiprocessing.Process(target=random_wait)\n",
    "    p2 = multiprocessing.Process(target=random_wait)\n",
    "    p3 = multiprocessing.Process(target=random_wait)\n",
    "    \n",
    "    p1.start()\n",
    "    p2.start()\n",
    "    p3.start()\n",
    "    \n",
    "    p1.join()\n",
    "    p2.join()\n",
    "    p3.join()\n",
    "    end = time.time()\n",
    "    print(f\"Finished process in {end - start} seconds\")"
   ]
  },
  {
   "cell_type": "markdown",
   "id": "bdf03ab5",
   "metadata": {},
   "source": [
    "---------"
   ]
  },
  {
   "cell_type": "markdown",
   "id": "f7ae1d4f",
   "metadata": {},
   "source": [
    "## 7. Create a date object of your day of birth."
   ]
  },
  {
   "cell_type": "code",
   "execution_count": 7,
   "id": "06cc64cd",
   "metadata": {},
   "outputs": [
    {
     "name": "stdout",
     "output_type": "stream",
     "text": [
      "1984-04-29 00:00:00\n"
     ]
    }
   ],
   "source": [
    "import datetime\n",
    "birthdate = datetime.datetime(1984,4,29)\n",
    "print (birthdate)"
   ]
  },
  {
   "cell_type": "markdown",
   "id": "a732de71",
   "metadata": {},
   "source": [
    "---------"
   ]
  },
  {
   "cell_type": "markdown",
   "id": "f8f85cbb",
   "metadata": {},
   "source": [
    "## 8. What day of the week was your day of birth?\n"
   ]
  },
  {
   "cell_type": "code",
   "execution_count": 6,
   "id": "7768bdd3",
   "metadata": {},
   "outputs": [
    {
     "name": "stdout",
     "output_type": "stream",
     "text": [
      "The day you were born was a Saturday\n"
     ]
    }
   ],
   "source": [
    "import datetime\n",
    "import calendar\n",
    "\n",
    "s = \"28 03 1981\"\n",
    "born = datetime.datetime.strptime(s, '%d %m %Y').weekday()\n",
    "wd = calendar.day_name[born]\n",
    "\n",
    "print (f\"The day you were born was a {wd}\")"
   ]
  },
  {
   "cell_type": "markdown",
   "id": "5b86e7a3",
   "metadata": {},
   "source": [
    "-----------"
   ]
  },
  {
   "cell_type": "markdown",
   "id": "0b6ca121",
   "metadata": {},
   "source": [
    "## 9. When will you be (or when were you) 10,000 days old?"
   ]
  },
  {
   "cell_type": "code",
   "execution_count": 25,
   "id": "e18636ad",
   "metadata": {},
   "outputs": [
    {
     "name": "stdout",
     "output_type": "stream",
     "text": [
      "I was or will be 10,000 days old on 2011-09-15\n"
     ]
    }
   ],
   "source": [
    "import datetime\n",
    "\n",
    "start_date = datetime.datetime(day=29, month=4, year=1984)\n",
    "end_date = start_date + datetime.timedelta(days=10000)\n",
    "print(f\"I was or will be 10,000 days old on {end_date.date()}\")"
   ]
  }
 ],
 "metadata": {
  "kernelspec": {
   "display_name": "Python 3 (ipykernel)",
   "language": "python",
   "name": "python3"
  },
  "language_info": {
   "codemirror_mode": {
    "name": "ipython",
    "version": 3
   },
   "file_extension": ".py",
   "mimetype": "text/x-python",
   "name": "python",
   "nbconvert_exporter": "python",
   "pygments_lexer": "ipython3",
   "version": "3.9.12"
  }
 },
 "nbformat": 4,
 "nbformat_minor": 5
}
