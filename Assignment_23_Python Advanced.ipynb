{
 "cells": [
  {
   "cell_type": "markdown",
   "id": "e8ff0ad3",
   "metadata": {},
   "source": [
    "## Q1. If you have any, what are your choices for increasing the comparison between different figures on the same graph?"
   ]
  },
  {
   "cell_type": "markdown",
   "id": "b9ff3dc1",
   "metadata": {},
   "source": [
    "## Matplotlib sublplot() gives you the option of creating comparison plots within one figure."
   ]
  },
  {
   "cell_type": "markdown",
   "id": "06d09c92",
   "metadata": {},
   "source": [
    "-----------"
   ]
  },
  {
   "cell_type": "markdown",
   "id": "eec105be",
   "metadata": {},
   "source": [
    "## Q2. Can you explain the benefit of compound interest over a higher rate of interest that does not compound after reading this chapter?\n"
   ]
  },
  {
   "cell_type": "markdown",
   "id": "8746d1f4",
   "metadata": {},
   "source": [
    "## Compound interest is interest on principal+interest. In other words you'll be earning a lot more than simple interest on pricipal amount."
   ]
  },
  {
   "cell_type": "markdown",
   "id": "dae741a7",
   "metadata": {},
   "source": [
    "---------"
   ]
  },
  {
   "cell_type": "markdown",
   "id": "6f2dbe80",
   "metadata": {},
   "source": [
    "## Q3. What is a histogram, exactly? Name a numpy method for creating such a graph."
   ]
  },
  {
   "cell_type": "markdown",
   "id": "b64cb4e7",
   "metadata": {},
   "source": [
    "## A histogram is a graph that shows the frequency of numerical data using rectangles. The height of a rectangle (the vertical axis) represents the distribution frequency of a variable (the amount, or how often that variable appears).\n",
    "numpy.histogram() helps you create such graph."
   ]
  },
  {
   "cell_type": "markdown",
   "id": "10ce374e",
   "metadata": {},
   "source": [
    "-------------"
   ]
  },
  {
   "cell_type": "markdown",
   "id": "a943818d",
   "metadata": {},
   "source": [
    "## Q4. If necessary, how do you change the aspect ratios between the X and Y axes?"
   ]
  },
  {
   "cell_type": "markdown",
   "id": "7f2368f4",
   "metadata": {},
   "source": [
    "- We can use figure(figsize=(8,8)) function inside the matplot.pyplot library which we scale down or up the graph."
   ]
  },
  {
   "cell_type": "markdown",
   "id": "c251a388",
   "metadata": {},
   "source": [
    "-------------"
   ]
  },
  {
   "cell_type": "markdown",
   "id": "6a039844",
   "metadata": {},
   "source": [
    "## Q5. Compare and contrast the three types of array multiplication between two numpy arrays: dot product, outer product, and regular multiplication of two numpy arrays.\n"
   ]
  },
  {
   "cell_type": "markdown",
   "id": "f0af940a",
   "metadata": {},
   "source": [
    "- In regular multiplication values of same index get multiplied.\n",
    "\n",
    "- In dot product there is row wise multiplication, row of one array with column of second array and so on.\n",
    "- In outer multiplication the result = np. outer(p, q) means the outer product is calculated by taking the Cartesian product of the elements in p and q, and multiplying them together."
   ]
  },
  {
   "cell_type": "markdown",
   "id": "1ee8c628",
   "metadata": {},
   "source": [
    "---------------"
   ]
  },
  {
   "cell_type": "markdown",
   "id": "a30798cc",
   "metadata": {},
   "source": [
    "## Q6. Before you buy a home, which numpy function will you use to measure your monthly mortgage payment?\n"
   ]
  },
  {
   "cell_type": "markdown",
   "id": "2c4cb946",
   "metadata": {},
   "source": [
    "### In order to calculate the monthly mortgage payment, you will use the numpy function . pmt(rate, nper, pv) where: rate = The periodic (monthly) interest rate. nper = The number of payment periods (months) in the lifespan of the mortgage loan and pv is the total value of the mortgage loan."
   ]
  },
  {
   "cell_type": "markdown",
   "id": "acd810ac",
   "metadata": {},
   "source": [
    "------------"
   ]
  },
  {
   "cell_type": "markdown",
   "id": "9c918615",
   "metadata": {},
   "source": [
    "## Q7. Can string data be stored in numpy arrays? If so, list at least one restriction that applies to this data."
   ]
  },
  {
   "cell_type": "markdown",
   "id": "f4c62eca",
   "metadata": {},
   "source": [
    "## Yes you can store str data. The restriction is that the maximum length of the string is dictated by the max length of the element. That is the limit."
   ]
  }
 ],
 "metadata": {
  "kernelspec": {
   "display_name": "Python 3 (ipykernel)",
   "language": "python",
   "name": "python3"
  },
  "language_info": {
   "codemirror_mode": {
    "name": "ipython",
    "version": 3
   },
   "file_extension": ".py",
   "mimetype": "text/x-python",
   "name": "python",
   "nbconvert_exporter": "python",
   "pygments_lexer": "ipython3",
   "version": "3.9.12"
  }
 },
 "nbformat": 4,
 "nbformat_minor": 5
}
