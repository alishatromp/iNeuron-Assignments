{
 "cells": [
  {
   "cell_type": "markdown",
   "id": "364b7dcb",
   "metadata": {},
   "source": [
    "## 1. Set the variable test1 to the string &#39;This is a test of the emergency text system,&#39; and save test1 to a file named test.txt.\n"
   ]
  },
  {
   "cell_type": "code",
   "execution_count": 6,
   "id": "61e98866",
   "metadata": {},
   "outputs": [],
   "source": [
    "test1 = \"This is a test of the emergency text system\"\n",
    "with open ('test.txt', 'w') as f:\n",
    "    f.write(test1)"
   ]
  },
  {
   "cell_type": "markdown",
   "id": "bc15bf51",
   "metadata": {},
   "source": [
    "----------"
   ]
  },
  {
   "cell_type": "markdown",
   "id": "202e7824",
   "metadata": {},
   "source": [
    "## 2. Read the contents of the file test.txt into the variable test2. Is there a difference between test 1 and test 2?\n",
    "\n",
    "## Ans - no difference between the two. Look below."
   ]
  },
  {
   "cell_type": "code",
   "execution_count": 2,
   "id": "8bc0d3d8",
   "metadata": {},
   "outputs": [
    {
     "data": {
      "text/plain": [
       "'This is a test of the emergency text system'"
      ]
     },
     "execution_count": 2,
     "metadata": {},
     "output_type": "execute_result"
    }
   ],
   "source": [
    "test2 = open(\"test.txt\", \"r\")\n",
    "test2.read()"
   ]
  },
  {
   "cell_type": "code",
   "execution_count": 3,
   "id": "0dfa1e77",
   "metadata": {},
   "outputs": [
    {
     "data": {
      "text/plain": [
       "'This is a test of the emergency text system'"
      ]
     },
     "execution_count": 3,
     "metadata": {},
     "output_type": "execute_result"
    }
   ],
   "source": [
    "test1"
   ]
  },
  {
   "cell_type": "markdown",
   "id": "d0da7b1c",
   "metadata": {},
   "source": [
    "--------------"
   ]
  },
  {
   "cell_type": "markdown",
   "id": "0dabb2e2",
   "metadata": {},
   "source": [
    "## 3. Create a CSV file called books.csv by using these lines:\n",
    "- title,author,year\n",
    "- The Weirdstone of Brisingamen,Alan Garner,1960\n",
    "- Perdido Street Station,China Miéville,2000\n",
    "- Thud!,Terry Pratchett,2005\n",
    "- The Spellman Files,Lisa Lutz,2007\n",
    "- Small Gods,Terry Pratchett,1992\n"
   ]
  },
  {
   "cell_type": "code",
   "execution_count": 7,
   "id": "e913b6ab",
   "metadata": {},
   "outputs": [],
   "source": [
    "import csv\n",
    "\n",
    "with open ('books.csv', 'w', newline='', encoding ='utf-8') as file:\n",
    "    writer = csv.writer(file)\n",
    "    field = ['title', 'author', 'year']\n",
    "    \n",
    "    writer.writerow(field)\n",
    "    writer.writerow(['The Weirdstone of Brisingamen', 'Alan Garner', 1960])\n",
    "    writer.writerow(['Perdido Street Station', 'China Miéville', 2000])\n",
    "    writer.writerow(['Thud!','Terry Pratchett', 2005])\n",
    "    writer.writerow(['The Spellman Files', 'Lisa Lutz',2007])\n",
    "    writer.writerow(['Small Gods','Terry Pratchett',1992])"
   ]
  },
  {
   "cell_type": "markdown",
   "id": "bd35ce8d",
   "metadata": {},
   "source": [
    "-----------"
   ]
  },
  {
   "cell_type": "markdown",
   "id": "900b3842",
   "metadata": {},
   "source": [
    "## 4. Use the sqlite3 module to create a SQLite database called books.db, and a table called books with these fields: title (text), author (text), and year (integer).\n"
   ]
  },
  {
   "cell_type": "code",
   "execution_count": null,
   "id": "af0c2a33",
   "metadata": {},
   "outputs": [],
   "source": [
    "import sqlite3\n",
    "connection = sqlite3.connect('books.db')\n",
    "cursor = connection.cursor()\n",
    "cursor.execute(\"Create table books (title TEXT, author TEXT, year INTEGER)\")"
   ]
  },
  {
   "cell_type": "markdown",
   "id": "62b9499c",
   "metadata": {},
   "source": [
    "------------------"
   ]
  },
  {
   "cell_type": "markdown",
   "id": "55d468a6",
   "metadata": {},
   "source": [
    "## 5. Read books.csv and insert its data into the book table.\n"
   ]
  },
  {
   "cell_type": "code",
   "execution_count": 9,
   "id": "ce2d265b",
   "metadata": {},
   "outputs": [
    {
     "data": {
      "text/plain": [
       "5"
      ]
     },
     "execution_count": 9,
     "metadata": {},
     "output_type": "execute_result"
    }
   ],
   "source": [
    "import pandas as pd\n",
    "data = pd.read_csv('books.csv')\n",
    "data.to_sql('data', connection, if_exists = 'append', index = False)"
   ]
  },
  {
   "cell_type": "markdown",
   "id": "79633e66",
   "metadata": {},
   "source": [
    "-------------"
   ]
  },
  {
   "cell_type": "markdown",
   "id": "35c189c7",
   "metadata": {},
   "source": [
    "## 6. Select and print the title column from the book table in alphabetical order.\n"
   ]
  },
  {
   "cell_type": "code",
   "execution_count": null,
   "id": "42ff3ea1",
   "metadata": {},
   "outputs": [],
   "source": [
    "#Retrieving specific records using the ORDER BY clause\n",
    "cursor.execute(\"SELECT * from books ORDER BY TITLE\")\n",
    "print(cursor.fetchall())\n",
    "\n",
    "#Commit your changes in the database\n",
    "connection.commit()\n",
    "\n",
    "#Closing the connection\n",
    "connection.close()"
   ]
  },
  {
   "cell_type": "markdown",
   "id": "de2c1df6",
   "metadata": {},
   "source": [
    "-----------"
   ]
  },
  {
   "cell_type": "markdown",
   "id": "c19dca8b",
   "metadata": {},
   "source": [
    "## 7. From the book table, select and print all columns in the order of publication.\n"
   ]
  },
  {
   "cell_type": "code",
   "execution_count": null,
   "id": "f1bf6094",
   "metadata": {},
   "outputs": [],
   "source": [
    "#Retrieving specific records using the ORDER BY clause\n",
    "cursor.execute(\"SELECT * from books ORDER BY YEAR\")\n",
    "print(cursor.fetchall())\n",
    "\n",
    "#Commit your changes in the database\n",
    "connection.commit()\n",
    "\n",
    "#Closing the connection\n",
    "connection.close()"
   ]
  },
  {
   "cell_type": "markdown",
   "id": "c6dbce45",
   "metadata": {},
   "source": [
    "-------"
   ]
  },
  {
   "cell_type": "markdown",
   "id": "0f9ee0dd",
   "metadata": {},
   "source": [
    "## 8. Use the sqlalchemy module to connect to the sqlite3 database books.db that you just made in exercise 6.\n"
   ]
  },
  {
   "cell_type": "code",
   "execution_count": 6,
   "id": "462217af",
   "metadata": {},
   "outputs": [],
   "source": [
    "import sqlalchemy\n",
    "engine = sqlalchemy.create_engine(\"sqlite:///books.db\")\n",
    "rows = engine.execute('select * from books')\n",
    "for i in rows:\n",
    "    print(i)"
   ]
  },
  {
   "cell_type": "code",
   "execution_count": 5,
   "id": "318a873f",
   "metadata": {},
   "outputs": [
    {
     "name": "stdout",
     "output_type": "stream",
     "text": [
      "Connection to the 127.0.0.1 for user root created successfully.\n"
     ]
    }
   ],
   "source": [
    "from sqlalchemy import create_engine\n",
    " \n",
    "user = 'root'\n",
    "password = 'password'\n",
    "host = '127.0.0.1'\n",
    "port = 5432\n",
    "database = 'books.db'\n",
    " \n",
    "def get_connection():\n",
    "    engine = sqlalchemy.create_engine(\"sqlite:///books.db\")\n",
    "    rows = engine.execute('select * from books')\n",
    "    for i in rows:\n",
    "        print(i)\n",
    " \n",
    "if __name__ == '__main__':\n",
    " \n",
    "    try:\n",
    "        engine = get_connection()\n",
    "        print(\n",
    "            f\"Connection to the {host} for user {user} created successfully.\")\n",
    "    except Exception as ex:\n",
    "        print(\"Connection could not be made due to the following error: \\n\", ex)"
   ]
  },
  {
   "cell_type": "markdown",
   "id": "df3c88a8",
   "metadata": {},
   "source": [
    "------"
   ]
  },
  {
   "cell_type": "markdown",
   "id": "4ef65088",
   "metadata": {},
   "source": [
    "## 9. Install the Redis server and the Python redis library (pip install redis) on your computer. Create a Redis hash called test with the fields count (1) and name (&#39;Fester Bestertester&#39;). Print all the fields for test.\n"
   ]
  },
  {
   "cell_type": "code",
   "execution_count": 1,
   "id": "9648fbb5",
   "metadata": {},
   "outputs": [
    {
     "name": "stdout",
     "output_type": "stream",
     "text": [
      "Requirement already satisfied: redis in c:\\users\\61421\\anaconda3\\lib\\site-packages (4.5.5)\n",
      "Requirement already satisfied: async-timeout>=4.0.2 in c:\\users\\61421\\anaconda3\\lib\\site-packages (from redis) (4.0.2)\n",
      "Note: you may need to restart the kernel to use updated packages.\n"
     ]
    }
   ],
   "source": [
    "pip install redis"
   ]
  },
  {
   "cell_type": "code",
   "execution_count": null,
   "id": "b6f26ab9",
   "metadata": {},
   "outputs": [],
   "source": [
    "import redis\n",
    "r_conn = redis.Redis()\n",
    "r_conn.delete('test')\n",
    "r_conn.hmset('test', {'count': 1, 'name': 'Fester Bestertester'})\n",
    "r_conn.hgetall('test')"
   ]
  },
  {
   "cell_type": "markdown",
   "id": "6925dd33",
   "metadata": {},
   "source": [
    "-------"
   ]
  },
  {
   "cell_type": "markdown",
   "id": "1094983b",
   "metadata": {},
   "source": [
    "## 10. Increment the count field of test and print it."
   ]
  },
  {
   "cell_type": "code",
   "execution_count": null,
   "id": "fa4d40ec",
   "metadata": {},
   "outputs": [],
   "source": [
    "r_conn.hincrby('test','count', 3)"
   ]
  }
 ],
 "metadata": {
  "kernelspec": {
   "display_name": "Python 3 (ipykernel)",
   "language": "python",
   "name": "python3"
  },
  "language_info": {
   "codemirror_mode": {
    "name": "ipython",
    "version": 3
   },
   "file_extension": ".py",
   "mimetype": "text/x-python",
   "name": "python",
   "nbconvert_exporter": "python",
   "pygments_lexer": "ipython3",
   "version": "3.9.12"
  }
 },
 "nbformat": 4,
 "nbformat_minor": 5
}
