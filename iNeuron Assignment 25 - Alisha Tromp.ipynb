{
 "cells": [
  {
   "cell_type": "markdown",
   "id": "5d58c2a4",
   "metadata": {},
   "source": [
    "## 1) What is the difference between enclosing a list comprehension in square brackets and parentheses?\n",
    "\n",
    "## Ans - [] gives the outcome as a list, () is a generator. See below for example."
   ]
  },
  {
   "cell_type": "code",
   "execution_count": 5,
   "id": "a29c3239",
   "metadata": {},
   "outputs": [
    {
     "data": {
      "text/plain": [
       "generator"
      ]
     },
     "execution_count": 5,
     "metadata": {},
     "output_type": "execute_result"
    }
   ],
   "source": [
    "y = (x for x in range(10))\n",
    "type(y)"
   ]
  },
  {
   "cell_type": "code",
   "execution_count": 4,
   "id": "7bb75f65",
   "metadata": {},
   "outputs": [
    {
     "data": {
      "text/plain": [
       "list"
      ]
     },
     "execution_count": 4,
     "metadata": {},
     "output_type": "execute_result"
    }
   ],
   "source": [
    "y = [x for x in range(10)]\n",
    "type (y)"
   ]
  },
  {
   "cell_type": "markdown",
   "id": "a4d62924",
   "metadata": {},
   "source": [
    "----------"
   ]
  },
  {
   "cell_type": "markdown",
   "id": "e2c51e60",
   "metadata": {},
   "source": [
    "## 2) What is the relationship between generators and iterators?\n"
   ]
  },
  {
   "cell_type": "markdown",
   "id": "aeb0ff87",
   "metadata": {},
   "source": [
    "## iterators are objects that can be iterated on, and generators are special functions that leverage lazy evaluation. Implementing your own iterator means you must create an __iter__() and __next__() method, whereas a generator can be implemented using the yield keyword in a Python function or comprehension."
   ]
  },
  {
   "cell_type": "markdown",
   "id": "e5840735",
   "metadata": {},
   "source": [
    "---------"
   ]
  },
  {
   "cell_type": "markdown",
   "id": "c0976ba6",
   "metadata": {},
   "source": [
    "## 3) What are the signs that a function is a generator function?\n",
    "## it contains the yield keyword"
   ]
  },
  {
   "cell_type": "markdown",
   "id": "799e251b",
   "metadata": {},
   "source": [
    "----"
   ]
  },
  {
   "cell_type": "markdown",
   "id": "04502ad9",
   "metadata": {},
   "source": [
    "## 4) What is the purpose of a yield statement?\n"
   ]
  },
  {
   "cell_type": "markdown",
   "id": "ccb37807",
   "metadata": {},
   "source": [
    "## The yield keyword pauses generator function execution and the value of the expression following the yield keyword is returned to the generator's caller. It can be thought of as a generator-based version of the return keyword. \n",
    "## Yield can only be used directly within the generator function."
   ]
  },
  {
   "cell_type": "markdown",
   "id": "585b6d9d",
   "metadata": {},
   "source": [
    "--------"
   ]
  },
  {
   "cell_type": "markdown",
   "id": "1c6e58dc",
   "metadata": {},
   "source": [
    "## 5) What is the relationship between map calls and list comprehensions? Make a comparison and contrast between the two."
   ]
  },
  {
   "cell_type": "markdown",
   "id": "e3347676",
   "metadata": {},
   "source": [
    "## List comprehension returns a list, whereas the map function returns an object of Iterable. List comprehension execution is faster than that of map function when the formula expression is huge and complex. \n",
    "## Map function is faster than list comprehension when the formula is already defined as a function earlier.\n",
    "## List comprehension has a simpler configuration than the map function.  \n",
    "## List comprehension can be used together with if condition as replacement of filter method. Map function has no such functionality. However, we can feed the map function output to the filter function.  "
   ]
  }
 ],
 "metadata": {
  "kernelspec": {
   "display_name": "Python 3 (ipykernel)",
   "language": "python",
   "name": "python3"
  },
  "language_info": {
   "codemirror_mode": {
    "name": "ipython",
    "version": 3
   },
   "file_extension": ".py",
   "mimetype": "text/x-python",
   "name": "python",
   "nbconvert_exporter": "python",
   "pygments_lexer": "ipython3",
   "version": "3.9.12"
  }
 },
 "nbformat": 4,
 "nbformat_minor": 5
}
