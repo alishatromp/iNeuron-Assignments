{
 "cells": [
  {
   "cell_type": "markdown",
   "id": "8685c5e6",
   "metadata": {},
   "source": [
    "## Q1. Is it permissible to use several import statements to import the same module? What would the goal be? Can you think of a situation where it would be beneficial?"
   ]
  },
  {
   "cell_type": "markdown",
   "id": "c6093a49",
   "metadata": {},
   "source": [
    "## Yes it is permissable. This would be beneficial when we need to import various functions from the module."
   ]
  },
  {
   "cell_type": "markdown",
   "id": "00a5691c",
   "metadata": {},
   "source": [
    "---------------"
   ]
  },
  {
   "cell_type": "markdown",
   "id": "91d6d31c",
   "metadata": {},
   "source": [
    "## Q2. What are some of a module&#39;s characteristics? (Name at least one.)"
   ]
  },
  {
   "cell_type": "markdown",
   "id": "5bd8a19e",
   "metadata": {},
   "source": [
    "- \\__name__ : It returns the name of the module\n",
    "- \\__doc__ : It denotes the documentation string\n",
    "- \\__file__ : It holds the name and path of the module file from which it is loaded\n",
    "- \\__dict__ : It return a dictionary object of module attributes, functions and other definitions and their respective values."
   ]
  },
  {
   "cell_type": "markdown",
   "id": "49d27e44",
   "metadata": {},
   "source": [
    "------------------"
   ]
  },
  {
   "cell_type": "markdown",
   "id": "979744b1",
   "metadata": {},
   "source": [
    "## Q3. Circular importing, such as when two modules import each other, can lead to dependencies and bugs that aren&#39;t visible. How can you go about creating a program that avoids mutual importing?"
   ]
  },
  {
   "cell_type": "markdown",
   "id": "813dcfd9",
   "metadata": {},
   "source": [
    "- Python Circular Imports is a type of Circular dependency. It occurs in python when two or more models import each other and it repeats the importing connection into an infinite circular call. \n",
    "- With Circular Imports, the python script gives an error. To run the python script it has to be removed and it is very difficult to find and remove the script manually. \n",
    "- Circular imports are created because of the bad coding design and implementation-related logical anomalies.\n",
    "\n",
    "- To avoid this error just do one thingWe can use if \\__name__ == '\\__main__'"
   ]
  },
  {
   "cell_type": "markdown",
   "id": "67d78f9f",
   "metadata": {},
   "source": [
    "-------------------------"
   ]
  },
  {
   "cell_type": "markdown",
   "id": "156be322",
   "metadata": {},
   "source": [
    "## Q4. Why is _ _all_ _ in Python?"
   ]
  },
  {
   "cell_type": "markdown",
   "id": "db8646cd",
   "metadata": {},
   "source": [
    "## Ans - \\__all__ lists all the modules present in the library"
   ]
  },
  {
   "cell_type": "markdown",
   "id": "4bab3741",
   "metadata": {},
   "source": [
    "-------------"
   ]
  },
  {
   "cell_type": "markdown",
   "id": "5ed01ccd",
   "metadata": {},
   "source": [
    "## Q5. In what situation is it useful to refer to the _ _name_ _ attribute or the string &#39;_ _main_ _&#39;?"
   ]
  },
  {
   "cell_type": "markdown",
   "id": "60a43381",
   "metadata": {},
   "source": [
    "## While executing the code, if we refer to the module in which we are working on then we use name attribute. \n",
    "## This will return the module we are working with. But if the module is imported from some other module then name will have the name of that module from where the current module has been imported. \n",
    "## The current module in which we are working is refer to the string \\__main __"
   ]
  },
  {
   "cell_type": "markdown",
   "id": "75ce7623",
   "metadata": {},
   "source": [
    "------------"
   ]
  },
  {
   "cell_type": "markdown",
   "id": "3d685703",
   "metadata": {},
   "source": [
    "## Q6. What are some of the benefits of attaching a program counter to the RPN interpreter application, which interprets an RPN script line by line?\n",
    "\n"
   ]
  },
  {
   "cell_type": "markdown",
   "id": "b7ede4b7",
   "metadata": {},
   "source": [
    "## Ans - To guarantee and count execution. A program counter will register the current time of the execution. As each instruction is fetched the program counter increases by 1."
   ]
  },
  {
   "cell_type": "markdown",
   "id": "0208328a",
   "metadata": {},
   "source": [
    "---------------"
   ]
  },
  {
   "cell_type": "markdown",
   "id": "178edfa5",
   "metadata": {},
   "source": [
    "## Q7. What are the minimum expressions or statements (or both) that you&#39;d need to render a basic programming language like RPN primitive but complete— that is, capable of carrying out any computerised task theoretically possible?"
   ]
  },
  {
   "cell_type": "markdown",
   "id": "07c4e95b",
   "metadata": {},
   "source": [
    "## Ans - A standard arithmatic expression will be (3+4). In RPN the min expression is 3 4+ without the parentheses.\n",
    "## Similarly, (3 × 4) + (5 × 6) becomes 3 4 × 5 6 × + in reverse Polish notation."
   ]
  }
 ],
 "metadata": {
  "kernelspec": {
   "display_name": "Python 3 (ipykernel)",
   "language": "python",
   "name": "python3"
  },
  "language_info": {
   "codemirror_mode": {
    "name": "ipython",
    "version": 3
   },
   "file_extension": ".py",
   "mimetype": "text/x-python",
   "name": "python",
   "nbconvert_exporter": "python",
   "pygments_lexer": "ipython3",
   "version": "3.9.12"
  }
 },
 "nbformat": 4,
 "nbformat_minor": 5
}
