{
 "cells": [
  {
   "cell_type": "markdown",
   "id": "d7117005",
   "metadata": {},
   "source": [
    "## 1. In what modes should the PdfFileReader() and PdfFileWriter() File objects will be opened?"
   ]
  },
  {
   "cell_type": "markdown",
   "id": "72b81884",
   "metadata": {},
   "source": [
    "## PdfFileReader() - read binary mode\n",
    "## PdfFileWriter() - write binary mode"
   ]
  },
  {
   "cell_type": "markdown",
   "id": "e9f7342e",
   "metadata": {},
   "source": [
    "-------------"
   ]
  },
  {
   "cell_type": "markdown",
   "id": "2f200731",
   "metadata": {},
   "source": [
    "## 2. From a PdfFileReader object, how do you get a Page object for page 5?\n"
   ]
  },
  {
   "cell_type": "markdown",
   "id": "6db92c88",
   "metadata": {},
   "source": [
    "## To get a page object you use reader.pages[5]\n",
    "## see updated syntax below"
   ]
  },
  {
   "cell_type": "code",
   "execution_count": null,
   "id": "7e6f366e",
   "metadata": {},
   "outputs": [],
   "source": [
    "pip install PyPDF2"
   ]
  },
  {
   "cell_type": "code",
   "execution_count": null,
   "id": "bcfdf52a",
   "metadata": {},
   "outputs": [],
   "source": [
    "import PyPDF2 \n",
    "reader = PyPDF2.PdfReader(open('Alisha Tromp DS CV.pdf', 'rb'))\n",
    "page = reader.pages[0]\n",
    "text = page.extract_text()\n",
    "print (text)"
   ]
  },
  {
   "cell_type": "markdown",
   "id": "79d157a6",
   "metadata": {},
   "source": [
    "------------------"
   ]
  },
  {
   "cell_type": "markdown",
   "id": "03a1b9c1",
   "metadata": {},
   "source": [
    "## 3. What PdfFileReader variable stores the number of pages in the PDF document?\n"
   ]
  },
  {
   "cell_type": "markdown",
   "id": "9faffa24",
   "metadata": {},
   "source": [
    "## numPages"
   ]
  },
  {
   "cell_type": "markdown",
   "id": "2d90e308",
   "metadata": {},
   "source": [
    "----------"
   ]
  },
  {
   "cell_type": "markdown",
   "id": "793a1157",
   "metadata": {},
   "source": [
    "## 4. If a PdfFileReader object’s PDF is encrypted with the password swordfish, what must you do before you can obtain Page objects from it?"
   ]
  },
  {
   "cell_type": "markdown",
   "id": "5224b0d9",
   "metadata": {},
   "source": [
    "## - Use module PyMuPDF\n",
    "## - Use inbuilt fitz module to identify encrypted PDFs."
   ]
  },
  {
   "cell_type": "markdown",
   "id": "ad83a67a",
   "metadata": {},
   "source": [
    "----------------"
   ]
  },
  {
   "cell_type": "markdown",
   "id": "9986fdd9",
   "metadata": {},
   "source": [
    "## 5. What methods do you use to rotate a page?"
   ]
  },
  {
   "cell_type": "code",
   "execution_count": null,
   "id": "c4020e37",
   "metadata": {},
   "outputs": [],
   "source": [
    "target_file = 'Alisha Tromp DS CV.pdf'\n",
    "output_file = open('AT Clockwise.pdf', 'wb')\n",
    "\n",
    "reader = PyPDF2.PdfReader(open(target_file, 'rb'))\n",
    "writer = PyPDF2.PdfWriter()\n",
    "num_pages = len(reader.pages)\n",
    "\n",
    "\n",
    "for i in range (num_pages):\n",
    "    page = reader.pages[i]\n",
    "    page.rotate(90)\n",
    "    writer.add_page(page)\n",
    "    \n",
    "writer.write(output_file)\n",
    "output_file.close()"
   ]
  },
  {
   "cell_type": "markdown",
   "id": "d798d8fb",
   "metadata": {},
   "source": [
    "------------"
   ]
  },
  {
   "cell_type": "markdown",
   "id": "8580f575",
   "metadata": {},
   "source": [
    "## 6. What is the difference between a Run object and a Paragraph object?\n"
   ]
  },
  {
   "cell_type": "markdown",
   "id": "31d936c7",
   "metadata": {},
   "source": [
    "## Ans - \n",
    "## A run is the object associates with inline content; text, pictures, and other items that are  between the block-item boundaries within a paragraph\n",
    "## Paragraph objects provide access to the formatting properties for this paragraph, such as line spacing and indentation"
   ]
  },
  {
   "cell_type": "markdown",
   "id": "c57320ae",
   "metadata": {},
   "source": [
    "-------------"
   ]
  },
  {
   "cell_type": "markdown",
   "id": "8b355de9",
   "metadata": {},
   "source": [
    "## 7. How do you obtain a list of Paragraph objects for a Document object that’s stored in a variable named doc?\n"
   ]
  },
  {
   "cell_type": "markdown",
   "id": "71415c84",
   "metadata": {},
   "source": [
    "## Ans - call docx.Document(doc)"
   ]
  },
  {
   "cell_type": "markdown",
   "id": "ed658753",
   "metadata": {},
   "source": [
    "------------"
   ]
  },
  {
   "cell_type": "markdown",
   "id": "7029cb37",
   "metadata": {},
   "source": [
    "## 8. What type of object has bold, underline, italic, strike, and outline variables?\n",
    "## Ans - run object"
   ]
  },
  {
   "cell_type": "markdown",
   "id": "952addcc",
   "metadata": {},
   "source": [
    "----------"
   ]
  },
  {
   "cell_type": "markdown",
   "id": "ce66f2f6",
   "metadata": {},
   "source": [
    "## 9. What is the difference between False, True, and None for the bold variable?\n",
    "\n",
    "## Ans -\n",
    "\n",
    "### True always makes the Run object bolded and False makes it always not bolded, no matter what the style's bold setting is. \n",
    "\n",
    "### None will make the Run object just use the style's bold setting"
   ]
  },
  {
   "cell_type": "markdown",
   "id": "f7f71885",
   "metadata": {},
   "source": [
    "-------------"
   ]
  },
  {
   "cell_type": "markdown",
   "id": "c98de85a",
   "metadata": {},
   "source": [
    "## 10. How do you create a Document object for a new Word document?"
   ]
  },
  {
   "cell_type": "code",
   "execution_count": null,
   "id": "bddadf5b",
   "metadata": {},
   "outputs": [],
   "source": [
    "pip install aspose.words"
   ]
  },
  {
   "cell_type": "code",
   "execution_count": 2,
   "id": "1511a80c",
   "metadata": {},
   "outputs": [],
   "source": [
    "import aspose.words as aw\n",
    "\n",
    "# create document object\n",
    "doc = aw.Document()"
   ]
  },
  {
   "cell_type": "markdown",
   "id": "6bd74ed3",
   "metadata": {},
   "source": [
    "---------"
   ]
  },
  {
   "cell_type": "markdown",
   "id": "26a7fe7e",
   "metadata": {},
   "source": [
    "## 11. How do you add a paragraph with the text \"Hello, there!\"; to a Document object stored in a variable named doc?\n"
   ]
  },
  {
   "cell_type": "code",
   "execution_count": 3,
   "id": "8889d4bc",
   "metadata": {},
   "outputs": [
    {
     "data": {
      "text/plain": [
       "<aspose.words.saving.SaveOutputParameters object at 0x000002451E967F90>"
      ]
     },
     "execution_count": 3,
     "metadata": {},
     "output_type": "execute_result"
    }
   ],
   "source": [
    "import aspose.words as aw\n",
    "\n",
    "# create document object\n",
    "doc = aw.Document()\n",
    "\n",
    "# create a document builder object\n",
    "builder = aw.DocumentBuilder(doc)\n",
    "\n",
    "# add text to the document\n",
    "builder.write(\"Hello, there!\")\n",
    "\n",
    "# save document\n",
    "doc.save(\"doc.docx\")"
   ]
  },
  {
   "cell_type": "markdown",
   "id": "22289244",
   "metadata": {},
   "source": [
    "--------"
   ]
  },
  {
   "cell_type": "markdown",
   "id": "c7a9239b",
   "metadata": {},
   "source": [
    "## 12. What integers represent the levels of headings available in Word documents?"
   ]
  },
  {
   "cell_type": "markdown",
   "id": "dca62ac9",
   "metadata": {},
   "source": [
    "## 0 is title, 1-4 is subheadings with 1 being the main and 2,3,4 being the lower subheadings."
   ]
  }
 ],
 "metadata": {
  "kernelspec": {
   "display_name": "Python 3 (ipykernel)",
   "language": "python",
   "name": "python3"
  },
  "language_info": {
   "codemirror_mode": {
    "name": "ipython",
    "version": 3
   },
   "file_extension": ".py",
   "mimetype": "text/x-python",
   "name": "python",
   "nbconvert_exporter": "python",
   "pygments_lexer": "ipython3",
   "version": "3.9.12"
  }
 },
 "nbformat": 4,
 "nbformat_minor": 5
}
