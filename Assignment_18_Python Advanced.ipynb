{
 "cells": [
  {
   "cell_type": "markdown",
   "id": "a0f12625",
   "metadata": {},
   "source": [
    "## Q1. Describe the differences between text and binary files in a single paragraph."
   ]
  },
  {
   "cell_type": "markdown",
   "id": "cdbeb400",
   "metadata": {},
   "source": [
    "## Ans - The bits in text file represent characters and are stored in the form of human readable data. \n",
    "\n",
    "## Binary files are 0 and 1 custom data, that contain non-text data, such as images, audio files, and executable files."
   ]
  },
  {
   "cell_type": "markdown",
   "id": "730a1afd",
   "metadata": {},
   "source": [
    "------------"
   ]
  },
  {
   "cell_type": "markdown",
   "id": "5071dfe7",
   "metadata": {},
   "source": [
    "## Q2. What are some scenarios where using text files will be the better option? When would you like to use binary files instead of text files?"
   ]
  },
  {
   "cell_type": "markdown",
   "id": "bea0271a",
   "metadata": {},
   "source": [
    "## Ans - Text files are prone to corruption but can be easily tweaked once the file is open. \n",
    "## Its better to use binary files over text files if you want to store your file as image and conserve on memory."
   ]
  },
  {
   "cell_type": "markdown",
   "id": "ac102bbe",
   "metadata": {},
   "source": [
    "----------"
   ]
  },
  {
   "cell_type": "markdown",
   "id": "785f15a0",
   "metadata": {},
   "source": [
    "## Q3. What are some of the issues with using binary operations to read and write a Python integer directly to disc?"
   ]
  },
  {
   "cell_type": "markdown",
   "id": "874a4599",
   "metadata": {},
   "source": [
    "## Ans - 1. You need to specify how many bytes you want to read and write.\n",
    "## 2. Binary operations only deal with raw data."
   ]
  },
  {
   "cell_type": "markdown",
   "id": "48d8742f",
   "metadata": {},
   "source": [
    "-------------"
   ]
  },
  {
   "cell_type": "markdown",
   "id": "ebbf415c",
   "metadata": {},
   "source": [
    "## Q4. Describe a benefit of using the with keyword instead of explicitly opening a file.\n"
   ]
  },
  {
   "cell_type": "markdown",
   "id": "d4122dcb",
   "metadata": {},
   "source": [
    "## Ans - Using \"with\" guarantees to close the file no matter how the nested block terminates.If an exception occurs before that, it will close the file before the exception is caught by an outer exception handler."
   ]
  },
  {
   "cell_type": "markdown",
   "id": "2af6bd1d",
   "metadata": {},
   "source": [
    "-----------"
   ]
  },
  {
   "cell_type": "markdown",
   "id": "32c0f9ba",
   "metadata": {},
   "source": [
    "## Q5. Does Python have the trailing newline while reading a line of text? Does Python append a newline when you write a line of text?"
   ]
  },
  {
   "cell_type": "markdown",
   "id": "439c68fe",
   "metadata": {},
   "source": [
    "## Ans - Yes it does. \n",
    "## No, a newline needs to be explicitly provided when appending a new line of text. "
   ]
  },
  {
   "cell_type": "markdown",
   "id": "54b612c5",
   "metadata": {},
   "source": [
    "------------"
   ]
  },
  {
   "cell_type": "markdown",
   "id": "33860e53",
   "metadata": {},
   "source": [
    "## Q6. What file operations enable for random-access operation?"
   ]
  },
  {
   "cell_type": "markdown",
   "id": "f5a8d024",
   "metadata": {},
   "source": [
    "## Ans - seek() and tell()"
   ]
  },
  {
   "cell_type": "markdown",
   "id": "846e42d0",
   "metadata": {},
   "source": [
    "-------------"
   ]
  },
  {
   "cell_type": "markdown",
   "id": "cb6001e9",
   "metadata": {},
   "source": [
    "## Q7. When do you think you&#39;ll use the struct package the most?"
   ]
  },
  {
   "cell_type": "markdown",
   "id": "d38c3fa0",
   "metadata": {},
   "source": [
    "## Ans - You use struct when you convert common python types to C language types.The struct in Python is used for file handling in the case of binary-stored data."
   ]
  },
  {
   "cell_type": "markdown",
   "id": "f98706c6",
   "metadata": {},
   "source": [
    "-------------"
   ]
  },
  {
   "cell_type": "markdown",
   "id": "810b6d21",
   "metadata": {},
   "source": [
    "## Q8. When is pickling the best option?"
   ]
  },
  {
   "cell_type": "markdown",
   "id": "3e7ea25c",
   "metadata": {},
   "source": [
    "## Ans - we use pickling while creating a new binary file in Python."
   ]
  },
  {
   "cell_type": "markdown",
   "id": "e7b18ca9",
   "metadata": {},
   "source": [
    "---------"
   ]
  },
  {
   "cell_type": "markdown",
   "id": "2315c269",
   "metadata": {},
   "source": [
    "## Q9. When will it be best to use the shelve package?\n"
   ]
  },
  {
   "cell_type": "markdown",
   "id": "635d3690",
   "metadata": {},
   "source": [
    "## Ans - Shelve object stores data as dictionaries. Hence use it if you want to store your pickle data as dictionaries."
   ]
  },
  {
   "cell_type": "markdown",
   "id": "d7c97e68",
   "metadata": {},
   "source": [
    "------------"
   ]
  },
  {
   "cell_type": "markdown",
   "id": "5665c4ad",
   "metadata": {},
   "source": [
    "## Q10. What is a special restriction when using the shelve package, as opposed to using other data dictionaries?"
   ]
  },
  {
   "cell_type": "markdown",
   "id": "5e44da96",
   "metadata": {},
   "source": [
    "## Ans - The keys are ordinary strings whereas the values can be anything the pickle module can handle."
   ]
  }
 ],
 "metadata": {
  "kernelspec": {
   "display_name": "Python 3 (ipykernel)",
   "language": "python",
   "name": "python3"
  },
  "language_info": {
   "codemirror_mode": {
    "name": "ipython",
    "version": 3
   },
   "file_extension": ".py",
   "mimetype": "text/x-python",
   "name": "python",
   "nbconvert_exporter": "python",
   "pygments_lexer": "ipython3",
   "version": "3.9.12"
  }
 },
 "nbformat": 4,
 "nbformat_minor": 5
}
