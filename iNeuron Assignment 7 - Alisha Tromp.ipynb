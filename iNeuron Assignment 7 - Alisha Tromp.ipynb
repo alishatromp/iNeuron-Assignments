{
 "cells": [
  {
   "cell_type": "markdown",
   "id": "c1b08cf7",
   "metadata": {},
   "source": [
    "## 1. What is the name of the feature responsible for generating Regex objects?\n"
   ]
  },
  {
   "cell_type": "markdown",
   "id": "cc550c39",
   "metadata": {},
   "source": [
    "## Ans - a function from module 're' \n",
    "### With funtions such as re.search(), re.match() and re.compile()."
   ]
  },
  {
   "cell_type": "code",
   "execution_count": 2,
   "id": "c7a02bf0",
   "metadata": {},
   "outputs": [
    {
     "name": "stdout",
     "output_type": "stream",
     "text": [
      "<re.Match object; span=(0, 17), match='I code in iNeuron'>\n"
     ]
    }
   ],
   "source": [
    "import re\n",
    "\n",
    "txt = \"I code in iNeuron\"\n",
    "x = re.search(\"^I.*iNeuron$\", txt)\n",
    "print (x)"
   ]
  },
  {
   "cell_type": "markdown",
   "id": "06b89af4",
   "metadata": {},
   "source": [
    "-----------"
   ]
  },
  {
   "cell_type": "markdown",
   "id": "01cc27b3",
   "metadata": {},
   "source": [
    "## 2. Why do raw strings often appear in Regex objects?"
   ]
  },
  {
   "cell_type": "markdown",
   "id": "1c411740",
   "metadata": {},
   "source": [
    "## Ans - RegEx can be used to check if a string contains the specified search pattern"
   ]
  },
  {
   "cell_type": "markdown",
   "id": "7de08f27",
   "metadata": {},
   "source": [
    "------------"
   ]
  },
  {
   "cell_type": "markdown",
   "id": "3809ad6b",
   "metadata": {},
   "source": [
    "## 3. What is the return value of the search() method?"
   ]
  },
  {
   "cell_type": "markdown",
   "id": "1eab2910",
   "metadata": {},
   "source": [
    "## Ans - Returns a Match object if there is a match anywhere in the string"
   ]
  },
  {
   "cell_type": "code",
   "execution_count": 3,
   "id": "0b8289a4",
   "metadata": {},
   "outputs": [
    {
     "name": "stdout",
     "output_type": "stream",
     "text": [
      "<re.Match object; span=(5, 7), match='ai'>\n"
     ]
    }
   ],
   "source": [
    "txt = \"The pain in my leg\"\n",
    "x = re.search(\"ai\", txt)\n",
    "print(x) #this will print an object"
   ]
  },
  {
   "cell_type": "markdown",
   "id": "9bc2e602",
   "metadata": {},
   "source": [
    "-----------"
   ]
  },
  {
   "cell_type": "markdown",
   "id": "f0dd9acd",
   "metadata": {},
   "source": [
    "## 4. From a Match item, how do you get the actual strings that match the pattern?\n"
   ]
  },
  {
   "cell_type": "markdown",
   "id": "85d96432",
   "metadata": {},
   "source": [
    "## Ans - The group() method returns strings of the matched text."
   ]
  },
  {
   "cell_type": "code",
   "execution_count": 12,
   "id": "e7ce5755",
   "metadata": {},
   "outputs": [
    {
     "name": "stdout",
     "output_type": "stream",
     "text": [
      "<www>\n"
     ]
    }
   ],
   "source": [
    "s = '<www><head><title>Title</title>'\n",
    "print(re.match('<.*?>', s).group())"
   ]
  },
  {
   "cell_type": "markdown",
   "id": "df7062a8",
   "metadata": {},
   "source": [
    "-----------"
   ]
  },
  {
   "cell_type": "markdown",
   "id": "60b53683",
   "metadata": {},
   "source": [
    "## 5. In the regex which created from the r'(\\d\\d\\d)-(\\d\\d\\d-\\d\\d\\d\\d)', what does group zero cover? Group 2? Group 1?"
   ]
  },
  {
   "cell_type": "markdown",
   "id": "312169ce",
   "metadata": {},
   "source": [
    "## Ans - Group 0 is the entire match.\n",
    "## Group 1 covers the first set of parentheses, and \n",
    "## Group 2 covers the second set of parentheses."
   ]
  },
  {
   "cell_type": "markdown",
   "id": "a960b04e",
   "metadata": {},
   "source": [
    "--------"
   ]
  },
  {
   "cell_type": "markdown",
   "id": "008b22fa",
   "metadata": {},
   "source": [
    "## 6. In standard expression syntax, parentheses and intervals have distinct meanings. How can you tell a regex that you want it to fit real parentheses and periods?\n",
    "\n"
   ]
  },
  {
   "cell_type": "markdown",
   "id": "b7ff32ae",
   "metadata": {},
   "source": [
    "## Ans - Periods and parentheses can be escaped with a backslash: \n",
    "\n"
   ]
  },
  {
   "cell_type": "raw",
   "id": "8d20a68c",
   "metadata": {},
   "source": [
    "For e.g. \n",
    "\\., \\(, and \\)."
   ]
  },
  {
   "cell_type": "markdown",
   "id": "7b4e071e",
   "metadata": {},
   "source": [
    "-------------"
   ]
  },
  {
   "cell_type": "markdown",
   "id": "2f925e61",
   "metadata": {},
   "source": [
    "## 7. The findall() method returns a string list or a list of string tuples. What causes it to return one of the two options?\n"
   ]
  },
  {
   "cell_type": "markdown",
   "id": "6a62673f",
   "metadata": {},
   "source": [
    "## Ans - The . findall() method iterates over a string to find a subset of characters that match a specified pattern. It will return a list of every pattern match that occurs in a given string. It will return empty string where it doesn't find a match."
   ]
  },
  {
   "cell_type": "code",
   "execution_count": 9,
   "id": "365833d6",
   "metadata": {},
   "outputs": [
    {
     "name": "stdout",
     "output_type": "stream",
     "text": [
      "[('7:00', 'am'), ('10:15', 'pm')]\n"
     ]
    }
   ],
   "source": [
    "import re\n",
    "\n",
    "movie_str = \"Movie starts at 7:00am and 10:15pm\"\n",
    "\n",
    "matches = re.findall(r\"([\\d:,.]+)(am|pm)?\", movie_str)\n",
    "# Square brackets designate a custom character class\n",
    "# Parentheses identify a group within the pattern\n",
    "\n",
    "print(matches)"
   ]
  },
  {
   "cell_type": "code",
   "execution_count": 12,
   "id": "707bfaa7",
   "metadata": {},
   "outputs": [
    {
     "name": "stdout",
     "output_type": "stream",
     "text": [
      "['alisha.malik@gmail.com']\n"
     ]
    }
   ],
   "source": [
    "import re\n",
    "\n",
    "email_str = '''the emails are alisha.malik@gmail.com\n",
    "'''\n",
    "\n",
    "emails = re.findall(r\"\\S+@\\S+\", email_str)\n",
    "# \\S matches any character except a space, tab or newline\n",
    "\n",
    "print(emails)"
   ]
  },
  {
   "cell_type": "markdown",
   "id": "b8983018",
   "metadata": {},
   "source": [
    "------------------"
   ]
  },
  {
   "cell_type": "markdown",
   "id": "83242a30",
   "metadata": {},
   "source": [
    "## 8. In standard expressions, what does the | character mean?\n"
   ]
  },
  {
   "cell_type": "markdown",
   "id": "507ad70a",
   "metadata": {},
   "source": [
    "## Ans - | is a bitwise operator.\n",
    "## It copies a bit if it exists in either operand.\t"
   ]
  },
  {
   "cell_type": "code",
   "execution_count": 32,
   "id": "2ce2c2bd",
   "metadata": {},
   "outputs": [
    {
     "name": "stdout",
     "output_type": "stream",
     "text": [
      "255\n"
     ]
    }
   ],
   "source": [
    "a = 61\n",
    "b = 220\n",
    "c = 123\n",
    "print (a|b|c)"
   ]
  },
  {
   "cell_type": "markdown",
   "id": "ae74c01e",
   "metadata": {},
   "source": [
    "-----------------"
   ]
  },
  {
   "cell_type": "markdown",
   "id": "383ad539",
   "metadata": {},
   "source": [
    "## 9. In regular expressions, what does the character stand for?"
   ]
  },
  {
   "cell_type": "markdown",
   "id": "7c328b58",
   "metadata": {},
   "source": [
    "## Ans - All characters are themselves unless they are Regex."
   ]
  },
  {
   "cell_type": "markdown",
   "id": "76b9c176",
   "metadata": {},
   "source": [
    "-------------------"
   ]
  },
  {
   "cell_type": "markdown",
   "id": "8c8e29d8",
   "metadata": {},
   "source": [
    "## 10.In regular expressions, what is the difference between the + and * characters?"
   ]
  },
  {
   "cell_type": "markdown",
   "id": "9f17c72e",
   "metadata": {},
   "source": [
    "## Ans - * means match zero-or-more, and + means match one-or-more"
   ]
  },
  {
   "cell_type": "markdown",
   "id": "b3b8dc5a",
   "metadata": {},
   "source": [
    "---------------------"
   ]
  },
  {
   "cell_type": "markdown",
   "id": "009bc316",
   "metadata": {},
   "source": [
    "## 11. What is the difference between {4} and {4,5} in regular expression?\n",
    "\n",
    "## {4} means it will match 4 o's sequentially in the end.\n",
    "## {4,5} means it will match at least 4 to 5 o's sequentially in the end."
   ]
  },
  {
   "cell_type": "code",
   "execution_count": 48,
   "id": "4b2779a3",
   "metadata": {},
   "outputs": [
    {
     "data": {
      "text/plain": [
       "['alloooo']"
      ]
     },
     "execution_count": 48,
     "metadata": {},
     "output_type": "execute_result"
    }
   ],
   "source": [
    "re.findall('allo{4}', 'alloooo')"
   ]
  },
  {
   "cell_type": "code",
   "execution_count": 37,
   "id": "6680753f",
   "metadata": {},
   "outputs": [
    {
     "data": {
      "text/plain": [
       "['helloooo']"
      ]
     },
     "execution_count": 37,
     "metadata": {},
     "output_type": "execute_result"
    }
   ],
   "source": [
    "re.findall('hello{4,5}', 'helloooo')"
   ]
  },
  {
   "cell_type": "markdown",
   "id": "0cdc502a",
   "metadata": {},
   "source": [
    "----------------"
   ]
  },
  {
   "cell_type": "markdown",
   "id": "9211c8b9",
   "metadata": {},
   "source": [
    "## 12. What do you mean by the \\d, \\w, and \\s shorthand character classes signify in regular expressions?"
   ]
  },
  {
   "cell_type": "markdown",
   "id": "b37ba0e3",
   "metadata": {},
   "source": [
    "## Ans - all metacharacters with meaning as follows\n",
    "### \\d (digit) matches any single digit (same as [0-9])\n",
    "### \\w (word character) matches any single letter, number or underscore (same as [a-zA-Z0-9_])\n",
    "### \\s (space) matches any single whitespace (same as [\\t\\n\\r\\f]."
   ]
  },
  {
   "cell_type": "markdown",
   "id": "78db18d1",
   "metadata": {},
   "source": [
    "--------"
   ]
  },
  {
   "cell_type": "markdown",
   "id": "00e6c2d6",
   "metadata": {},
   "source": [
    "## 13. What do means by \\D, \\W, and \\S shorthand character classes signify in regular expressions?"
   ]
  },
  {
   "cell_type": "markdown",
   "id": "36137927",
   "metadata": {},
   "source": [
    "## Ans - \n",
    "### \\D - (non-digit) matches any single character that is not a digit (same as [^0-9])\n",
    "### \\W - (non-word-character) matches any single character that doesn't match by \\w (same as [^a-zA-Z0-9_])\n",
    "### \\S - (non-space) matches any single character that doesn't match by \\s."
   ]
  },
  {
   "cell_type": "markdown",
   "id": "d796c5f7",
   "metadata": {},
   "source": [
    "-------------------"
   ]
  },
  {
   "cell_type": "raw",
   "id": "07fdd157",
   "metadata": {},
   "source": [
    "14. What is the difference between (.*)? and (.*?)"
   ]
  },
  {
   "cell_type": "raw",
   "id": "16a708c1",
   "metadata": {},
   "source": [
    "Ans - (.*?)\n",
    ". matches any character (except for line terminators)\n",
    "*? matches any characters until the first Length encountered.\n",
    "\n",
    "(.*)? -\n",
    "? matches the previous token between zero and one times, as many times as possible, giving back as needed (greedy)\n",
    ". matches any character (except for line terminators)\n",
    "* matches the previous token between zero and unlimited times, as many times as possible, giving back as needed (greedy)"
   ]
  },
  {
   "cell_type": "markdown",
   "id": "617cba8a",
   "metadata": {},
   "source": [
    "-------------"
   ]
  },
  {
   "cell_type": "markdown",
   "id": "cfa6f46d",
   "metadata": {},
   "source": [
    "## 15. What is the syntax for matching both numbers and lowercase letters with a character class?"
   ]
  },
  {
   "cell_type": "markdown",
   "id": "1c5499cd",
   "metadata": {},
   "source": [
    "## Ans - the syntax is isalnum().\n",
    "\n",
    "## This returns all letters and numbers."
   ]
  },
  {
   "cell_type": "markdown",
   "id": "5f022ebb",
   "metadata": {},
   "source": [
    "---------------------"
   ]
  },
  {
   "cell_type": "markdown",
   "id": "de84e0e9",
   "metadata": {},
   "source": [
    "## 16. What is the procedure for making a normal expression in regex case insensitive?"
   ]
  },
  {
   "cell_type": "markdown",
   "id": "2eb4fcdd",
   "metadata": {},
   "source": [
    "## Ans - Use re.IGNORECASE"
   ]
  },
  {
   "cell_type": "markdown",
   "id": "31cb5831",
   "metadata": {},
   "source": [
    "--------------"
   ]
  },
  {
   "cell_type": "markdown",
   "id": "e2f0235c",
   "metadata": {},
   "source": [
    "## 17. What does the . character normally match? What does it match if re.DOTALL is passed as 2nd argument in re.compile()?"
   ]
  },
  {
   "cell_type": "markdown",
   "id": "c7974ae6",
   "metadata": {},
   "source": [
    "## Ans - . matches any character except terminators.\n",
    "## re.DOTALL will match everything even if there is a dot present."
   ]
  },
  {
   "cell_type": "markdown",
   "id": "5acbd4d6",
   "metadata": {},
   "source": [
    "---------"
   ]
  },
  {
   "cell_type": "markdown",
   "id": "4bb33c0f",
   "metadata": {},
   "source": [
    "## 18. If numReg = re.compile(r'\\d+'), what will numRegex.sub('X', '11 drummers, 10 pipers, five rings, 4 hen') return?\n",
    "\n",
    "## Ans - .sub will return string after X has replaced all the digits."
   ]
  },
  {
   "cell_type": "code",
   "execution_count": 10,
   "id": "a45ba760",
   "metadata": {},
   "outputs": [
    {
     "data": {
      "text/plain": [
       "'X drummers, X pipers, five rings, X hen'"
      ]
     },
     "execution_count": 10,
     "metadata": {},
     "output_type": "execute_result"
    }
   ],
   "source": [
    "import re\n",
    "numRegex = re.compile(r'\\d+')\n",
    "numRegex.sub('X', '11 drummers, 10 pipers, five rings, 4 hen')"
   ]
  },
  {
   "cell_type": "markdown",
   "id": "1b261435",
   "metadata": {},
   "source": [
    "----------"
   ]
  },
  {
   "cell_type": "markdown",
   "id": "90c0200a",
   "metadata": {},
   "source": [
    "## 19. What does passing re.VERBOSE as the 2nd argument to re.compile() allow to do?"
   ]
  },
  {
   "cell_type": "markdown",
   "id": "2f6e7549",
   "metadata": {},
   "source": [
    "## Ans - allows the user to write regular expressions that can look nicer and are more readable. "
   ]
  },
  {
   "cell_type": "markdown",
   "id": "e38ea2f4",
   "metadata": {},
   "source": [
    "---------"
   ]
  },
  {
   "cell_type": "markdown",
   "id": "97388a1f",
   "metadata": {},
   "source": [
    "## 20. How would you write a regex that match a number with comma for every three digits? It must\n"
   ]
  },
  {
   "cell_type": "raw",
   "id": "c0d08189",
   "metadata": {},
   "source": [
    "match the given following:\n",
    "'42'\n",
    "'1,234'\n",
    "'6,368,745'\n",
    "\n",
    "but not the following:\n",
    "'12,34,567' (which has only two digits between the commas)\n",
    "'1234' (which lacks commas)"
   ]
  },
  {
   "cell_type": "markdown",
   "id": "62b91704",
   "metadata": {},
   "source": [
    "## Ans -"
   ]
  },
  {
   "cell_type": "code",
   "execution_count": 16,
   "id": "2fdf227c",
   "metadata": {},
   "outputs": [
    {
     "name": "stdout",
     "output_type": "stream",
     "text": [
      "6,123,786\n",
      "6,123,786 is a match.\n"
     ]
    }
   ],
   "source": [
    "numRegex = input() \n",
    "\n",
    "import re\n",
    "\n",
    "check = re.compile(r'\\d{1,3}(,\\d{3})*')\n",
    "\n",
    "matches = check.match(numRegex)\n",
    "if matches.group(0) != numRegex:\n",
    "    print ('Not a match')\n",
    "else:\n",
    "    print(matches.group(0)+ ' is a match.')"
   ]
  },
  {
   "cell_type": "markdown",
   "id": "f1b6c2ae",
   "metadata": {},
   "source": [
    "-------"
   ]
  },
  {
   "cell_type": "markdown",
   "id": "1e0430e8",
   "metadata": {},
   "source": [
    "## 21. How would you write a regex that matches the full name of someone whose last name is"
   ]
  },
  {
   "cell_type": "raw",
   "id": "07fc4c1d",
   "metadata": {},
   "source": [
    "Watanabe? You can assume that the first name that comes before it will always be one word that\n",
    "begins with a capital letter. The regex must match the following:\n",
    "Haruto Watanabe\n",
    "Alice Watanabe\n",
    "RoboCop Watanabe\n",
    "but not the following:\n",
    "haruto Watanabe (where the first name is not capitalized)\n",
    "Mr. Watanabe (where the preceding word has a nonletter character)\n",
    "Watanabe (which has no first name)\n",
    "Haruto watanabe (where Watanabe is not capitalized)"
   ]
  },
  {
   "cell_type": "code",
   "execution_count": 28,
   "id": "ad2b556a",
   "metadata": {},
   "outputs": [
    {
     "name": "stdout",
     "output_type": "stream",
     "text": [
      "Haruto Watanabe matches \n",
      "\n",
      "Alice Watanabe matches \n",
      "\n",
      "Alice Watanabe matches \n",
      "\n",
      "RoboCop Watanabe matches \n",
      "\n",
      "haruto Watanabe does not match \n",
      "\n",
      "Mr. Watanabe does not match \n",
      "\n",
      "Watanabe does not match \n",
      "\n",
      "Haruto watanabe does not match \n",
      "\n"
     ]
    }
   ],
   "source": [
    "import re\n",
    "\n",
    "def printMatch(name):\n",
    "    pat = re.compile(r'\\b[A-Z][a-zA-Z]+\\sWatanabe')\n",
    "    if pat.search(name):\n",
    "        print (f\"{name} matches \\n\")\n",
    "    else:\n",
    "        print (f\"{name} does not match \\n\")\n",
    "        \n",
    "printMatch('Haruto Watanabe')\n",
    "printMatch('Alice Watanabe')\n",
    "printMatch('RoboCop Watanabe')\n",
    "printMatch('haruto Watanabe')\n",
    "printMatch('Mr. Watanabe')\n",
    "printMatch('Watanabe')\n",
    "printMatch(\"Haruto watanabe\")"
   ]
  },
  {
   "cell_type": "markdown",
   "id": "9ae6ed65",
   "metadata": {},
   "source": [
    "-------"
   ]
  },
  {
   "cell_type": "markdown",
   "id": "e8f77ffa",
   "metadata": {},
   "source": [
    "## 22. How would you write a regex that matches a sentence \n"
   ]
  },
  {
   "cell_type": "raw",
   "id": "0a78c1e4",
   "metadata": {},
   "source": [
    "where the first word is either Alice, Bob,\n",
    "or Carol; the second word is either eats, pets, or throws; the third word is apples, cats, or baseballs;\n",
    "and the sentence ends with a period? This regex should be case-insensitive. It must match the\n",
    "following:\n",
    "Alice eats apples.\n",
    "Bob pets cats.\n",
    "Carol throws baseballs.\n",
    "Alice throws Apples.\n",
    "BOB EATS CATS.\n",
    "but not the following:\n",
    "RoboCop eats apples.\n",
    "ALICE THROWS FOOTBALLS.\n",
    "Carol eats 7 cats."
   ]
  },
  {
   "cell_type": "code",
   "execution_count": 59,
   "id": "b5dedbec",
   "metadata": {},
   "outputs": [
    {
     "name": "stdout",
     "output_type": "stream",
     "text": [
      "Alice eats apples. is a match \n",
      "\n",
      "Bob pets cats. is a match \n",
      "\n",
      "Carol throws baseballs. is a match \n",
      "\n",
      "BOB EATS CATS. is a match \n",
      "\n",
      "Alice throws Apples. is a match \n",
      "\n",
      "ALICE THROWS FOOTBALLS. does not match \n",
      "\n",
      "Carol eats 7 cats. does not match \n",
      "\n"
     ]
    }
   ],
   "source": [
    "def Matchsentence(name):\n",
    "    pat = re.compile(r'(Alice|Bob|Carol)\\s(eats|pets|throws)\\s(apples|cats|baseballs)\\.', re.IGNORECASE)\n",
    "    if pat.search(name):\n",
    "        print (f\"{name} is a match \\n\")\n",
    "    else:\n",
    "        print (f\"{name} does not match \\n\")\n",
    "        \n",
    "Matchsentence(\"Alice eats apples.\")\n",
    "Matchsentence(\"Bob pets cats.\")\n",
    "Matchsentence(\"Carol throws baseballs.\")\n",
    "Matchsentence(\"BOB EATS CATS.\")\n",
    "Matchsentence(\"Alice throws Apples.\")\n",
    "Matchsentence(\"ALICE THROWS FOOTBALLS.\")\n",
    "Matchsentence(\"Carol eats 7 cats.\")"
   ]
  }
 ],
 "metadata": {
  "kernelspec": {
   "display_name": "Python 3 (ipykernel)",
   "language": "python",
   "name": "python3"
  },
  "language_info": {
   "codemirror_mode": {
    "name": "ipython",
    "version": 3
   },
   "file_extension": ".py",
   "mimetype": "text/x-python",
   "name": "python",
   "nbconvert_exporter": "python",
   "pygments_lexer": "ipython3",
   "version": "3.9.12"
  }
 },
 "nbformat": 4,
 "nbformat_minor": 5
}
