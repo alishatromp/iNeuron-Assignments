{
 "cells": [
  {
   "cell_type": "markdown",
   "id": "f722c8a9",
   "metadata": {},
   "source": [
    "## 1. How do you distinguish between shutil.copy() and shutil.copytree()?\n"
   ]
  },
  {
   "cell_type": "markdown",
   "id": "b93c55c5",
   "metadata": {},
   "source": [
    "## Ans -\n",
    "\n",
    "### shutil.copy() - copies single file\n",
    "\n",
    "### shutil.copytree() - copies entire folder with its constituents."
   ]
  },
  {
   "cell_type": "markdown",
   "id": "9ec9c229",
   "metadata": {},
   "source": [
    "--------------"
   ]
  },
  {
   "cell_type": "markdown",
   "id": "f12b6853",
   "metadata": {},
   "source": [
    "## 2. What function is used to rename files?"
   ]
  },
  {
   "cell_type": "code",
   "execution_count": null,
   "id": "54018f4a",
   "metadata": {},
   "outputs": [],
   "source": [
    "os.rename()"
   ]
  },
  {
   "cell_type": "markdown",
   "id": "dca29693",
   "metadata": {},
   "source": [
    "---------------"
   ]
  },
  {
   "cell_type": "markdown",
   "id": "0d7079cb",
   "metadata": {},
   "source": [
    "## 3. What is the difference between the delete functions in the send2trash and shutil modules?"
   ]
  },
  {
   "cell_type": "markdown",
   "id": "c5bb667a",
   "metadata": {},
   "source": [
    "## Ans -\n",
    "### Send2trash - sends to recylce bin\n",
    "### Shutil - will delete file permanently"
   ]
  },
  {
   "cell_type": "markdown",
   "id": "34b1c420",
   "metadata": {},
   "source": [
    "---------------------"
   ]
  },
  {
   "cell_type": "markdown",
   "id": "125cd81b",
   "metadata": {},
   "source": [
    "## 4.ZipFile objects have a close() method just like File objects’ close() method. What ZipFile method is equivalent to File objects’ open() method?"
   ]
  },
  {
   "cell_type": "markdown",
   "id": "48e0dba4",
   "metadata": {},
   "source": [
    "## Ans -\n",
    "### you can also use Zipfile.open(name)"
   ]
  },
  {
   "cell_type": "markdown",
   "id": "200904f2",
   "metadata": {},
   "source": [
    "------------"
   ]
  },
  {
   "cell_type": "markdown",
   "id": "da96fa87",
   "metadata": {},
   "source": [
    "## 5. Create a programme that searches a folder tree for files with a certain file extension (such as .pdf or .jpg). Copy these files from whatever location they are in to a new folder."
   ]
  },
  {
   "cell_type": "code",
   "execution_count": 5,
   "id": "67199f09",
   "metadata": {},
   "outputs": [
    {
     "name": "stdout",
     "output_type": "stream",
     "text": [
      "Copying C:\\Users\\61421\\Assignments\\randomFolder\\flower-color.jpg to C:\\Users\\61421\\Assignments\\selectedFolder\n"
     ]
    }
   ],
   "source": [
    "import os, shutil\n",
    "\n",
    "def selectiveCopy(targetFolder,destFolder):\n",
    "    folder = os.path.abspath(targetFolder)\n",
    "    destFolder = os.path.abspath(destFolder)\n",
    "    for foldername, subfolders, filenames in os.walk(folder):\n",
    "        for filename in filenames:\n",
    "            if filename.endswith('.jpg'):\n",
    "                fileAbsPath = foldername + os.path.sep + filename\n",
    "                print('Copying', fileAbsPath, 'to', destFolder)\n",
    "                shutil.copy(fileAbsPath, destFolder)\n",
    "\n",
    "targetFolder = 'randomFolder'\n",
    "destFolder = 'selectedFolder'\n",
    "selectiveCopy(targetFolder, destFolder)"
   ]
  }
 ],
 "metadata": {
  "kernelspec": {
   "display_name": "Python 3 (ipykernel)",
   "language": "python",
   "name": "python3"
  },
  "language_info": {
   "codemirror_mode": {
    "name": "ipython",
    "version": 3
   },
   "file_extension": ".py",
   "mimetype": "text/x-python",
   "name": "python",
   "nbconvert_exporter": "python",
   "pygments_lexer": "ipython3",
   "version": "3.9.12"
  }
 },
 "nbformat": 4,
 "nbformat_minor": 5
}
