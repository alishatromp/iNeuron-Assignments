{
 "cells": [
  {
   "cell_type": "markdown",
   "id": "a0cb8e29",
   "metadata": {},
   "source": [
    "## 1. What is the relationship between def statements and lambda expressions ?\n"
   ]
  },
  {
   "cell_type": "markdown",
   "id": "e6c530f9",
   "metadata": {},
   "source": [
    "## Def statements define functions followed by a program to execute the funct.\n",
    "## Lambda function is a function without a name. Lambda is a small anonymous function"
   ]
  },
  {
   "cell_type": "markdown",
   "id": "9e80532a",
   "metadata": {},
   "source": [
    "-------------"
   ]
  },
  {
   "cell_type": "markdown",
   "id": "911cdbf1",
   "metadata": {},
   "source": [
    "## 2. What is the benefit of lambda?"
   ]
  },
  {
   "cell_type": "markdown",
   "id": "639c5e64",
   "metadata": {},
   "source": [
    "## helps you define a func in a line for immediate use and avoids cluttering."
   ]
  },
  {
   "cell_type": "markdown",
   "id": "b5381ade",
   "metadata": {},
   "source": [
    "-------------"
   ]
  },
  {
   "cell_type": "markdown",
   "id": "8bfe7165",
   "metadata": {},
   "source": [
    "## 3. Compare and contrast map, filter, and reduce.\n"
   ]
  },
  {
   "cell_type": "markdown",
   "id": "b1e8ab52",
   "metadata": {},
   "source": [
    "## Map function, takes first argument as a func one by one, one by one\n",
    "## Reduce is useful when you need to apply a function to an iterable and reduce it to a single cumulative value\n",
    "## Filter function returns an iterator where the items are filtered through a function to test if the item is accepted or not"
   ]
  },
  {
   "cell_type": "markdown",
   "id": "89994bbf",
   "metadata": {},
   "source": [
    "------------"
   ]
  },
  {
   "cell_type": "markdown",
   "id": "c9f6f217",
   "metadata": {},
   "source": [
    "## 4. What are function annotations, and how are they used?\n"
   ]
  },
  {
   "cell_type": "markdown",
   "id": "4e719a84",
   "metadata": {},
   "source": [
    "## Function annotations are arbitrary python expressions that are associated with various part of functions. They have no meaning in python environment and only mean something at run time.\n",
    "## For e.g. annotations for multiple parameters are like this:\n",
    "## def test(args, **kwargs)\n"
   ]
  },
  {
   "cell_type": "code",
   "execution_count": 4,
   "id": "fbee6e30",
   "metadata": {},
   "outputs": [],
   "source": [
    "def test(args, **kwargs):\n",
    "    print ('Hello')"
   ]
  },
  {
   "cell_type": "markdown",
   "id": "c2f7e4bf",
   "metadata": {},
   "source": [
    "------------"
   ]
  },
  {
   "cell_type": "markdown",
   "id": "f43fcd88",
   "metadata": {},
   "source": [
    "## 5. What are recursive functions, and how are they used?"
   ]
  },
  {
   "cell_type": "markdown",
   "id": "77475b1b",
   "metadata": {},
   "source": [
    "## Recursive functions call themselves. It is always made up of 2 portions, the base case and the recursive case. The base case is the condition to stop the recursion. The recursive case is the part where the function calls on itself.\n",
    "\n",
    "- For e.g."
   ]
  },
  {
   "cell_type": "code",
   "execution_count": 24,
   "id": "4cf454df",
   "metadata": {},
   "outputs": [
    {
     "name": "stdout",
     "output_type": "stream",
     "text": [
      "The factorial of 5 is 120\n"
     ]
    }
   ],
   "source": [
    "def factorial(x):\n",
    "    \"\"\"This is a recursive function\n",
    "    to find the factorial of an integer\"\"\"\n",
    "\n",
    "    if x == 1:\n",
    "        return 1\n",
    "    else:\n",
    "        return (x * factorial(x-1))\n",
    "\n",
    "print(\"The factorial of\", 5, \"is\", factorial(5))"
   ]
  },
  {
   "cell_type": "markdown",
   "id": "9160af41",
   "metadata": {},
   "source": [
    "-------------"
   ]
  },
  {
   "cell_type": "markdown",
   "id": "fd7c7ae1",
   "metadata": {},
   "source": [
    "## 6. What are some general design guidelines for coding functions?\n"
   ]
  },
  {
   "cell_type": "markdown",
   "id": "758ed82c",
   "metadata": {},
   "source": [
    "- Use good modular design.\n",
    "- Use good error detection and handling like logging and exception handling.\n",
    "- Use descriptive names for variables, functions, classes. \n",
    "- Capitalize a class name if possible. Pick a capitalization style for function names, local variable names, global variable names, and stick with it.\n",
    "- Use docstring to define function.\n",
    "- Use define func where possible. Using lambda can be confusing."
   ]
  },
  {
   "cell_type": "markdown",
   "id": "c21ae906",
   "metadata": {},
   "source": [
    "--------"
   ]
  },
  {
   "cell_type": "markdown",
   "id": "3fc9d712",
   "metadata": {},
   "source": [
    "## 7. Name three or more ways that functions can communicate results to a caller."
   ]
  },
  {
   "cell_type": "markdown",
   "id": "9f5bcaef",
   "metadata": {},
   "source": [
    "## Call by value, call by reference, using decorators, make an object or an instance."
   ]
  }
 ],
 "metadata": {
  "kernelspec": {
   "display_name": "Python 3 (ipykernel)",
   "language": "python",
   "name": "python3"
  },
  "language_info": {
   "codemirror_mode": {
    "name": "ipython",
    "version": 3
   },
   "file_extension": ".py",
   "mimetype": "text/x-python",
   "name": "python",
   "nbconvert_exporter": "python",
   "pygments_lexer": "ipython3",
   "version": "3.9.12"
  }
 },
 "nbformat": 4,
 "nbformat_minor": 5
}
