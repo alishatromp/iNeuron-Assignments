{
 "cells": [
  {
   "cell_type": "markdown",
   "id": "c0e5e96e",
   "metadata": {},
   "source": [
    "## 1. Why are functions advantageous to have in your programs?\n"
   ]
  },
  {
   "cell_type": "markdown",
   "id": "5bb33afa",
   "metadata": {},
   "source": [
    "## Ans - Functions are advantageous because you don't have to write elaborate code. You can call a function which has the operations you want to do instead of typing everything, every time.\n",
    "## This makes it easy and user friendly for the coder/executer."
   ]
  },
  {
   "cell_type": "markdown",
   "id": "f20d3376",
   "metadata": {},
   "source": [
    "---------"
   ]
  },
  {
   "cell_type": "markdown",
   "id": "9de0624a",
   "metadata": {},
   "source": [
    "## 2. When does the code in a function run: when it's specified or when it's called?\n"
   ]
  },
  {
   "cell_type": "markdown",
   "id": "3259c799",
   "metadata": {},
   "source": [
    "## Ans - Code runs when you have called the function.\n",
    "\n",
    "E.g."
   ]
  },
  {
   "cell_type": "code",
   "execution_count": 1,
   "id": "167b6f08",
   "metadata": {},
   "outputs": [
    {
     "name": "stdout",
     "output_type": "stream",
     "text": [
      "Welcome to my function\n"
     ]
    }
   ],
   "source": [
    "def test():\n",
    "    print (\"Welcome to my function\")\n",
    "test()"
   ]
  },
  {
   "cell_type": "markdown",
   "id": "b4781d82",
   "metadata": {},
   "source": [
    "-------"
   ]
  },
  {
   "cell_type": "markdown",
   "id": "aaa5f2fa",
   "metadata": {},
   "source": [
    "## 3. What statement creates a function?"
   ]
  },
  {
   "cell_type": "markdown",
   "id": "d65a254a",
   "metadata": {},
   "source": [
    "## Ans - define(def) statement creates a function\n",
    "\n",
    "E.g.\n"
   ]
  },
  {
   "cell_type": "code",
   "execution_count": 3,
   "id": "07144afe",
   "metadata": {},
   "outputs": [
    {
     "name": "stdout",
     "output_type": "stream",
     "text": [
      "25\n"
     ]
    }
   ],
   "source": [
    "def funct(x):\n",
    "    print (x*x)\n",
    "funct(5)"
   ]
  },
  {
   "cell_type": "markdown",
   "id": "9ff0b427",
   "metadata": {},
   "source": [
    "--------"
   ]
  },
  {
   "cell_type": "markdown",
   "id": "63d40d38",
   "metadata": {},
   "source": [
    "## 4. What is the difference between a function and a function call?\n",
    "\n"
   ]
  },
  {
   "cell_type": "markdown",
   "id": "dc119457",
   "metadata": {},
   "source": [
    "## Ans - Function is a list of statements composed of arguments (if any) and operations.\n",
    "##     - Function call is when you call a function with 'n' arguments to perform the operations listed in the given function."
   ]
  },
  {
   "cell_type": "markdown",
   "id": "d37b3505",
   "metadata": {},
   "source": [
    "-----"
   ]
  },
  {
   "cell_type": "markdown",
   "id": "5b711c54",
   "metadata": {},
   "source": [
    "## 5. How many global scopes are there in a Python program? How many local scopes?\n"
   ]
  },
  {
   "cell_type": "markdown",
   "id": "ccc2ce45",
   "metadata": {},
   "source": [
    "## Ans - One global scope per program execution\n",
    "## Many local scopes...local variables can be accessed from a function within a function.\n",
    "\n",
    "E.g."
   ]
  },
  {
   "cell_type": "code",
   "execution_count": 22,
   "id": "79781db8",
   "metadata": {},
   "outputs": [],
   "source": [
    "#Global scope\n",
    "\n",
    "x = 500\n",
    "def mytest():\n",
    "    x = 1000\n",
    "    def myinnertest():\n",
    "        print (x)\n",
    "    myinnertest()"
   ]
  },
  {
   "cell_type": "code",
   "execution_count": 23,
   "id": "6b8419b8",
   "metadata": {},
   "outputs": [
    {
     "data": {
      "text/plain": [
       "500"
      ]
     },
     "execution_count": 23,
     "metadata": {},
     "output_type": "execute_result"
    }
   ],
   "source": [
    "x"
   ]
  },
  {
   "cell_type": "code",
   "execution_count": 17,
   "id": "ff080e4f",
   "metadata": {},
   "outputs": [],
   "source": [
    "#Local scope\n",
    "\n",
    "def mytest1():\n",
    "    x = 300\n",
    "    def myinnertest1():\n",
    "        print (x)\n",
    "    myinnertest1()"
   ]
  },
  {
   "cell_type": "code",
   "execution_count": 16,
   "id": "de77127a",
   "metadata": {},
   "outputs": [
    {
     "name": "stdout",
     "output_type": "stream",
     "text": [
      "300\n"
     ]
    }
   ],
   "source": [
    "mytest1()"
   ]
  },
  {
   "cell_type": "markdown",
   "id": "ef05c708",
   "metadata": {},
   "source": [
    "-------"
   ]
  },
  {
   "cell_type": "markdown",
   "id": "28372070",
   "metadata": {},
   "source": [
    "## 6. What happens to variables in a local scope when the function call returns?"
   ]
  },
  {
   "cell_type": "markdown",
   "id": "82fcd295",
   "metadata": {},
   "source": [
    "## Ans - Variables in a local scope won't hold their value. Once the block ends, the variable and value it holds, are lost."
   ]
  },
  {
   "cell_type": "markdown",
   "id": "7041a268",
   "metadata": {},
   "source": [
    "---------"
   ]
  },
  {
   "cell_type": "markdown",
   "id": "21359f54",
   "metadata": {},
   "source": [
    "## 7. What is the concept of a return value? Is it possible to have a return value in an expression?"
   ]
  },
  {
   "cell_type": "markdown",
   "id": "e4f07d0f",
   "metadata": {},
   "source": [
    "## Ans - We write return () statement to end the function and return the result to the caller. Return value can be of any variable type such as integer, string etc\n",
    "## Yes it is possible.\n"
   ]
  },
  {
   "cell_type": "markdown",
   "id": "139b834d",
   "metadata": {},
   "source": [
    "---------"
   ]
  },
  {
   "cell_type": "markdown",
   "id": "1972440a",
   "metadata": {},
   "source": [
    "## 8. If a function does not have a return statement, what is the return value of a call to that function?\n"
   ]
  },
  {
   "cell_type": "markdown",
   "id": "bf633376",
   "metadata": {},
   "source": [
    "## Ans - No return statement means Python will return a value by default. That default value is always None."
   ]
  },
  {
   "cell_type": "markdown",
   "id": "c0b84634",
   "metadata": {},
   "source": [
    "------"
   ]
  },
  {
   "cell_type": "markdown",
   "id": "6a6cba36",
   "metadata": {},
   "source": [
    "## 9. How do you make a function variable refer to the global variable?\n"
   ]
  },
  {
   "cell_type": "markdown",
   "id": "90101797",
   "metadata": {},
   "source": [
    "## Ans - Use the global keyword.\n",
    "\n",
    "E.g."
   ]
  },
  {
   "cell_type": "code",
   "execution_count": 26,
   "id": "e7fba6a5",
   "metadata": {},
   "outputs": [
    {
     "name": "stdout",
     "output_type": "stream",
     "text": [
      "I study at iNeuron\n"
     ]
    }
   ],
   "source": [
    "x = \"iNeuron\"\n",
    "\n",
    "def mytest3():\n",
    "    global x\n",
    "mytest3()\n",
    "print (\"I study at \" + x)"
   ]
  },
  {
   "cell_type": "markdown",
   "id": "d78d3268",
   "metadata": {},
   "source": [
    "-----"
   ]
  },
  {
   "cell_type": "markdown",
   "id": "2a18fa9c",
   "metadata": {},
   "source": [
    "## 10. What is the data type of None?"
   ]
  },
  {
   "cell_type": "markdown",
   "id": "2eb0bfc7",
   "metadata": {},
   "source": [
    "## Ans - None is data type of its own (Nonetype).\n",
    "\n",
    "E.g.\n"
   ]
  },
  {
   "cell_type": "code",
   "execution_count": 5,
   "id": "5ea0772f",
   "metadata": {},
   "outputs": [
    {
     "name": "stdout",
     "output_type": "stream",
     "text": [
      "Print always returns None type\n"
     ]
    },
    {
     "data": {
      "text/plain": [
       "NoneType"
      ]
     },
     "execution_count": 5,
     "metadata": {},
     "output_type": "execute_result"
    }
   ],
   "source": [
    "def test1():\n",
    "    print (\"Print always returns None type\")\n",
    "type(test1())"
   ]
  },
  {
   "cell_type": "markdown",
   "id": "8aa980bc",
   "metadata": {},
   "source": [
    "---------"
   ]
  },
  {
   "cell_type": "markdown",
   "id": "3854f798",
   "metadata": {},
   "source": [
    "## 11. What does the sentence import areallyourpetsnamederic do?\n"
   ]
  },
  {
   "cell_type": "markdown",
   "id": "969a33ac",
   "metadata": {},
   "source": [
    "## Ans- This sentence imports the package/module arereallyourpetsnamederic"
   ]
  },
  {
   "cell_type": "markdown",
   "id": "ba1faf6d",
   "metadata": {},
   "source": [
    "--------"
   ]
  },
  {
   "cell_type": "markdown",
   "id": "8357b9b2",
   "metadata": {},
   "source": [
    "## 12. If you had a bacon() feature in a spam module, what would you call it after importing spam?\n",
    "## Ans - We call bacon() a function in module spam. \n",
    "### see below code:-"
   ]
  },
  {
   "cell_type": "code",
   "execution_count": null,
   "id": "482b5ec0",
   "metadata": {},
   "outputs": [],
   "source": [
    "import spam\n",
    "\n",
    "bacon()"
   ]
  },
  {
   "cell_type": "markdown",
   "id": "8ca0d85a",
   "metadata": {},
   "source": [
    "--------"
   ]
  },
  {
   "cell_type": "markdown",
   "id": "97d9aaa6",
   "metadata": {},
   "source": [
    "## 13. What can you do to save a programme from crashing if it encounters an error?\n"
   ]
  },
  {
   "cell_type": "markdown",
   "id": "bda48536",
   "metadata": {},
   "source": [
    "## Ans - Use exception handling. Log all errors using logging."
   ]
  },
  {
   "cell_type": "markdown",
   "id": "8829c8a7",
   "metadata": {},
   "source": [
    "--------"
   ]
  },
  {
   "cell_type": "markdown",
   "id": "4dff131d",
   "metadata": {},
   "source": [
    "## 14. What is the purpose of the try clause? What is the purpose of the except clause?"
   ]
  },
  {
   "cell_type": "markdown",
   "id": "42f01b9e",
   "metadata": {},
   "source": [
    "## Ans - To handle errors we use try, except, else and finally.\n",
    "\n",
    "## try is a normal code to try assigning values to variables. Except captures error.\n",
    "\n",
    "E.g."
   ]
  },
  {
   "cell_type": "code",
   "execution_count": 6,
   "id": "72a05035",
   "metadata": {},
   "outputs": [
    {
     "name": "stdout",
     "output_type": "stream",
     "text": [
      "Cannot divide by zero\n"
     ]
    }
   ],
   "source": [
    "try:\n",
    "    a = 10\n",
    "    b=0\n",
    "    c=a/b\n",
    "    print (c)\n",
    "except:\n",
    "    print (\"Cannot divide by zero\")"
   ]
  }
 ],
 "metadata": {
  "kernelspec": {
   "display_name": "Python 3 (ipykernel)",
   "language": "python",
   "name": "python3"
  },
  "language_info": {
   "codemirror_mode": {
    "name": "ipython",
    "version": 3
   },
   "file_extension": ".py",
   "mimetype": "text/x-python",
   "name": "python",
   "nbconvert_exporter": "python",
   "pygments_lexer": "ipython3",
   "version": "3.9.12"
  }
 },
 "nbformat": 4,
 "nbformat_minor": 5
}
