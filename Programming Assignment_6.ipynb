{
 "cells": [
  {
   "cell_type": "markdown",
   "id": "44e243fe",
   "metadata": {},
   "source": [
    "## 1. Write a Python Program to Display Fibonacci Sequence Using Recursion?"
   ]
  },
  {
   "cell_type": "markdown",
   "id": "37edead2",
   "metadata": {},
   "source": [
    "## Recursive functions are functions that call a function within a function"
   ]
  },
  {
   "cell_type": "code",
   "execution_count": 37,
   "id": "bc702a43",
   "metadata": {},
   "outputs": [
    {
     "name": "stdout",
     "output_type": "stream",
     "text": [
      "1\n",
      "1\n",
      "2\n",
      "3\n",
      "5\n",
      "8\n",
      "13\n"
     ]
    }
   ],
   "source": [
    "n = 7\n",
    "\n",
    "def fibonacci(n):\n",
    "    if n == 0:\n",
    "        return 0\n",
    "    elif n ==1:\n",
    "        return 1\n",
    "    else:\n",
    "        return (fibonacci(n-2)+fibonacci(n-1))\n",
    "    \n",
    "for i in range(1, n+1):\n",
    "    print (fibonacci(i))"
   ]
  },
  {
   "cell_type": "markdown",
   "id": "2fb67750",
   "metadata": {},
   "source": [
    "-----"
   ]
  },
  {
   "cell_type": "markdown",
   "id": "324b4825",
   "metadata": {},
   "source": [
    "## 2. Write a Python Program to Find Factorial of Number Using Recursion?"
   ]
  },
  {
   "cell_type": "code",
   "execution_count": 12,
   "id": "ca6e44ee",
   "metadata": {},
   "outputs": [
    {
     "name": "stdout",
     "output_type": "stream",
     "text": [
      "1\n",
      "25852016738884976640000\n",
      "87178291200\n"
     ]
    }
   ],
   "source": [
    "def factorial(n):\n",
    "    if (n==0 or n==1):\n",
    "        return 1\n",
    "    else:\n",
    "        return (n * factorial(n-1))\n",
    "\n",
    "print (factorial(1))\n",
    "print (factorial(23))\n",
    "print (factorial(14))"
   ]
  },
  {
   "cell_type": "markdown",
   "id": "107eef5c",
   "metadata": {},
   "source": [
    "----------"
   ]
  },
  {
   "cell_type": "markdown",
   "id": "52b3a988",
   "metadata": {},
   "source": [
    "## 3. Write a Python Program to calculate your Body Mass Index?"
   ]
  },
  {
   "cell_type": "code",
   "execution_count": 12,
   "id": "e9b716ab",
   "metadata": {},
   "outputs": [
    {
     "name": "stdout",
     "output_type": "stream",
     "text": [
      "Your BMI is 36.73 and you are probably OBESE\n"
     ]
    }
   ],
   "source": [
    "def bodymassindex(height,weight):\n",
    "    bmi_person = round ((weight/height**2),2)\n",
    "    \n",
    "    if bmi_person <=18.5:\n",
    "        print (f\"Your BMI is {bmi_person} and you are underweight\")\n",
    "    elif 18.5 < bmi_person <=24.9:\n",
    "        print (f\"Your BMI is {bmi_person} and your weight is normal\")\n",
    "    elif 25< bmi_person <= 29.9:\n",
    "        print (f\"Your BMI is {bmi_person} and you are overweight\")\n",
    "    else:\n",
    "        print (f\"Your BMI is {bmi_person} and you are probably OBESE\")\n",
    "        \n",
    "bodymassindex(1.65, 100)"
   ]
  },
  {
   "cell_type": "markdown",
   "id": "d128b624",
   "metadata": {},
   "source": [
    "------------"
   ]
  },
  {
   "cell_type": "markdown",
   "id": "eda9f7eb",
   "metadata": {},
   "source": [
    "## 4. Write a Python Program to calculate the natural logarithm of any number?"
   ]
  },
  {
   "cell_type": "code",
   "execution_count": 28,
   "id": "597e4094",
   "metadata": {},
   "outputs": [
    {
     "name": "stdout",
     "output_type": "stream",
     "text": [
      "Enter any number: 49\n",
      "Natural log of number 49 is 3.8918202981106265\n"
     ]
    }
   ],
   "source": [
    "import math\n",
    "\n",
    "num = int (input(\"Enter any number: \"))\n",
    "ans = math.log(num)\n",
    "print (f\"Natural log of number {num} is {ans}\")"
   ]
  },
  {
   "cell_type": "markdown",
   "id": "1010575b",
   "metadata": {},
   "source": [
    "------"
   ]
  },
  {
   "cell_type": "markdown",
   "id": "6ae31d81",
   "metadata": {},
   "source": [
    "## 5. Write a Python Program for cube sum of first n natural numbers?"
   ]
  },
  {
   "cell_type": "code",
   "execution_count": 26,
   "id": "d068201c",
   "metadata": {},
   "outputs": [
    {
     "name": "stdout",
     "output_type": "stream",
     "text": [
      "Cube of first 5 natural numbers is 225\n",
      "Cube of first 10 natural numbers is 3025\n"
     ]
    }
   ],
   "source": [
    "def cube_natural(n):\n",
    "    cube = 1\n",
    "    \n",
    "    if n > 0:\n",
    "        for i in range (2, n+1):\n",
    "            cube += (i**3)\n",
    "        print (f'Cube of first {n} natural numbers is {cube}')\n",
    "    \n",
    "cube_natural(5)\n",
    "cube_natural(10)"
   ]
  }
 ],
 "metadata": {
  "kernelspec": {
   "display_name": "Python 3 (ipykernel)",
   "language": "python",
   "name": "python3"
  },
  "language_info": {
   "codemirror_mode": {
    "name": "ipython",
    "version": 3
   },
   "file_extension": ".py",
   "mimetype": "text/x-python",
   "name": "python",
   "nbconvert_exporter": "python",
   "pygments_lexer": "ipython3",
   "version": "3.9.12"
  }
 },
 "nbformat": 4,
 "nbformat_minor": 5
}
