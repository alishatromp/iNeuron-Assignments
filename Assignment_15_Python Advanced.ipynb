{
 "cells": [
  {
   "cell_type": "markdown",
   "id": "1bdbb602",
   "metadata": {},
   "source": [
    "## 1. What are the new features added in Python 3.8 version?"
   ]
  },
  {
   "cell_type": "markdown",
   "id": "5fe178c6",
   "metadata": {},
   "source": [
    "1. Assignment Expressions.\n",
    "- Assignment expressions have come to Python with the \"walrus\" operator :=. This will enable you to assign values to a variable as part of an expression."
   ]
  },
  {
   "cell_type": "markdown",
   "id": "221498e0",
   "metadata": {},
   "source": [
    "2. Positional-only arguments\n",
    "- A special marker, /, can now be used when defining a method's arguments to specify that the functional only accepts positional arguments on the left of the marker. Keyword-only arguments have been available in Python with the * marker in functions, and addition of / marker for positional-only arguments improves the language's consistency and allows for a robust API design."
   ]
  },
  {
   "cell_type": "markdown",
   "id": "901bb9c7",
   "metadata": {},
   "source": [
    "3. f-strings now support \"=\""
   ]
  },
  {
   "cell_type": "markdown",
   "id": "1ff3d71a",
   "metadata": {},
   "source": [
    "4. reversed() now works with dict."
   ]
  },
  {
   "cell_type": "markdown",
   "id": "911bd640",
   "metadata": {},
   "source": [
    "5. Simplified iterable unpacking for return and yield"
   ]
  },
  {
   "cell_type": "markdown",
   "id": "e7881e2d",
   "metadata": {},
   "source": [
    "6. New syntax warnings"
   ]
  },
  {
   "cell_type": "markdown",
   "id": "1fec35f7",
   "metadata": {},
   "source": [
    "7. Performance improvements\n",
    "- operator.itemgetter() is now 33% faster. This was made possible by optimizing argument handling and adding a fast path for the common case of a single non-negative integer index into a tuple (which is the typical use case in the standard library).\n",
    "- Field lookups in collections.namedtuple() are now more than two times faster, making them the fastest form of instance variable lookup in Python.\n",
    "- The list constructor does not over-allocate the internal item buffer if the input iterable has a known length (the input implements len). This makes the created list 12% smaller on average.\n",
    "- Class variable writes are now twice as fast: when a non-dunder attribute was updated, there was an unnecessary call to update slots, which is optimized.\n",
    "- Invocation of some simple built-ins and methods are now 20-50% faster. The overhead of converting arguments to these methods is reduced.\n",
    "- uuid.UUID now uses slots to reduce it's memory footprint."
   ]
  },
  {
   "cell_type": "markdown",
   "id": "3e086152",
   "metadata": {},
   "source": [
    "-----------"
   ]
  },
  {
   "cell_type": "markdown",
   "id": "8d2eb804",
   "metadata": {},
   "source": [
    "## 2. What is monkey patching in Python?"
   ]
  },
  {
   "cell_type": "markdown",
   "id": "e413958e",
   "metadata": {},
   "source": [
    "- Monkey patching is a technique used to dynamically update the behavior of a piece of code at run-time."
   ]
  },
  {
   "cell_type": "code",
   "execution_count": 5,
   "id": "b41d0e7d",
   "metadata": {},
   "outputs": [
    {
     "name": "stdout",
     "output_type": "stream",
     "text": [
      "monkey_f() is being called\n"
     ]
    }
   ],
   "source": [
    "#Example of monkey patching.\n",
    "class One:\n",
    "    def func(self):\n",
    "        print(\"func() is being called\")\n",
    "\n",
    "def monkey_f(self):\n",
    "    print(\"monkey_f() is being called\")\n",
    "\n",
    "One.func = monkey_f\n",
    "some_object = One()\n",
    "some_object.func()"
   ]
  },
  {
   "cell_type": "markdown",
   "id": "8cb40932",
   "metadata": {},
   "source": [
    "----"
   ]
  },
  {
   "cell_type": "markdown",
   "id": "11a5f6a3",
   "metadata": {},
   "source": [
    "## 3. What is the difference between a shallow copy and deep copy?\n"
   ]
  },
  {
   "cell_type": "markdown",
   "id": "eee35d00",
   "metadata": {},
   "source": [
    "- Using copy(), also called shallow copy refers to changes made in a copied object with corresponding changes in the original object, since both the objects will be referencing same address location.\n",
    "- Using deepcopy(), enables changes made in a copied object but will not make changes in original object, because both the objects will not be referencing same address location."
   ]
  },
  {
   "cell_type": "markdown",
   "id": "ed1cffe7",
   "metadata": {},
   "source": [
    "-------"
   ]
  },
  {
   "cell_type": "markdown",
   "id": "3682ae7d",
   "metadata": {},
   "source": [
    "## 4. What is the maximum possible length of an identifier?\n"
   ]
  },
  {
   "cell_type": "markdown",
   "id": "126e6769",
   "metadata": {},
   "source": [
    "## Ans - In Python, the highest possible length of an identifier is 79 characters."
   ]
  },
  {
   "cell_type": "markdown",
   "id": "45c90165",
   "metadata": {},
   "source": [
    "------"
   ]
  },
  {
   "cell_type": "markdown",
   "id": "62900da7",
   "metadata": {},
   "source": [
    "## 5. What is generator comprehension?"
   ]
  },
  {
   "cell_type": "markdown",
   "id": "96218e4d",
   "metadata": {},
   "source": [
    "## Ans - Single line specification defining a generator in Python."
   ]
  },
  {
   "cell_type": "code",
   "execution_count": 7,
   "id": "37f2176a",
   "metadata": {},
   "outputs": [
    {
     "name": "stdout",
     "output_type": "stream",
     "text": [
      "[0, 1, 2, 3, 4, 5, 6, 7, 8, 9]\n",
      "<generator object <genexpr> at 0x000001F148EF35F0>\n",
      "0 2 4 6 8 "
     ]
    }
   ],
   "source": [
    "list_comp = [ele for ele in range(10)] # List Comprehension\n",
    "print(list_comp)\n",
    "out_gen = (ele for ele in list_comp if ele%2 == 0) # Generator Comprehension\n",
    "print(out_gen) # Returns a Generator Object\n",
    "for ele in out_gen:\n",
    "    print(ele, end=\" \")"
   ]
  }
 ],
 "metadata": {
  "kernelspec": {
   "display_name": "Python 3 (ipykernel)",
   "language": "python",
   "name": "python3"
  },
  "language_info": {
   "codemirror_mode": {
    "name": "ipython",
    "version": 3
   },
   "file_extension": ".py",
   "mimetype": "text/x-python",
   "name": "python",
   "nbconvert_exporter": "python",
   "pygments_lexer": "ipython3",
   "version": "3.9.12"
  }
 },
 "nbformat": 4,
 "nbformat_minor": 5
}
