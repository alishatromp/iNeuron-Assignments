{
 "cells": [
  {
   "cell_type": "markdown",
   "id": "92c0b54b",
   "metadata": {},
   "source": [
    "## Q1. Describe three applications for exception processing."
   ]
  },
  {
   "cell_type": "markdown",
   "id": "1905001b",
   "metadata": {},
   "source": [
    "## Ans - \n",
    "## 1) File handling\n",
    "## 2) Checking appropriate use of input/output in an application.\n",
    "## 3) Checking arithmetic exceptions such as division by zero."
   ]
  },
  {
   "cell_type": "markdown",
   "id": "05aad030",
   "metadata": {},
   "source": [
    "----"
   ]
  },
  {
   "cell_type": "markdown",
   "id": "fcf3eed9",
   "metadata": {},
   "source": [
    "## Q2. What happens if you don&#39;t do something extra to treat an exception?"
   ]
  },
  {
   "cell_type": "markdown",
   "id": "5ff55bad",
   "metadata": {},
   "source": [
    "## Ans - An exception is an issue (run time error) occurred during the execution of a program. \n",
    "## Exception handling deals with these events to avoid the program or system crashing, and without this process, exceptions would disrupt the normal operation of a program resulting in an untimely termination of the program."
   ]
  },
  {
   "cell_type": "markdown",
   "id": "c133df5b",
   "metadata": {},
   "source": [
    "----------"
   ]
  },
  {
   "cell_type": "markdown",
   "id": "756fae66",
   "metadata": {},
   "source": [
    "## Q3. What are your options for recovering from an exception in your script?\n"
   ]
  },
  {
   "cell_type": "markdown",
   "id": "14af43a0",
   "metadata": {},
   "source": [
    "## Ans - Using try/catch or try/except"
   ]
  },
  {
   "cell_type": "markdown",
   "id": "9a496f47",
   "metadata": {},
   "source": [
    "--------"
   ]
  },
  {
   "cell_type": "markdown",
   "id": "fcd8bfca",
   "metadata": {},
   "source": [
    "## Q4. Describe two methods for triggering exceptions in your script."
   ]
  },
  {
   "cell_type": "markdown",
   "id": "36d38fb2",
   "metadata": {},
   "source": [
    "## Ans - Use a raise keyword\n",
    "## Use assert keyword"
   ]
  },
  {
   "cell_type": "markdown",
   "id": "8fb92987",
   "metadata": {},
   "source": [
    "--------"
   ]
  },
  {
   "cell_type": "markdown",
   "id": "a858b0bc",
   "metadata": {},
   "source": [
    "## Q5. Identify two methods for specifying actions to be executed at termination time, regardless of whether or not an exception exists."
   ]
  },
  {
   "cell_type": "markdown",
   "id": "2a7cd95a",
   "metadata": {},
   "source": [
    "## Ans - Python has else and finally keywords to deal with this."
   ]
  }
 ],
 "metadata": {
  "kernelspec": {
   "display_name": "Python 3 (ipykernel)",
   "language": "python",
   "name": "python3"
  },
  "language_info": {
   "codemirror_mode": {
    "name": "ipython",
    "version": 3
   },
   "file_extension": ".py",
   "mimetype": "text/x-python",
   "name": "python",
   "nbconvert_exporter": "python",
   "pygments_lexer": "ipython3",
   "version": "3.9.12"
  }
 },
 "nbformat": 4,
 "nbformat_minor": 5
}
