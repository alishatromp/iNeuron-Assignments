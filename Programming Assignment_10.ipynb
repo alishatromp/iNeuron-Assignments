{
 "cells": [
  {
   "cell_type": "markdown",
   "id": "947dae9a",
   "metadata": {},
   "source": [
    "## 1. Write a Python program to find sum of elements in list?\n"
   ]
  },
  {
   "cell_type": "code",
   "execution_count": 1,
   "id": "a5292b96",
   "metadata": {
    "scrolled": true
   },
   "outputs": [
    {
     "name": "stdout",
     "output_type": "stream",
     "text": [
      "616\n"
     ]
    }
   ],
   "source": [
    "l = [1,2,3,4,5,66,7,87,77,6,65,54,4,223,11,1]\n",
    "print (sum(l)) # using builtin function"
   ]
  },
  {
   "cell_type": "code",
   "execution_count": 2,
   "id": "269dfb2e",
   "metadata": {},
   "outputs": [
    {
     "name": "stdout",
     "output_type": "stream",
     "text": [
      "616\n"
     ]
    }
   ],
   "source": [
    "summ = 0\n",
    "for i in l:\n",
    "    summ=summ+(i)\n",
    "print(summ)"
   ]
  },
  {
   "cell_type": "markdown",
   "id": "d91a3383",
   "metadata": {},
   "source": [
    "----------"
   ]
  },
  {
   "cell_type": "markdown",
   "id": "894cb214",
   "metadata": {},
   "source": [
    "## 2. Write a Python program to Multiply all numbers in the list?"
   ]
  },
  {
   "cell_type": "code",
   "execution_count": 3,
   "id": "414347c7",
   "metadata": {},
   "outputs": [
    {
     "name": "stdout",
     "output_type": "stream",
     "text": [
      "76744826001043200\n"
     ]
    }
   ],
   "source": [
    "summ = 1\n",
    "for i in l:\n",
    "    summ=summ*(i)\n",
    "print(summ)"
   ]
  },
  {
   "cell_type": "markdown",
   "id": "2f790fcb",
   "metadata": {},
   "source": [
    "-----------"
   ]
  },
  {
   "cell_type": "markdown",
   "id": "a998ead9",
   "metadata": {},
   "source": [
    "## 3. Write a Python program to find smallest number in a list?\n"
   ]
  },
  {
   "cell_type": "code",
   "execution_count": 4,
   "id": "9f08ae2d",
   "metadata": {},
   "outputs": [
    {
     "name": "stdout",
     "output_type": "stream",
     "text": [
      "1 is smallest element\n"
     ]
    }
   ],
   "source": [
    "l = [1,2,3,4,5,66,7,87,77,6,65,54,4,223,11,1]\n",
    "l.sort()\n",
    "print(l[0], \"is smallest element\")"
   ]
  },
  {
   "cell_type": "markdown",
   "id": "7aba2230",
   "metadata": {},
   "source": [
    "---------"
   ]
  },
  {
   "cell_type": "markdown",
   "id": "e4f11873",
   "metadata": {},
   "source": [
    "## 4. Write a Python program to find largest number in a list?\n"
   ]
  },
  {
   "cell_type": "code",
   "execution_count": 5,
   "id": "a1260d80",
   "metadata": {},
   "outputs": [
    {
     "name": "stdout",
     "output_type": "stream",
     "text": [
      "1119 is largest element\n"
     ]
    }
   ],
   "source": [
    "l = [1,2,3,4,5,66,7,87,77,6,65,54,4,223,1119,1]\n",
    "l.sort()\n",
    "print(l[-1], \"is largest element\")"
   ]
  },
  {
   "cell_type": "markdown",
   "id": "7377ac7e",
   "metadata": {},
   "source": [
    "---------"
   ]
  },
  {
   "cell_type": "markdown",
   "id": "fcf0fcea",
   "metadata": {},
   "source": [
    "## 5. Write a Python program to find second largest number in a list?"
   ]
  },
  {
   "cell_type": "code",
   "execution_count": 6,
   "id": "e938a3dd",
   "metadata": {},
   "outputs": [
    {
     "name": "stdout",
     "output_type": "stream",
     "text": [
      "223 is second largest element\n"
     ]
    }
   ],
   "source": [
    "l = [1,2,3,4,5,66,7,87,77,6,65,54,4,223,1119,1]\n",
    "l.sort()\n",
    "print(l[-2], \"is second largest element\")"
   ]
  },
  {
   "cell_type": "markdown",
   "id": "0bc1764b",
   "metadata": {},
   "source": [
    "-------"
   ]
  },
  {
   "cell_type": "markdown",
   "id": "ece654a6",
   "metadata": {},
   "source": [
    "## 6. Write a Python program to find N largest elements from a list?"
   ]
  },
  {
   "cell_type": "code",
   "execution_count": 7,
   "id": "f889e9c6",
   "metadata": {},
   "outputs": [
    {
     "name": "stdout",
     "output_type": "stream",
     "text": [
      "[77, 87, 223, 1119]\n"
     ]
    }
   ],
   "source": [
    "l = [1,2,3,4,5,66,7,87,77,6,65,54,4,223,1119,1]\n",
    "N = 4\n",
    " \n",
    "l.sort()\n",
    "N1 = []\n",
    " \n",
    "while N:\n",
    "    N1.append(l[-N])\n",
    "    N = N-1\n",
    "     \n",
    "print(N1)"
   ]
  },
  {
   "cell_type": "markdown",
   "id": "49104f28",
   "metadata": {},
   "source": [
    "-------"
   ]
  },
  {
   "cell_type": "markdown",
   "id": "bfd7ae00",
   "metadata": {},
   "source": [
    "## 7. Write a Python program to print even numbers in a list?"
   ]
  },
  {
   "cell_type": "code",
   "execution_count": 8,
   "id": "3b3b3193",
   "metadata": {},
   "outputs": [
    {
     "name": "stdout",
     "output_type": "stream",
     "text": [
      "[2, 4, 66, 6, 54, 4]\n"
     ]
    }
   ],
   "source": [
    "l = [1,2,3,4,5,66,7,87,77,6,65,54,4,223,1119,1]\n",
    "e=[]\n",
    "for num in l:\n",
    "    #print(num)\n",
    "    if num%2==0:\n",
    "        e.append(num)\n",
    "print(e)"
   ]
  },
  {
   "cell_type": "markdown",
   "id": "ffbc3f1c",
   "metadata": {},
   "source": [
    "---------"
   ]
  },
  {
   "cell_type": "markdown",
   "id": "646e21db",
   "metadata": {},
   "source": [
    "## 8. Write a Python program to print odd numbers in a List?"
   ]
  },
  {
   "cell_type": "code",
   "execution_count": 14,
   "id": "449b46a4",
   "metadata": {},
   "outputs": [
    {
     "name": "stdout",
     "output_type": "stream",
     "text": [
      "[1, 3, 5, 7, 87, 77, 65, 223, 1119, 1]\n"
     ]
    }
   ],
   "source": [
    "l = [1,2,3,4,5,66,7,87,77,6,65,54,4,223,1119,1]\n",
    "o=[]\n",
    "for i in l:\n",
    "    if i%2!=0:\n",
    "        o.append(i)\n",
    "print(o)"
   ]
  },
  {
   "cell_type": "markdown",
   "id": "dc52888b",
   "metadata": {},
   "source": [
    "---------"
   ]
  },
  {
   "cell_type": "markdown",
   "id": "b1b21bb6",
   "metadata": {},
   "source": [
    "## 9. Write a Python program to Remove empty List from List?"
   ]
  },
  {
   "cell_type": "code",
   "execution_count": 10,
   "id": "b9d2dcfe",
   "metadata": {},
   "outputs": [
    {
     "name": "stdout",
     "output_type": "stream",
     "text": [
      "[1, 1, 2, 3, 4, 4, 5, 6, 7, 54, 65, 66, 77, 87, 223, 1119]\n"
     ]
    }
   ],
   "source": [
    "l = [1, 1, 2, 3, [], 4, 4, 5, 6, 7, 54, 65, 66, 77, 87, [], 223, 1119]\n",
    "l1 = []\n",
    "for i in l:\n",
    "    if i != []:\n",
    "        l1.append(i)\n",
    "print(l1)"
   ]
  },
  {
   "cell_type": "markdown",
   "id": "d4ad9a06",
   "metadata": {},
   "source": [
    "--------"
   ]
  },
  {
   "cell_type": "markdown",
   "id": "8bb99f89",
   "metadata": {},
   "source": [
    "## 10. Write a Python program to Cloning or Copying a list?\n"
   ]
  },
  {
   "cell_type": "code",
   "execution_count": 11,
   "id": "de6e97ae",
   "metadata": {},
   "outputs": [
    {
     "name": "stdout",
     "output_type": "stream",
     "text": [
      "old list [1, 1, 2, 3, 4, 4, 5, 6, 7, 54, 65, 66, 77, 87, 223, 1119]\n",
      "copied list [1, 1, 2, 3, 4, 4, 5, 6, 7, 54, 65, 66, 77, 87, 223, 1119]\n"
     ]
    }
   ],
   "source": [
    "c = [1, 1, 2, 3, 4, 4, 5, 6, 7, 54, 65, 66, 77, 87, 223, 1119]\n",
    "clone = []\n",
    "\n",
    "for i in c:\n",
    "    clone.append(i)\n",
    "print (\"old list\",c)\n",
    "print (\"copied list\", clone)"
   ]
  },
  {
   "cell_type": "markdown",
   "id": "9eff8c82",
   "metadata": {},
   "source": [
    "--------"
   ]
  },
  {
   "cell_type": "markdown",
   "id": "bab862b9",
   "metadata": {},
   "source": [
    "## 11. Write a Python program to Count occurrences of an element in a list?"
   ]
  },
  {
   "cell_type": "code",
   "execution_count": 12,
   "id": "7e00779e",
   "metadata": {},
   "outputs": [
    {
     "name": "stdout",
     "output_type": "stream",
     "text": [
      "element you are looking for: 1\n",
      "Element 1 occurs 2 times\n"
     ]
    }
   ],
   "source": [
    "l = [1, 1, 2, 3, 4, 4, 5, 6, 7, 54, 65, 66, 77,3,3,3,3,3,3,3,3, 87, 223, 1119]\n",
    "x = int(input(\"element you are looking for: \"))\n",
    "count = 0\n",
    "for i in l:\n",
    "    if i == x:\n",
    "        count=count+1\n",
    "print (\"Element\", x, \"occurs\", count, \"times\")"
   ]
  }
 ],
 "metadata": {
  "kernelspec": {
   "display_name": "Python 3 (ipykernel)",
   "language": "python",
   "name": "python3"
  },
  "language_info": {
   "codemirror_mode": {
    "name": "ipython",
    "version": 3
   },
   "file_extension": ".py",
   "mimetype": "text/x-python",
   "name": "python",
   "nbconvert_exporter": "python",
   "pygments_lexer": "ipython3",
   "version": "3.9.12"
  }
 },
 "nbformat": 4,
 "nbformat_minor": 5
}
