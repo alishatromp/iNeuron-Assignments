{
 "cells": [
  {
   "cell_type": "markdown",
   "id": "e00e46a1",
   "metadata": {},
   "source": [
    "## 1. Compare and contrast the float and Decimal classes&#39; benefits and drawbacks."
   ]
  },
  {
   "cell_type": "markdown",
   "id": "23267aac",
   "metadata": {},
   "source": [
    "## Ans - Floating point data type represent number values with fractional parts. Use this for speed and convenience.\n",
    "\n",
    "## Decimals accurately represent any number within the precision of the decimal format. Use this when precision matters.\n",
    "\n",
    "## While decimal are more accurate, float cannot accurately represent all numbers. Decimals being more precise outweigh the performance benefits of float."
   ]
  },
  {
   "cell_type": "markdown",
   "id": "ab8cf89d",
   "metadata": {},
   "source": [
    "--------------"
   ]
  },
  {
   "cell_type": "markdown",
   "id": "a8eec3ab",
   "metadata": {},
   "source": [
    "## 2. Decimal(&#39;1.200&#39;) and Decimal(&#39;1.2&#39;) are two objects to consider. In what sense are these the same object? Are these just two ways of representing the exact same value, or do they correspond to different internal states?"
   ]
  },
  {
   "cell_type": "markdown",
   "id": "f2b42717",
   "metadata": {},
   "source": [
    "## Ans - Both are same only internal states differs. Decimal 1.200 is 1.200 and decimal 1.2 is 1.2."
   ]
  },
  {
   "cell_type": "markdown",
   "id": "2f91a377",
   "metadata": {},
   "source": [
    "--------------"
   ]
  },
  {
   "cell_type": "markdown",
   "id": "589714d3",
   "metadata": {},
   "source": [
    "## 3. What happens if the equality of Decimal(&#39;1.200&#39;) and Decimal(&#39;1.2&#39;) is checked?"
   ]
  },
  {
   "cell_type": "markdown",
   "id": "7066bd6f",
   "metadata": {},
   "source": [
    "## Ans - Values are equal but not precise."
   ]
  },
  {
   "cell_type": "markdown",
   "id": "07450c41",
   "metadata": {},
   "source": [
    "----------"
   ]
  },
  {
   "cell_type": "markdown",
   "id": "1b169755",
   "metadata": {},
   "source": [
    "## 4. Why is it preferable to start a Decimal object with a string rather than a floating-point value?"
   ]
  },
  {
   "cell_type": "markdown",
   "id": "248877b8",
   "metadata": {},
   "source": [
    "## Ans - Converting floating point values may have rounding errors. If you start with a Decimal value as a string then you are avoiding those."
   ]
  },
  {
   "cell_type": "markdown",
   "id": "8342c9bf",
   "metadata": {},
   "source": [
    "-----------"
   ]
  },
  {
   "cell_type": "markdown",
   "id": "e545551c",
   "metadata": {},
   "source": [
    "## 5. In an arithmetic phrase, how simple is it to combine Decimal objects with integers?"
   ]
  },
  {
   "cell_type": "markdown",
   "id": "fbdce6e2",
   "metadata": {},
   "source": [
    "## Ans - Use module Decimal with Decimal ()"
   ]
  },
  {
   "cell_type": "markdown",
   "id": "3812b1d2",
   "metadata": {},
   "source": [
    "----------------"
   ]
  },
  {
   "cell_type": "markdown",
   "id": "45d959bc",
   "metadata": {},
   "source": [
    "## 6. Can Decimal objects and floating-point values be combined easily?"
   ]
  },
  {
   "cell_type": "markdown",
   "id": "6d06df55",
   "metadata": {},
   "source": [
    "## Ans - Decimal objects cannot generally be combined with floats or instances of fractions. Fraction in arithmetic operations: an attempt to add a Decimal to a float , for example, will raise a TypeError. Convert the floating point to Decimal if you want to do this."
   ]
  },
  {
   "cell_type": "markdown",
   "id": "0871d591",
   "metadata": {},
   "source": [
    "------------"
   ]
  },
  {
   "cell_type": "markdown",
   "id": "de6fa925",
   "metadata": {},
   "source": [
    "## 7. Using the Fraction class but not the Decimal class, give an example of a quantity that can be expressed with absolute precision."
   ]
  },
  {
   "cell_type": "markdown",
   "id": "de6b7a53",
   "metadata": {},
   "source": [
    "## Ans - Expressing 0.5 as 1/2"
   ]
  },
  {
   "cell_type": "markdown",
   "id": "3a2a71d1",
   "metadata": {},
   "source": [
    "-------------------"
   ]
  },
  {
   "cell_type": "markdown",
   "id": "6e4469fa",
   "metadata": {},
   "source": [
    "## 8. Describe a quantity that can be accurately expressed by the Decimal or Fraction classes but not by a floating-point value."
   ]
  },
  {
   "cell_type": "markdown",
   "id": "79383963",
   "metadata": {},
   "source": [
    "## Ans - Take a look at the below. x is from Decimal and fraction of 1/3 and y is a floating point value. "
   ]
  },
  {
   "cell_type": "code",
   "execution_count": 10,
   "id": "cc40e4e7",
   "metadata": {},
   "outputs": [
    {
     "name": "stdout",
     "output_type": "stream",
     "text": [
      "0.3333333333333333333333333333\n",
      "0.3333333333333333\n"
     ]
    }
   ],
   "source": [
    "from decimal import *\n",
    "x = Decimal(1) / Decimal(3)\n",
    "y = 1/3\n",
    "print (x)\n",
    "print (y)"
   ]
  },
  {
   "cell_type": "markdown",
   "id": "75f54876",
   "metadata": {},
   "source": [
    "----------------"
   ]
  },
  {
   "cell_type": "markdown",
   "id": "057b7378",
   "metadata": {},
   "source": [
    "## Q9.Consider the following two fraction objects: Fraction(1, 2) and Fraction(1, 2). (5, 10). Is the internal state of these two objects the same? Why do you think that is?\n"
   ]
  },
  {
   "cell_type": "markdown",
   "id": "10311291",
   "metadata": {},
   "source": [
    "## Ans - Yes, because 5/10 will be reduced to 1/2"
   ]
  },
  {
   "cell_type": "markdown",
   "id": "5725c0fc",
   "metadata": {},
   "source": [
    "------------"
   ]
  },
  {
   "cell_type": "markdown",
   "id": "c78d9e31",
   "metadata": {},
   "source": [
    "\n",
    "## Q10. How do the Fraction class and the integer type (int) relate to each other? Containment or inheritance?"
   ]
  },
  {
   "cell_type": "markdown",
   "id": "7888fd85",
   "metadata": {},
   "source": [
    "## Ans - Fraction is a containment of two ints. One is a numerator, the other a denominator."
   ]
  }
 ],
 "metadata": {
  "kernelspec": {
   "display_name": "Python 3 (ipykernel)",
   "language": "python",
   "name": "python3"
  },
  "language_info": {
   "codemirror_mode": {
    "name": "ipython",
    "version": 3
   },
   "file_extension": ".py",
   "mimetype": "text/x-python",
   "name": "python",
   "nbconvert_exporter": "python",
   "pygments_lexer": "ipython3",
   "version": "3.9.12"
  }
 },
 "nbformat": 4,
 "nbformat_minor": 5
}
