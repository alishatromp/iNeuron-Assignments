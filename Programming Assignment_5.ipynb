{
 "cells": [
  {
   "cell_type": "markdown",
   "id": "f44e2228",
   "metadata": {},
   "source": [
    "## 1. Write a Python Program to Find LCM?\n"
   ]
  },
  {
   "cell_type": "raw",
   "id": "d8ef76db",
   "metadata": {},
   "source": [
    "The LCM of two or more numbers is the smallest number that is evenly divisible by all numbers in the set."
   ]
  },
  {
   "cell_type": "code",
   "execution_count": 12,
   "id": "1707281e",
   "metadata": {},
   "outputs": [
    {
     "name": "stdout",
     "output_type": "stream",
     "text": [
      "Enter number assigned to a: \n",
      "24\n",
      "Enter number assigned to b: \n",
      "36\n",
      "LCM of 24 and 36 is 72\n"
     ]
    }
   ],
   "source": [
    "#CODE 1:\n",
    "\n",
    "a = int (input (\"Enter number assigned to a: \\n\"))\n",
    "b = int (input (\"Enter number assigned to b: \\n\"))\n",
    "\n",
    "#assign greater to the greater of the two values\n",
    "\n",
    "if a>b:\n",
    "    greater = a\n",
    "else:\n",
    "    greater = b\n",
    "\n",
    "while (True):\n",
    "    if greater % a == 0 and greater % b == 0:\n",
    "        lcm = greater\n",
    "        break\n",
    "    greater += 1\n",
    "    \n",
    "print (f\"LCM of {a} and {b} is {lcm}\")"
   ]
  },
  {
   "cell_type": "markdown",
   "id": "05abf2c2",
   "metadata": {},
   "source": [
    "-------------------"
   ]
  },
  {
   "cell_type": "code",
   "execution_count": 11,
   "id": "c9c723cd",
   "metadata": {},
   "outputs": [
    {
     "name": "stdout",
     "output_type": "stream",
     "text": [
      "Enter number assigned to a: 24\n",
      "Enter number assigned to b: 12\n",
      "LCM of 24 and 12 is 24\n"
     ]
    }
   ],
   "source": [
    "#CODE 2:\n",
    "\n",
    "a = int (input (\"Enter number assigned to a: \"))\n",
    "b = int (input (\"Enter number assigned to b: \"))\n",
    "\n",
    "#assign greater to the greater of the two values\n",
    "\n",
    "if a>b:\n",
    "    greater = a\n",
    "else:\n",
    "    greater = b\n",
    "\n",
    "for i in range (1, greater+1):\n",
    "    if greater % a == 0 and greater % b == 0:\n",
    "        lcm = greater\n",
    "print (f\"LCM of {a} and {b} is {lcm}\")"
   ]
  },
  {
   "cell_type": "markdown",
   "id": "942581ac",
   "metadata": {},
   "source": [
    "## 2. Write a Python Program to Find HCF?"
   ]
  },
  {
   "cell_type": "raw",
   "id": "2ee21346",
   "metadata": {},
   "source": [
    "HCF (Highest Common Factor) or GCD (Greatest Common Divisor) of two numbers is the largest number that divides both of them. "
   ]
  },
  {
   "cell_type": "code",
   "execution_count": 8,
   "id": "ab378e18",
   "metadata": {},
   "outputs": [
    {
     "name": "stdout",
     "output_type": "stream",
     "text": [
      "Enter number assigned to a: 18\n",
      "Enter number assigned to b: 30\n",
      "HCF of 18 and 30 is 15\n"
     ]
    }
   ],
   "source": [
    "a = int (input (\"Enter number assigned to a: \"))\n",
    "b = int (input (\"Enter number assigned to b: \"))\n",
    "\n",
    "if a<b:\n",
    "    minimum = a\n",
    "else:\n",
    "    minimum = b\n",
    "\n",
    "for i in range (1, minimum+1):\n",
    "    if a % minimum == 0 and b % minimum == 0:\n",
    "        hcf = i\n",
    "\n",
    "print (f\"HCF of {a} and {b} is {hcf}\")"
   ]
  },
  {
   "cell_type": "markdown",
   "id": "1172ef78",
   "metadata": {},
   "source": [
    "-------------"
   ]
  },
  {
   "cell_type": "markdown",
   "id": "96947537",
   "metadata": {},
   "source": [
    "## 3. Write a Python Program to Convert Decimal to Binary, Octal and Hexadecimal?"
   ]
  },
  {
   "cell_type": "code",
   "execution_count": 30,
   "id": "13e89cc4",
   "metadata": {},
   "outputs": [
    {
     "name": "stdout",
     "output_type": "stream",
     "text": [
      "Enter number to convert to Binary: 12\n",
      "Enter number to convert to Octal: 12\n",
      "Enter number to convert to Hexadecimal: 12\n",
      "Binary of 12 is 0b1100\n",
      "Octal of 12 is 0o14\n",
      "Hexadecimal of 12 is 0xc\n"
     ]
    }
   ],
   "source": [
    "num = int(input(\"Enter number to convert to Binary: \"))\n",
    "num1 = int(input(\"Enter number to convert to Octal: \"))\n",
    "num2 = int(input(\"Enter number to convert to Hexadecimal: \"))\n",
    "\n",
    "b = bin(num)\n",
    "o = oct(num1)\n",
    "h = hex(num2)\n",
    "\n",
    "print (f\"Binary of {num} is {b}\\nOctal of {num1} is {o}\\nHexadecimal of {num2} is {h}\")"
   ]
  },
  {
   "cell_type": "markdown",
   "id": "ef76edeb",
   "metadata": {},
   "source": [
    "----------"
   ]
  },
  {
   "cell_type": "markdown",
   "id": "23696dd7",
   "metadata": {},
   "source": [
    "\n",
    "## 4. Write a Python Program To Find ASCII value of a character?"
   ]
  },
  {
   "cell_type": "raw",
   "id": "7855dffe",
   "metadata": {},
   "source": [
    "ASCII stands for American Standard Code for Information Interchange.\n",
    "\n",
    "It is a numeric value given to different characters and symbols, for computers to store and manipulate. \n",
    "For example, the ASCII value of the letter 'X' is 88."
   ]
  },
  {
   "cell_type": "code",
   "execution_count": 29,
   "id": "aff1b683",
   "metadata": {},
   "outputs": [
    {
     "name": "stdout",
     "output_type": "stream",
     "text": [
      "Enter charachter: \n",
      "d\n",
      "The ASCII value of d is,  100\n"
     ]
    }
   ],
   "source": [
    "x = input(\"Enter charachter: \\n\")\n",
    "print(f\"The ASCII value of {x} is,  {ord(x)}\")"
   ]
  },
  {
   "cell_type": "markdown",
   "id": "bdc947f1",
   "metadata": {},
   "source": [
    "-------------------------"
   ]
  },
  {
   "cell_type": "markdown",
   "id": "961b6e7e",
   "metadata": {},
   "source": [
    "\n",
    "## 5. Write a Python Program to Make a Simple Calculator with 4 basic mathematical operations?\n",
    "\n",
    "\n"
   ]
  },
  {
   "cell_type": "code",
   "execution_count": null,
   "id": "8f25ffc8",
   "metadata": {},
   "outputs": [],
   "source": [
    "def add (a, b):\n",
    "    sum = a+b\n",
    "    print (sum)\n",
    "\n",
    "def sub (a, b):\n",
    "    diff = a-b\n",
    "    print (diff)\n",
    "\n",
    "def mul(a, b):\n",
    "    mult = a*b\n",
    "    print (mult)\n",
    "\n",
    "def div (a, b):\n",
    "    div = a/b\n",
    "    print (div)"
   ]
  },
  {
   "cell_type": "code",
   "execution_count": null,
   "id": "ad9ed970",
   "metadata": {},
   "outputs": [],
   "source": [
    "add(100,200)"
   ]
  },
  {
   "cell_type": "code",
   "execution_count": null,
   "id": "29189360",
   "metadata": {},
   "outputs": [],
   "source": [
    "sub(2000, 1000)"
   ]
  },
  {
   "cell_type": "code",
   "execution_count": null,
   "id": "40039e9d",
   "metadata": {},
   "outputs": [],
   "source": [
    "mul(10,200)"
   ]
  },
  {
   "cell_type": "code",
   "execution_count": null,
   "id": "2527cffe",
   "metadata": {},
   "outputs": [],
   "source": [
    "div(1000, 5)"
   ]
  }
 ],
 "metadata": {
  "kernelspec": {
   "display_name": "Python 3 (ipykernel)",
   "language": "python",
   "name": "python3"
  },
  "language_info": {
   "codemirror_mode": {
    "name": "ipython",
    "version": 3
   },
   "file_extension": ".py",
   "mimetype": "text/x-python",
   "name": "python",
   "nbconvert_exporter": "python",
   "pygments_lexer": "ipython3",
   "version": "3.9.12"
  }
 },
 "nbformat": 4,
 "nbformat_minor": 5
}
