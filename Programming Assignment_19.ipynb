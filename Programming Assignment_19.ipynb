{
 "cells": [
  {
   "cell_type": "markdown",
   "id": "be4a7a11",
   "metadata": {},
   "source": [
    "## Question1\n",
    "### Create a function that takes a string and returns a string in which each character is repeated once.\n",
    "- Examples\n",
    "- double_char(&quot;String&quot;) ➞ &quot;SSttrriinngg&quot;\n",
    "- double_char(&quot;Hello World!&quot;) ➞ &quot;HHeelllloo WWoorrlldd!!&quot;\n",
    "- double_char(&quot;1234!_ &quot;) ➞ &quot;11223344!!__ &quot;"
   ]
  },
  {
   "cell_type": "code",
   "execution_count": 1,
   "id": "e6100143",
   "metadata": {},
   "outputs": [
    {
     "name": "stdout",
     "output_type": "stream",
     "text": [
      "SSttrriinngg\n",
      "HHeelllloo  WWoorrlldd!!\n",
      "11223344!!__  \n"
     ]
    }
   ],
   "source": [
    "def double_char(my_str):\n",
    "    \n",
    "    return ''.join([c+c for c in my_str])\n",
    "\n",
    "print(double_char(\"String\"))\n",
    "print(double_char(\"Hello World!\"))\n",
    "print(double_char(\"1234!_ \"))"
   ]
  },
  {
   "cell_type": "markdown",
   "id": "e3ffffd8",
   "metadata": {},
   "source": [
    "---------"
   ]
  },
  {
   "cell_type": "markdown",
   "id": "1253d866",
   "metadata": {},
   "source": [
    "## Question2\n",
    "### Create a function that reverses a boolean value and returns the string &quot;boolean expected&quot; if another variable type is given.\n",
    "- Examples\n",
    "- reverse(True) ➞ False\n",
    "- reverse(False) ➞ True\n",
    "- reverse(0) ➞ &quot;boolean expected&quot;\n",
    "- reverse(None) ➞ &quot;boolean expected&quot;\n"
   ]
  },
  {
   "cell_type": "code",
   "execution_count": 2,
   "id": "95a30f3a",
   "metadata": {},
   "outputs": [
    {
     "name": "stdout",
     "output_type": "stream",
     "text": [
      "False\n",
      "True\n",
      "boolean expected\n",
      "boolean expected\n"
     ]
    }
   ],
   "source": [
    "def reverse(arg=None):\n",
    "    return not arg if type(arg) == bool else \"boolean expected\"\n",
    "    \n",
    "print(reverse(True))\n",
    "print(reverse(False))\n",
    "print (reverse(0))\n",
    "print(reverse(None))"
   ]
  },
  {
   "cell_type": "markdown",
   "id": "d55345c8",
   "metadata": {},
   "source": [
    "----------"
   ]
  },
  {
   "cell_type": "markdown",
   "id": "4db079f2",
   "metadata": {},
   "source": [
    "## Question3\n",
    "### Create a function that returns the thickness (in meters) of a piece of paper after folding it n number of times. The paper starts off with a thickness of 0.5mm.\n",
    "- Examples\n",
    "- num_layers(1) ➞ &quot;0.001m&quot;\n",
    "- Paper folded once is 1mm (equal to 0.001m)\n",
    "- num_layers(4) ➞ &quot;0.008m&quot;\n",
    "- Paper folded 4 times is 8mm (equal to 0.008m)\n",
    "- num_layers(21) ➞ &quot;1048.576m&quot;\n",
    "- Paper folded 21 times is 1048576mm (equal to 1048.576m)\n"
   ]
  },
  {
   "cell_type": "code",
   "execution_count": 3,
   "id": "1c158c61",
   "metadata": {},
   "outputs": [
    {
     "name": "stdout",
     "output_type": "stream",
     "text": [
      "0.001 m\n",
      "0.008 m\n",
      "1048.576 m\n"
     ]
    }
   ],
   "source": [
    "def num_layers(n):\n",
    "    res = 0.5\n",
    "    for _ in range(n):\n",
    "        res = res*2\n",
    "    return res / 1000\n",
    "\n",
    "print(num_layers(1), 'm')\n",
    "print(num_layers(4), 'm')\n",
    "print(num_layers(21),\"m\")"
   ]
  },
  {
   "cell_type": "markdown",
   "id": "67d2f758",
   "metadata": {},
   "source": [
    "-------"
   ]
  },
  {
   "cell_type": "markdown",
   "id": "8224aeaa",
   "metadata": {},
   "source": [
    "## Question4\n",
    "\n",
    "### Create a function that takes a single string as argument and returns an ordered list containing the indices of all capital letters in the string.\n",
    "- Examples\n",
    "- index_of_caps(&quot;eDaBiT&quot;) ➞ [1, 3, 5]\n",
    "- index_of_caps(&quot;eQuINoX&quot;) ➞ [1, 3, 4, 6]\n",
    "- index_of_caps(&quot;determine&quot;) ➞ []\n",
    "- index_of_caps(&quot;STRIKE&quot;) ➞ [0, 1, 2, 3, 4, 5]\n",
    "- index_of_caps(&quot;sUn&quot;) ➞ [1]"
   ]
  },
  {
   "cell_type": "code",
   "execution_count": 4,
   "id": "652030ee",
   "metadata": {},
   "outputs": [
    {
     "name": "stdout",
     "output_type": "stream",
     "text": [
      "[]\n",
      "[1, 3, 5]\n",
      "[1, 3, 4, 6]\n"
     ]
    }
   ],
   "source": [
    "def index_of_caps(my_str):\n",
    "\n",
    "    res = [idx for idx in range(len(my_str)) if my_str[idx].isupper()]\n",
    "    return res\n",
    " \n",
    "print(index_of_caps(\"determine\"))\n",
    "print(index_of_caps(\"eDaBiT\"))\n",
    "print(index_of_caps(\"eQuINoX\"))\n"
   ]
  },
  {
   "cell_type": "markdown",
   "id": "d2e863cf",
   "metadata": {},
   "source": [
    "--------"
   ]
  },
  {
   "cell_type": "markdown",
   "id": "97c37a08",
   "metadata": {},
   "source": [
    "## Question5\n",
    "### Using list comprehensions, create a function that finds all even numbers from 1 to the given number.\n",
    "- Examples\n",
    "- find_even_nums(8) ➞ [2, 4, 6, 8]\n",
    "- find_even_nums(4) ➞ [2, 4]\n",
    "- find_even_nums(2) ➞ [2]"
   ]
  },
  {
   "cell_type": "code",
   "execution_count": 5,
   "id": "571bb021",
   "metadata": {},
   "outputs": [
    {
     "name": "stdout",
     "output_type": "stream",
     "text": [
      "[2, 4, 6, 8]\n",
      "[2, 4]\n",
      "[2]\n"
     ]
    }
   ],
   "source": [
    "def find_even_nums(n):\n",
    "    return [x for x in range (1, n+1) if x%2 == 0]\n",
    "\n",
    "print(find_even_nums(8))\n",
    "print(find_even_nums(4))\n",
    "print(find_even_nums(2))"
   ]
  }
 ],
 "metadata": {
  "kernelspec": {
   "display_name": "Python 3 (ipykernel)",
   "language": "python",
   "name": "python3"
  },
  "language_info": {
   "codemirror_mode": {
    "name": "ipython",
    "version": 3
   },
   "file_extension": ".py",
   "mimetype": "text/x-python",
   "name": "python",
   "nbconvert_exporter": "python",
   "pygments_lexer": "ipython3",
   "version": "3.9.12"
  }
 },
 "nbformat": 4,
 "nbformat_minor": 5
}
