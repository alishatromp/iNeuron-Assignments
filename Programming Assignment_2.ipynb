{
 "cells": [
  {
   "cell_type": "markdown",
   "id": "784e3c44",
   "metadata": {},
   "source": [
    "## 1. Write a Python program to convert kilometers to miles?\n"
   ]
  },
  {
   "cell_type": "code",
   "execution_count": 21,
   "id": "96a90715",
   "metadata": {},
   "outputs": [
    {
     "name": "stdout",
     "output_type": "stream",
     "text": [
      "Enter the kms you want to convert to miles: 1000\n",
      "1000 kms is 621.371 miles\n"
     ]
    }
   ],
   "source": [
    "kms = int(input(\"Enter the kms you want to convert to miles: \"))\n",
    "miles = (0.621371 * kms)\n",
    "\n",
    "print (f\"{kms} kms is {miles} miles\")"
   ]
  },
  {
   "cell_type": "markdown",
   "id": "0423df7d",
   "metadata": {},
   "source": [
    "------"
   ]
  },
  {
   "cell_type": "markdown",
   "id": "d48eeaed",
   "metadata": {},
   "source": [
    "## 2. Write a Python program to convert Celsius to Fahrenheit?"
   ]
  },
  {
   "cell_type": "code",
   "execution_count": 22,
   "id": "e45c4aa0",
   "metadata": {},
   "outputs": [
    {
     "name": "stdout",
     "output_type": "stream",
     "text": [
      "Enter the temp in celsius to convert to Fahrenheit: 12\n",
      "12 Celsius degrees is 53.6 degrees Fahrenheit\n"
     ]
    }
   ],
   "source": [
    "cel = int(input(\"Enter the temp in celsius to convert to Fahrenheit: \"))\n",
    "fah = cel*1.8+32\n",
    "\n",
    "print (f\"{cel} Celsius degrees is {fah} degrees Fahrenheit\")"
   ]
  },
  {
   "cell_type": "markdown",
   "id": "6d9340ac",
   "metadata": {},
   "source": [
    "----------"
   ]
  },
  {
   "cell_type": "markdown",
   "id": "2eb2b837",
   "metadata": {},
   "source": [
    "## 3. Write a Python program to display calendar?"
   ]
  },
  {
   "cell_type": "code",
   "execution_count": 27,
   "id": "fcf79524",
   "metadata": {},
   "outputs": [
    {
     "name": "stdout",
     "output_type": "stream",
     "text": [
      "Enter year you want to see calendar: 2023\n",
      "Enter month: 12\n",
      "   December 2023\n",
      "Mo Tu We Th Fr Sa Su\n",
      "             1  2  3\n",
      " 4  5  6  7  8  9 10\n",
      "11 12 13 14 15 16 17\n",
      "18 19 20 21 22 23 24\n",
      "25 26 27 28 29 30 31\n",
      "\n"
     ]
    }
   ],
   "source": [
    "import calendar\n",
    "\n",
    "yy = int(input(\"Enter year you want to see calendar: \"))\n",
    "mm = int(input(\"Enter month: \"))\n",
    "\n",
    "print(calendar.month(yy,mm))"
   ]
  },
  {
   "cell_type": "markdown",
   "id": "b7e75ffb",
   "metadata": {},
   "source": [
    "----------"
   ]
  },
  {
   "cell_type": "markdown",
   "id": "cad0a6fb",
   "metadata": {},
   "source": [
    "## 4. Write a Python program to solve quadratic equation?"
   ]
  },
  {
   "cell_type": "code",
   "execution_count": 20,
   "id": "e6546230",
   "metadata": {},
   "outputs": [
    {
     "name": "stdout",
     "output_type": "stream",
     "text": [
      "Enter a: 2\n",
      "Enter b: 3\n",
      "Enter c: -2\n",
      "x is 0.5, -2.0\n"
     ]
    }
   ],
   "source": [
    "import math\n",
    "\n",
    "a = int(input(\"Enter a: \"))\n",
    "b = int(input(\"Enter b: \"))\n",
    "c = int(input(\"Enter c: \"))\n",
    "\n",
    "q1 = (b**2)-(4*a*c)\n",
    "q2 = int(q1)\n",
    "q3 = (math.sqrt(q2))\n",
    "#print (q3)\n",
    "q4 = 2*a\n",
    "#print (q4)\n",
    "x1 = (-b+q3)/q4\n",
    "x2 = (-b-q3)/q4\n",
    "#print (q5, q6)\n",
    "\n",
    "print(f\"x is {x1}, {x2}\")"
   ]
  },
  {
   "cell_type": "markdown",
   "id": "cec8b847",
   "metadata": {},
   "source": [
    "----------------"
   ]
  },
  {
   "cell_type": "markdown",
   "id": "107a1d02",
   "metadata": {},
   "source": [
    "\n",
    "## 5. Write a Python program to swap two variables without temp variable?"
   ]
  },
  {
   "cell_type": "code",
   "execution_count": 28,
   "id": "36c0e679",
   "metadata": {},
   "outputs": [
    {
     "name": "stdout",
     "output_type": "stream",
     "text": [
      "Enter x: 1000\n",
      "Enter y: 3000\n",
      "Now x becomes 3000 and y becomes 1000\n"
     ]
    }
   ],
   "source": [
    "x = int(input(\"Enter x: \"))\n",
    "y = int(input(\"Enter y: \"))\n",
    "\n",
    "x = x+y\n",
    "y = x-y\n",
    "x = x-y\n",
    "\n",
    "print (f\"Now x becomes {x} and y becomes {y}\")"
   ]
  }
 ],
 "metadata": {
  "kernelspec": {
   "display_name": "Python 3 (ipykernel)",
   "language": "python",
   "name": "python3"
  },
  "language_info": {
   "codemirror_mode": {
    "name": "ipython",
    "version": 3
   },
   "file_extension": ".py",
   "mimetype": "text/x-python",
   "name": "python",
   "nbconvert_exporter": "python",
   "pygments_lexer": "ipython3",
   "version": "3.9.12"
  }
 },
 "nbformat": 4,
 "nbformat_minor": 5
}
