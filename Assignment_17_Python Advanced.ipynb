{
 "cells": [
  {
   "cell_type": "markdown",
   "id": "ffb83af0",
   "metadata": {},
   "source": [
    "## Q1. Explain the difference between greedy and non-greedy syntax with visual terms in as few words as possible. What is the bare minimum effort required to transform a greedy pattern into a non-greedy one? What characters or characters can you introduce or change?"
   ]
  },
  {
   "cell_type": "markdown",
   "id": "1dec065e",
   "metadata": {},
   "source": [
    "## Ans - Greedy matching is the default behavior of regular expressions, where the regular expression engine will try to match as much text as possible. In contrast, non-greedy matching, also known as lazy matching, tries to match as little text as possible."
   ]
  },
  {
   "cell_type": "markdown",
   "id": "237aa8ee",
   "metadata": {},
   "source": [
    "## For example, on the 6-character string 'aaaaaa' , a{3,5} will match 5 'a' characters, while a{3,5}? will only match 3 characters"
   ]
  },
  {
   "cell_type": "code",
   "execution_count": 3,
   "id": "a5264bc5",
   "metadata": {},
   "outputs": [
    {
     "name": "stdout",
     "output_type": "stream",
     "text": [
      "['aaaaaa', '']\n",
      "['', 'a', '', 'a', '', 'a', '', 'a', '', 'a', '', 'a', '']\n"
     ]
    }
   ],
   "source": [
    "import re\n",
    "#Greedy\n",
    "print(re.findall(\"a*\", \"aaaaaa\"))\n",
    "#Non-greedy\n",
    "print(re.findall(\"a*?\", \"aaaaaa\"))"
   ]
  },
  {
   "cell_type": "markdown",
   "id": "5de55e1f",
   "metadata": {},
   "source": [
    "----------"
   ]
  },
  {
   "cell_type": "markdown",
   "id": "5467dcfc",
   "metadata": {},
   "source": [
    "## Q2. When exactly does greedy versus non-greedy make a difference?  What if you&#39;re looking for a non-greedy match but the only one available is greedy?"
   ]
  },
  {
   "cell_type": "markdown",
   "id": "beecce69",
   "metadata": {},
   "source": [
    "## Ans - The greedy method will try to match as many repetitions of the quantified pattern where possible. \n",
    "## The non greedy method will try to match as few repetitions of the quantified pattern as possible. \n",
    "## If only non greedy match is available, we can use either filtering or pattern matching methods of regex and further identify the required pattern."
   ]
  },
  {
   "cell_type": "markdown",
   "id": "8eb620a5",
   "metadata": {},
   "source": [
    "----------"
   ]
  },
  {
   "cell_type": "markdown",
   "id": "d3bb68a2",
   "metadata": {},
   "source": [
    "## Q3. In a simple match of a string, which looks only for one match and does not do any replacement, is the use of a non-tagged group likely to make any practical difference?"
   ]
  },
  {
   "cell_type": "markdown",
   "id": "3b5b5c7f",
   "metadata": {},
   "source": [
    "## The non-tagged group will not make any difference."
   ]
  },
  {
   "cell_type": "code",
   "execution_count": 8,
   "id": "41eae87a",
   "metadata": {},
   "outputs": [
    {
     "name": "stdout",
     "output_type": "stream",
     "text": [
      "Phone number found -> 234\n",
      "Phone number found -> 234\n"
     ]
    }
   ],
   "source": [
    "import re\n",
    "phoneNumRegex = re.compile(r'\\d\\d\\d')\n",
    "num = phoneNumRegex.search('My number is 234-567-8901.')\n",
    "print(f'Phone number found -> {num.group()}')\n",
    "print(f'Phone number found -> {num.group(0)}')"
   ]
  },
  {
   "cell_type": "markdown",
   "id": "a9ee2835",
   "metadata": {},
   "source": [
    "--------"
   ]
  },
  {
   "cell_type": "markdown",
   "id": "2662a214",
   "metadata": {},
   "source": [
    "## Q4. Describe a scenario in which using a non-tagged category would have a significant impact on the program&#39;s outcomes."
   ]
  },
  {
   "cell_type": "code",
   "execution_count": 13,
   "id": "dcd654e3",
   "metadata": {},
   "outputs": [
    {
     "data": {
      "text/plain": [
       "('911', '786')"
      ]
     },
     "execution_count": 13,
     "metadata": {},
     "output_type": "execute_result"
    }
   ],
   "source": [
    "import re\n",
    "num='911.786'\n",
    "pattern=r'(\\d+)(?:.)(\\d+)'\n",
    "regobj=re.compile(pattern)\n",
    "matobj=regobj.search(num)\n",
    "matobj.groups()"
   ]
  },
  {
   "cell_type": "markdown",
   "id": "bbded45a",
   "metadata": {},
   "source": [
    "## In the above code the decimal point won't get captured which is not necessary."
   ]
  },
  {
   "cell_type": "markdown",
   "id": "8cf429a1",
   "metadata": {},
   "source": [
    "-----------"
   ]
  },
  {
   "cell_type": "markdown",
   "id": "9f2a8196",
   "metadata": {},
   "source": [
    "## Q5. Unlike a normal regex pattern, a look-ahead condition does not consume the characters it examines. Describe a situation in which this could make a difference in the results of your programme.\n"
   ]
  },
  {
   "cell_type": "markdown",
   "id": "66412850",
   "metadata": {},
   "source": [
    "## It could make a difference while counting the number of multiple lines or mutiple sentences in a string. Using positive look ahead will give us the correct count of lines or sentences in a string."
   ]
  },
  {
   "cell_type": "markdown",
   "id": "86fc8019",
   "metadata": {},
   "source": [
    "-----------"
   ]
  },
  {
   "cell_type": "markdown",
   "id": "73191653",
   "metadata": {},
   "source": [
    "## Q6. In standard expressions, what is the difference between positive look-ahead and negative look-ahead?"
   ]
  },
  {
   "cell_type": "markdown",
   "id": "f6599969",
   "metadata": {},
   "source": [
    "## Ans - Positive lookahead allows to add a condition for what comes next. \n",
    "## Negative lookahead is similar, but it looks back i.e. it allows to match a pattern only if there’s something before it."
   ]
  },
  {
   "cell_type": "markdown",
   "id": "c666d370",
   "metadata": {},
   "source": [
    "--------"
   ]
  },
  {
   "cell_type": "markdown",
   "id": "7457d7b3",
   "metadata": {},
   "source": [
    "## Q7. What is the benefit of referring to groups by name rather than by number in a standard expression?"
   ]
  },
  {
   "cell_type": "markdown",
   "id": "624fc677",
   "metadata": {},
   "source": [
    "## Ans - For efficient code readability, we use names rather than numbers."
   ]
  },
  {
   "cell_type": "markdown",
   "id": "9bf12d09",
   "metadata": {},
   "source": [
    "--------"
   ]
  },
  {
   "cell_type": "markdown",
   "id": "b5754c07",
   "metadata": {},
   "source": [
    "## Q8. Can you identify repeated items within a target string using named groups, as in &quot;The cow jumped over the moon&quot;?"
   ]
  },
  {
   "cell_type": "code",
   "execution_count": 12,
   "id": "27408384",
   "metadata": {},
   "outputs": [
    {
     "data": {
      "text/plain": [
       "['The', 'the']"
      ]
     },
     "execution_count": 12,
     "metadata": {},
     "output_type": "execute_result"
    }
   ],
   "source": [
    "import re\n",
    "my_str = \"The cow jumped over the moon\"\n",
    "regobj=re.compile(r'(?P<w1>The)',re.I)\n",
    "regobj.findall(my_str)"
   ]
  },
  {
   "cell_type": "markdown",
   "id": "91cc2bfc",
   "metadata": {},
   "source": [
    "-----"
   ]
  },
  {
   "cell_type": "markdown",
   "id": "a3dfffd9",
   "metadata": {},
   "source": [
    "## Q9. When parsing a string, what is at least one thing that the Scanner interface does for you that the re.findall feature does not?"
   ]
  },
  {
   "cell_type": "markdown",
   "id": "f2d70685",
   "metadata": {},
   "source": [
    "## re.findall() module is used to search all occurrences that match a given pattern. \n",
    "## Contrary to this, re.search() will only return the first occurrence that matches the specified pattern. \n",
    "## re.findall() will iterate over all the lines of the file and will return all unique matches of the pattern in a single step."
   ]
  },
  {
   "cell_type": "markdown",
   "id": "d9267c08",
   "metadata": {},
   "source": [
    "---------"
   ]
  },
  {
   "cell_type": "markdown",
   "id": "fc30c6b0",
   "metadata": {},
   "source": [
    "## Q10. Does a scanner object have to be named scanner?"
   ]
  },
  {
   "cell_type": "markdown",
   "id": "1561c964",
   "metadata": {},
   "source": [
    "## It can be called or named anything."
   ]
  }
 ],
 "metadata": {
  "kernelspec": {
   "display_name": "Python 3 (ipykernel)",
   "language": "python",
   "name": "python3"
  },
  "language_info": {
   "codemirror_mode": {
    "name": "ipython",
    "version": 3
   },
   "file_extension": ".py",
   "mimetype": "text/x-python",
   "name": "python",
   "nbconvert_exporter": "python",
   "pygments_lexer": "ipython3",
   "version": "3.9.12"
  }
 },
 "nbformat": 4,
 "nbformat_minor": 5
}
