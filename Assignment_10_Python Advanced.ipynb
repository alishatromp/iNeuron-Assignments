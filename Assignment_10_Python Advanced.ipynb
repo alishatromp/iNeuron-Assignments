{
 "cells": [
  {
   "cell_type": "markdown",
   "id": "d7bafb2e",
   "metadata": {},
   "source": [
    "## Q1. What is the difference between \\__getattr__ and  \\__getattribute__?"
   ]
  },
  {
   "cell_type": "markdown",
   "id": "3fc6f8b5",
   "metadata": {},
   "source": [
    "## Ans - The main difference between \\__getattr__ and __getattribute__ is that if the attribute was not found by the usual way then \\__getattr__ is used. \n",
    "## Whereas the \\__getattribute__ is used before looking at the actual attributes on the object.\n",
    "## In short getattr is used as lowest priority and \\__getattribute__ is used as highest priority."
   ]
  },
  {
   "cell_type": "markdown",
   "id": "bccaffdb",
   "metadata": {},
   "source": [
    "--------"
   ]
  },
  {
   "cell_type": "markdown",
   "id": "0bd0fe21",
   "metadata": {},
   "source": [
    "## Q2. What is the difference between properties and descriptors?"
   ]
  },
  {
   "cell_type": "markdown",
   "id": "26076262",
   "metadata": {},
   "source": [
    "## 1. Descriptors are Python objects that implement a method of the descriptor protocol, which gives you the ability to create objects that have special behaviour when they’re accessed as attributes of other objects.\n",
    "\n",
    "## You can use the \\__get__(), \\__set__() or \\__delete__() functionality to create objects with special behaviour.\n",
    "\n",
    "## 2. if you want to get the same result like above then you can use the @property decorator and call the inbuilt property function."
   ]
  },
  {
   "cell_type": "markdown",
   "id": "e4ab6582",
   "metadata": {},
   "source": [
    "--------"
   ]
  },
  {
   "cell_type": "markdown",
   "id": "7e14c584",
   "metadata": {},
   "source": [
    "## Q3. What are the key differences in functionality between __getattr__ and __getattribute__, as well as properties and descriptors?"
   ]
  },
  {
   "cell_type": "markdown",
   "id": "a9db54f8",
   "metadata": {},
   "source": [
    "## \\__getattr__: Python will call this method whenever you request an attribute that hasn't already been defined.\n",
    "\n",
    "## \\__getattribute__ : This method will be invoked before looking at the actual attributes on the object. Means,if we have \\__getattribute__ method in our class, python invokes this method for every attribute regardless whether it exists or not."
   ]
  },
  {
   "cell_type": "markdown",
   "id": "c25a5b10",
   "metadata": {},
   "source": [
    "## Descriptors - using \\__get()__, \\__set() and \\__delete()__ functionality to create objects with special behaviour.\n",
    "## Properties - use @property decorator to call the inbuilt property function for the same result."
   ]
  }
 ],
 "metadata": {
  "kernelspec": {
   "display_name": "Python 3 (ipykernel)",
   "language": "python",
   "name": "python3"
  },
  "language_info": {
   "codemirror_mode": {
    "name": "ipython",
    "version": 3
   },
   "file_extension": ".py",
   "mimetype": "text/x-python",
   "name": "python",
   "nbconvert_exporter": "python",
   "pygments_lexer": "ipython3",
   "version": "3.9.12"
  }
 },
 "nbformat": 4,
 "nbformat_minor": 5
}
