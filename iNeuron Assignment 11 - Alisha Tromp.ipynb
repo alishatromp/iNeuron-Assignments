{
 "cells": [
  {
   "cell_type": "markdown",
   "id": "e55bc8a7",
   "metadata": {},
   "source": [
    "## 1. Create an assert statement that throws an AssertionError if the variable spam is a negative integer.\n"
   ]
  },
  {
   "cell_type": "code",
   "execution_count": 5,
   "id": "77f5de1d",
   "metadata": {},
   "outputs": [
    {
     "ename": "AssertionError",
     "evalue": "spam is neg int",
     "output_type": "error",
     "traceback": [
      "\u001b[1;31m---------------------------------------------------------------------------\u001b[0m",
      "\u001b[1;31mAssertionError\u001b[0m                            Traceback (most recent call last)",
      "Input \u001b[1;32mIn [5]\u001b[0m, in \u001b[0;36m<cell line: 2>\u001b[1;34m()\u001b[0m\n\u001b[0;32m      1\u001b[0m spam \u001b[38;5;241m=\u001b[39m \u001b[38;5;241m-\u001b[39m\u001b[38;5;241m5\u001b[39m\n\u001b[1;32m----> 2\u001b[0m \u001b[38;5;28;01massert\u001b[39;00m spam \u001b[38;5;241m>\u001b[39m\u001b[38;5;241m=\u001b[39m \u001b[38;5;241m0\u001b[39m, \u001b[38;5;124m\"\u001b[39m\u001b[38;5;124mspam is neg int\u001b[39m\u001b[38;5;124m\"\u001b[39m\n",
      "\u001b[1;31mAssertionError\u001b[0m: spam is neg int"
     ]
    }
   ],
   "source": [
    "spam = -5\n",
    "assert spam >= 0, \"spam is neg int\""
   ]
  },
  {
   "cell_type": "markdown",
   "id": "c5b18719",
   "metadata": {},
   "source": [
    "--------------"
   ]
  },
  {
   "cell_type": "markdown",
   "id": "c8c4bd33",
   "metadata": {},
   "source": [
    "## 2. Write an assert statement that triggers an AssertionError if the variables eggs and bacon contain strings that are the same as each other, even if their cases are different (that is, \"hello\" and \"hello\" are considered the same, and \"goodbye\" and \"GOODbye\" are also considered the same)."
   ]
  },
  {
   "cell_type": "code",
   "execution_count": 3,
   "id": "f60e618f",
   "metadata": {},
   "outputs": [
    {
     "name": "stdout",
     "output_type": "stream",
     "text": [
      "word A  Pope\n",
      "word B  pope\n"
     ]
    },
    {
     "ename": "AssertionError",
     "evalue": "Invalid Op",
     "output_type": "error",
     "traceback": [
      "\u001b[1;31m---------------------------------------------------------------------------\u001b[0m",
      "\u001b[1;31mAssertionError\u001b[0m                            Traceback (most recent call last)",
      "Input \u001b[1;32mIn [3]\u001b[0m, in \u001b[0;36m<cell line: 5>\u001b[1;34m()\u001b[0m\n\u001b[0;32m      3\u001b[0m eggs \u001b[38;5;241m=\u001b[39m a\u001b[38;5;241m.\u001b[39mlower()\n\u001b[0;32m      4\u001b[0m bacon \u001b[38;5;241m=\u001b[39m b\u001b[38;5;241m.\u001b[39mlower()\n\u001b[1;32m----> 5\u001b[0m \u001b[38;5;28;01massert\u001b[39;00m eggs \u001b[38;5;241m!=\u001b[39m bacon, \u001b[38;5;124m\"\u001b[39m\u001b[38;5;124mInvalid Op\u001b[39m\u001b[38;5;124m\"\u001b[39m\n",
      "\u001b[1;31mAssertionError\u001b[0m: Invalid Op"
     ]
    }
   ],
   "source": [
    "a = input(\"word A  \")\n",
    "b = input(\"word B  \")\n",
    "eggs = a.lower()\n",
    "bacon = b.lower()\n",
    "assert eggs != bacon, \"Invalid Op\""
   ]
  },
  {
   "cell_type": "markdown",
   "id": "43556df0",
   "metadata": {},
   "source": [
    "-------------"
   ]
  },
  {
   "cell_type": "markdown",
   "id": "795d2476",
   "metadata": {},
   "source": [
    "## 3. Create an assert statement that throws an AssertionError every time.\n"
   ]
  },
  {
   "cell_type": "code",
   "execution_count": 27,
   "id": "e54ae22c",
   "metadata": {},
   "outputs": [
    {
     "ename": "AssertionError",
     "evalue": "Invalid Operation",
     "output_type": "error",
     "traceback": [
      "\u001b[1;31m---------------------------------------------------------------------------\u001b[0m",
      "\u001b[1;31mAssertionError\u001b[0m                            Traceback (most recent call last)",
      "Input \u001b[1;32mIn [27]\u001b[0m, in \u001b[0;36m<cell line: 3>\u001b[1;34m()\u001b[0m\n\u001b[0;32m      1\u001b[0m a \u001b[38;5;241m=\u001b[39m \u001b[38;5;241m1\u001b[39m\n\u001b[0;32m      2\u001b[0m b \u001b[38;5;241m=\u001b[39m \u001b[38;5;241m0\u001b[39m\n\u001b[1;32m----> 3\u001b[0m \u001b[38;5;28;01massert\u001b[39;00m b \u001b[38;5;241m!=\u001b[39m \u001b[38;5;241m0\u001b[39m, \u001b[38;5;124m\"\u001b[39m\u001b[38;5;124mInvalid Operation\u001b[39m\u001b[38;5;124m\"\u001b[39m\n\u001b[0;32m      4\u001b[0m \u001b[38;5;28mprint\u001b[39m (a\u001b[38;5;241m/\u001b[39mb)\n",
      "\u001b[1;31mAssertionError\u001b[0m: Invalid Operation"
     ]
    }
   ],
   "source": [
    "a = 1\n",
    "b = 0\n",
    "assert b != 0, \"Invalid Operation\"\n",
    "print (a/b)"
   ]
  },
  {
   "cell_type": "markdown",
   "id": "c5679b40",
   "metadata": {},
   "source": [
    "----------------------"
   ]
  },
  {
   "cell_type": "markdown",
   "id": "1832d393",
   "metadata": {},
   "source": [
    "## 4. What are the two lines that must be present in your software in order to call logging.debug()?\n"
   ]
  },
  {
   "cell_type": "code",
   "execution_count": null,
   "id": "cf54373f",
   "metadata": {},
   "outputs": [],
   "source": [
    "import logging\n",
    "logging.basicConfig(filename=\"test.log\", level=logging.INFO, format = '%(asctime)s - %(levelname)s - %(message)s')\n",
    "logging.debug(\"Logging started\")"
   ]
  },
  {
   "cell_type": "markdown",
   "id": "d4567132",
   "metadata": {},
   "source": [
    "------------"
   ]
  },
  {
   "cell_type": "markdown",
   "id": "37d71f41",
   "metadata": {},
   "source": [
    "## 5. What are the two lines that your program must have in order to have logging.debug() send a logging message to a file named programLog.txt?"
   ]
  },
  {
   "cell_type": "code",
   "execution_count": null,
   "id": "8a086ceb",
   "metadata": {},
   "outputs": [],
   "source": [
    "import logging\n",
    "logging.basicConfig(filename=\"programLog.txt\", level=logging.INFO, format = '%(asctime)s - %(levelname)s - %(message)s')"
   ]
  },
  {
   "cell_type": "markdown",
   "id": "a297869d",
   "metadata": {},
   "source": [
    "--------------"
   ]
  },
  {
   "cell_type": "markdown",
   "id": "33e353ab",
   "metadata": {},
   "source": [
    "## 6. What are the five levels of logging?\n"
   ]
  },
  {
   "cell_type": "markdown",
   "id": "eaef3156",
   "metadata": {},
   "source": [
    "## DEBUG, INFO, WARNING, ERROR and CRITICAL"
   ]
  },
  {
   "cell_type": "markdown",
   "id": "0ba53b23",
   "metadata": {},
   "source": [
    "----------------"
   ]
  },
  {
   "cell_type": "markdown",
   "id": "35e8926c",
   "metadata": {},
   "source": [
    "## 7. What line of code would you add to your software to disable all logging messages?\n"
   ]
  },
  {
   "cell_type": "code",
   "execution_count": 1,
   "id": "1309baca",
   "metadata": {},
   "outputs": [],
   "source": [
    "## Use the getLogger function\n",
    "\n",
    "import logging\n",
    "logging.getLogger(\"Python\").setLevel(logging.WARNING)\n",
    "logging.getLogger(\"Coding\").setLevel(logging.WARNING)"
   ]
  },
  {
   "cell_type": "markdown",
   "id": "9b1d7e2e",
   "metadata": {},
   "source": [
    "----------------"
   ]
  },
  {
   "cell_type": "markdown",
   "id": "87b6a4f3",
   "metadata": {},
   "source": [
    "## 8.Why is using logging messages better than using print() to display the same message?"
   ]
  },
  {
   "cell_type": "markdown",
   "id": "1b270952",
   "metadata": {},
   "source": [
    "## Ans -\n",
    "## Logging specifically tracks and records log information. You can also turn it off when suitable. \n",
    "## Easy to see which line number the error has occurred. You can also log to files.\n",
    "## You can differentiate logging based on the 5 levels.\n",
    "\n",
    "## print() doesn't have any of those"
   ]
  },
  {
   "cell_type": "markdown",
   "id": "a186e072",
   "metadata": {},
   "source": [
    "-----------------"
   ]
  },
  {
   "cell_type": "markdown",
   "id": "1cd7081b",
   "metadata": {},
   "source": [
    "## 9. What are the differences between the Step Over, Step In, and Step Out buttons in the debugger?\n"
   ]
  },
  {
   "cell_type": "markdown",
   "id": "389af581",
   "metadata": {},
   "source": [
    "## Ans -\n",
    "\n",
    "## Step Into: Step Into is used for debugging the test steps line by line.\n",
    "\n",
    "## Step Over: Step Over a given line.\n",
    "\n",
    "## Step Out: Step out of the function."
   ]
  },
  {
   "cell_type": "markdown",
   "id": "bdad7aee",
   "metadata": {},
   "source": [
    "------------"
   ]
  },
  {
   "cell_type": "markdown",
   "id": "d8f21dfe",
   "metadata": {},
   "source": [
    "## 10.After you click Continue, when will the debugger stop?\n",
    "\n"
   ]
  },
  {
   "cell_type": "markdown",
   "id": "211333ba",
   "metadata": {},
   "source": [
    "## Ans - only when breakpoint is encountered."
   ]
  },
  {
   "cell_type": "markdown",
   "id": "55835631",
   "metadata": {},
   "source": [
    "-------------"
   ]
  },
  {
   "cell_type": "markdown",
   "id": "e6ca3f76",
   "metadata": {},
   "source": [
    "## 11. What is the concept of a breakpoint?"
   ]
  },
  {
   "cell_type": "markdown",
   "id": "a0ebd9f3",
   "metadata": {},
   "source": [
    "## Ans - While coding in Python, we encounter errors caused due to one or another error in the code or by the code. \n",
    "## To help us reduce the long tiring process of finding out where exactly the code raised an error and help us effectively being and evaluate the working of the code the breakpoint() in Python was introduced."
   ]
  }
 ],
 "metadata": {
  "kernelspec": {
   "display_name": "Python 3 (ipykernel)",
   "language": "python",
   "name": "python3"
  },
  "language_info": {
   "codemirror_mode": {
    "name": "ipython",
    "version": 3
   },
   "file_extension": ".py",
   "mimetype": "text/x-python",
   "name": "python",
   "nbconvert_exporter": "python",
   "pygments_lexer": "ipython3",
   "version": "3.9.12"
  }
 },
 "nbformat": 4,
 "nbformat_minor": 5
}
