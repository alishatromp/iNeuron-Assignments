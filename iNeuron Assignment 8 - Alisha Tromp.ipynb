{
 "cells": [
  {
   "cell_type": "markdown",
   "id": "c3f01b60",
   "metadata": {},
   "source": [
    "## 1. Is the Python Standard Library included with PyInputPlus?\n"
   ]
  },
  {
   "cell_type": "markdown",
   "id": "bf3b73a9",
   "metadata": {},
   "source": [
    "## Ans - No, it is not included."
   ]
  },
  {
   "cell_type": "markdown",
   "id": "339f502d",
   "metadata": {},
   "source": [
    "---------"
   ]
  },
  {
   "cell_type": "markdown",
   "id": "1c140213",
   "metadata": {},
   "source": [
    "## 2. Why is PyInputPlus commonly imported with import pyinputplus as pypi?"
   ]
  },
  {
   "cell_type": "markdown",
   "id": "e5018f8a",
   "metadata": {},
   "source": [
    "## Ans - you can import it as a shorter name. "
   ]
  },
  {
   "cell_type": "markdown",
   "id": "2f06ea7d",
   "metadata": {},
   "source": [
    "------------"
   ]
  },
  {
   "cell_type": "markdown",
   "id": "cc5f1085",
   "metadata": {},
   "source": [
    "## 3. How do you distinguish between inputInt() and inputFloat()?\n"
   ]
  },
  {
   "cell_type": "markdown",
   "id": "4a5e3782",
   "metadata": {},
   "source": [
    "## Ans - by decimal point."
   ]
  },
  {
   "cell_type": "code",
   "execution_count": 2,
   "id": "ab891b07",
   "metadata": {},
   "outputs": [
    {
     "name": "stdout",
     "output_type": "stream",
     "text": [
      "number: 12\n",
      "number: 3.1414141414414141\n",
      "12 is integer and 3.1414141414414143 is float\n"
     ]
    }
   ],
   "source": [
    "x = int(input(\"number: \"))\n",
    "y = float(input(\"number: \"))\n",
    "\n",
    "print (f'{x} is integer and {y} is float')"
   ]
  },
  {
   "cell_type": "markdown",
   "id": "3f96a7eb",
   "metadata": {},
   "source": [
    "----------------"
   ]
  },
  {
   "cell_type": "markdown",
   "id": "8a789c82",
   "metadata": {},
   "source": [
    "## 4. Using PyInputPlus, how do you ensure that the user enters a whole number between 0 and 99?"
   ]
  },
  {
   "cell_type": "code",
   "execution_count": null,
   "id": "74a4925e",
   "metadata": {},
   "outputs": [],
   "source": [
    "pip install PyInputPlus"
   ]
  },
  {
   "cell_type": "code",
   "execution_count": 5,
   "id": "e8051da5",
   "metadata": {},
   "outputs": [
    {
     "name": "stdout",
     "output_type": "stream",
     "text": [
      "88\n"
     ]
    }
   ],
   "source": [
    "import pyinputplus as pyip\n",
    "result = pyip.inputInt(min=0, max=99)"
   ]
  },
  {
   "cell_type": "markdown",
   "id": "f67158a6",
   "metadata": {},
   "source": [
    "--------------------------------"
   ]
  },
  {
   "cell_type": "markdown",
   "id": "fceffa1e",
   "metadata": {},
   "source": [
    "## 5. What is transferred to the keyword arguments allowRegexes and blockRegexes?"
   ]
  },
  {
   "cell_type": "markdown",
   "id": "84c7782f",
   "metadata": {},
   "source": [
    "## Ans - allowRegexes and blockRegexes will determine what is a valid input."
   ]
  },
  {
   "cell_type": "code",
   "execution_count": 6,
   "id": "f2be5925",
   "metadata": {},
   "outputs": [
    {
     "name": "stdout",
     "output_type": "stream",
     "text": [
      "Enter a string... Alisha is great\n",
      "This response is invalid.\n",
      "Enter a string... LpHS\n",
      "LpHS\n"
     ]
    }
   ],
   "source": [
    "inp = pyip.inputStr(prompt=\"Enter a string... \", \n",
    "                    blank=True, blockRegexes = 'aeiou')\n",
    "  \n",
    "print(inp)"
   ]
  },
  {
   "cell_type": "code",
   "execution_count": 8,
   "id": "a273dd52",
   "metadata": {},
   "outputs": [
    {
     "name": "stdout",
     "output_type": "stream",
     "text": [
      "Enter a string... LPHS\n",
      "LPHS\n"
     ]
    }
   ],
   "source": [
    "inp = pyip.inputStr(prompt=\"Enter a string... \", \n",
    "                    blank=True, allowRegexes = 'aeiou')\n",
    "  \n",
    "print(inp)"
   ]
  },
  {
   "cell_type": "markdown",
   "id": "9b3fb692",
   "metadata": {},
   "source": [
    "--------------"
   ]
  },
  {
   "cell_type": "markdown",
   "id": "e5e73c97",
   "metadata": {},
   "source": [
    "## 6. If a blank input is entered three times, what does inputStr(limit=3) do?\n",
    "\n",
    "## Ans - After 3 tries it will raise an error to increase limit exception."
   ]
  },
  {
   "cell_type": "code",
   "execution_count": null,
   "id": "b11ced95",
   "metadata": {},
   "outputs": [],
   "source": [
    "inp = pyip.inputStr(\"   \", limit=3)\n",
    "print (inp)"
   ]
  },
  {
   "cell_type": "markdown",
   "id": "2444745c",
   "metadata": {},
   "source": [
    "----------------------"
   ]
  },
  {
   "cell_type": "markdown",
   "id": "9b8e99b8",
   "metadata": {},
   "source": [
    "## 7. If blank input is entered three times, what does inputStr(limit=3, default=\"hello\") do?"
   ]
  },
  {
   "cell_type": "markdown",
   "id": "54e29adb",
   "metadata": {},
   "source": [
    "## Ans - It will print hello in the end of the execution."
   ]
  },
  {
   "cell_type": "code",
   "execution_count": 11,
   "id": "8ca35232",
   "metadata": {},
   "outputs": [
    {
     "name": "stdout",
     "output_type": "stream",
     "text": [
      "   \n",
      "Blank values are not allowed.\n",
      "   \n",
      "Blank values are not allowed.\n",
      "   \n",
      "Blank values are not allowed.\n",
      "hello\n"
     ]
    }
   ],
   "source": [
    "inp = pyip.inputStr(\"   \", limit=3, default = \"hello\")\n",
    "print (inp)"
   ]
  }
 ],
 "metadata": {
  "kernelspec": {
   "display_name": "Python 3 (ipykernel)",
   "language": "python",
   "name": "python3"
  },
  "language_info": {
   "codemirror_mode": {
    "name": "ipython",
    "version": 3
   },
   "file_extension": ".py",
   "mimetype": "text/x-python",
   "name": "python",
   "nbconvert_exporter": "python",
   "pygments_lexer": "ipython3",
   "version": "3.9.12"
  }
 },
 "nbformat": 4,
 "nbformat_minor": 5
}
