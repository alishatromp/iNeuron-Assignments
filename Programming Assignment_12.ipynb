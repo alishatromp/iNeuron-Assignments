{
 "cells": [
  {
   "cell_type": "markdown",
   "id": "a1d6cc49",
   "metadata": {},
   "source": [
    "## 1. Write a Python program to Extract Unique dictionary values?"
   ]
  },
  {
   "cell_type": "code",
   "execution_count": 1,
   "id": "48f84c26",
   "metadata": {},
   "outputs": [
    {
     "name": "stdout",
     "output_type": "stream",
     "text": [
      "The unique values are: [1, 2, 5, 6, 7, 8, 10, 11, 12]\n"
     ]
    }
   ],
   "source": [
    "unique_dict = {'abc' : [5, 6, 7, 8],\n",
    "                'def' : [10, 11, 7, 5],\n",
    "                'ghi' : [6, 12, 10, 8],\n",
    "                'jkl' : [1, 2, 5]}\n",
    "x=[]\n",
    "for i in unique_dict.keys():\n",
    "    x.extend(unique_dict[i])\n",
    "x=list(set(x))\n",
    "x.sort()\n",
    "print(\"The unique values are: \" + str(x))"
   ]
  },
  {
   "cell_type": "markdown",
   "id": "a5200088",
   "metadata": {},
   "source": [
    "-------"
   ]
  },
  {
   "cell_type": "markdown",
   "id": "b71d307c",
   "metadata": {},
   "source": [
    "## 2. Write a Python program to find the sum of all items in a dictionary?\n"
   ]
  },
  {
   "cell_type": "code",
   "execution_count": 2,
   "id": "01661c4a",
   "metadata": {},
   "outputs": [
    {
     "name": "stdout",
     "output_type": "stream",
     "text": [
      "Sum of all dictionary items is 103\n"
     ]
    }
   ],
   "source": [
    "unique_dict = {'abc' : [5, 6, 7, 8],\n",
    "            'def' : [10, 11, 7, 5],\n",
    "            'ghi' : [6, 12, 10, 8],\n",
    "            'jkl' : [1, 2, 5]}\n",
    "x=[]\n",
    "for i in unique_dict.keys():\n",
    "    x.extend(unique_dict[i])\n",
    "#x=list(set(x)) #if you want unique values\n",
    "print(f\"Sum of all dictionary items is {sum(x)}\")"
   ]
  },
  {
   "cell_type": "markdown",
   "id": "aa6a3dd9",
   "metadata": {},
   "source": [
    "----------"
   ]
  },
  {
   "cell_type": "markdown",
   "id": "aa9434f1",
   "metadata": {},
   "source": [
    "## 3. Write a Python program to Merging two Dictionaries?\n"
   ]
  },
  {
   "cell_type": "code",
   "execution_count": 6,
   "id": "2d66b8ae",
   "metadata": {},
   "outputs": [
    {
     "name": "stdout",
     "output_type": "stream",
     "text": [
      "{'key1': 1, 'key2': 2, 'key3': 3, 'key4': 4, 'key5': 5, 'key6': 6}\n"
     ]
    }
   ],
   "source": [
    "d1 = {\"key1\":1,\n",
    "      \"key2\":2,\n",
    "      \"key3\":3}\n",
    "d2 = {\"key4\":4,\n",
    "      \"key5\":5,\n",
    "      \"key6\":6\n",
    "}\n",
    "d1.update(d2)\n",
    "print(d1)"
   ]
  },
  {
   "cell_type": "markdown",
   "id": "dc7235c9",
   "metadata": {},
   "source": [
    "---------"
   ]
  },
  {
   "cell_type": "markdown",
   "id": "3dbc57c5",
   "metadata": {},
   "source": [
    "## 4. Write a Python program to convert key-values list to flat dictionary?\n"
   ]
  },
  {
   "cell_type": "code",
   "execution_count": 8,
   "id": "1a2a8046",
   "metadata": {},
   "outputs": [
    {
     "name": "stdout",
     "output_type": "stream",
     "text": [
      "FLATTENED DICTIONARY:  {1: 'Mon', 2: 'Tues', 3: 'Wed'}\n"
     ]
    }
   ],
   "source": [
    "d1= { \"day\": [1, 2, 3], \"name\": ['Mon', 'Tues', 'Wed' ] }\n",
    "f_d1= dict(zip(d1[\"day\"], d1[\"name\"]))\n",
    "print(\"FLATTENED DICTIONARY: \", f_d1)"
   ]
  },
  {
   "cell_type": "markdown",
   "id": "326a714d",
   "metadata": {},
   "source": [
    "--------"
   ]
  },
  {
   "cell_type": "markdown",
   "id": "90496cbc",
   "metadata": {},
   "source": [
    "## 5. Write a Python program to insertion at the beginning in OrderedDict?\n"
   ]
  },
  {
   "cell_type": "code",
   "execution_count": 7,
   "id": "3e81b35c",
   "metadata": {},
   "outputs": [
    {
     "name": "stdout",
     "output_type": "stream",
     "text": [
      "Final Dictionary : OrderedDict([('Stats', '4'), ('ML', '4'), ('iNeuron', '1'), ('Data Sci', '2')])\n"
     ]
    }
   ],
   "source": [
    "from collections import OrderedDict\n",
    "\n",
    "d1 = OrderedDict([('iNeuron', '1'), ('Data Sci', '2')])\n",
    "d2 = OrderedDict([(\"Stats\", '4'), (\"ML\", '4')])\n",
    " \n",
    "# adding in beginning of dict\n",
    "both = OrderedDict(list(d2.items()) + list(d1.items()))\n",
    "print (\"Final Dictionary : \"+ str(both))"
   ]
  },
  {
   "cell_type": "markdown",
   "id": "101d5839",
   "metadata": {},
   "source": [
    "------"
   ]
  },
  {
   "cell_type": "markdown",
   "id": "19d706ff",
   "metadata": {},
   "source": [
    "## 6. Write a Python program to check order of character in string using OrderedDict()?\n"
   ]
  },
  {
   "cell_type": "code",
   "execution_count": 11,
   "id": "dab00201",
   "metadata": {},
   "outputs": [
    {
     "name": "stdout",
     "output_type": "stream",
     "text": [
      "No\n"
     ]
    }
   ],
   "source": [
    "from collections import OrderedDict\n",
    " \n",
    "def checkOrder(input, pattern):\n",
    "    dict = OrderedDict.fromkeys(input)\n",
    "    p = 0\n",
    "    for key,value in dict.items():\n",
    "        if (key == pattern[p]):\n",
    "            p = p + 1\n",
    "        if (p == (len(pattern))):\n",
    "            return 'Yes'\n",
    "    return 'No'\n",
    "x = checkOrder('iNeuron is best', 'osto')\n",
    "print(x)"
   ]
  },
  {
   "cell_type": "markdown",
   "id": "65a6b997",
   "metadata": {},
   "source": [
    "----------"
   ]
  },
  {
   "cell_type": "markdown",
   "id": "05481519",
   "metadata": {},
   "source": [
    "## 7. Write a Python program to sort Python Dictionaries by Key or Value?"
   ]
  },
  {
   "cell_type": "code",
   "execution_count": 23,
   "id": "f85ec25d",
   "metadata": {},
   "outputs": [
    {
     "name": "stdout",
     "output_type": "stream",
     "text": [
      "{'Dhawan': 150, 'Kohli': 120, 'Shammi': 15, 'Sharma': 132, 'Surya': 104}\n",
      "[('Shammi', 15), ('Surya', 104), ('Kohli', 120), ('Sharma', 132), ('Dhawan', 150)]\n"
     ]
    }
   ],
   "source": [
    "myDict = {'Kohli': 120, 'Surya': 104, 'Dhawan': 150, 'Sharma': 132, 'Shammi': 15}\n",
    "\n",
    "myKeys = list(myDict.keys())\n",
    "myKeys.sort()\n",
    "sorted_dict_keys = {i: myDict[i] for i in myKeys}\n",
    "sorted_dict_values = sorted(myDict.items(), key=lambda x:x[1])\n",
    "\n",
    "print(sorted_dict_keys)\n",
    "print(sorted_dict_values) #can only sort values that are int not combination of int and str\n"
   ]
  }
 ],
 "metadata": {
  "kernelspec": {
   "display_name": "Python 3 (ipykernel)",
   "language": "python",
   "name": "python3"
  },
  "language_info": {
   "codemirror_mode": {
    "name": "ipython",
    "version": 3
   },
   "file_extension": ".py",
   "mimetype": "text/x-python",
   "name": "python",
   "nbconvert_exporter": "python",
   "pygments_lexer": "ipython3",
   "version": "3.9.12"
  }
 },
 "nbformat": 4,
 "nbformat_minor": 5
}
