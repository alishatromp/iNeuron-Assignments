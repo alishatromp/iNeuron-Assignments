{
 "cells": [
  {
   "cell_type": "markdown",
   "id": "e7f36055",
   "metadata": {},
   "source": [
    "## Q1. What are the benefits of the built-in array package, if any?"
   ]
  },
  {
   "cell_type": "markdown",
   "id": "641bfc9b",
   "metadata": {},
   "source": [
    "- Arrays are similar to lists. The main difference is that arrays can store only one type of elements; whereas, lists can store different types of elements. When dealing with a huge number of elements, arrays use less memory than lists and they offer faster execution than lists.\n",
    "\n",
    "- The size of the array is not fixed in Python. Hence, we need not specify how many elements we are going to store into an array in the beginning.\n",
    "\n",
    "- Arrays can grow or shrink in memory dynamically (during runtime).\n",
    "\n",
    "- Arrays are useful to handle a collection of elements like a group of numbers or characters.\n",
    "\n",
    "- Methods that are useful to process the elements of any array are available in 'array' module.\n",
    "\n",
    "- Easily accessible using index numbers."
   ]
  },
  {
   "cell_type": "markdown",
   "id": "da9909e5",
   "metadata": {},
   "source": [
    "-----------"
   ]
  },
  {
   "cell_type": "markdown",
   "id": "43a60167",
   "metadata": {},
   "source": [
    "## Q2. What are some of the array package&#39;s limitations?\n"
   ]
  },
  {
   "cell_type": "markdown",
   "id": "a8f26a2c",
   "metadata": {},
   "source": [
    "### Ans - Limitations are \n",
    "1. Arrays can store only one type of element. \n",
    "2. You need to define the size of the array. Array size is specific and cannot be modified. Therefore insertion/deletion is a problem.\n",
    "3. Its hard to guage as to how big an array you will need. If you have an array bigger than your requirements you are wasting memory and anything smaller means it won't fit it all data. This is something hard to predict."
   ]
  },
  {
   "cell_type": "markdown",
   "id": "fccb28bd",
   "metadata": {},
   "source": [
    "------------"
   ]
  },
  {
   "cell_type": "markdown",
   "id": "e7293d0a",
   "metadata": {},
   "source": [
    "## Q3. Describe the main differences between the array and numpy packages."
   ]
  },
  {
   "cell_type": "markdown",
   "id": "dc62ccb0",
   "metadata": {},
   "source": [
    "### Ans - Differences are :\n",
    "1. NumPy supports numerical operations whereas arrays don't.\n",
    "2. Arrays are single dimension, NumPy is multiple dimension\n",
    "3. Items can be accessed/modified by index number in array. NumPy needs row and column numbers which can be time consuming.\n",
    "4. NumPy stores in tabular format whereas array doesn't.\n"
   ]
  },
  {
   "cell_type": "markdown",
   "id": "dec09461",
   "metadata": {},
   "source": [
    "---------"
   ]
  },
  {
   "cell_type": "markdown",
   "id": "0e069557",
   "metadata": {},
   "source": [
    "## Q4. Explain the distinctions between the empty, ones, and zeros functions."
   ]
  },
  {
   "cell_type": "markdown",
   "id": "abd96171",
   "metadata": {},
   "source": [
    "### Empty function does not contain any execution except the pass statement that does nothing.\n",
    "### Ones: This function returns a new array of given shape and data type, where the element’s value is 1.\n",
    "### Zeros: This function returns a new array of given shape and data type, where the element’s value is 0."
   ]
  },
  {
   "cell_type": "markdown",
   "id": "e6bc1415",
   "metadata": {},
   "source": [
    "-------------"
   ]
  },
  {
   "cell_type": "markdown",
   "id": "3e66f73b",
   "metadata": {},
   "source": [
    "## Q5. In the fromfunction function, which is used to construct new arrays, what is the role of the callable argument?"
   ]
  },
  {
   "cell_type": "markdown",
   "id": "171adeec",
   "metadata": {},
   "source": [
    "## Ans - The fromfunction() function in Python constructs an array by executing a function over each coordinate. The output array has a value fn(x, y, z) at the (x, y, z) coordinate."
   ]
  },
  {
   "cell_type": "markdown",
   "id": "8b7baacc",
   "metadata": {},
   "source": [
    "------------"
   ]
  },
  {
   "cell_type": "markdown",
   "id": "26d2355b",
   "metadata": {},
   "source": [
    "## Q6. What happens when a numpy array is combined with a single-value operand (a scalar, such as an int or a floating-point value) through addition, as in the expression A + n?\n",
    "\n"
   ]
  },
  {
   "cell_type": "markdown",
   "id": "6dfed8bb",
   "metadata": {},
   "source": [
    "## Ans - if a scalar value is added to a numpy array then all the elements in the array will add that value."
   ]
  },
  {
   "cell_type": "markdown",
   "id": "274db613",
   "metadata": {},
   "source": [
    "---------"
   ]
  },
  {
   "cell_type": "markdown",
   "id": "a723492e",
   "metadata": {},
   "source": [
    "## Q7. Can array-to-scalar operations use combined operation-assign operators (such as += or *=)? What is the outcome?\n",
    "\n"
   ]
  },
  {
   "cell_type": "markdown",
   "id": "c5ecde12",
   "metadata": {},
   "source": [
    "## Ans - The operation will be carried out on all elements of the array."
   ]
  },
  {
   "cell_type": "markdown",
   "id": "3deac2d8",
   "metadata": {},
   "source": [
    "-------------"
   ]
  },
  {
   "cell_type": "markdown",
   "id": "6f19b376",
   "metadata": {},
   "source": [
    "## Q8. Does a numpy array contain fixed-length strings? What happens if you allocate a longer string to one of these arrays?"
   ]
  },
  {
   "cell_type": "markdown",
   "id": "d49c4b74",
   "metadata": {},
   "source": [
    "## Ans - Yes, a numpy array can hold fixed length strings. \n",
    "## The dtype of any numpy array containing string values is the maximum length of any string present in the array.\n",
    "## Once set, it will only be able to store new strings having length not more than the maximum length at the time of the creation. If we try to reassign another string value having length greater than the maximum length of the existing elements, it simply discards all the values beyond the maximum length accept upto those values which are under the limit."
   ]
  },
  {
   "cell_type": "markdown",
   "id": "801f166a",
   "metadata": {},
   "source": [
    "----------"
   ]
  },
  {
   "cell_type": "markdown",
   "id": "a0f1f352",
   "metadata": {},
   "source": [
    "## Q9. What happens when you combine two numpy arrays using an operation like addition (+) or multiplication (*)? What are the conditions for combining two numpy arrays?\n",
    "\n"
   ]
  },
  {
   "cell_type": "markdown",
   "id": "3603b31a",
   "metadata": {},
   "source": [
    "## It will add or multiply element to element at the same position."
   ]
  },
  {
   "cell_type": "markdown",
   "id": "9a53d7c0",
   "metadata": {},
   "source": [
    "-----------"
   ]
  },
  {
   "cell_type": "markdown",
   "id": "5e07bca3",
   "metadata": {},
   "source": [
    "## Q10. What is the best way to use a Boolean array to mask another array?"
   ]
  },
  {
   "cell_type": "markdown",
   "id": "48ba2f1d",
   "metadata": {},
   "source": [
    "## Use masked_where from NumPy package"
   ]
  },
  {
   "cell_type": "markdown",
   "id": "caecd1e0",
   "metadata": {},
   "source": [
    "-----------"
   ]
  },
  {
   "cell_type": "markdown",
   "id": "792dd4c5",
   "metadata": {},
   "source": [
    "## Q11. What are three different ways to get the standard deviation of a wide collection of data using both standard Python and its packages? Sort the three of them by how quickly they execute."
   ]
  },
  {
   "cell_type": "markdown",
   "id": "d702515b",
   "metadata": {},
   "source": [
    "1. Use np.std from NumPy\n",
    "2. Use statistics.stdev from statistics\n",
    "3. Use sqrt function from math to calculate std dev.\n",
    "\n",
    "Using the straight std dev function will work quicker than calculating yourself using math package."
   ]
  },
  {
   "cell_type": "markdown",
   "id": "ecf1fd32",
   "metadata": {},
   "source": [
    "----------"
   ]
  },
  {
   "cell_type": "markdown",
   "id": "78b8816a",
   "metadata": {},
   "source": [
    "## 12. What is the dimensionality of a Boolean mask-generated array?"
   ]
  },
  {
   "cell_type": "markdown",
   "id": "9d368bc8",
   "metadata": {},
   "source": [
    "## One-dimension. All values in the masked array which are True."
   ]
  }
 ],
 "metadata": {
  "kernelspec": {
   "display_name": "Python 3 (ipykernel)",
   "language": "python",
   "name": "python3"
  },
  "language_info": {
   "codemirror_mode": {
    "name": "ipython",
    "version": 3
   },
   "file_extension": ".py",
   "mimetype": "text/x-python",
   "name": "python",
   "nbconvert_exporter": "python",
   "pygments_lexer": "ipython3",
   "version": "3.9.12"
  }
 },
 "nbformat": 4,
 "nbformat_minor": 5
}
