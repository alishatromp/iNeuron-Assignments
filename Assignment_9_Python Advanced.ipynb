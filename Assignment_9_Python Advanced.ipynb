{
 "cells": [
  {
   "cell_type": "markdown",
   "id": "b868e4c9",
   "metadata": {},
   "source": [
    "## Q1. In Python 3.X, what are the names and functions of string object types?"
   ]
  },
  {
   "cell_type": "code",
   "execution_count": null,
   "id": "f1f66224",
   "metadata": {},
   "outputs": [],
   "source": [
    "Name                                        Function description\n",
    "format()It’s used to create a formatted string from the template string and the supplied values.\n",
    "split()Python string split() function is used to split a string into the list of strings based on a delimiter.\n",
    "join()This function returns a new string that is the concatenation of the strings in iterable with string object as a     delimiter.\n",
    "strip()Used to trim whitespaces from the string object.\n",
    "format_map()Python string format_map() function returns a formatted version of the string using substitutions from the mapping provided.\n",
    "upper()We can convert a string to uppercase in Python using str.upper() function.\n",
    "lower()\tThis function creates a new string in lowercase.\n",
    "replace()\tPython string replace() function is used to create a new string by replacing some parts of another string.\n",
    "find()\tPython String find() method is used to find the index of a substring in a string.\n",
    "translate()\tPython String translate() function returns a new string with each character in the string replaced using the given translation table.\n",
    "Good to Know String Functions\n",
    "Function\tDescription\n",
    "encode()\tPython string encode() function is used to encode the string using the provided encoding.\n",
    "count()\tPython String count() function returns the number of occurrences of a substring in the given string.\n",
    "startswith()\tPython string startswith() function returns True if the string starts with the given prefix, otherwise it returns False.\n",
    "endswith()\tPython string endswith() function returns True if the string ends with the given suffix, otherwise it returns False.\n",
    "capitalize()  Python String capitalize() function returns the capitalized version of the string.\n",
    "center()\tPython string center() function returns a centered string of specified size.\n",
    "casefold()\tPython string casefold() function returns a casefolded copy of the string. This function is used to perform case-insensitive string comparison.\n",
    "expandtabs()\tPython string expandtabs() function returns a new string with tab characters (\\t) replaced with one or more whitespaces.\n",
    "index()\tPython String index() function returns the lowest index where the specified substring is found.\n",
    "__contains__()\tPython String class has __contains__() function that we can use to check if it contains another string or not. We can also use “in” operator to perform this check.\n",
    "Miscellaneous String Functions\n",
    "Function\tDescription\n",
    "isalnum()\tPython string isalnum() function returns True if it’s made of alphanumeric characters only.\n",
    "isalpha()\tPython String isalpha() function returns True if all the characters in the string are alphabets, otherwise False.\n",
    "isdecimal()\tPython String isdecimal() function returns True if all the characters in the string are decimal characters, otherwise False.\n",
    "isdigit()\tPython String isdigit() function returns True if all the characters in the string are digits, otherwise False.\n",
    "isidentifier()\tPython String isidentifier() function returns True if the string is a valid identifier according to the Python language definition.\n",
    "islower()\tPython String islower() returns True if all cased characters in the string are lowercase and there is at least one cased character, otherwise it returns False.\n",
    "isnumeric()\tPython String isnumeric() function returns True if all the characters in the string are numeric, otherwise False. If the string is empty, then this function returns False.\n",
    "isprintable()\tPython String isprintable() function returns True if all characters in the string are printable or the string is empty, False otherwise.\n",
    "isspace()\tPython String isspace() function returns True if there are only whitespace characters in the string, otherwise it returns False.\n",
    "istitle()\tPython String istitle() returns True if the string is title cased and not empty, otherwise it returns False.\n",
    "isupper()\tPython String isupper() function returns True if all the cased characters are in Uppercase.\n",
    "rjust(), ljust()\tUtility functions to create a new string of specified length from the source string with right and left justification.\n",
    "swapcase()\tPython String swapcase() function returns a new string with uppercase characters converted to lowercase and vice versa.\n",
    "partition()\tPython String partition() function splits a string based on a separator into a tuple with three strings.\n",
    "splitlines()\tPython String splitlines() function returns the list of lines in the string.\n",
    "title()\tPython String title() function returns a title cased version of the string.\n",
    "zfill()\tPython String zfill(width) function returns a new string of specified width. The string is filled with 0 on the left side to create the specified width.\n",
    "Built-in Functions that work on String\n",
    "Function\tDescription\n",
    "len()\tPython String length can be determined by using built-in len() function.\n",
    "ascii()\tPython ascii() function returns the string representation of the object. This function internally calls repr() function and before returning the representation string, escapes the non-ASCII characters using \\x, \\u or \\U escapes.\n",
    "bool()\tPython bool() function returns Boolean value for an object. The bool class has only two instances – True and False.\n",
    "bytearray()\tPython bytearray() function returns a bytearray object that contains the array of bytes from the input source.\n",
    "bytes()\tThis function returns bytes object that is an immutable sequence of integers in the range 0 <= x < 256.\n",
    "ord()\tPython ord() function takes string argument of a single Unicode character and return its integer Unicode code point value.\n",
    "enumerate()\tPython enumerate function takes a sequence, and then make each element of the sequence into a tuple.\n",
    "float()\tAs the name says, python float() function returns a floating point number from the input argument.\n",
    "hash()\tThis function returns the hash value of the given object.\n",
    "id()\tPython id() function returns the “identity” of the object. The identity of an object is an integer, which is guaranteed to be unique and constant for this object during its lifetime.\n",
    "int()\tPython int() function returns an integer object from the specified input. The returned int object will always be in base 10.\n",
    "map()\tPython map() function is used to apply a function on all the elements of specified iterable and return map object.\n",
    "print()\tPython print() function is used to print data into console.\n",
    "slice()\tPython slice() function returns a slice object representing the set of indices specified by range(start, stop, step).\n",
    "type()\tThis function returns the type of the object."
   ]
  },
  {
   "cell_type": "markdown",
   "id": "0ffbf19b",
   "metadata": {},
   "source": [
    "---------"
   ]
  },
  {
   "cell_type": "markdown",
   "id": "74094706",
   "metadata": {},
   "source": [
    "## Q2. How do the string forms in Python 3.X vary in terms of operations?"
   ]
  },
  {
   "cell_type": "markdown",
   "id": "4dfaf8a2",
   "metadata": {},
   "source": [
    "## Ans - The default form of strings is already in Unicode for Python 3. Python 2 and other versions needed to specify it using Unicode value \"u\". "
   ]
  },
  {
   "cell_type": "markdown",
   "id": "d0f11012",
   "metadata": {},
   "source": [
    "-------------"
   ]
  },
  {
   "cell_type": "markdown",
   "id": "852d4c28",
   "metadata": {},
   "source": [
    "## Q3. In 3.X, how do you put non-ASCII Unicode characters in a string?"
   ]
  },
  {
   "cell_type": "markdown",
   "id": "00f659ca",
   "metadata": {},
   "source": [
    "## Using unidecode() for non ASCII charachters"
   ]
  },
  {
   "cell_type": "markdown",
   "id": "0176e37c",
   "metadata": {},
   "source": [
    "-----------"
   ]
  },
  {
   "cell_type": "markdown",
   "id": "9c14b8e6",
   "metadata": {},
   "source": [
    "## Q4. In Python 3.X, what are the key differences between text-mode and binary-mode files?"
   ]
  },
  {
   "cell_type": "markdown",
   "id": "461b4584",
   "metadata": {},
   "source": [
    "## Ans - Text mode writes in text or human readable characters to a file which can be opened by any text editor.\n",
    "\n",
    "## Binary mode uses 0/1 bits. These are more efficient in terms of memory however opening it using open() will not decode it anyway and simply returns its raw content.\n",
    "\n"
   ]
  },
  {
   "cell_type": "markdown",
   "id": "12845bd3",
   "metadata": {},
   "source": [
    "---------"
   ]
  },
  {
   "cell_type": "markdown",
   "id": "d61c898e",
   "metadata": {},
   "source": [
    "## Q5. How can you interpret a Unicode text file containing text encoded in a different encoding than your platform&#39;s default?"
   ]
  },
  {
   "cell_type": "markdown",
   "id": "8ae7230a",
   "metadata": {},
   "source": [
    "## Ans - By using encode() and decode() method to interpret a Unicode text file containing text encoded if not UTF-8."
   ]
  },
  {
   "cell_type": "markdown",
   "id": "7f3854b4",
   "metadata": {},
   "source": [
    "------"
   ]
  },
  {
   "cell_type": "markdown",
   "id": "75d600da",
   "metadata": {},
   "source": [
    "## Q6. What is the best way to make a Unicode text file in a particular encoding format?\n"
   ]
  },
  {
   "cell_type": "markdown",
   "id": "5cf73da9",
   "metadata": {},
   "source": [
    "## Ans - \n",
    "1. str.encode() and \n",
    "2. file.write() to make a Unicode text file in a particular encoding format. \n",
    "\n",
    "- str.encode(encoding) with encoding set to utf8 to encode str.\n",
    "- open(file, mode) to open a file with mode set to wb . wb writes to files in binary mode & preserves UTF-8format.\n",
    "- file.write(data) to write data to the file."
   ]
  },
  {
   "cell_type": "markdown",
   "id": "c5ab5c08",
   "metadata": {},
   "source": [
    "---------"
   ]
  },
  {
   "cell_type": "markdown",
   "id": "dc1ffecd",
   "metadata": {},
   "source": [
    "## Q7. What qualifies ASCII text as a form of Unicode text?"
   ]
  },
  {
   "cell_type": "markdown",
   "id": "2ead04bb",
   "metadata": {},
   "source": [
    "## Ans - All ASCII characters such as lowercase letters (a-z), uppercase letters (A-Z), digits (0–9) and symbols such as punctuation marks represent Unicode.\n",
    "## Unicode goes further by also representing letters in Arabic, Greek, maths equations, historic scripts etc "
   ]
  },
  {
   "cell_type": "markdown",
   "id": "ce7eb4c4",
   "metadata": {},
   "source": [
    "-------"
   ]
  },
  {
   "cell_type": "markdown",
   "id": "aa620363",
   "metadata": {},
   "source": [
    "## Q8. How much of an effect does the change in string types in Python 3.X have on your code?"
   ]
  },
  {
   "cell_type": "markdown",
   "id": "788d9a04",
   "metadata": {},
   "source": [
    "## Ans - The 3.X version has many updated versions where it stores strings in Unicode by default. The Unicode strings are versatile and robust that store a diverse range of characters."
   ]
  }
 ],
 "metadata": {
  "kernelspec": {
   "display_name": "Python 3 (ipykernel)",
   "language": "python",
   "name": "python3"
  },
  "language_info": {
   "codemirror_mode": {
    "name": "ipython",
    "version": 3
   },
   "file_extension": ".py",
   "mimetype": "text/x-python",
   "name": "python",
   "nbconvert_exporter": "python",
   "pygments_lexer": "ipython3",
   "version": "3.9.12"
  }
 },
 "nbformat": 4,
 "nbformat_minor": 5
}
