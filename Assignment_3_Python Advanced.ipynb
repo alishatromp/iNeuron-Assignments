{
 "cells": [
  {
   "cell_type": "markdown",
   "id": "c7f04fdc",
   "metadata": {},
   "source": [
    "## 1. What is the concept of an abstract superclass?"
   ]
  },
  {
   "cell_type": "markdown",
   "id": "96c8c1a2",
   "metadata": {},
   "source": [
    "## Ans - An abstract class is one that contains one or more abstract methods. An abstract method is a method that is declared, but contains no implementation. Abstract classes may not be instantiated, and its abstract methods must be implemented by its subclasses"
   ]
  },
  {
   "cell_type": "markdown",
   "id": "867a55c9",
   "metadata": {},
   "source": [
    "------"
   ]
  },
  {
   "cell_type": "markdown",
   "id": "3e948c61",
   "metadata": {},
   "source": [
    "## 2. What happens when a class statement&#39;s top level contains a basic assignment statement?\n"
   ]
  },
  {
   "cell_type": "markdown",
   "id": "afaedfa2",
   "metadata": {},
   "source": [
    "## Ans - Basic assignment statements lets you create, initialize, and update variables throughout your code.\n",
    "## Top level codes at indentation 0 will execute whatever code there is. If you assign a basic assignment statement then the variable will hold the given value when instance is called upon. Look at example below:-"
   ]
  },
  {
   "cell_type": "code",
   "execution_count": 12,
   "id": "1cc37aad",
   "metadata": {},
   "outputs": [
    {
     "name": "stdout",
     "output_type": "stream",
     "text": [
      "12\n"
     ]
    }
   ],
   "source": [
    "class Person:\n",
    "    x = 12\n",
    "z = Person()\n",
    "print(z.x)"
   ]
  },
  {
   "cell_type": "markdown",
   "id": "b61db8f9",
   "metadata": {},
   "source": [
    "------"
   ]
  },
  {
   "cell_type": "markdown",
   "id": "ceb0c115",
   "metadata": {},
   "source": [
    "## 3. Why does a class need to manually call a superclass&#39;s __init__ method?"
   ]
  },
  {
   "cell_type": "markdown",
   "id": "7e37a01e",
   "metadata": {},
   "source": [
    "## Ans - To initialize the object's attributes."
   ]
  },
  {
   "cell_type": "markdown",
   "id": "33d49d4d",
   "metadata": {},
   "source": [
    "-------"
   ]
  },
  {
   "cell_type": "markdown",
   "id": "5a826315",
   "metadata": {},
   "source": [
    "## 4. How can you augment, instead of completely replacing, an inherited method?"
   ]
  },
  {
   "cell_type": "markdown",
   "id": "a96c07ea",
   "metadata": {},
   "source": [
    "## Ans - by message forwarding."
   ]
  },
  {
   "cell_type": "markdown",
   "id": "7ffeaf5f",
   "metadata": {},
   "source": [
    "-------"
   ]
  },
  {
   "cell_type": "markdown",
   "id": "31b0e3f5",
   "metadata": {},
   "source": [
    "## 5. How is the local scope of a class different from that of a function?"
   ]
  },
  {
   "cell_type": "markdown",
   "id": "581767f6",
   "metadata": {},
   "source": [
    "## Ans - \n",
    "## Local scope just refers to the scope available to a given variable, but function scope would refer to variables inside a function"
   ]
  }
 ],
 "metadata": {
  "kernelspec": {
   "display_name": "Python 3 (ipykernel)",
   "language": "python",
   "name": "python3"
  },
  "language_info": {
   "codemirror_mode": {
    "name": "ipython",
    "version": 3
   },
   "file_extension": ".py",
   "mimetype": "text/x-python",
   "name": "python",
   "nbconvert_exporter": "python",
   "pygments_lexer": "ipython3",
   "version": "3.9.12"
  }
 },
 "nbformat": 4,
 "nbformat_minor": 5
}
