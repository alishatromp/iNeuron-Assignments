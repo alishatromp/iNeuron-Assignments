{
 "cells": [
  {
   "cell_type": "markdown",
   "id": "421ba3c5",
   "metadata": {},
   "source": [
    "## Question1. Write a function that stutters a word as if someone is struggling to read it. The first two letters are repeated twice with an ellipsis ... and space after each, and then the word is pronounced with a question mark ?.\n",
    "## Examples\n",
    "- stutter(&quot;incredible&quot;) ➞ &quot;in... in... incredible?&quot;\n",
    "- stutter(&quot;enthusiastic&quot;) ➞ &quot;en... en... enthusiastic?&quot;\n",
    "- stutter(&quot;outstanding&quot;) ➞ &quot;ou... ou... outstanding?&quot;\n",
    "\n",
    "- Hint :- Assume all input is in lower case and at least two characters long.\n",
    "\n"
   ]
  },
  {
   "cell_type": "code",
   "execution_count": 18,
   "id": "f9343181",
   "metadata": {},
   "outputs": [
    {
     "name": "stdout",
     "output_type": "stream",
     "text": [
      "en...en...enthusiastic?\n"
     ]
    }
   ],
   "source": [
    "def stutter(x):\n",
    "    return (2*(x[0:2] + \"...\")) + (x) + \"?\"\n",
    "print(stutter('enthusiastic'))"
   ]
  },
  {
   "cell_type": "markdown",
   "id": "7edf16b9",
   "metadata": {},
   "source": [
    "---------"
   ]
  },
  {
   "cell_type": "markdown",
   "id": "e4e0da04",
   "metadata": {},
   "source": [
    "## Question 2.Create a function that takes an angle in radians and returns the corresponding angle in degrees rounded to one decimal place.\n",
    "## Examples\n",
    "- radians_to_degrees(1) ➞ 57.3\n",
    "- radians_to_degrees(20) ➞ 1145.9\n",
    "- radians_to_degrees(50) ➞ 2864.8\n",
    "\n"
   ]
  },
  {
   "cell_type": "code",
   "execution_count": 1,
   "id": "64afbf63",
   "metadata": {},
   "outputs": [
    {
     "name": "stdout",
     "output_type": "stream",
     "text": [
      "57.3\n",
      "1145.9\n",
      "2864.8\n"
     ]
    }
   ],
   "source": [
    "def radians_to_degrees(x):\n",
    "    y = round(x*(180/3.141592653589793238),1)\n",
    "    return (y)\n",
    "print(radians_to_degrees(1))\n",
    "print(radians_to_degrees(20))\n",
    "print(radians_to_degrees(50))"
   ]
  },
  {
   "cell_type": "markdown",
   "id": "b37974e0",
   "metadata": {},
   "source": [
    "--------"
   ]
  },
  {
   "cell_type": "markdown",
   "id": "1faab7b5",
   "metadata": {},
   "source": [
    "## Question 3. In this challenge, establish if a given integer num is a Curzon number. If 1 plus 2 elevated to num is exactly divisible by 1 plus 2 multiplied by num, then num is a Curzon number. Given a non-negative integer num, implement a function that returns True if num is a Curzon number, or False otherwise.\n",
    "## Examples\n",
    "## is_curzon(5) ➞ True\n",
    "# 2 ** 5 + 1 = 33\n",
    "# 2 * 5 + 1 = 11\n",
    "# 33 is a multiple of 11\n",
    "is_curzon(10) ➞ False\n",
    "# 2 ** 10 + 1 = 1025\n",
    "# 2 * 10 + 1 = 21\n",
    "# 1025 is not a multiple of 21\n",
    "is_curzon(14) ➞ True\n",
    "# 2 ** 14 + 1 = 16385\n",
    "# 2 * 14 + 1 = 29\n",
    "# 16385 is a multiple of 29\n",
    "\n",
    "\n"
   ]
  },
  {
   "cell_type": "code",
   "execution_count": 19,
   "id": "d6c89c5c",
   "metadata": {},
   "outputs": [
    {
     "name": "stdout",
     "output_type": "stream",
     "text": [
      "True\n",
      "True\n",
      "False\n"
     ]
    }
   ],
   "source": [
    "def is_curzon(n):\n",
    "    curz = 2**(n)+1\n",
    "    cur = 2*(n)+1\n",
    "    x = curz%cur\n",
    "    if x == 0:\n",
    "        return (\"True\")\n",
    "    else:\n",
    "        return(\"False\")\n",
    "    \n",
    "print(is_curzon(14))\n",
    "print(is_curzon(5))\n",
    "print(is_curzon(10))"
   ]
  },
  {
   "cell_type": "markdown",
   "id": "dd3b8dd3",
   "metadata": {},
   "source": [
    "-------"
   ]
  },
  {
   "cell_type": "markdown",
   "id": "d6ea2e74",
   "metadata": {},
   "source": [
    "## Question 4.Given the side length x find the area of a hexagon.\n",
    "\n",
    "## Examples\n",
    "- area_of_hexagon(1) ➞ 2.6\n",
    "- area_of_hexagon(2) ➞ 10.4\n",
    "- area_of_hexagon(3) ➞ 23.4\n"
   ]
  },
  {
   "cell_type": "code",
   "execution_count": 18,
   "id": "2accf43d",
   "metadata": {},
   "outputs": [
    {
     "name": "stdout",
     "output_type": "stream",
     "text": [
      "2.6\n",
      "10.4\n",
      "23.4\n"
     ]
    }
   ],
   "source": [
    "def area_of_hexagon(x):\n",
    "    area = (3*(1.7320508)/2)*(x**2)\n",
    "    return round((area),1)\n",
    "\n",
    "print(area_of_hexagon(1))\n",
    "print(area_of_hexagon(2))\n",
    "print(area_of_hexagon(3))"
   ]
  },
  {
   "cell_type": "markdown",
   "id": "0bb92ba9",
   "metadata": {},
   "source": [
    "-------"
   ]
  },
  {
   "cell_type": "markdown",
   "id": "9bec71e7",
   "metadata": {},
   "source": [
    "## Question 5. Create a function that returns a base-2 (binary) representation of a base-10 (decimal) string number. To convert is simple: ((2) means base-2 and (10) means base-10)\n",
    "010101001(2) = 1 + 8 + 32 + 128.\n",
    "Going from right to left, the value of the most right bit is 1, now from that every bit to the left\n",
    "will be x2 the value, value of an 8 bit binary numbers are (256, 128, 64, 32, 16, 8, 4, 2, 1).\n",
    "Examples\n",
    "binary(1) ➞ &quot;1&quot;\n",
    "# 1*1 = 1\n",
    "binary(5) ➞ &quot;101&quot;\n",
    "# 1*1 + 1*4 = 5\n",
    "binary(10) ➞ &quot;1010&quot;\n",
    "# 1*2 + 1*8 = 10"
   ]
  },
  {
   "cell_type": "code",
   "execution_count": 57,
   "id": "5d8060cd",
   "metadata": {},
   "outputs": [
    {
     "name": "stdout",
     "output_type": "stream",
     "text": [
      "100000000\n",
      "1010\n",
      "10000000\n",
      "101\n"
     ]
    }
   ],
   "source": [
    "def decimalToBinary(n):\n",
    "    return \"{0:b}\".format(int(n))\n",
    "\n",
    "print(decimalToBinary(256))\n",
    "print(decimalToBinary(10))\n",
    "print(decimalToBinary(128))\n",
    "print(decimalToBinary(5))"
   ]
  }
 ],
 "metadata": {
  "kernelspec": {
   "display_name": "Python 3 (ipykernel)",
   "language": "python",
   "name": "python3"
  },
  "language_info": {
   "codemirror_mode": {
    "name": "ipython",
    "version": 3
   },
   "file_extension": ".py",
   "mimetype": "text/x-python",
   "name": "python",
   "nbconvert_exporter": "python",
   "pygments_lexer": "ipython3",
   "version": "3.9.12"
  }
 },
 "nbformat": 4,
 "nbformat_minor": 5
}
