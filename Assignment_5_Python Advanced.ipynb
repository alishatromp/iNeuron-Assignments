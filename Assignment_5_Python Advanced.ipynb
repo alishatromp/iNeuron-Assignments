{
 "cells": [
  {
   "cell_type": "markdown",
   "id": "cadc405f",
   "metadata": {},
   "source": [
    "## Q1. What is the meaning of multiple inheritance?"
   ]
  },
  {
   "cell_type": "markdown",
   "id": "b34f1c57",
   "metadata": {},
   "source": [
    "## Ans - Multiple inheritance means that a child class can inherit from two or more parent classes."
   ]
  },
  {
   "cell_type": "markdown",
   "id": "e2627f22",
   "metadata": {},
   "source": [
    "--------"
   ]
  },
  {
   "cell_type": "markdown",
   "id": "2a500234",
   "metadata": {},
   "source": [
    "## Q2. What is the concept of delegation?"
   ]
  },
  {
   "cell_type": "markdown",
   "id": "48c69985",
   "metadata": {},
   "source": [
    "## Ans - \n",
    "## Delegation is a design pattern in which an object, called the delegate, is responsible for performing certain tasks on behalf of another object, called the delegator. This can be done by the delegator forwarding method calls and attribute access to the delegate."
   ]
  },
  {
   "cell_type": "markdown",
   "id": "ffaf3c0c",
   "metadata": {},
   "source": [
    "-------"
   ]
  },
  {
   "cell_type": "markdown",
   "id": "0f39059f",
   "metadata": {},
   "source": [
    "## Q3. What is the concept of composition?\n"
   ]
  },
  {
   "cell_type": "markdown",
   "id": "60bf40a0",
   "metadata": {},
   "source": [
    "## Ans - \n",
    "##  It describes a class that references one or more objects of other classes in instance variables."
   ]
  },
  {
   "cell_type": "markdown",
   "id": "72257453",
   "metadata": {},
   "source": [
    "------"
   ]
  },
  {
   "cell_type": "markdown",
   "id": "d7ca0aa7",
   "metadata": {},
   "source": [
    "## Q4. What are bound methods and how do we use them?"
   ]
  },
  {
   "cell_type": "markdown",
   "id": "98f936fe",
   "metadata": {},
   "source": [
    "## Ans - A bound method in Python is the method that has an object associated with it.\n",
    "## It passes the instance as the first argument which is used to access the variables and functions. In Python 3 and newer versions of python, all functions in the class are by default bound methods."
   ]
  },
  {
   "cell_type": "markdown",
   "id": "3b75422a",
   "metadata": {},
   "source": [
    "-------"
   ]
  },
  {
   "cell_type": "markdown",
   "id": "704ca904",
   "metadata": {},
   "source": [
    "## Q5. What is the purpose of pseudoprivate attributes?"
   ]
  },
  {
   "cell_type": "markdown",
   "id": "00e623a4",
   "metadata": {},
   "source": [
    "## Ans - Pseudoprivate attributes are useful when creating subclasses, as they help prevent attribute name clashes between the base class and the subclass."
   ]
  }
 ],
 "metadata": {
  "kernelspec": {
   "display_name": "Python 3 (ipykernel)",
   "language": "python",
   "name": "python3"
  },
  "language_info": {
   "codemirror_mode": {
    "name": "ipython",
    "version": 3
   },
   "file_extension": ".py",
   "mimetype": "text/x-python",
   "name": "python",
   "nbconvert_exporter": "python",
   "pygments_lexer": "ipython3",
   "version": "3.9.12"
  }
 },
 "nbformat": 4,
 "nbformat_minor": 5
}
