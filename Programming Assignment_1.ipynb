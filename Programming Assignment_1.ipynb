{
 "cells": [
  {
   "cell_type": "markdown",
   "id": "9510a526",
   "metadata": {},
   "source": [
    "1. Write a Python program to print \"Hello Python\""
   ]
  },
  {
   "cell_type": "code",
   "execution_count": 1,
   "id": "0ea5e767",
   "metadata": {},
   "outputs": [
    {
     "name": "stdout",
     "output_type": "stream",
     "text": [
      "Hello Python\n"
     ]
    }
   ],
   "source": [
    "x = \"Hello Python\"\n",
    "print(x)"
   ]
  },
  {
   "cell_type": "markdown",
   "id": "e6f6799b",
   "metadata": {},
   "source": [
    "-------------"
   ]
  },
  {
   "cell_type": "markdown",
   "id": "60e909ef",
   "metadata": {},
   "source": [
    "2. Write a Python program to do arithmetical operations addition and division.?"
   ]
  },
  {
   "cell_type": "code",
   "execution_count": 4,
   "id": "9671c74f",
   "metadata": {},
   "outputs": [
    {
     "name": "stdout",
     "output_type": "stream",
     "text": [
      "Enter number 1: 12\n",
      "Enter number 2: 12\n",
      "Sum of 12 and 12 = 24, 12 divided by 12 = 1.0\n"
     ]
    }
   ],
   "source": [
    "x = int(input(\"Enter number 1: \"))\n",
    "y = int(input(\"Enter number 2: \"))\n",
    "\n",
    "summ = x+y\n",
    "div = x/y\n",
    "print (f\"Sum of {x} and {y} = {summ}, {x} divided by {y} = {div}\")"
   ]
  },
  {
   "cell_type": "markdown",
   "id": "db4a23a4",
   "metadata": {},
   "source": [
    "---------"
   ]
  },
  {
   "cell_type": "markdown",
   "id": "5e552168",
   "metadata": {},
   "source": [
    "3. Write a Python program to find the area of a triangle?"
   ]
  },
  {
   "cell_type": "code",
   "execution_count": 8,
   "id": "a4e793e1",
   "metadata": {},
   "outputs": [
    {
     "name": "stdout",
     "output_type": "stream",
     "text": [
      "Enter height of triangle in cms: 12\n",
      "Enter breadth of triangle in cms: 99\n",
      "Area of triangle with height 99cms and breadth 12cms is 594.0 cm square\n"
     ]
    }
   ],
   "source": [
    "b = int(input(\"Enter height of triangle in cms: \"))\n",
    "h = int(input(\"Enter breadth of triangle in cms: \"))\n",
    "\n",
    "area = (0.5 *b*h)\n",
    "print (f\"Area of triangle with height {h}cms and breadth {b}cms is {area} cm square\")"
   ]
  },
  {
   "cell_type": "markdown",
   "id": "f2d7be76",
   "metadata": {},
   "source": [
    "--------------"
   ]
  },
  {
   "cell_type": "markdown",
   "id": "5b4b8bb8",
   "metadata": {},
   "source": [
    "4. Write a Python program to swap two variables?\n"
   ]
  },
  {
   "cell_type": "code",
   "execution_count": 26,
   "id": "7cf6d1ab",
   "metadata": {},
   "outputs": [
    {
     "name": "stdout",
     "output_type": "stream",
     "text": [
      "Enter value of variable a: Alisha\n",
      "Enter value of variable b: Lear\n",
      "\t\n",
      "Value of a is Alisha and b is Lear\n",
      "\t\n",
      "After swapping variables value of a is Lear and b is Alisha\n"
     ]
    }
   ],
   "source": [
    "a = input(\"Enter value of variable a: \")\n",
    "b = input(\"Enter value of variable b: \")\n",
    "print(\"\\t\")\n",
    "print(f\"Value of a is {a} and b is {b}\")\n",
    "print(\"\\t\")\n",
    "\n",
    "temp = a\n",
    "a = b\n",
    "b = temp\n",
    "\n",
    "print (f\"After swapping variables value of a is {a} and b is {b}\")"
   ]
  },
  {
   "cell_type": "markdown",
   "id": "cbca63ef",
   "metadata": {},
   "source": [
    "------------"
   ]
  },
  {
   "cell_type": "markdown",
   "id": "aa961d7d",
   "metadata": {},
   "source": [
    "5. Write a Python program to generate a random number?"
   ]
  },
  {
   "cell_type": "code",
   "execution_count": 15,
   "id": "535957c9",
   "metadata": {},
   "outputs": [
    {
     "name": "stdout",
     "output_type": "stream",
     "text": [
      "0.06462147993807754\n"
     ]
    }
   ],
   "source": [
    "import random\n",
    "\n",
    "num = random.random()\n",
    "print(num)"
   ]
  },
  {
   "cell_type": "code",
   "execution_count": null,
   "id": "15646e79",
   "metadata": {},
   "outputs": [],
   "source": []
  }
 ],
 "metadata": {
  "kernelspec": {
   "display_name": "Python 3 (ipykernel)",
   "language": "python",
   "name": "python3"
  },
  "language_info": {
   "codemirror_mode": {
    "name": "ipython",
    "version": 3
   },
   "file_extension": ".py",
   "mimetype": "text/x-python",
   "name": "python",
   "nbconvert_exporter": "python",
   "pygments_lexer": "ipython3",
   "version": "3.9.12"
  }
 },
 "nbformat": 4,
 "nbformat_minor": 5
}
