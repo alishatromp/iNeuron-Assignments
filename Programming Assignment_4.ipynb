{
 "cells": [
  {
   "cell_type": "markdown",
   "id": "8467ef17",
   "metadata": {},
   "source": [
    "## 1. Write a Python Program to Find the Factorial of a Number?"
   ]
  },
  {
   "cell_type": "code",
   "execution_count": 12,
   "id": "dfed1b68",
   "metadata": {},
   "outputs": [
    {
     "name": "stdout",
     "output_type": "stream",
     "text": [
      "Enter number you want factorial for: 12\n",
      "=======================================================\n",
      "Factorial of 12 is 479001600\n"
     ]
    }
   ],
   "source": [
    "n = int(input(\"Enter number you want factorial for: \"))\n",
    "print(\"=======================================================\")\n",
    "fact=1\n",
    "if n<0:\n",
    "    print ('Pick another number please')\n",
    "else:\n",
    "    for i in range (1,n+1):\n",
    "        fact *= i\n",
    "print (f\"Factorial of {n} is {fact}\")"
   ]
  },
  {
   "cell_type": "markdown",
   "id": "4d7d2d81",
   "metadata": {},
   "source": [
    "---------"
   ]
  },
  {
   "cell_type": "markdown",
   "id": "777a6482",
   "metadata": {},
   "source": [
    "## 2. Write a Python Program to Display the multiplication Table?"
   ]
  },
  {
   "cell_type": "code",
   "execution_count": 11,
   "id": "542943f9",
   "metadata": {},
   "outputs": [
    {
     "name": "stdout",
     "output_type": "stream",
     "text": [
      "Enter number you want multiplication table for: 12\n",
      "=======================================================\n",
      "12 x 1 = 12\n",
      "12 x 2 = 24\n",
      "12 x 3 = 36\n",
      "12 x 4 = 48\n",
      "12 x 5 = 60\n",
      "12 x 6 = 72\n",
      "12 x 7 = 84\n",
      "12 x 8 = 96\n",
      "12 x 9 = 108\n",
      "12 x 10 = 120\n",
      "12 x 11 = 132\n",
      "12 x 12 = 144\n"
     ]
    }
   ],
   "source": [
    "n = int(input(\"Enter number you want multiplication table for: \"))\n",
    "print(\"=======================================================\")\n",
    "mult=1\n",
    "\n",
    "for i in range (1,n+1):\n",
    "    mult=i*n\n",
    "    print (f\"{n} x {i} = {mult}\")  "
   ]
  },
  {
   "cell_type": "markdown",
   "id": "70da48e8",
   "metadata": {},
   "source": [
    "-----------"
   ]
  },
  {
   "cell_type": "markdown",
   "id": "ef005424",
   "metadata": {},
   "source": [
    "## 3. Write a Python Program to Print the Fibonacci sequence?"
   ]
  },
  {
   "cell_type": "code",
   "execution_count": 10,
   "id": "91c5589d",
   "metadata": {},
   "outputs": [
    {
     "name": "stdout",
     "output_type": "stream",
     "text": [
      "Enter number: 12\n",
      "=======================================================\n",
      "Fibonacci series is 0\n",
      "Fibonacci series is 1\n",
      "Fibonacci series is 1\n",
      "Fibonacci series is 2\n",
      "Fibonacci series is 3\n",
      "Fibonacci series is 5\n",
      "Fibonacci series is 8\n",
      "Fibonacci series is 13\n",
      "Fibonacci series is 21\n",
      "Fibonacci series is 34\n",
      "Fibonacci series is 55\n",
      "Fibonacci series is 89\n"
     ]
    }
   ],
   "source": [
    "n = int(input(\"Enter number: \"))\n",
    "\n",
    "print(\"=======================================================\")\n",
    "\n",
    "a = 0\n",
    "b = 1\n",
    "\n",
    "if n < 0:\n",
    "        print(\"Try again\")\n",
    "elif n == 0:\n",
    "    print(f\"Fibonacci series is {n}\")\n",
    "\n",
    "elif n == 1:\n",
    "    print(f\"Fibonacci series is {a}\")\n",
    "\n",
    "else:\n",
    "    print(f\"Fibonacci series is {a}\")\n",
    "    print(f\"Fibonacci series is {b}\")\n",
    "    for i in range(2, n):\n",
    "        c = a + b\n",
    "        a = b\n",
    "        b = c\n",
    "        print (f\"Fibonacci series is {b}\")"
   ]
  },
  {
   "cell_type": "markdown",
   "id": "212e983f",
   "metadata": {},
   "source": [
    "--------------"
   ]
  },
  {
   "cell_type": "markdown",
   "id": "375c3632",
   "metadata": {},
   "source": [
    "## 4. Write a Python Program to Check Armstrong Number?\n"
   ]
  },
  {
   "cell_type": "code",
   "execution_count": 2,
   "id": "0c7869a6",
   "metadata": {},
   "outputs": [
    {
     "name": "stdout",
     "output_type": "stream",
     "text": [
      "Enter number: 1634\n",
      "=======================================================\n",
      "1634 is an Armstrong number\n"
     ]
    }
   ],
   "source": [
    "x = int(input(\"Enter number: \"))\n",
    "\n",
    "print(\"=======================================================\")\n",
    "n = len(str(x))\n",
    "num = x\n",
    "summ = 0\n",
    "while (x>0):\n",
    "    digit = x %10\n",
    "    summ += digit **n\n",
    "    x=x//10\n",
    "if num == summ:    \n",
    "    print (f\"{num} is an Armstrong number\")\n",
    "else:\n",
    "    print (\"Not an armstrong number\")"
   ]
  },
  {
   "cell_type": "markdown",
   "id": "b5bcd805",
   "metadata": {},
   "source": [
    "--------------------"
   ]
  },
  {
   "cell_type": "markdown",
   "id": "5cece742",
   "metadata": {},
   "source": [
    "## 5. Write a Python Program to Find Armstrong Number in an Interval?"
   ]
  },
  {
   "cell_type": "code",
   "execution_count": 85,
   "id": "fbd24ee2",
   "metadata": {},
   "outputs": [
    {
     "name": "stdout",
     "output_type": "stream",
     "text": [
      "Enter lower end of interval: 10\n",
      "Enter upper end of interval: 10000\n",
      "=============================================\n",
      "Armstrong numbers are: \n",
      "153\n",
      "370\n",
      "371\n",
      "407\n",
      "1634\n",
      "8208\n",
      "9474\n"
     ]
    }
   ],
   "source": [
    "lower = int(input(\"Enter lower end of interval: \"))\n",
    "upper = int(input(\"Enter upper end of interval: \"))\n",
    "print (\"=============================================\")\n",
    "print (\"Armstrong numbers are: \")\n",
    "\n",
    "for num in range(10, upper + 1):\n",
    "    order = len(str(num))\n",
    "    sum = 0\n",
    "    temp = num\n",
    "    while temp > 0:\n",
    "        digit = temp % 10\n",
    "        sum += digit ** order\n",
    "        temp //= 10\n",
    "    if num == sum:\n",
    "        print (num)"
   ]
  },
  {
   "cell_type": "markdown",
   "id": "2ec1a56a",
   "metadata": {},
   "source": [
    "-----------------"
   ]
  },
  {
   "cell_type": "markdown",
   "id": "5ad6e35d",
   "metadata": {},
   "source": [
    "## 6. Write a Python Program to Find the Sum of Natural Numbers?"
   ]
  },
  {
   "cell_type": "code",
   "execution_count": 86,
   "id": "d962c9d4",
   "metadata": {},
   "outputs": [
    {
     "name": "stdout",
     "output_type": "stream",
     "text": [
      "Enter natural numbers: 123\n",
      "Sum of 123 natural numbers is 7626\n"
     ]
    }
   ],
   "source": [
    "x = int(input(\"Enter natural numbers: \"))\n",
    "temp=x\n",
    "if x<0:\n",
    "    print (\"Please enter a positive number\")\n",
    "else:\n",
    "    sum =0\n",
    "    while x>0:\n",
    "        sum +=x\n",
    "        x-=1\n",
    "    print (f\"Sum of {temp} natural numbers is {sum}\")"
   ]
  },
  {
   "cell_type": "code",
   "execution_count": null,
   "id": "e1a47377",
   "metadata": {},
   "outputs": [],
   "source": []
  }
 ],
 "metadata": {
  "kernelspec": {
   "display_name": "Python 3 (ipykernel)",
   "language": "python",
   "name": "python3"
  },
  "language_info": {
   "codemirror_mode": {
    "name": "ipython",
    "version": 3
   },
   "file_extension": ".py",
   "mimetype": "text/x-python",
   "name": "python",
   "nbconvert_exporter": "python",
   "pygments_lexer": "ipython3",
   "version": "3.9.12"
  }
 },
 "nbformat": 4,
 "nbformat_minor": 5
}
